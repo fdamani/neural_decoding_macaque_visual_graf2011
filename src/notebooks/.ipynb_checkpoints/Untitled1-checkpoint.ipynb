{
 "cells": [
  {
   "cell_type": "code",
   "execution_count": 1,
   "metadata": {
    "collapsed": true
   },
   "outputs": [],
   "source": [
    "from __future__ import absolute_import\n",
    "from __future__ import division\n",
    "from __future__ import print_function\n",
    "\n",
    "import edward as ed\n",
    "import matplotlib.pyplot as plt\n",
    "import numpy as np\n",
    "import tensorflow as tf\n",
    "\n",
    "from edward.models import Bernoulli, Normal"
   ]
  },
  {
   "cell_type": "code",
   "execution_count": 2,
   "metadata": {
    "collapsed": true
   },
   "outputs": [],
   "source": [
    "ed.set_seed(42)"
   ]
  },
  {
   "cell_type": "code",
   "execution_count": 3,
   "metadata": {
    "collapsed": true
   },
   "outputs": [],
   "source": [
    "def build_toy_dataset(N, noise_std=0.1):\n",
    "  D = 1\n",
    "  X = np.linspace(-6, 6, num=N)\n",
    "  y = np.tanh(X) + np.random.normal(0, noise_std, size=N)\n",
    "  y[y < 0.5] = 0\n",
    "  y[y >= 0.5] = 1\n",
    "  X = (X - 4.0) / 4.0\n",
    "  X = X.reshape((N, D))\n",
    "  return X, y"
   ]
  },
  {
   "cell_type": "code",
   "execution_count": 4,
   "metadata": {
    "collapsed": true
   },
   "outputs": [],
   "source": [
    "N = 40 # num data points\n",
    "D = 1 # num features"
   ]
  },
  {
   "cell_type": "code",
   "execution_count": 44,
   "metadata": {
    "collapsed": true
   },
   "outputs": [],
   "source": [
    "# DATA\n",
    "X_train, y_train = build_toy_dataset(N)"
   ]
  },
  {
   "cell_type": "code",
   "execution_count": 45,
   "metadata": {
    "collapsed": true
   },
   "outputs": [],
   "source": [
    "# MODEL\n",
    "X = tf.placeholder(tf.float32, [N, D])\n",
    "w = Normal(loc=tf.zeros(D), scale=3.0 * tf.ones(D))\n",
    "b = Normal(loc=tf.zeros([]), scale=3.0 * tf.ones([]))\n",
    "y = Bernoulli(logits=ed.dot(X, w) + b)"
   ]
  },
  {
   "cell_type": "code",
   "execution_count": 46,
   "metadata": {
    "collapsed": false
   },
   "outputs": [
    {
     "name": "stdout",
     "output_type": "stream",
     "text": [
      "[ 1.03805041]\n",
      "0.610209\n"
     ]
    }
   ],
   "source": [
    "print(ed.get_session().run(w))\n",
    "print(ed.get_session().run(b))\n",
    "#ed.get_session().run(y)"
   ]
  },
  {
   "cell_type": "code",
   "execution_count": 47,
   "metadata": {
    "collapsed": true
   },
   "outputs": [],
   "source": [
    "# INFERENCE\n",
    "qw_loc = tf.Variable(tf.random_normal([D]))\n",
    "qw_scale = tf.nn.softplus(tf.Variable(tf.random_normal([D])))\n",
    "qb_loc = tf.Variable(tf.random_normal([]) + 10)\n",
    "qb_scale = tf.nn.softplus(tf.Variable(tf.random_normal([])))"
   ]
  },
  {
   "cell_type": "code",
   "execution_count": 48,
   "metadata": {
    "collapsed": false
   },
   "outputs": [
    {
     "data": {
      "text/plain": [
       "1.1683139"
      ]
     },
     "execution_count": 48,
     "metadata": {},
     "output_type": "execute_result"
    }
   ],
   "source": [
    "ed.get_session().run(tf.random_normal([]))"
   ]
  },
  {
   "cell_type": "code",
   "execution_count": 49,
   "metadata": {
    "collapsed": true
   },
   "outputs": [],
   "source": [
    "qw = Normal(loc=qw_loc, scale=qw_scale)\n",
    "qb = Normal(loc=qb_loc, scale=qb_scale)"
   ]
  },
  {
   "cell_type": "code",
   "execution_count": 50,
   "metadata": {
    "collapsed": false
   },
   "outputs": [],
   "source": [
    "inference = ed.KLqp({w: qw, b: qb}, data={X: X_train, y: y_train})\n",
    "inference.initialize(n_print=10, n_iter=600)"
   ]
  },
  {
   "cell_type": "code",
   "execution_count": 52,
   "metadata": {
    "collapsed": true
   },
   "outputs": [],
   "source": [
    "tf.global_variables_initializer().run()"
   ]
  },
  {
   "cell_type": "code",
   "execution_count": 53,
   "metadata": {
    "collapsed": true
   },
   "outputs": [],
   "source": [
    "# Set up figure.\n",
    "fig = plt.figure(figsize=(8, 8), facecolor='white')\n",
    "ax = fig.add_subplot(111, frameon=False)\n",
    "plt.ion()\n",
    "plt.show(block=False)"
   ]
  },
  {
   "cell_type": "code",
   "execution_count": null,
   "metadata": {
    "collapsed": false
   },
   "outputs": [
    {
     "name": "stdout",
     "output_type": "stream",
     "text": [
      "\r",
      "  1/600 [  0%]                                ETA: 57199s | Loss: 200.871"
     ]
    }
   ],
   "source": [
    "# Build samples from inferred posterior.\n",
    "n_samples = 50\n",
    "inputs = np.linspace(-5, 3, num=400, dtype=np.float32).reshape((400, 1))\n",
    "probs = tf.stack([tf.sigmoid(ed.dot(inputs, qw.sample()) + qb.sample())\n",
    "                  for _ in range(n_samples)])\n",
    "\n",
    "for t in range(inference.n_iter):\n",
    "  info_dict = inference.update()\n",
    "  inference.print_progress(info_dict)\n",
    "\n",
    "  if t % inference.n_print == 0:\n",
    "    outputs = probs.eval()\n",
    "\n",
    "    # Plot data and functions\n",
    "    plt.cla()\n",
    "    ax.plot(X_train[:], y_train, 'bx')\n",
    "    for s in range(n_samples):\n",
    "      ax.plot(inputs[:], outputs[s], alpha=0.2)\n",
    "\n",
    "    ax.set_xlim([-5, 3])\n",
    "    ax.set_ylim([-0.5, 1.5])\n",
    "    plt.draw()\n",
    "    plt.pause(1.0 / 60.0)"
   ]
  },
  {
   "cell_type": "code",
   "execution_count": null,
   "metadata": {
    "collapsed": true
   },
   "outputs": [],
   "source": []
  }
 ],
 "metadata": {
  "kernelspec": {
   "display_name": "Python [Root]",
   "language": "python",
   "name": "Python [Root]"
  },
  "language_info": {
   "codemirror_mode": {
    "name": "ipython",
    "version": 3
   },
   "file_extension": ".py",
   "mimetype": "text/x-python",
   "name": "python",
   "nbconvert_exporter": "python",
   "pygments_lexer": "ipython3",
   "version": "3.5.2"
  }
 },
 "nbformat": 4,
 "nbformat_minor": 0
}
