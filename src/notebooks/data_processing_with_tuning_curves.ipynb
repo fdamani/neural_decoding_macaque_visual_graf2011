{
 "cells": [
  {
   "cell_type": "markdown",
   "metadata": {},
   "source": [
    "# This notebook \n",
    "## 1) reads and processes .mat files from Graf 2011\n",
    "## 2) computes spike counts per trial\n",
    "## 3) plots tuning curves\n",
    "## 4) builds a Poisson Independent Decoder (PID)\n",
    "## 5) builds an L1 regularized multinomial logistic regression model\n",
    "## 6) builds a Bayesian hierarchical logistic regression model (many variations) \n",
    "## 7) evaluates the three models"
   ]
  },
  {
   "cell_type": "code",
   "execution_count": 1,
   "metadata": {
    "collapsed": true
   },
   "outputs": [],
   "source": [
    "#!/usr/bin/env python\n",
    "from __future__ import absolute_import\n",
    "from __future__ import division\n",
    "from __future__ import print_function"
   ]
  },
  {
   "cell_type": "code",
   "execution_count": 2,
   "metadata": {
    "collapsed": false
   },
   "outputs": [
    {
     "name": "stderr",
     "output_type": "stream",
     "text": [
      "/Users/farhan.damani/anaconda3/lib/python3.5/site-packages/sklearn/lda.py:4: DeprecationWarning: lda.LDA has been moved to discriminant_analysis.LinearDiscriminantAnalysis in 0.17 and will be removed in 0.19\n",
      "  \"in 0.17 and will be removed in 0.19\", DeprecationWarning)\n",
      "/Users/farhan.damani/anaconda3/lib/python3.5/site-packages/sklearn/qda.py:4: DeprecationWarning: qda.QDA has been moved to discriminant_analysis.QuadraticDiscriminantAnalysis in 0.17 and will be removed in 0.19.\n",
      "  \"in 0.17 and will be removed in 0.19.\", DeprecationWarning)\n"
     ]
    }
   ],
   "source": [
    "import scipy.io\n",
    "import numpy as np\n",
    "import pandas as pd\n",
    "import seaborn as sns\n",
    "import matplotlib.pyplot as plt\n",
    "\n",
    "import edward as ed\n",
    "import matplotlib.pyplot as plt\n",
    "import numpy as np\n",
    "import tensorflow as tf\n",
    "\n",
    "import sklearn\n",
    "from sklearn.cross_validation import train_test_split\n",
    "from sklearn import *\n",
    "from edward.models import Categorical, Empirical, Laplace,Bernoulli, Multinomial, Normal, PointMass, MultivariateNormalDiag, MultivariateNormalFullCovariance, MultivariateNormalTriL"
   ]
  },
  {
   "cell_type": "code",
   "execution_count": 3,
   "metadata": {
    "collapsed": false
   },
   "outputs": [
    {
     "data": {
      "text/plain": [
       "'1.2.1'"
      ]
     },
     "execution_count": 3,
     "metadata": {},
     "output_type": "execute_result"
    }
   ],
   "source": [
    "tf.__version__"
   ]
  },
  {
   "cell_type": "code",
   "execution_count": 4,
   "metadata": {
    "collapsed": false
   },
   "outputs": [],
   "source": [
    "ed.set_seed(42)\n",
    "sess = ed.get_session()"
   ]
  },
  {
   "cell_type": "code",
   "execution_count": 5,
   "metadata": {
    "collapsed": true
   },
   "outputs": [],
   "source": [
    "def read_data(file_path):\n",
    "    '''Read and process mat file from Graf2011\n",
    "    \n",
    "    param array_number: {1, 2, 3, 4, 5}\n",
    "\n",
    "    return:\n",
    "        spike_times: {Nx3600} N simultaneously recorded spike trains for 3600 trials\n",
    "            (50 repeated trials of 72 direction in random order)\n",
    "        orientation_per_trial: orientation for each trial (of length 3600)\n",
    "        num_neurons: number of neurons\n",
    "        orientations: sorted set of orientations\n",
    "        num_repeats: number of repeats for each (orientation,neuron) (=50)\n",
    "        num_trials: 50 repeated trials x 72 directions\n",
    "        trial_length: length of trial (in seconds)\n",
    "    '''\n",
    "    dataStruct = scipy.io.loadmat(file_path)\n",
    "    spike_times = pd.DataFrame.from_dict(dataStruct['spk_times'])\n",
    "    orientation_per_trial = dataStruct['ori'][0]\n",
    "    num_neurons = np.shape(dataStruct['neur_param'])[0]\n",
    "    orientations = np.sort(np.unique(dataStruct['ori']))\n",
    "    trial_length = 2560e-3\n",
    "    num_repeats = 50\n",
    "    num_trials = 3600 # 50 repeated trials x 72 directions\n",
    "    num_orientations = len(orientations)\n",
    "    return spike_times, orientation_per_trial, num_neurons, orientations, trial_length, num_repeats, num_trials, num_orientations"
   ]
  },
  {
   "cell_type": "code",
   "execution_count": 6,
   "metadata": {
    "collapsed": true
   },
   "outputs": [],
   "source": [
    "def compute_spike_counts(spike_times, num_neurons, num_trials):\n",
    "    '''\n",
    "        Compute spike counts for each (orientation, neuron, trial)\n",
    "        return 3D numpy array: orientation x trials x neurons\n",
    "        \n",
    "        TODO: add option to average [0 180] with responses from [180 360]\n",
    "    '''\n",
    "    spike_times_mat = spike_times.as_matrix()\n",
    "    spike_counts = np.zeros((num_orientations, num_neurons, num_repeats))\n",
    "    # for each orientation\n",
    "    for i in range(num_orientations):\n",
    "        # access indices in spike times that corresponds to ori\n",
    "        idx = np.where(orientation_per_trial == orientations[i])[0]\n",
    "        spike_times_ori = np.take(spike_times_mat, idx, axis = 1)\n",
    "        for j in range(num_neurons):\n",
    "            for k in range(num_repeats):\n",
    "                spike_counts[i, j, k] = np.count_nonzero(spike_times_ori[j][k])\n",
    "    return spike_counts"
   ]
  },
  {
   "cell_type": "code",
   "execution_count": 7,
   "metadata": {
    "collapsed": true
   },
   "outputs": [],
   "source": [
    "'''\n",
    "Filters to data\n",
    "1) spike counts observed after 1280 ms\n",
    "    - exclude\n",
    "    - use to filter neurons that do not have a significantly higher mean tc with stimulus than without\n",
    "\n",
    "2) from paper, \n",
    "To get visually driven neurons, we only accepted neurons of which the\n",
    "peak or trough of their tuning curve fell outside of the window defined\n",
    "by the mean and one s.d. of their spontaneous activity. Furthermore, we\n",
    "obtained meaningful sample of V1 neurons by only considering neurons with\n",
    "tuning curves that could be well approximated (r2   0.75) by bimodal\n",
    "circular Gaussian functions (the sum of two von Mises functions with\n",
    "different preferred orientations, amplitudes and bandwidths), allowing us\n",
    "to accommo- date for direction (mono-modal) or orientation (bi-modal)\n",
    "tuning. We obtained populations of simultaneously recorded neurons of\n",
    "sizes 40, 57, 60, 70 and 74. Each data set was obtained in a ~3-h-long\n",
    "recording session.\n",
    "\n",
    "3) average across 180 degree axis?\n",
    "\n",
    "4) if max of tc for neuron i across orientations - min of tc for neuron i across orientations is \n",
    "    not greater than 10, -> exclude neuron\n",
    "    \n",
    "5) divisive normalization\n",
    "\n",
    "'''\n",
    "\n",
    "def normalize_spike_counts(spike_counts, num_orientations, num_neurons, num_repeats):\n",
    "    '''\n",
    "        Normalize by variance of spike counts\n",
    "            for each trial\n",
    "                square spike counts across (neurons, orientations) then sum across neurons\n",
    "                divide the square of each spike count by the summed squared spike counts across neurons\n",
    "                \n",
    "        PROBLEM: mean tuning curve gives same mean for all entries\n",
    "    '''\n",
    "    spike_counts_norm = np.zeros((num_orientations, num_neurons, num_repeats))\n",
    "    for i in range(num_repeats):\n",
    "        variance_sum = np.sum(spike_counts[:, :, i]**2, axis = 1).reshape(-1,1)\n",
    "        spike_counts_norm[:, :, i] = (spike_counts[:, :, i]**2) / np.tile(variance_sum, num_neurons)\n",
    "    return spike_counts_norm"
   ]
  },
  {
   "cell_type": "code",
   "execution_count": 8,
   "metadata": {
    "collapsed": false
   },
   "outputs": [
    {
     "ename": "SyntaxError",
     "evalue": "invalid syntax (<ipython-input-8-a54a9182e0ea>, line 1)",
     "output_type": "error",
     "traceback": [
      "\u001b[0;36m  File \u001b[0;32m\"<ipython-input-8-a54a9182e0ea>\"\u001b[0;36m, line \u001b[0;32m1\u001b[0m\n\u001b[0;31m    best fit to the tuning curve\u001b[0m\n\u001b[0m           ^\u001b[0m\n\u001b[0;31mSyntaxError\u001b[0m\u001b[0;31m:\u001b[0m invalid syntax\n"
     ]
    }
   ],
   "source": [
    "best fit to the tuning curve \n",
    "\n",
    "one von mise might get too narrow - add a constraint to keep the means separate and prevent variances from going to 0"
   ]
  },
  {
   "cell_type": "markdown",
   "metadata": {},
   "source": [
    "From Graf 2011, \"Evoked activity was estimated over the full stimulus presentation. We neglected the contamination by the blank preceding each grating because this period of the response (the first ~60 ms corresponding to typical V1 response latencies50) was of negligible duration compared with the 1,280 ms stimulus presentation time and this contamination was the same for each grating. Spontaneous activity was assessed on the last 500 ms of each blank presentation to avoid contamina- tion induced by the preceding grating. To get visually driven neurons, we only accepted neurons of which the peak or trough of their tuning curve fell outside of the window defined by the mean and one s.d. of their spontaneous activity. Furthermore, we obtained meaningful sample of V1 neurons by only considering neurons with tuning curves that could be well approximated (r2   0.75) by bimodal circular Gaussian functions (the sum of two von Mises functions with different preferred orientations, amplitudes and bandwidths), allowing us to accommo- date for direction (mono-modal) or orientation (bi-modal) tuning.\"\n",
    "\n",
    "\n",
    "\n",
    "From Montijn 2014, \"To further parameterize neuronal orientation tuning, we also calculated each neuron's preferred direction by fitting a double von Mises distribution to the neuron's responses, where the peaks of both von Mises functions are opposite to each other (separated by 180°):\n",
    "\n",
    "$$f(x∣∣θ,κ1,κ2,μ0)= \\frac{e^{κ_1cos(x−θ)}}{2πI_0(κ_1)} + \\frac{e^{κ_2cos(x+π−θ)}}{2πI_0(κ_2)}+μ_0$$\n",
    "(1)\n",
    "Here, I0(κ) is the modified Bessel function of order 0 and x represents the stimulus angle. As can be seen in the equation, we defined the free parameters as θ (preferred direction), κ1 (concentration parameter at θ), κ2 (concentration parameter at θ +π) and μ0 (baseline response). A neuron's preferred direction was defined as the angle with the highest concentration parameter (which could be either κ1 or κ2).\"\n",
    "\n",
    "## is this based on training data or all?"
   ]
  },
  {
   "cell_type": "code",
   "execution_count": 9,
   "metadata": {
    "collapsed": true
   },
   "outputs": [],
   "source": [
    "def compute_mean_tc(spike_counts):\n",
    "    return np.mean(spike_counts, axis=2)\n",
    "\n",
    "def compute_var_tc(spike_counts):\n",
    "    return np.var(spike_counts, axis=2)\n",
    "\n",
    "def compute_cov_tc(spike_counts):\n",
    "    tc_cov = np.zeros((num_neurons, num_neurons, num_orientations))\n",
    "    for i in range(num_orientations):\n",
    "        tc_cov[:, :, i] = np.cov(spike_counts[i])\n",
    "    return tc_cov"
   ]
  },
  {
   "cell_type": "code",
   "execution_count": 10,
   "metadata": {
    "collapsed": true
   },
   "outputs": [],
   "source": [
    "def compute_preferred_orientation(mean_tc, num_neurons):\n",
    "    '''max of tuning curve across orientations'''\n",
    "    pref_ori = np.zeros(147)\n",
    "    for i in range(num_neurons):\n",
    "        pref_ori[i] = np.argmax(mean_tc[:,i])\n",
    "    return pref_ori"
   ]
  },
  {
   "cell_type": "code",
   "execution_count": 11,
   "metadata": {
    "collapsed": false
   },
   "outputs": [
    {
     "ename": "NameError",
     "evalue": "name 'pref_ori' is not defined",
     "output_type": "error",
     "traceback": [
      "\u001b[0;31m---------------------------------------------------------------------------\u001b[0m",
      "\u001b[0;31mNameError\u001b[0m                                 Traceback (most recent call last)",
      "\u001b[0;32m<ipython-input-11-635085cd56b9>\u001b[0m in \u001b[0;36m<module>\u001b[0;34m()\u001b[0m\n\u001b[0;32m----> 1\u001b[0;31m \u001b[0mplt\u001b[0m\u001b[0;34m.\u001b[0m\u001b[0mplot\u001b[0m\u001b[0;34m(\u001b[0m\u001b[0mpref_ori\u001b[0m\u001b[0;34m)\u001b[0m\u001b[0;34m\u001b[0m\u001b[0m\n\u001b[0m",
      "\u001b[0;31mNameError\u001b[0m: name 'pref_ori' is not defined"
     ]
    }
   ],
   "source": [
    "plt.plot(pref_ori)"
   ]
  },
  {
   "cell_type": "code",
   "execution_count": 12,
   "metadata": {
    "collapsed": true
   },
   "outputs": [],
   "source": [
    "def filter_to_well_tuned_neurons(mean_tc, thresh):\n",
    "    '''Filter to well tuned neurons, example thresh = 10'''\n",
    "    maxdiff = np.max(mean_tc, axis=0) - np.min(mean_tc, axis=0)\n",
    "    ind_tuned = np.where(maxdiff > thresh)[0]\n",
    "    return ind_tuned"
   ]
  },
  {
   "cell_type": "code",
   "execution_count": 13,
   "metadata": {
    "collapsed": false
   },
   "outputs": [],
   "source": [
    "# path to mat file from Graf 2011\n",
    "file_path = '../../data/graf_V1data/array_3.mat'\n",
    "\n",
    "# read and process data\n",
    "spike_times, orientation_per_trial, num_neurons, orientations, trial_length,\\\n",
    "    num_repeats, num_trials, num_orientations = read_data(file_path)\n",
    "\n",
    "# compute spike counts\n",
    "spike_counts = compute_spike_counts(spike_times, num_neurons, num_trials)\n",
    "\n",
    "# compute tuning curves\n",
    "mean_tc = compute_mean_tc(spike_counts)\n",
    "var_tc = compute_var_tc(spike_counts)\n",
    "cov_tc = compute_cov_tc(spike_counts)\n",
    "\n",
    "# identify indices for well-tuned neurons\n",
    "ind_well_tuned = filter_to_well_tuned_neurons(mean_tc, 10)\n",
    "\n",
    "# normalize spike counts\n",
    "spike_counts_norm = normalize_spike_counts(spike_counts, num_orientations, num_neurons, num_repeats)\n",
    "\n",
    "# compute normalized tuning curves\n",
    "mean_tc_norm = compute_mean_tc(spike_counts_norm)\n",
    "var_tc_norm = compute_var_tc(spike_counts_norm)\n",
    "cov_tc_norm = compute_cov_tc(spike_counts_norm)"
   ]
  },
  {
   "cell_type": "code",
   "execution_count": null,
   "metadata": {
    "collapsed": false
   },
   "outputs": [],
   "source": [
    "spike_counts.shape"
   ]
  },
  {
   "cell_type": "code",
   "execution_count": null,
   "metadata": {
    "collapsed": false
   },
   "outputs": [],
   "source": [
    "mean_tc[:,0].shape"
   ]
  },
  {
   "cell_type": "code",
   "execution_count": null,
   "metadata": {
    "collapsed": false
   },
   "outputs": [],
   "source": [
    "from scipy.stats import vonmises\n",
    "kappa = 3.99\n",
    "x = np.linspace(vonmises.ppf(0.01, kappa), vonmises.ppf(0.99, kappa), 100)"
   ]
  },
  {
   "cell_type": "code",
   "execution_count": null,
   "metadata": {
    "collapsed": false
   },
   "outputs": [],
   "source": [
    "plt.plot(x)"
   ]
  },
  {
   "cell_type": "code",
   "execution_count": null,
   "metadata": {
    "collapsed": false
   },
   "outputs": [],
   "source": [
    "from scipy.special import j0\n",
    "# besel function of the 0th order\n",
    "j0(5)"
   ]
  },
  {
   "cell_type": "code",
   "execution_count": null,
   "metadata": {
    "collapsed": true
   },
   "outputs": [],
   "source": [
    "def von_mises(k1, k2, mu1, mu2, x):\n",
    "    first_term = np.exp(k1 * np.cos(x-mu1)) / (2 * np.pi * j0(k1))\n",
    "    second_term = np.exp(k2 * np.cos(x-mu2)) / (2 * np.pi * j0(k2))\n",
    "    "
   ]
  },
  {
   "cell_type": "code",
   "execution_count": null,
   "metadata": {
    "collapsed": true
   },
   "outputs": [],
   "source": []
  },
  {
   "cell_type": "code",
   "execution_count": null,
   "metadata": {
    "collapsed": false
   },
   "outputs": [],
   "source": [
    "plt.plot(mean_tc[:,0])"
   ]
  },
  {
   "cell_type": "code",
   "execution_count": null,
   "metadata": {
    "collapsed": false
   },
   "outputs": [],
   "source": [
    "plt.plot(mean_tc[:,1])"
   ]
  },
  {
   "cell_type": "code",
   "execution_count": null,
   "metadata": {
    "collapsed": false
   },
   "outputs": [],
   "source": [
    "# plot mean tuning curve for 10 well tuned neurons\n",
    "%matplotlib inline\n",
    "sns.set_style(\"darkgrid\")\n",
    "plt.plot(orientations, mean_tc[:, ind_well_tuned[0:10]]);"
   ]
  },
  {
   "cell_type": "code",
   "execution_count": null,
   "metadata": {
    "collapsed": false
   },
   "outputs": [],
   "source": [
    "# plot variance tuning curve for 10 well tuned neurons\n",
    "plt.plot(orientations, var_tc[:, ind_well_tuned[0:10]]);"
   ]
  },
  {
   "cell_type": "markdown",
   "metadata": {},
   "source": [
    "## EVALUATION METRICS\n",
    "1) Figure 4 from Graf '11 measuring orientation discrimination accuracy.\n",
    "Compute likelihood ratio tests between $\\theta$ and $\\theta + \\delta \\theta$ where $\\delta = \\in \\{5, 10, 15, 20, 25, 30\\}$ across all 72 values of $\\theta$. So train each model on 35 samples and test on 15 for each class."
   ]
  },
  {
   "cell_type": "code",
   "execution_count": 14,
   "metadata": {
    "collapsed": false
   },
   "outputs": [],
   "source": [
    "def likelihood_ratio_test(likelihood_one, likelihood_two):\n",
    "    diff = likelihood_one - likelihood_two\n",
    "    diff[diff > 0] = 1\n",
    "    diff[diff < 0] = 2\n",
    "    return diff\n",
    "\n",
    "def likelihood(w_i, r_i, b_i):\n",
    "    '''Compute data likelihood given w, r, b for stimulus i'''\n",
    "    #return np.log(np.sum(np.dot(w_i, r_i.T)) + b_i)\n",
    "    return np.log(np.dot(w_i, r_i.T) + b_i)\n",
    "    \n",
    "\n",
    "def evaluate_model(x_test, w, b):    \n",
    "    probabilities = np.zeros((72, 6)) # orientations x deltas\n",
    "    deltas = [1, 2, 3, 4, 5, 6]\n",
    "    # for each ori\n",
    "    for i in range(72):\n",
    "        # for each delta\n",
    "        for delta in deltas:\n",
    "            test_data = (np.concatenate((x_test[i], x_test[(i+delta) % 72])))\n",
    "            test_labels = np.repeat(np.arange(1,3), 15)\n",
    "            likelihoods_one = likelihood(w[i], test_data, b[i])\n",
    "            likelihoods_two = likelihood(w[(i+delta) % 72], test_data, b[(i+delta) % 72])\n",
    "            pred_labels = likelihood_ratio_test(likelihoods_one, likelihoods_two)\n",
    "            probabilities[i][delta-1] = sklearn.metrics.accuracy_score(pred_labels, test_labels)\n",
    "    return np.mean(probabilities, axis=0)"
   ]
  },
  {
   "cell_type": "code",
   "execution_count": null,
   "metadata": {
    "collapsed": true
   },
   "outputs": [],
   "source": []
  },
  {
   "cell_type": "code",
   "execution_count": null,
   "metadata": {
    "collapsed": true
   },
   "outputs": [],
   "source": []
  },
  {
   "cell_type": "code",
   "execution_count": 34,
   "metadata": {
    "collapsed": false
   },
   "outputs": [],
   "source": [
    "def multiclass_log_likelihood(c, w, x, b):\n",
    "    logit = np.dot(w[c], x.T) + b[c]\n",
    "    numerator = np.exp(logit)\n",
    "    denominator = 0\n",
    "    C = 36\n",
    "    for i in range(C):\n",
    "        denominator = denominator + np.exp(np.dot(w[i], x.T) + b[i])\n",
    "    return np.log(numerator / denominator)\n",
    "\n",
    "def evaluate_multiclass_model(x, w, b):    \n",
    "    deltas = [1, 2, 3, 4, 5, 6]\n",
    "    C = 36\n",
    "    probabilities = np.zeros((C, len(deltas))) # orientations x deltas\n",
    "\n",
    "    # for each ori\n",
    "    for i in range(C):\n",
    "        # for each delta\n",
    "        for delta in deltas:\n",
    "            test_data = (np.concatenate((x[i], x[(i+delta) % C])))\n",
    "            test_labels = np.repeat(np.arange(1,3), 15)\n",
    "            likelihoods_one = multiclass_log_likelihood(i, w, test_data, b)\n",
    "            likelihoods_two = multiclass_log_likelihood((i+delta)%C, w, test_data, b)\n",
    "            pred_labels = likelihood_ratio_test(likelihoods_one, likelihoods_two)\n",
    "            \n",
    "            probabilities[i][delta-1] = sklearn.metrics.accuracy_score(pred_labels.astype(int), test_labels)\n",
    "    return np.mean(probabilities, axis=0)"
   ]
  },
  {
   "cell_type": "code",
   "execution_count": null,
   "metadata": {
    "collapsed": false
   },
   "outputs": [],
   "source": [
    "evaluate_model(x_test, w, b)"
   ]
  },
  {
   "cell_type": "code",
   "execution_count": 16,
   "metadata": {
    "collapsed": false
   },
   "outputs": [
    {
     "ename": "NameError",
     "evalue": "name 'x_test_scaled' is not defined",
     "output_type": "error",
     "traceback": [
      "\u001b[0;31m---------------------------------------------------------------------------\u001b[0m",
      "\u001b[0;31mNameError\u001b[0m                                 Traceback (most recent call last)",
      "\u001b[0;32m<ipython-input-16-892425177698>\u001b[0m in \u001b[0;36m<module>\u001b[0;34m()\u001b[0m\n\u001b[1;32m     12\u001b[0m \u001b[0;31m#plt.plevaluate_multiclass_model(x_test_scaled, qw_mod.eval().T, qb_mod.eval())\u001b[0m\u001b[0;34m\u001b[0m\u001b[0;34m\u001b[0m\u001b[0m\n\u001b[1;32m     13\u001b[0m \u001b[0;34m\u001b[0m\u001b[0m\n\u001b[0;32m---> 14\u001b[0;31m \u001b[0mplt\u001b[0m\u001b[0;34m.\u001b[0m\u001b[0mplot\u001b[0m\u001b[0;34m(\u001b[0m\u001b[0mxticks\u001b[0m\u001b[0;34m,\u001b[0m \u001b[0mevaluate_model\u001b[0m\u001b[0;34m(\u001b[0m\u001b[0mx_test_scaled\u001b[0m\u001b[0;34m,\u001b[0m \u001b[0mw\u001b[0m\u001b[0;34m,\u001b[0m \u001b[0mb\u001b[0m\u001b[0;34m)\u001b[0m\u001b[0;34m)\u001b[0m\u001b[0;34m\u001b[0m\u001b[0m\n\u001b[0m\u001b[1;32m     15\u001b[0m \u001b[0;31m#plt.plot(xticks, evaluate_multiclass_model(x_test_scaled, w_vi.T, b_vi))\u001b[0m\u001b[0;34m\u001b[0m\u001b[0;34m\u001b[0m\u001b[0m\n\u001b[1;32m     16\u001b[0m \u001b[0;34m\u001b[0m\u001b[0m\n",
      "\u001b[0;31mNameError\u001b[0m: name 'x_test_scaled' is not defined"
     ]
    }
   ],
   "source": [
    "# green is sklearn l1\n",
    "# blue is with Stan normal(0,1) prior\n",
    "# yellow is VI with sample covariance prior\n",
    "# brown is edward normal(0, .1) prior\n",
    "# red is PID\n",
    "\n",
    "xticks = [5, 10, 15, 20, 25, 30]\n",
    "#plt.plot(xticks, evaluate_multiclass_model(x_test_scaled, w_model.T, b_model))\n",
    "#plt.plot(xticks, evaluate_multiclass_model(x_test_scaled, beta, intercept))\n",
    "#plt.plot(xticks,evaluate_multiclass_model(x_test_scaled, lr.coef_, lr.intercept_))\n",
    "#plt.plot(xticks, evaluate_multiclass_model(x_test_scaled, beta_ori, intercept_ori))\n",
    "#plt.plevaluate_multiclass_model(x_test_scaled, qw_mod.eval().T, qb_mod.eval())\n",
    "\n",
    "plt.plot(xticks, evaluate_model(x_test_scaled, w, b))\n",
    "#plt.plot(xticks, evaluate_multiclass_model(x_test_scaled, w_vi.T, b_vi))\n",
    "\n",
    "#plt.plot(xticks,evaluate_multiclass_model(x_test_scaled, qw_mod.eval().T, qb_mod.eval()))\n",
    "plt.plot(xticks,([ 0.91157407,  0.94722222,  0.97685185,  0.98842593,  0.99583333,\n",
    "        0.99768519]))\n",
    "plt.plot(xticks,([ 0.92037037,  0.96435185,  0.98148148,  0.9912037 ,  0.99768519,\n",
    "        0.99722222]))\n",
    "\n",
    "#plt.plot(xticks, evaluate_multiclass_model(x_test_scaled, qw_mod.eval().T, qb_mod.eval()))\n",
    "\n",
    "plt.ylabel(\"probability correct\")\n",
    "plt.xlabel(\"orientation difference (degrees)\")"
   ]
  },
  {
   "cell_type": "markdown",
   "metadata": {},
   "source": [
    "### Lets build a Poisson Independent Decoder (PID). We assume each neuron's stimulus-specific spike counts is Poisson distributed and statistically independent across neurons. The rate parameter $w_i(\\theta)$ is the logarithm of the mean neuronal tuning function for neuron i across trials for stimulus $\\theta$.\n",
    "\n",
    "### The likelihood function is $\\log L(\\theta) = \\sum_{i=1}^N w_i(\\theta)r_i + b(\\theta)$. The offset b incorporates overall bias in coverage of orientations and is the sum of the mean tuning curve across neurons for stimulus $\\theta$."
   ]
  },
  {
   "cell_type": "code",
   "execution_count": 17,
   "metadata": {
    "collapsed": false
   },
   "outputs": [],
   "source": [
    "def compute_mean_tc_training(x):\n",
    "    '''compute mean tuning curve (mean of samples for a given orientation,neuron) given training data (orientation,samples) x neurons'''\n",
    "    mean_tc = np.zeros((x.shape[0], x.shape[2]))\n",
    "    for i in range(72):\n",
    "        mean_tc[i] = np.mean(x[i], axis = 0)\n",
    "    return mean_tc"
   ]
  },
  {
   "cell_type": "code",
   "execution_count": 18,
   "metadata": {
    "collapsed": false
   },
   "outputs": [],
   "source": [
    "# filter to well-tuned neurons then rotate axes so we have ori x samples x neurons\n",
    "spike_counts_filt = np.rollaxis(np.rollaxis(spike_counts[:, ind_well_tuned, :], 2), 1)\n",
    "#spike_counts_filt = np.rollaxis(np.rollaxis(spike_counts, 2), 1)\n",
    "# train/test split\n",
    "inds = np.arange(50)\n",
    "train_ind = np.random.choice(inds, size = 35, replace = False)\n",
    "test_ind =  np.array([x for x in inds if x not in train_ind])\n",
    "x_train, x_test = spike_counts_filt[:, train_ind, :], spike_counts_filt[:, test_ind, :]\n",
    "# compute mean training curve on training data\n",
    "mean_tc_train = compute_mean_tc_training(x_train)\n",
    "# weights are log of mean tuning curve\n",
    "w = np.log(mean_tc_train)\n",
    "b = np.sum(w, axis=1)"
   ]
  },
  {
   "cell_type": "code",
   "execution_count": 20,
   "metadata": {
    "collapsed": false
   },
   "outputs": [
    {
     "data": {
      "text/plain": [
       "((72, 35, 66), (72, 15, 66))"
      ]
     },
     "execution_count": 20,
     "metadata": {},
     "output_type": "execute_result"
    }
   ],
   "source": [
    "x_train.shape, x_test.shape"
   ]
  },
  {
   "cell_type": "code",
   "execution_count": 21,
   "metadata": {
    "collapsed": true
   },
   "outputs": [],
   "source": [
    "##### 0-180 degrees only\n",
    "x_train_half = x_train[0:36]\n",
    "x_test_half = x_test[0:36]"
   ]
  },
  {
   "cell_type": "code",
   "execution_count": 22,
   "metadata": {
    "collapsed": false
   },
   "outputs": [
    {
     "data": {
      "text/plain": [
       "(36, 35, 66)"
      ]
     },
     "execution_count": 22,
     "metadata": {},
     "output_type": "execute_result"
    }
   ],
   "source": [
    "x_train_half.shape"
   ]
  },
  {
   "cell_type": "code",
   "execution_count": null,
   "metadata": {
    "collapsed": false
   },
   "outputs": [],
   "source": [
    "def likelihood_(w_i, r_i, b_i):\n",
    "    '''Compute data likelihood given w, r, b for stimulus i'''\n",
    "    return np.log(np.sum(np.dot(w_i, r_i.T)) + b_i)"
   ]
  },
  {
   "cell_type": "code",
   "execution_count": null,
   "metadata": {
    "collapsed": false
   },
   "outputs": [],
   "source": [
    "def plot_likelihood(w, x_train, b, stimulus_choice):\n",
    "    '''plot likelihood of stimulus-specific spike train as a function of model choice'''\n",
    "    sx = []\n",
    "    for i in range(72):\n",
    "        sx.append(likelihood(w[i], x_train[stimulus_choice], b[i]))\n",
    "    fig = plt.plot(sx)"
   ]
  },
  {
   "cell_type": "code",
   "execution_count": null,
   "metadata": {
    "collapsed": true
   },
   "outputs": [],
   "source": [
    "def likelihood_ratio_test_(w, x_train, b, ori1, ori2):\n",
    "    '''given a population response, compute likelihood ratio test comparing two orientation models'''\n",
    "    val = likelihood(w[ori1], x_train, b[ori1]) - likelihood(w[ori2], x_train, b[ori2])\n",
    "    if val > 0:\n",
    "        return ori1\n",
    "    else:\n",
    "        return ori2"
   ]
  },
  {
   "cell_type": "code",
   "execution_count": null,
   "metadata": {
    "collapsed": false
   },
   "outputs": [],
   "source": [
    "# likelihood comparison -- which model provides best explanation of the data?,\n",
    "plot_likelihood(w, x_train, b, 1) # for example, we fit spike trains from ori 1 against all possible models\n",
    "plot_likelihood(w, x_test, b, 1)"
   ]
  },
  {
   "cell_type": "code",
   "execution_count": 25,
   "metadata": {
    "collapsed": false
   },
   "outputs": [
    {
     "data": {
      "text/plain": [
       "(1260, 66)"
      ]
     },
     "execution_count": 25,
     "metadata": {},
     "output_type": "execute_result"
    }
   ],
   "source": [
    "Xtrain.shape"
   ]
  },
  {
   "cell_type": "markdown",
   "metadata": {},
   "source": [
    "## DATA Processing "
   ]
  },
  {
   "cell_type": "code",
   "execution_count": 243,
   "metadata": {
    "collapsed": false
   },
   "outputs": [],
   "source": [
    "### DATA PROCESSING\n",
    "\n",
    "num_classes = 72\n",
    "C = 72\n",
    "\n",
    "\n",
    "Xtrain = x_train.reshape(x_train.shape[0] * x_train.shape[1], x_train.shape[2])\n",
    "Xtest = x_test.reshape(x_test.shape[0] * x_test.shape[1], x_test.shape[2])\n",
    "Ytrain = np.repeat(np.arange(C), x_train.shape[1])\n",
    "Ytest = np.repeat(np.arange(C), x_test.shape[1])\n",
    "\n",
    "\n",
    "#Xtrain = x_train.reshape(x_train.shape[0] * x_train.shape[1], x_train.shape[2])\n",
    "#Xtest = x_test.reshape(x_test.shape[0] * x_test.shape[1], x_test.shape[2])\n",
    "\n",
    "#Ytrain = np.repeat(np.arange(72), x_train.shape[1])\n",
    "#Ytest = np.repeat(np.arange(72), x_test.shape[1])\n",
    "\n",
    "N,D = Xtrain.shape[0], Xtrain.shape[1]\n",
    "\n",
    "Xtrain_scaled = sklearn.preprocessing.scale(Xtrain)\n",
    "Xtest_scaled = sklearn.preprocessing.scale(Xtest)\n",
    "Ytrain_hot = tf.one_hot(Ytrain, depth=C).eval()\n",
    "Ytest_hot = tf.one_hot(Ytest, depth=C).eval()\n",
    "\n",
    "x_train_scaled_3d = np.zeros((num_classes,35,D))\n",
    "x_test_scaled_3d = np.zeros((num_classes,15,D))\n",
    "for i in range(num_classes):\n",
    "    x_test_scaled_3d[i] = Xtest_scaled[i*15:i*15+15]\n",
    "    x_train_scaled_3d[i] = Xtrain_scaled[i*35:i*35+35]\n"
   ]
  },
  {
   "cell_type": "markdown",
   "metadata": {},
   "source": [
    "### Lets build a L1 regularized multinomial multi-class logistic regression model"
   ]
  },
  {
   "cell_type": "code",
   "execution_count": 234,
   "metadata": {
    "collapsed": false
   },
   "outputs": [
    {
     "data": {
      "text/plain": [
       "LogisticRegression(C=1.0, class_weight=None, dual=False, fit_intercept=True,\n",
       "          intercept_scaling=1, max_iter=100, multi_class='ovr', n_jobs=1,\n",
       "          penalty='l1', random_state=None, solver='liblinear', tol=0.0001,\n",
       "          verbose=0, warm_start=False)"
      ]
     },
     "execution_count": 234,
     "metadata": {},
     "output_type": "execute_result"
    }
   ],
   "source": [
    "# specify model\n",
    "lr = sklearn.linear_model.LogisticRegression(penalty='l1', fit_intercept=True)\n",
    "\n",
    "# fit the model\n",
    "lr.fit(Xtrain_scaled, np.repeat(np.arange(C),35))\n",
    "\n",
    "## predict labels and probability distributions on test data\n",
    "#labels_test = lr.predict(sklearn.preprocessing.scale(Xtest_scaled))\n",
    "#scores_test = lr.predict_proba(sklearn.preprocessing.scale(Xtest_scaled))"
   ]
  },
  {
   "cell_type": "code",
   "execution_count": 235,
   "metadata": {
    "collapsed": false
   },
   "outputs": [
    {
     "data": {
      "text/plain": [
       "(72, 15, 66)"
      ]
     },
     "execution_count": 235,
     "metadata": {},
     "output_type": "execute_result"
    }
   ],
   "source": [
    "x_test_scaled_3d.shape"
   ]
  },
  {
   "cell_type": "code",
   "execution_count": 236,
   "metadata": {
    "collapsed": false
   },
   "outputs": [
    {
     "data": {
      "text/plain": [
       "array([ 0.81944444,  0.95648148,  0.98611111,  0.99351852,  0.99722222,\n",
       "        0.99722222])"
      ]
     },
     "execution_count": 236,
     "metadata": {},
     "output_type": "execute_result"
    }
   ],
   "source": [
    "evaluate_multiclass_model(x_test_scaled_3d, lr.coef_, lr.intercept_)"
   ]
  },
  {
   "cell_type": "code",
   "execution_count": 237,
   "metadata": {
    "collapsed": false
   },
   "outputs": [],
   "source": [
    "def evaluate_one_versus_all(y_test, scores):\n",
    "    '''AUC scores for one versus all classification on test data across all classes'''\n",
    "    aucs = []\n",
    "    for j in range(72):\n",
    "        sx = []\n",
    "        for i in range(len(y_test)):\n",
    "            if y_test[i] == (j+1):\n",
    "                sx.append(int(1))\n",
    "            else:\n",
    "                sx.append(int(0))\n",
    "        aucs.append(sklearn.metrics.roc_auc_score(np.array(sx),scores[:,j]))\n",
    "    plt.figure(figsize=(10,5))\n",
    "    plt.scatter(np.arange(72),aucs)\n",
    "    plt.xlabel('class')\n",
    "    plt.ylabel('auc')"
   ]
  },
  {
   "cell_type": "code",
   "execution_count": 238,
   "metadata": {
    "collapsed": false
   },
   "outputs": [],
   "source": [
    "def evaluate_one_versus_one(y_test, scores, delta):\n",
    "    '''AUC scores for one class versus one class on test data across all classes\n",
    "        delta, int : discriminate between class and class + delta    \n",
    "    '''\n",
    "    aucs = []\n",
    "    for j in range(1,73):\n",
    "        inds = np.concatenate((np.where(y_test == (j))[0], np.where(y_test == (((j-1)+delta) % 72) + 1)[0]))\n",
    "        #print(y_test[inds])\n",
    "        #print(scores[inds,j-1])\n",
    "        y = (y_test[inds] == j).astype(int)\n",
    "        aucs.append((sklearn.metrics.roc_auc_score(y, scores[inds,j-1])))\n",
    "    plt.figure(figsize=(10,5))\n",
    "    plt.scatter(np.arange(72),aucs)\n",
    "    plt.xlabel('class')\n",
    "    plt.ylabel('auc')"
   ]
  },
  {
   "cell_type": "code",
   "execution_count": null,
   "metadata": {
    "collapsed": false
   },
   "outputs": [],
   "source": [
    "evaluate_one_versus_one(y_test, scores_test, 1)\n",
    "evaluate_one_versus_one(y_test, scores_test, 2)\n",
    "evaluate_one_versus_one(y_test, scores_test, 5)\n",
    "evaluate_one_versus_one(y_test, scores_test, 10)\n",
    "evaluate_one_versus_one(y_test, scores_test, 20)"
   ]
  },
  {
   "cell_type": "markdown",
   "metadata": {},
   "source": [
    "## SVM model from Graf 11"
   ]
  },
  {
   "cell_type": "code",
   "execution_count": 38,
   "metadata": {
    "collapsed": true
   },
   "outputs": [],
   "source": [
    "from sklearn import svm"
   ]
  },
  {
   "cell_type": "code",
   "execution_count": null,
   "metadata": {
    "collapsed": true
   },
   "outputs": [],
   "source": []
  },
  {
   "cell_type": "code",
   "execution_count": 358,
   "metadata": {
    "collapsed": false
   },
   "outputs": [],
   "source": [
    "aucs_svm = []\n",
    "w_svm = []\n",
    "b_svm = []\n",
    "C = 72\n",
    "\n",
    "aucs_svm_local = []\n",
    "for i in range(0,C):\n",
    "    clf = svm.SVC(kernel='linear')\n",
    "    #train_data = np.concatenate([x_train[(i+d)%72], x_train[i]])\n",
    "    #test_data = np.concatenate([x_test[(i+d)%72], x_test[i]])\n",
    "\n",
    "    train_data = np.concatenate([x_train[(i+1)%C], x_train[i]])\n",
    "    test_data = np.concatenate([x_test[(i+1)%C], x_test[i]])\n",
    "    clf.fit(train_data, np.repeat(np.arange(-1,2, step=2), 35))\n",
    "    w_svm.append(clf.coef_[0])\n",
    "    b_svm.append(clf.intercept_[0])\n",
    "\n",
    "    aucs_svm_local.append(sklearn.metrics.accuracy_score(clf.predict(test_data), np.repeat([-1,1],15)))\n",
    "    aucs_svm.append(np.mean(aucs_svm_local))\n",
    "w_svm = np.array(w_svm)\n",
    "b_svm = np.array(b_svm)"
   ]
  },
  {
   "cell_type": "code",
   "execution_count": 383,
   "metadata": {
    "collapsed": true
   },
   "outputs": [],
   "source": [
    "def compute_ll(stimulus, weights, intercepts, data):\n",
    "    '''\n",
    "    log L(\\theta_i) = \\sum_{k=2}^i log LR(\\theta_k, \\theta_{k-1})\n",
    "    \n",
    "    '''\n",
    "    log_likelihood = 0\n",
    "    for i in range(2, stimulus+1):\n",
    "        log_likelihood = log_likelihood + compute_log_lr(i, weights, intercepts, data)\n",
    "    return log_likelihood / np.sum(log_likelihood)\n",
    "def compute_log_lr(stimulus, weights, intercepts, data):\n",
    "    ll = np.sum(weights[stimulus-1]*data,axis=1) + intercepts[stimulus-1]\n",
    "    return ll"
   ]
  },
  {
   "cell_type": "code",
   "execution_count": 422,
   "metadata": {
    "collapsed": false
   },
   "outputs": [
    {
     "data": {
      "text/plain": [
       "1.0"
      ]
     },
     "execution_count": 422,
     "metadata": {},
     "output_type": "execute_result"
    }
   ],
   "source": [
    "data = np.concatenate([x_test[(1)%C], x_test[2]])\n",
    "x = compute_ll(2, w_svm, b_svm, data) - compute_ll(3, w_svm, b_svm, data)\n",
    "sklearn.metrics.accuracy_score(np.repeat(np.arange(0,2), 15), x > 0)"
   ]
  },
  {
   "cell_type": "code",
   "execution_count": 412,
   "metadata": {
    "collapsed": false
   },
   "outputs": [
    {
     "data": {
      "text/plain": [
       "(60,)"
      ]
     },
     "execution_count": 412,
     "metadata": {},
     "output_type": "execute_result"
    }
   ],
   "source": [
    "np.repeat(np.arange(0,2), 30).shape"
   ]
  },
  {
   "cell_type": "code",
   "execution_count": 413,
   "metadata": {
    "collapsed": false
   },
   "outputs": [
    {
     "data": {
      "text/plain": [
       "1.0"
      ]
     },
     "execution_count": 413,
     "metadata": {},
     "output_type": "execute_result"
    }
   ],
   "source": [
    "sklearn.metrics.accuracy_score(np.repeat(np.arange(0,2), 15), x > 0)"
   ]
  },
  {
   "cell_type": "code",
   "execution_count": null,
   "metadata": {
    "collapsed": true
   },
   "outputs": [],
   "source": []
  },
  {
   "cell_type": "code",
   "execution_count": 429,
   "metadata": {
    "collapsed": false
   },
   "outputs": [],
   "source": [
    "acc = []\n",
    "for i in range(2, C+1):\n",
    "    data = np.concatenate([x_test[(i-1)%C], x_test[(i%C)]])\n",
    "    x = compute_ll(i, w_svm, b_svm, data) - compute_ll((i+1)%C, w_svm, b_svm, data)\n",
    "    acc.append(sklearn.metrics.accuracy_score(np.repeat(np.arange(0,2), 15), x < 0))"
   ]
  },
  {
   "cell_type": "code",
   "execution_count": 432,
   "metadata": {
    "collapsed": false
   },
   "outputs": [
    {
     "data": {
      "text/plain": [
       "0.61267605633802802"
      ]
     },
     "execution_count": 432,
     "metadata": {},
     "output_type": "execute_result"
    }
   ],
   "source": [
    "np.mean(acc)"
   ]
  },
  {
   "cell_type": "code",
   "execution_count": null,
   "metadata": {
    "collapsed": true
   },
   "outputs": [],
   "source": []
  },
  {
   "cell_type": "code",
   "execution_count": 385,
   "metadata": {
    "collapsed": true
   },
   "outputs": [],
   "source": [
    "# write a function that computes log L(data; stimulus) -> so we specify the data and what stimulus we want and then we get log likelihood values"
   ]
  },
  {
   "cell_type": "code",
   "execution_count": 310,
   "metadata": {
    "collapsed": false
   },
   "outputs": [
    {
     "data": {
      "text/plain": [
       "(72, 66)"
      ]
     },
     "execution_count": 310,
     "metadata": {},
     "output_type": "execute_result"
    }
   ],
   "source": [
    "w_svm.shape"
   ]
  },
  {
   "cell_type": "code",
   "execution_count": 361,
   "metadata": {
    "collapsed": false
   },
   "outputs": [
    {
     "data": {
      "text/plain": [
       "(15,)"
      ]
     },
     "execution_count": 361,
     "metadata": {},
     "output_type": "execute_result"
    }
   ],
   "source": [
    "np.sum((w_svm[0]*x_test[1]),axis=1).shape"
   ]
  },
  {
   "cell_type": "code",
   "execution_count": 297,
   "metadata": {
    "collapsed": false
   },
   "outputs": [
    {
     "data": {
      "text/plain": [
       "array([-1,  1])"
      ]
     },
     "execution_count": 297,
     "metadata": {},
     "output_type": "execute_result"
    }
   ],
   "source": [
    "np.arange(-1,2, step=2)"
   ]
  },
  {
   "cell_type": "code",
   "execution_count": 326,
   "metadata": {
    "collapsed": false
   },
   "outputs": [
    {
     "data": {
      "text/plain": [
       "array([ 0.99985421,  1.00000913,  1.00000869,  1.5280152 ,  1.64711368,\n",
       "        0.99991817,  1.00002585,  2.05081325,  1.27248537,  1.11339972,\n",
       "        1.25520706,  1.43436115,  1.02412011,  1.00039105,  1.23687387,\n",
       "        1.55026493,  1.00011338,  1.1338002 ,  1.44887515,  1.35048896,\n",
       "        1.21286996,  1.00040947,  1.53340711,  1.29605826,  1.56474806,\n",
       "        1.59758385,  1.19058291,  0.99985272,  1.30316249,  1.00017426,\n",
       "        1.08326209,  1.78100884,  0.99959018,  0.99952498,  1.14417239,\n",
       "       -1.62186017, -3.56552217, -1.11627546, -2.03894788, -2.35280472,\n",
       "       -1.76635965, -1.00044517, -1.0000293 , -1.28418647, -1.81993908,\n",
       "       -1.09839415, -0.99992851, -1.24180625, -0.99971048, -0.99992876,\n",
       "       -1.98063477, -1.02806002, -2.27813527, -1.00021073, -0.99999638,\n",
       "       -0.99988914, -1.80582531, -0.99992851, -0.99966875, -1.63221942,\n",
       "       -1.28316921, -1.00046254, -2.31339842, -0.99967384, -1.3534269 ,\n",
       "       -1.30343685, -1.48464686, -1.22753246, -1.32216052, -2.08526603])"
      ]
     },
     "execution_count": 326,
     "metadata": {},
     "output_type": "execute_result"
    }
   ],
   "source": [
    "np.sum(w_svm[0]*r, axis=1) + b_svm[0]"
   ]
  },
  {
   "cell_type": "code",
   "execution_count": 321,
   "metadata": {
    "collapsed": false
   },
   "outputs": [
    {
     "data": {
      "text/plain": [
       "((66,), (66,), (70, 66))"
      ]
     },
     "execution_count": 321,
     "metadata": {},
     "output_type": "execute_result"
    }
   ],
   "source": [
    "np.sum(w_svm[0]*r, axis=0).shape, w_svm[0].shape, r.shape"
   ]
  },
  {
   "cell_type": "code",
   "execution_count": 347,
   "metadata": {
    "collapsed": false
   },
   "outputs": [],
   "source": [
    "log_ll_svm = np.zeros((72,70))\n",
    "for i in range(C):\n",
    "    if i == 0:\n",
    "        log_ll_svm[i] = 0\n",
    "        continue\n",
    "    r = np.concatenate([x_train[(i-1)%C], x_train[i]])\n",
    "    llr = np.sum(w_svm[i]*r, axis=1) + b_svm[i]\n",
    "    llr = llr / np.sum(llr) # scale llrs\n",
    "    log_ll_svm[i] = log_ll_svm[i-1] + llr"
   ]
  },
  {
   "cell_type": "code",
   "execution_count": 356,
   "metadata": {
    "collapsed": true
   },
   "outputs": [],
   "source": [
    "log_ll_svm = np.zeros((72,70))\n",
    "w_d = np.zeros((72,66))\n",
    "w_svm[0] = 0\n",
    "for i in range(C):\n",
    "    w_d[i] = w_svm[(i+1)%C] - w_svm[i]"
   ]
  },
  {
   "cell_type": "code",
   "execution_count": 357,
   "metadata": {
    "collapsed": false
   },
   "outputs": [
    {
     "data": {
      "text/plain": [
       "array([[-0.00780162, -0.02538135, -0.01285947, ...,  0.01064625,\n",
       "         0.00416119, -0.00745489],\n",
       "       [ 0.01016356,  0.02862334,  0.0015774 , ..., -0.00854087,\n",
       "         0.01254639,  0.00528252],\n",
       "       [ 0.01562254,  0.04733449, -0.02445935, ...,  0.00323274,\n",
       "         0.0027448 , -0.00191086],\n",
       "       ..., \n",
       "       [ 0.05488365,  0.01229697,  0.00454152, ..., -0.0244175 ,\n",
       "        -0.00343365,  0.02993379],\n",
       "       [-0.00735064, -0.00951106, -0.00539935, ..., -0.01061533,\n",
       "         0.01910915, -0.01344544],\n",
       "       [-0.00025439,  0.00695712, -0.00223221, ...,  0.02283983,\n",
       "        -0.00261978, -0.01291241]])"
      ]
     },
     "execution_count": 357,
     "metadata": {},
     "output_type": "execute_result"
    }
   ],
   "source": [
    "w_d"
   ]
  },
  {
   "cell_type": "code",
   "execution_count": 344,
   "metadata": {
    "collapsed": false
   },
   "outputs": [
    {
     "data": {
      "text/plain": [
       "array([ 3.61330046,  2.56464045,  2.03756082,  2.44418738,  2.74065742,\n",
       "        1.85330084,  3.81862399,  2.52582376,  3.85899648,  2.65572377,\n",
       "        2.94858623,  3.98599346,  3.45944799,  2.94943077,  2.61505058,\n",
       "        2.94798479,  2.08504589,  3.08739288,  2.92888464,  2.30167625,\n",
       "        2.80233979,  2.21478283,  3.25631735,  3.13889484,  2.68246207,\n",
       "        2.55969725,  2.30358881,  2.90440798,  2.71754126,  1.80195695,\n",
       "        1.32249996,  3.15898258,  2.38556443,  1.81585779,  3.07148664,\n",
       "        2.88500923,  2.22155426,  2.01579145,  3.76670941,  1.79281343,\n",
       "        1.68520942,  3.50151403,  2.84818844,  2.24310858,  2.7596632 ,\n",
       "        2.35713918,  2.89026073,  2.87976437,  2.49630308,  2.82758617,\n",
       "        2.17053346,  2.34667721,  1.82665937,  1.59155578,  1.72729581,\n",
       "        2.09053037,  2.34920065,  3.07437143,  2.87205435,  2.82992113,\n",
       "        1.78188986,  3.14084388,  2.38658102,  2.6524941 ,  2.29643785,\n",
       "        1.48922007,  3.38214053,  2.80219672,  2.19008901,  2.84969461])"
      ]
     },
     "execution_count": 344,
     "metadata": {},
     "output_type": "execute_result"
    }
   ],
   "source": [
    "np.sum(w_svm[0]*r, axis=1) + b_svm[0]"
   ]
  },
  {
   "cell_type": "code",
   "execution_count": 330,
   "metadata": {
    "collapsed": false
   },
   "outputs": [
    {
     "data": {
      "text/plain": [
       "array([[   0.        ,    0.        ,    0.        , ...,    0.        ,\n",
       "           0.        ,    0.        ],\n",
       "       [   3.10986624,    2.57714643,    3.13005735, ...,    0.99958555,\n",
       "           0.99966977,    1.31169172],\n",
       "       [   5.59068993,    5.43461025,    6.5607529 , ...,    2.24206468,\n",
       "           2.58269256,    3.89885701],\n",
       "       ..., \n",
       "       [ 196.34640817,  222.99713332,  223.61414606, ...,  117.70292896,\n",
       "          95.4575153 ,  108.18123393],\n",
       "       [ 198.28610113,  227.3345811 ,  227.52521459, ...,  118.70339009,\n",
       "          96.45723921,  109.18130487],\n",
       "       [ 200.62194598,  229.76633405,  229.83500172, ...,  119.70326342,\n",
       "          97.4567742 ,  110.49577146]])"
      ]
     },
     "execution_count": 330,
     "metadata": {},
     "output_type": "execute_result"
    }
   ],
   "source": [
    "log_ll_svm"
   ]
  },
  {
   "cell_type": "code",
   "execution_count": null,
   "metadata": {
    "collapsed": true
   },
   "outputs": [],
   "source": []
  },
  {
   "cell_type": "code",
   "execution_count": null,
   "metadata": {
    "collapsed": false
   },
   "outputs": [],
   "source": [
    "# subset of tuned neurons, with single tau\n",
    "plt.plot([1,2,3,4,5,6], aucs_svm)\n",
    "plt.plot([1,2,3,4,5,6], evaluate_multiclass_model(x_test_scaled_3d, qw_mod.eval().T, qb_mod.eval()))"
   ]
  },
  {
   "cell_type": "code",
   "execution_count": null,
   "metadata": {
    "collapsed": false
   },
   "outputs": [],
   "source": [
    "plt.plot([1,2,3,4,5,6], aucs_svm)\n",
    "plt.plot([1,2,3,4,5,6], evaluate_multiclass_model(x_test_scaled_3d, qw_mod.eval().T, qb_mod.eval()))"
   ]
  },
  {
   "cell_type": "code",
   "execution_count": null,
   "metadata": {
    "collapsed": false
   },
   "outputs": [],
   "source": [
    "# all neurons, sparsity param for each class \n",
    "\n",
    "plt.plot([1,2,3,4,5,6], aucs_svm)\n",
    "plt.plot([1,2,3,4,5,6], "
   ]
  },
  {
   "cell_type": "code",
   "execution_count": null,
   "metadata": {
    "collapsed": false
   },
   "outputs": [],
   "source": [
    "tau.eval()"
   ]
  },
  {
   "cell_type": "code",
   "execution_count": null,
   "metadata": {
    "collapsed": false
   },
   "outputs": [],
   "source": [
    "qw_mod = tf.concat([qw.mean(), np.zeros((D,1))], axis=1)\n",
    "qb_mod = tf.concat([qb.mean(), np.zeros((1))], axis=0)\n",
    "logits = tf.matmul(tf.cast(Xtest_scaled, tf.float32), qw_mod) + qb_mod\n",
    "print(compute_average_auc(tf.nn.softmax(logits).eval(), Ytest_hot))\n",
    "print(evaluate_multiclass_model(x_test_scaled_3d, qw_mod.eval().T, qb_mod.eval()))"
   ]
  },
  {
   "cell_type": "code",
   "execution_count": null,
   "metadata": {
    "collapsed": false
   },
   "outputs": [],
   "source": [
    "qw_mod = tf.concat([qw.mean(), np.zeros((D,1))], axis=1)\n",
    "qb_mod = tf.concat([qb.mean(), np.zeros((1))], axis=0)\n",
    "logits = tf.matmul(tf.cast(Xtest_scaled, tf.float32), qw_mod) + qb_mod\n",
    "print(compute_average_auc(tf.nn.softmax(logits).eval(), Ytest_hot))\n",
    "print(evaluate_multiclass_model(x_test_scaled_3d, qw_mod.eval().T, qb_mod.eval()))"
   ]
  },
  {
   "cell_type": "markdown",
   "metadata": {},
   "source": [
    "### Lets build a Bayesian multinomial multi-class logistic regression model\n",
    "$$p(\\theta^{(i)} = c | r^{(i)}, w^{(c)}) = \\frac{\\exp{(w^{(c)T}r^{(i)})}}{\\sum_{j=1}^C(w^{(j)T}r^{(i)})}$$\n",
    "$$p(w^{(c)}|\\Lambda^{(c)}) = \\mathcal{N}(0, \\Lambda^{(c)}), \\Lambda^{(c)} \\in \\mathcal{R^{\\text{NxN}}}$$"
   ]
  },
  {
   "cell_type": "code",
   "execution_count": 50,
   "metadata": {
    "collapsed": true
   },
   "outputs": [],
   "source": [
    "def compute_average_auc(predictions, labels):\n",
    "    classes = labels.shape[1]\n",
    "    aucs = np.zeros((classes))\n",
    "    for i in range(classes):\n",
    "        aucs[i] = sklearn.metrics.roc_auc_score(labels[:,i], predictions[:,i])\n",
    "    return np.mean(aucs)"
   ]
  },
  {
   "cell_type": "code",
   "execution_count": 505,
   "metadata": {
    "collapsed": false
   },
   "outputs": [
    {
     "data": {
      "text/plain": [
       "array([[ 3.07695556, -0.        , -0.        , ...,  0.        ,\n",
       "         0.        , -0.        ],\n",
       "       [ 0.        ,  0.32832348,  0.        , ..., -0.        ,\n",
       "         0.        , -0.        ],\n",
       "       [-0.        , -0.        ,  0.95014298, ..., -0.        ,\n",
       "        -0.        ,  0.        ],\n",
       "       ..., \n",
       "       [ 0.        , -0.        ,  0.        , ..., -0.46595553,\n",
       "        -0.        , -0.        ],\n",
       "       [ 0.        , -0.        , -0.        , ..., -0.        ,\n",
       "         0.26682189, -0.        ],\n",
       "       [ 0.        , -0.        , -0.        , ..., -0.        ,\n",
       "         0.        , -0.00951146]], dtype=float32)"
      ]
     },
     "execution_count": 505,
     "metadata": {},
     "output_type": "execute_result"
    }
   ],
   "source": [
    "(tf.random_normal([D,D]) * np.identity(D)).eval()"
   ]
  },
  {
   "cell_type": "code",
   "execution_count": 508,
   "metadata": {
    "collapsed": false
   },
   "outputs": [
    {
     "ename": "InvalidArgumentError",
     "evalue": "Cholesky decomposition was not successful. The input might not be valid.\n\t [[Node: Cholesky_31 = Cholesky[T=DT_FLOAT, _device=\"/job:localhost/replica:0/task:0/cpu:0\"](mul_1032)]]\n\nCaused by op 'Cholesky_31', defined at:\n  File \"/Users/farhan.damani/anaconda3/lib/python3.5/runpy.py\", line 184, in _run_module_as_main\n    \"__main__\", mod_spec)\n  File \"/Users/farhan.damani/anaconda3/lib/python3.5/runpy.py\", line 85, in _run_code\n    exec(code, run_globals)\n  File \"/Users/farhan.damani/anaconda3/lib/python3.5/site-packages/ipykernel/__main__.py\", line 3, in <module>\n    app.launch_new_instance()\n  File \"/Users/farhan.damani/anaconda3/lib/python3.5/site-packages/traitlets/config/application.py\", line 596, in launch_instance\n    app.start()\n  File \"/Users/farhan.damani/anaconda3/lib/python3.5/site-packages/ipykernel/kernelapp.py\", line 442, in start\n    ioloop.IOLoop.instance().start()\n  File \"/Users/farhan.damani/anaconda3/lib/python3.5/site-packages/zmq/eventloop/ioloop.py\", line 162, in start\n    super(ZMQIOLoop, self).start()\n  File \"/Users/farhan.damani/anaconda3/lib/python3.5/site-packages/tornado/ioloop.py\", line 883, in start\n    handler_func(fd_obj, events)\n  File \"/Users/farhan.damani/anaconda3/lib/python3.5/site-packages/tornado/stack_context.py\", line 275, in null_wrapper\n    return fn(*args, **kwargs)\n  File \"/Users/farhan.damani/anaconda3/lib/python3.5/site-packages/zmq/eventloop/zmqstream.py\", line 440, in _handle_events\n    self._handle_recv()\n  File \"/Users/farhan.damani/anaconda3/lib/python3.5/site-packages/zmq/eventloop/zmqstream.py\", line 472, in _handle_recv\n    self._run_callback(callback, msg)\n  File \"/Users/farhan.damani/anaconda3/lib/python3.5/site-packages/zmq/eventloop/zmqstream.py\", line 414, in _run_callback\n    callback(*args, **kwargs)\n  File \"/Users/farhan.damani/anaconda3/lib/python3.5/site-packages/tornado/stack_context.py\", line 275, in null_wrapper\n    return fn(*args, **kwargs)\n  File \"/Users/farhan.damani/anaconda3/lib/python3.5/site-packages/ipykernel/kernelbase.py\", line 276, in dispatcher\n    return self.dispatch_shell(stream, msg)\n  File \"/Users/farhan.damani/anaconda3/lib/python3.5/site-packages/ipykernel/kernelbase.py\", line 228, in dispatch_shell\n    handler(stream, idents, msg)\n  File \"/Users/farhan.damani/anaconda3/lib/python3.5/site-packages/ipykernel/kernelbase.py\", line 391, in execute_request\n    user_expressions, allow_stdin)\n  File \"/Users/farhan.damani/anaconda3/lib/python3.5/site-packages/ipykernel/ipkernel.py\", line 199, in do_execute\n    shell.run_cell(code, store_history=store_history, silent=silent)\n  File \"/Users/farhan.damani/anaconda3/lib/python3.5/site-packages/IPython/core/interactiveshell.py\", line 2723, in run_cell\n    interactivity=interactivity, compiler=compiler, result=result)\n  File \"/Users/farhan.damani/anaconda3/lib/python3.5/site-packages/IPython/core/interactiveshell.py\", line 2831, in run_ast_nodes\n    if self.run_code(code, result):\n  File \"/Users/farhan.damani/anaconda3/lib/python3.5/site-packages/IPython/core/interactiveshell.py\", line 2885, in run_code\n    exec(code_obj, self.user_global_ns, self.user_ns)\n  File \"<ipython-input-508-a204de0657eb>\", line 1, in <module>\n    tf.cholesky((tf.random_normal([D,D]) * np.identity(D))).eval()\n  File \"/Users/farhan.damani/anaconda3/lib/python3.5/site-packages/tensorflow/python/ops/gen_linalg_ops.py\", line 227, in cholesky\n    result = _op_def_lib.apply_op(\"Cholesky\", input=input, name=name)\n  File \"/Users/farhan.damani/anaconda3/lib/python3.5/site-packages/tensorflow/python/framework/op_def_library.py\", line 767, in apply_op\n    op_def=op_def)\n  File \"/Users/farhan.damani/anaconda3/lib/python3.5/site-packages/tensorflow/python/framework/ops.py\", line 2506, in create_op\n    original_op=self._default_original_op, op_def=op_def)\n  File \"/Users/farhan.damani/anaconda3/lib/python3.5/site-packages/tensorflow/python/framework/ops.py\", line 1269, in __init__\n    self._traceback = _extract_stack()\n\nInvalidArgumentError (see above for traceback): Cholesky decomposition was not successful. The input might not be valid.\n\t [[Node: Cholesky_31 = Cholesky[T=DT_FLOAT, _device=\"/job:localhost/replica:0/task:0/cpu:0\"](mul_1032)]]\n",
     "output_type": "error",
     "traceback": [
      "\u001b[0;31m---------------------------------------------------------------------------\u001b[0m",
      "\u001b[0;31mInvalidArgumentError\u001b[0m                      Traceback (most recent call last)",
      "\u001b[0;32m/Users/farhan.damani/anaconda3/lib/python3.5/site-packages/tensorflow/python/client/session.py\u001b[0m in \u001b[0;36m_do_call\u001b[0;34m(self, fn, *args)\u001b[0m\n\u001b[1;32m   1138\u001b[0m     \u001b[0;32mtry\u001b[0m\u001b[0;34m:\u001b[0m\u001b[0;34m\u001b[0m\u001b[0m\n\u001b[0;32m-> 1139\u001b[0;31m       \u001b[0;32mreturn\u001b[0m \u001b[0mfn\u001b[0m\u001b[0;34m(\u001b[0m\u001b[0;34m*\u001b[0m\u001b[0margs\u001b[0m\u001b[0;34m)\u001b[0m\u001b[0;34m\u001b[0m\u001b[0m\n\u001b[0m\u001b[1;32m   1140\u001b[0m     \u001b[0;32mexcept\u001b[0m \u001b[0merrors\u001b[0m\u001b[0;34m.\u001b[0m\u001b[0mOpError\u001b[0m \u001b[0;32mas\u001b[0m \u001b[0me\u001b[0m\u001b[0;34m:\u001b[0m\u001b[0;34m\u001b[0m\u001b[0m\n",
      "\u001b[0;32m/Users/farhan.damani/anaconda3/lib/python3.5/site-packages/tensorflow/python/client/session.py\u001b[0m in \u001b[0;36m_run_fn\u001b[0;34m(session, feed_dict, fetch_list, target_list, options, run_metadata)\u001b[0m\n\u001b[1;32m   1120\u001b[0m                                  \u001b[0mfeed_dict\u001b[0m\u001b[0;34m,\u001b[0m \u001b[0mfetch_list\u001b[0m\u001b[0;34m,\u001b[0m \u001b[0mtarget_list\u001b[0m\u001b[0;34m,\u001b[0m\u001b[0;34m\u001b[0m\u001b[0m\n\u001b[0;32m-> 1121\u001b[0;31m                                  status, run_metadata)\n\u001b[0m\u001b[1;32m   1122\u001b[0m \u001b[0;34m\u001b[0m\u001b[0m\n",
      "\u001b[0;32m/Users/farhan.damani/anaconda3/lib/python3.5/contextlib.py\u001b[0m in \u001b[0;36m__exit__\u001b[0;34m(self, type, value, traceback)\u001b[0m\n\u001b[1;32m     65\u001b[0m             \u001b[0;32mtry\u001b[0m\u001b[0;34m:\u001b[0m\u001b[0;34m\u001b[0m\u001b[0m\n\u001b[0;32m---> 66\u001b[0;31m                 \u001b[0mnext\u001b[0m\u001b[0;34m(\u001b[0m\u001b[0mself\u001b[0m\u001b[0;34m.\u001b[0m\u001b[0mgen\u001b[0m\u001b[0;34m)\u001b[0m\u001b[0;34m\u001b[0m\u001b[0m\n\u001b[0m\u001b[1;32m     67\u001b[0m             \u001b[0;32mexcept\u001b[0m \u001b[0mStopIteration\u001b[0m\u001b[0;34m:\u001b[0m\u001b[0;34m\u001b[0m\u001b[0m\n",
      "\u001b[0;32m/Users/farhan.damani/anaconda3/lib/python3.5/site-packages/tensorflow/python/framework/errors_impl.py\u001b[0m in \u001b[0;36mraise_exception_on_not_ok_status\u001b[0;34m()\u001b[0m\n\u001b[1;32m    465\u001b[0m           \u001b[0mcompat\u001b[0m\u001b[0;34m.\u001b[0m\u001b[0mas_text\u001b[0m\u001b[0;34m(\u001b[0m\u001b[0mpywrap_tensorflow\u001b[0m\u001b[0;34m.\u001b[0m\u001b[0mTF_Message\u001b[0m\u001b[0;34m(\u001b[0m\u001b[0mstatus\u001b[0m\u001b[0;34m)\u001b[0m\u001b[0;34m)\u001b[0m\u001b[0;34m,\u001b[0m\u001b[0;34m\u001b[0m\u001b[0m\n\u001b[0;32m--> 466\u001b[0;31m           pywrap_tensorflow.TF_GetCode(status))\n\u001b[0m\u001b[1;32m    467\u001b[0m   \u001b[0;32mfinally\u001b[0m\u001b[0;34m:\u001b[0m\u001b[0;34m\u001b[0m\u001b[0m\n",
      "\u001b[0;31mInvalidArgumentError\u001b[0m: Cholesky decomposition was not successful. The input might not be valid.\n\t [[Node: Cholesky_31 = Cholesky[T=DT_FLOAT, _device=\"/job:localhost/replica:0/task:0/cpu:0\"](mul_1032)]]",
      "\nDuring handling of the above exception, another exception occurred:\n",
      "\u001b[0;31mInvalidArgumentError\u001b[0m                      Traceback (most recent call last)",
      "\u001b[0;32m<ipython-input-508-a204de0657eb>\u001b[0m in \u001b[0;36m<module>\u001b[0;34m()\u001b[0m\n\u001b[0;32m----> 1\u001b[0;31m \u001b[0mtf\u001b[0m\u001b[0;34m.\u001b[0m\u001b[0mcholesky\u001b[0m\u001b[0;34m(\u001b[0m\u001b[0;34m(\u001b[0m\u001b[0mtf\u001b[0m\u001b[0;34m.\u001b[0m\u001b[0mrandom_normal\u001b[0m\u001b[0;34m(\u001b[0m\u001b[0;34m[\u001b[0m\u001b[0mD\u001b[0m\u001b[0;34m,\u001b[0m\u001b[0mD\u001b[0m\u001b[0;34m]\u001b[0m\u001b[0;34m)\u001b[0m \u001b[0;34m*\u001b[0m \u001b[0mnp\u001b[0m\u001b[0;34m.\u001b[0m\u001b[0midentity\u001b[0m\u001b[0;34m(\u001b[0m\u001b[0mD\u001b[0m\u001b[0;34m)\u001b[0m\u001b[0;34m)\u001b[0m\u001b[0;34m)\u001b[0m\u001b[0;34m.\u001b[0m\u001b[0meval\u001b[0m\u001b[0;34m(\u001b[0m\u001b[0;34m)\u001b[0m\u001b[0;34m\u001b[0m\u001b[0m\n\u001b[0m",
      "\u001b[0;32m/Users/farhan.damani/anaconda3/lib/python3.5/site-packages/tensorflow/python/framework/ops.py\u001b[0m in \u001b[0;36meval\u001b[0;34m(self, feed_dict, session)\u001b[0m\n\u001b[1;32m    604\u001b[0m \u001b[0;34m\u001b[0m\u001b[0m\n\u001b[1;32m    605\u001b[0m     \"\"\"\n\u001b[0;32m--> 606\u001b[0;31m     \u001b[0;32mreturn\u001b[0m \u001b[0m_eval_using_default_session\u001b[0m\u001b[0;34m(\u001b[0m\u001b[0mself\u001b[0m\u001b[0;34m,\u001b[0m \u001b[0mfeed_dict\u001b[0m\u001b[0;34m,\u001b[0m \u001b[0mself\u001b[0m\u001b[0;34m.\u001b[0m\u001b[0mgraph\u001b[0m\u001b[0;34m,\u001b[0m \u001b[0msession\u001b[0m\u001b[0;34m)\u001b[0m\u001b[0;34m\u001b[0m\u001b[0m\n\u001b[0m\u001b[1;32m    607\u001b[0m \u001b[0;34m\u001b[0m\u001b[0m\n\u001b[1;32m    608\u001b[0m \u001b[0;34m\u001b[0m\u001b[0m\n",
      "\u001b[0;32m/Users/farhan.damani/anaconda3/lib/python3.5/site-packages/tensorflow/python/framework/ops.py\u001b[0m in \u001b[0;36m_eval_using_default_session\u001b[0;34m(tensors, feed_dict, graph, session)\u001b[0m\n\u001b[1;32m   3926\u001b[0m                        \u001b[0;34m\"the tensor's graph is different from the session's \"\u001b[0m\u001b[0;34m\u001b[0m\u001b[0m\n\u001b[1;32m   3927\u001b[0m                        \"graph.\")\n\u001b[0;32m-> 3928\u001b[0;31m   \u001b[0;32mreturn\u001b[0m \u001b[0msession\u001b[0m\u001b[0;34m.\u001b[0m\u001b[0mrun\u001b[0m\u001b[0;34m(\u001b[0m\u001b[0mtensors\u001b[0m\u001b[0;34m,\u001b[0m \u001b[0mfeed_dict\u001b[0m\u001b[0;34m)\u001b[0m\u001b[0;34m\u001b[0m\u001b[0m\n\u001b[0m\u001b[1;32m   3929\u001b[0m \u001b[0;34m\u001b[0m\u001b[0m\n\u001b[1;32m   3930\u001b[0m \u001b[0;34m\u001b[0m\u001b[0m\n",
      "\u001b[0;32m/Users/farhan.damani/anaconda3/lib/python3.5/site-packages/tensorflow/python/client/session.py\u001b[0m in \u001b[0;36mrun\u001b[0;34m(self, fetches, feed_dict, options, run_metadata)\u001b[0m\n\u001b[1;32m    787\u001b[0m     \u001b[0;32mtry\u001b[0m\u001b[0;34m:\u001b[0m\u001b[0;34m\u001b[0m\u001b[0m\n\u001b[1;32m    788\u001b[0m       result = self._run(None, fetches, feed_dict, options_ptr,\n\u001b[0;32m--> 789\u001b[0;31m                          run_metadata_ptr)\n\u001b[0m\u001b[1;32m    790\u001b[0m       \u001b[0;32mif\u001b[0m \u001b[0mrun_metadata\u001b[0m\u001b[0;34m:\u001b[0m\u001b[0;34m\u001b[0m\u001b[0m\n\u001b[1;32m    791\u001b[0m         \u001b[0mproto_data\u001b[0m \u001b[0;34m=\u001b[0m \u001b[0mtf_session\u001b[0m\u001b[0;34m.\u001b[0m\u001b[0mTF_GetBuffer\u001b[0m\u001b[0;34m(\u001b[0m\u001b[0mrun_metadata_ptr\u001b[0m\u001b[0;34m)\u001b[0m\u001b[0;34m\u001b[0m\u001b[0m\n",
      "\u001b[0;32m/Users/farhan.damani/anaconda3/lib/python3.5/site-packages/tensorflow/python/client/session.py\u001b[0m in \u001b[0;36m_run\u001b[0;34m(self, handle, fetches, feed_dict, options, run_metadata)\u001b[0m\n\u001b[1;32m    995\u001b[0m     \u001b[0;32mif\u001b[0m \u001b[0mfinal_fetches\u001b[0m \u001b[0;32mor\u001b[0m \u001b[0mfinal_targets\u001b[0m\u001b[0;34m:\u001b[0m\u001b[0;34m\u001b[0m\u001b[0m\n\u001b[1;32m    996\u001b[0m       results = self._do_run(handle, final_targets, final_fetches,\n\u001b[0;32m--> 997\u001b[0;31m                              feed_dict_string, options, run_metadata)\n\u001b[0m\u001b[1;32m    998\u001b[0m     \u001b[0;32melse\u001b[0m\u001b[0;34m:\u001b[0m\u001b[0;34m\u001b[0m\u001b[0m\n\u001b[1;32m    999\u001b[0m       \u001b[0mresults\u001b[0m \u001b[0;34m=\u001b[0m \u001b[0;34m[\u001b[0m\u001b[0;34m]\u001b[0m\u001b[0;34m\u001b[0m\u001b[0m\n",
      "\u001b[0;32m/Users/farhan.damani/anaconda3/lib/python3.5/site-packages/tensorflow/python/client/session.py\u001b[0m in \u001b[0;36m_do_run\u001b[0;34m(self, handle, target_list, fetch_list, feed_dict, options, run_metadata)\u001b[0m\n\u001b[1;32m   1130\u001b[0m     \u001b[0;32mif\u001b[0m \u001b[0mhandle\u001b[0m \u001b[0;32mis\u001b[0m \u001b[0;32mNone\u001b[0m\u001b[0;34m:\u001b[0m\u001b[0;34m\u001b[0m\u001b[0m\n\u001b[1;32m   1131\u001b[0m       return self._do_call(_run_fn, self._session, feed_dict, fetch_list,\n\u001b[0;32m-> 1132\u001b[0;31m                            target_list, options, run_metadata)\n\u001b[0m\u001b[1;32m   1133\u001b[0m     \u001b[0;32melse\u001b[0m\u001b[0;34m:\u001b[0m\u001b[0;34m\u001b[0m\u001b[0m\n\u001b[1;32m   1134\u001b[0m       return self._do_call(_prun_fn, self._session, handle, feed_dict,\n",
      "\u001b[0;32m/Users/farhan.damani/anaconda3/lib/python3.5/site-packages/tensorflow/python/client/session.py\u001b[0m in \u001b[0;36m_do_call\u001b[0;34m(self, fn, *args)\u001b[0m\n\u001b[1;32m   1150\u001b[0m         \u001b[0;32mexcept\u001b[0m \u001b[0mKeyError\u001b[0m\u001b[0;34m:\u001b[0m\u001b[0;34m\u001b[0m\u001b[0m\n\u001b[1;32m   1151\u001b[0m           \u001b[0;32mpass\u001b[0m\u001b[0;34m\u001b[0m\u001b[0m\n\u001b[0;32m-> 1152\u001b[0;31m       \u001b[0;32mraise\u001b[0m \u001b[0mtype\u001b[0m\u001b[0;34m(\u001b[0m\u001b[0me\u001b[0m\u001b[0;34m)\u001b[0m\u001b[0;34m(\u001b[0m\u001b[0mnode_def\u001b[0m\u001b[0;34m,\u001b[0m \u001b[0mop\u001b[0m\u001b[0;34m,\u001b[0m \u001b[0mmessage\u001b[0m\u001b[0;34m)\u001b[0m\u001b[0;34m\u001b[0m\u001b[0m\n\u001b[0m\u001b[1;32m   1153\u001b[0m \u001b[0;34m\u001b[0m\u001b[0m\n\u001b[1;32m   1154\u001b[0m   \u001b[0;32mdef\u001b[0m \u001b[0m_extend_graph\u001b[0m\u001b[0;34m(\u001b[0m\u001b[0mself\u001b[0m\u001b[0;34m)\u001b[0m\u001b[0;34m:\u001b[0m\u001b[0;34m\u001b[0m\u001b[0m\n",
      "\u001b[0;31mInvalidArgumentError\u001b[0m: Cholesky decomposition was not successful. The input might not be valid.\n\t [[Node: Cholesky_31 = Cholesky[T=DT_FLOAT, _device=\"/job:localhost/replica:0/task:0/cpu:0\"](mul_1032)]]\n\nCaused by op 'Cholesky_31', defined at:\n  File \"/Users/farhan.damani/anaconda3/lib/python3.5/runpy.py\", line 184, in _run_module_as_main\n    \"__main__\", mod_spec)\n  File \"/Users/farhan.damani/anaconda3/lib/python3.5/runpy.py\", line 85, in _run_code\n    exec(code, run_globals)\n  File \"/Users/farhan.damani/anaconda3/lib/python3.5/site-packages/ipykernel/__main__.py\", line 3, in <module>\n    app.launch_new_instance()\n  File \"/Users/farhan.damani/anaconda3/lib/python3.5/site-packages/traitlets/config/application.py\", line 596, in launch_instance\n    app.start()\n  File \"/Users/farhan.damani/anaconda3/lib/python3.5/site-packages/ipykernel/kernelapp.py\", line 442, in start\n    ioloop.IOLoop.instance().start()\n  File \"/Users/farhan.damani/anaconda3/lib/python3.5/site-packages/zmq/eventloop/ioloop.py\", line 162, in start\n    super(ZMQIOLoop, self).start()\n  File \"/Users/farhan.damani/anaconda3/lib/python3.5/site-packages/tornado/ioloop.py\", line 883, in start\n    handler_func(fd_obj, events)\n  File \"/Users/farhan.damani/anaconda3/lib/python3.5/site-packages/tornado/stack_context.py\", line 275, in null_wrapper\n    return fn(*args, **kwargs)\n  File \"/Users/farhan.damani/anaconda3/lib/python3.5/site-packages/zmq/eventloop/zmqstream.py\", line 440, in _handle_events\n    self._handle_recv()\n  File \"/Users/farhan.damani/anaconda3/lib/python3.5/site-packages/zmq/eventloop/zmqstream.py\", line 472, in _handle_recv\n    self._run_callback(callback, msg)\n  File \"/Users/farhan.damani/anaconda3/lib/python3.5/site-packages/zmq/eventloop/zmqstream.py\", line 414, in _run_callback\n    callback(*args, **kwargs)\n  File \"/Users/farhan.damani/anaconda3/lib/python3.5/site-packages/tornado/stack_context.py\", line 275, in null_wrapper\n    return fn(*args, **kwargs)\n  File \"/Users/farhan.damani/anaconda3/lib/python3.5/site-packages/ipykernel/kernelbase.py\", line 276, in dispatcher\n    return self.dispatch_shell(stream, msg)\n  File \"/Users/farhan.damani/anaconda3/lib/python3.5/site-packages/ipykernel/kernelbase.py\", line 228, in dispatch_shell\n    handler(stream, idents, msg)\n  File \"/Users/farhan.damani/anaconda3/lib/python3.5/site-packages/ipykernel/kernelbase.py\", line 391, in execute_request\n    user_expressions, allow_stdin)\n  File \"/Users/farhan.damani/anaconda3/lib/python3.5/site-packages/ipykernel/ipkernel.py\", line 199, in do_execute\n    shell.run_cell(code, store_history=store_history, silent=silent)\n  File \"/Users/farhan.damani/anaconda3/lib/python3.5/site-packages/IPython/core/interactiveshell.py\", line 2723, in run_cell\n    interactivity=interactivity, compiler=compiler, result=result)\n  File \"/Users/farhan.damani/anaconda3/lib/python3.5/site-packages/IPython/core/interactiveshell.py\", line 2831, in run_ast_nodes\n    if self.run_code(code, result):\n  File \"/Users/farhan.damani/anaconda3/lib/python3.5/site-packages/IPython/core/interactiveshell.py\", line 2885, in run_code\n    exec(code_obj, self.user_global_ns, self.user_ns)\n  File \"<ipython-input-508-a204de0657eb>\", line 1, in <module>\n    tf.cholesky((tf.random_normal([D,D]) * np.identity(D))).eval()\n  File \"/Users/farhan.damani/anaconda3/lib/python3.5/site-packages/tensorflow/python/ops/gen_linalg_ops.py\", line 227, in cholesky\n    result = _op_def_lib.apply_op(\"Cholesky\", input=input, name=name)\n  File \"/Users/farhan.damani/anaconda3/lib/python3.5/site-packages/tensorflow/python/framework/op_def_library.py\", line 767, in apply_op\n    op_def=op_def)\n  File \"/Users/farhan.damani/anaconda3/lib/python3.5/site-packages/tensorflow/python/framework/ops.py\", line 2506, in create_op\n    original_op=self._default_original_op, op_def=op_def)\n  File \"/Users/farhan.damani/anaconda3/lib/python3.5/site-packages/tensorflow/python/framework/ops.py\", line 1269, in __init__\n    self._traceback = _extract_stack()\n\nInvalidArgumentError (see above for traceback): Cholesky decomposition was not successful. The input might not be valid.\n\t [[Node: Cholesky_31 = Cholesky[T=DT_FLOAT, _device=\"/job:localhost/replica:0/task:0/cpu:0\"](mul_1032)]]\n"
     ]
    }
   ],
   "source": [
    "tf.cholesky((tf.random_normal([D,D]) * np.identity(D))).eval()"
   ]
  },
  {
   "cell_type": "code",
   "execution_count": null,
   "metadata": {
    "collapsed": true
   },
   "outputs": [],
   "source": []
  },
  {
   "cell_type": "markdown",
   "metadata": {},
   "source": [
    "## does modeling neuron x neuron cov help?"
   ]
  },
  {
   "cell_type": "code",
   "execution_count": 513,
   "metadata": {
    "collapsed": false
   },
   "outputs": [
    {
     "ename": "InvalidArgumentError",
     "evalue": "Cholesky decomposition was not successful. The input might not be valid.\n\t [[Node: inference_7067801248/0/Cholesky_32 = Cholesky[T=DT_FLOAT, _device=\"/job:localhost/replica:0/task:0/cpu:0\"](inference_7067801248/0/Softplus_285)]]\n\nCaused by op 'inference_7067801248/0/Cholesky_32', defined at:\n  File \"/Users/farhan.damani/anaconda3/lib/python3.5/runpy.py\", line 184, in _run_module_as_main\n    \"__main__\", mod_spec)\n  File \"/Users/farhan.damani/anaconda3/lib/python3.5/runpy.py\", line 85, in _run_code\n    exec(code, run_globals)\n  File \"/Users/farhan.damani/anaconda3/lib/python3.5/site-packages/ipykernel/__main__.py\", line 3, in <module>\n    app.launch_new_instance()\n  File \"/Users/farhan.damani/anaconda3/lib/python3.5/site-packages/traitlets/config/application.py\", line 596, in launch_instance\n    app.start()\n  File \"/Users/farhan.damani/anaconda3/lib/python3.5/site-packages/ipykernel/kernelapp.py\", line 442, in start\n    ioloop.IOLoop.instance().start()\n  File \"/Users/farhan.damani/anaconda3/lib/python3.5/site-packages/zmq/eventloop/ioloop.py\", line 162, in start\n    super(ZMQIOLoop, self).start()\n  File \"/Users/farhan.damani/anaconda3/lib/python3.5/site-packages/tornado/ioloop.py\", line 883, in start\n    handler_func(fd_obj, events)\n  File \"/Users/farhan.damani/anaconda3/lib/python3.5/site-packages/tornado/stack_context.py\", line 275, in null_wrapper\n    return fn(*args, **kwargs)\n  File \"/Users/farhan.damani/anaconda3/lib/python3.5/site-packages/zmq/eventloop/zmqstream.py\", line 440, in _handle_events\n    self._handle_recv()\n  File \"/Users/farhan.damani/anaconda3/lib/python3.5/site-packages/zmq/eventloop/zmqstream.py\", line 472, in _handle_recv\n    self._run_callback(callback, msg)\n  File \"/Users/farhan.damani/anaconda3/lib/python3.5/site-packages/zmq/eventloop/zmqstream.py\", line 414, in _run_callback\n    callback(*args, **kwargs)\n  File \"/Users/farhan.damani/anaconda3/lib/python3.5/site-packages/tornado/stack_context.py\", line 275, in null_wrapper\n    return fn(*args, **kwargs)\n  File \"/Users/farhan.damani/anaconda3/lib/python3.5/site-packages/ipykernel/kernelbase.py\", line 276, in dispatcher\n    return self.dispatch_shell(stream, msg)\n  File \"/Users/farhan.damani/anaconda3/lib/python3.5/site-packages/ipykernel/kernelbase.py\", line 228, in dispatch_shell\n    handler(stream, idents, msg)\n  File \"/Users/farhan.damani/anaconda3/lib/python3.5/site-packages/ipykernel/kernelbase.py\", line 391, in execute_request\n    user_expressions, allow_stdin)\n  File \"/Users/farhan.damani/anaconda3/lib/python3.5/site-packages/ipykernel/ipkernel.py\", line 199, in do_execute\n    shell.run_cell(code, store_history=store_history, silent=silent)\n  File \"/Users/farhan.damani/anaconda3/lib/python3.5/site-packages/IPython/core/interactiveshell.py\", line 2723, in run_cell\n    interactivity=interactivity, compiler=compiler, result=result)\n  File \"/Users/farhan.damani/anaconda3/lib/python3.5/site-packages/IPython/core/interactiveshell.py\", line 2825, in run_ast_nodes\n    if self.run_code(code, result):\n  File \"/Users/farhan.damani/anaconda3/lib/python3.5/site-packages/IPython/core/interactiveshell.py\", line 2885, in run_code\n    exec(code_obj, self.user_global_ns, self.user_ns)\n  File \"<ipython-input-513-abed67a02051>\", line 33, in <module>\n    inference.initialize(n_iter = 3000)\n  File \"/Users/farhan.damani/anaconda3/lib/python3.5/site-packages/edward/inferences/klqp.py\", line 86, in initialize\n    return super(KLqp, self).initialize(*args, **kwargs)\n  File \"/Users/farhan.damani/anaconda3/lib/python3.5/site-packages/edward/inferences/variational_inference.py\", line 75, in initialize\n    self.loss, grads_and_vars = self.build_loss_and_gradients(var_list)\n  File \"/Users/farhan.damani/anaconda3/lib/python3.5/site-packages/edward/inferences/klqp.py\", line 129, in build_loss_and_gradients\n    return build_reparam_loss_and_gradients(self, var_list)\n  File \"/Users/farhan.damani/anaconda3/lib/python3.5/site-packages/edward/inferences/klqp.py\", line 383, in build_reparam_loss_and_gradients\n    z_copy = copy(z, dict_swap, scope=scope)\n  File \"/Users/farhan.damani/anaconda3/lib/python3.5/site-packages/edward/util/random_variables.py\", line 228, in copy\n    kwargs[key] = copy_default(value, dict_swap, scope, True, copy_q)\n  File \"/Users/farhan.damani/anaconda3/lib/python3.5/site-packages/edward/util/random_variables.py\", line 84, in copy_default\n    x = copy(x, *args, **kwargs)\n  File \"/Users/farhan.damani/anaconda3/lib/python3.5/site-packages/edward/util/random_variables.py\", line 244, in copy\n    new_op = copy(op, dict_swap, scope, True, copy_q)\n  File \"/Users/farhan.damani/anaconda3/lib/python3.5/site-packages/edward/util/random_variables.py\", line 290, in copy\n    op_def)\n  File \"/Users/farhan.damani/anaconda3/lib/python3.5/site-packages/tensorflow/python/framework/ops.py\", line 1269, in __init__\n    self._traceback = _extract_stack()\n\nInvalidArgumentError (see above for traceback): Cholesky decomposition was not successful. The input might not be valid.\n\t [[Node: inference_7067801248/0/Cholesky_32 = Cholesky[T=DT_FLOAT, _device=\"/job:localhost/replica:0/task:0/cpu:0\"](inference_7067801248/0/Softplus_285)]]\n",
     "output_type": "error",
     "traceback": [
      "\u001b[0;31m---------------------------------------------------------------------------\u001b[0m",
      "\u001b[0;31mInvalidArgumentError\u001b[0m                      Traceback (most recent call last)",
      "\u001b[0;32m/Users/farhan.damani/anaconda3/lib/python3.5/site-packages/tensorflow/python/client/session.py\u001b[0m in \u001b[0;36m_do_call\u001b[0;34m(self, fn, *args)\u001b[0m\n\u001b[1;32m   1138\u001b[0m     \u001b[0;32mtry\u001b[0m\u001b[0;34m:\u001b[0m\u001b[0;34m\u001b[0m\u001b[0m\n\u001b[0;32m-> 1139\u001b[0;31m       \u001b[0;32mreturn\u001b[0m \u001b[0mfn\u001b[0m\u001b[0;34m(\u001b[0m\u001b[0;34m*\u001b[0m\u001b[0margs\u001b[0m\u001b[0;34m)\u001b[0m\u001b[0;34m\u001b[0m\u001b[0m\n\u001b[0m\u001b[1;32m   1140\u001b[0m     \u001b[0;32mexcept\u001b[0m \u001b[0merrors\u001b[0m\u001b[0;34m.\u001b[0m\u001b[0mOpError\u001b[0m \u001b[0;32mas\u001b[0m \u001b[0me\u001b[0m\u001b[0;34m:\u001b[0m\u001b[0;34m\u001b[0m\u001b[0m\n",
      "\u001b[0;32m/Users/farhan.damani/anaconda3/lib/python3.5/site-packages/tensorflow/python/client/session.py\u001b[0m in \u001b[0;36m_run_fn\u001b[0;34m(session, feed_dict, fetch_list, target_list, options, run_metadata)\u001b[0m\n\u001b[1;32m   1120\u001b[0m                                  \u001b[0mfeed_dict\u001b[0m\u001b[0;34m,\u001b[0m \u001b[0mfetch_list\u001b[0m\u001b[0;34m,\u001b[0m \u001b[0mtarget_list\u001b[0m\u001b[0;34m,\u001b[0m\u001b[0;34m\u001b[0m\u001b[0m\n\u001b[0;32m-> 1121\u001b[0;31m                                  status, run_metadata)\n\u001b[0m\u001b[1;32m   1122\u001b[0m \u001b[0;34m\u001b[0m\u001b[0m\n",
      "\u001b[0;32m/Users/farhan.damani/anaconda3/lib/python3.5/contextlib.py\u001b[0m in \u001b[0;36m__exit__\u001b[0;34m(self, type, value, traceback)\u001b[0m\n\u001b[1;32m     65\u001b[0m             \u001b[0;32mtry\u001b[0m\u001b[0;34m:\u001b[0m\u001b[0;34m\u001b[0m\u001b[0m\n\u001b[0;32m---> 66\u001b[0;31m                 \u001b[0mnext\u001b[0m\u001b[0;34m(\u001b[0m\u001b[0mself\u001b[0m\u001b[0;34m.\u001b[0m\u001b[0mgen\u001b[0m\u001b[0;34m)\u001b[0m\u001b[0;34m\u001b[0m\u001b[0m\n\u001b[0m\u001b[1;32m     67\u001b[0m             \u001b[0;32mexcept\u001b[0m \u001b[0mStopIteration\u001b[0m\u001b[0;34m:\u001b[0m\u001b[0;34m\u001b[0m\u001b[0m\n",
      "\u001b[0;32m/Users/farhan.damani/anaconda3/lib/python3.5/site-packages/tensorflow/python/framework/errors_impl.py\u001b[0m in \u001b[0;36mraise_exception_on_not_ok_status\u001b[0;34m()\u001b[0m\n\u001b[1;32m    465\u001b[0m           \u001b[0mcompat\u001b[0m\u001b[0;34m.\u001b[0m\u001b[0mas_text\u001b[0m\u001b[0;34m(\u001b[0m\u001b[0mpywrap_tensorflow\u001b[0m\u001b[0;34m.\u001b[0m\u001b[0mTF_Message\u001b[0m\u001b[0;34m(\u001b[0m\u001b[0mstatus\u001b[0m\u001b[0;34m)\u001b[0m\u001b[0;34m)\u001b[0m\u001b[0;34m,\u001b[0m\u001b[0;34m\u001b[0m\u001b[0m\n\u001b[0;32m--> 466\u001b[0;31m           pywrap_tensorflow.TF_GetCode(status))\n\u001b[0m\u001b[1;32m    467\u001b[0m   \u001b[0;32mfinally\u001b[0m\u001b[0;34m:\u001b[0m\u001b[0;34m\u001b[0m\u001b[0m\n",
      "\u001b[0;31mInvalidArgumentError\u001b[0m: Cholesky decomposition was not successful. The input might not be valid.\n\t [[Node: inference_7067801248/0/Cholesky_32 = Cholesky[T=DT_FLOAT, _device=\"/job:localhost/replica:0/task:0/cpu:0\"](inference_7067801248/0/Softplus_285)]]",
      "\nDuring handling of the above exception, another exception occurred:\n",
      "\u001b[0;31mInvalidArgumentError\u001b[0m                      Traceback (most recent call last)",
      "\u001b[0;32m<ipython-input-513-abed67a02051>\u001b[0m in \u001b[0;36m<module>\u001b[0;34m()\u001b[0m\n\u001b[1;32m     37\u001b[0m \u001b[0mlearning_curve\u001b[0m \u001b[0;34m=\u001b[0m \u001b[0;34m[\u001b[0m\u001b[0;34m]\u001b[0m\u001b[0;34m\u001b[0m\u001b[0m\n\u001b[1;32m     38\u001b[0m \u001b[0;32mfor\u001b[0m \u001b[0m_\u001b[0m \u001b[0;32min\u001b[0m \u001b[0mrange\u001b[0m\u001b[0;34m(\u001b[0m\u001b[0minference\u001b[0m\u001b[0;34m.\u001b[0m\u001b[0mn_iter\u001b[0m\u001b[0;34m)\u001b[0m\u001b[0;34m:\u001b[0m\u001b[0;34m\u001b[0m\u001b[0m\n\u001b[0;32m---> 39\u001b[0;31m     \u001b[0minfo_dict\u001b[0m \u001b[0;34m=\u001b[0m \u001b[0minference\u001b[0m\u001b[0;34m.\u001b[0m\u001b[0mupdate\u001b[0m\u001b[0;34m(\u001b[0m\u001b[0;34m)\u001b[0m\u001b[0;34m\u001b[0m\u001b[0m\n\u001b[0m\u001b[1;32m     40\u001b[0m     \u001b[0;32mif\u001b[0m \u001b[0m_\u001b[0m\u001b[0;34m%\u001b[0m\u001b[0;36m100\u001b[0m \u001b[0;34m==\u001b[0m \u001b[0;36m0\u001b[0m\u001b[0;34m:\u001b[0m\u001b[0;34m\u001b[0m\u001b[0m\n\u001b[1;32m     41\u001b[0m         \u001b[0mprint\u001b[0m\u001b[0;34m(\u001b[0m\u001b[0minfo_dict\u001b[0m\u001b[0;34m)\u001b[0m\u001b[0;34m\u001b[0m\u001b[0m\n",
      "\u001b[0;32m/Users/farhan.damani/anaconda3/lib/python3.5/site-packages/edward/inferences/variational_inference.py\u001b[0m in \u001b[0;36mupdate\u001b[0;34m(self, feed_dict)\u001b[0m\n\u001b[1;32m    162\u001b[0m \u001b[0;34m\u001b[0m\u001b[0m\n\u001b[1;32m    163\u001b[0m     \u001b[0msess\u001b[0m \u001b[0;34m=\u001b[0m \u001b[0mget_session\u001b[0m\u001b[0;34m(\u001b[0m\u001b[0;34m)\u001b[0m\u001b[0;34m\u001b[0m\u001b[0m\n\u001b[0;32m--> 164\u001b[0;31m     \u001b[0m_\u001b[0m\u001b[0;34m,\u001b[0m \u001b[0mt\u001b[0m\u001b[0;34m,\u001b[0m \u001b[0mloss\u001b[0m \u001b[0;34m=\u001b[0m \u001b[0msess\u001b[0m\u001b[0;34m.\u001b[0m\u001b[0mrun\u001b[0m\u001b[0;34m(\u001b[0m\u001b[0;34m[\u001b[0m\u001b[0mself\u001b[0m\u001b[0;34m.\u001b[0m\u001b[0mtrain\u001b[0m\u001b[0;34m,\u001b[0m \u001b[0mself\u001b[0m\u001b[0;34m.\u001b[0m\u001b[0mincrement_t\u001b[0m\u001b[0;34m,\u001b[0m \u001b[0mself\u001b[0m\u001b[0;34m.\u001b[0m\u001b[0mloss\u001b[0m\u001b[0;34m]\u001b[0m\u001b[0;34m,\u001b[0m \u001b[0mfeed_dict\u001b[0m\u001b[0;34m)\u001b[0m\u001b[0;34m\u001b[0m\u001b[0m\n\u001b[0m\u001b[1;32m    165\u001b[0m \u001b[0;34m\u001b[0m\u001b[0m\n\u001b[1;32m    166\u001b[0m     \u001b[0;32mif\u001b[0m \u001b[0mself\u001b[0m\u001b[0;34m.\u001b[0m\u001b[0mdebug\u001b[0m\u001b[0;34m:\u001b[0m\u001b[0;34m\u001b[0m\u001b[0m\n",
      "\u001b[0;32m/Users/farhan.damani/anaconda3/lib/python3.5/site-packages/tensorflow/python/client/session.py\u001b[0m in \u001b[0;36mrun\u001b[0;34m(self, fetches, feed_dict, options, run_metadata)\u001b[0m\n\u001b[1;32m    787\u001b[0m     \u001b[0;32mtry\u001b[0m\u001b[0;34m:\u001b[0m\u001b[0;34m\u001b[0m\u001b[0m\n\u001b[1;32m    788\u001b[0m       result = self._run(None, fetches, feed_dict, options_ptr,\n\u001b[0;32m--> 789\u001b[0;31m                          run_metadata_ptr)\n\u001b[0m\u001b[1;32m    790\u001b[0m       \u001b[0;32mif\u001b[0m \u001b[0mrun_metadata\u001b[0m\u001b[0;34m:\u001b[0m\u001b[0;34m\u001b[0m\u001b[0m\n\u001b[1;32m    791\u001b[0m         \u001b[0mproto_data\u001b[0m \u001b[0;34m=\u001b[0m \u001b[0mtf_session\u001b[0m\u001b[0;34m.\u001b[0m\u001b[0mTF_GetBuffer\u001b[0m\u001b[0;34m(\u001b[0m\u001b[0mrun_metadata_ptr\u001b[0m\u001b[0;34m)\u001b[0m\u001b[0;34m\u001b[0m\u001b[0m\n",
      "\u001b[0;32m/Users/farhan.damani/anaconda3/lib/python3.5/site-packages/tensorflow/python/client/session.py\u001b[0m in \u001b[0;36m_run\u001b[0;34m(self, handle, fetches, feed_dict, options, run_metadata)\u001b[0m\n\u001b[1;32m    995\u001b[0m     \u001b[0;32mif\u001b[0m \u001b[0mfinal_fetches\u001b[0m \u001b[0;32mor\u001b[0m \u001b[0mfinal_targets\u001b[0m\u001b[0;34m:\u001b[0m\u001b[0;34m\u001b[0m\u001b[0m\n\u001b[1;32m    996\u001b[0m       results = self._do_run(handle, final_targets, final_fetches,\n\u001b[0;32m--> 997\u001b[0;31m                              feed_dict_string, options, run_metadata)\n\u001b[0m\u001b[1;32m    998\u001b[0m     \u001b[0;32melse\u001b[0m\u001b[0;34m:\u001b[0m\u001b[0;34m\u001b[0m\u001b[0m\n\u001b[1;32m    999\u001b[0m       \u001b[0mresults\u001b[0m \u001b[0;34m=\u001b[0m \u001b[0;34m[\u001b[0m\u001b[0;34m]\u001b[0m\u001b[0;34m\u001b[0m\u001b[0m\n",
      "\u001b[0;32m/Users/farhan.damani/anaconda3/lib/python3.5/site-packages/tensorflow/python/client/session.py\u001b[0m in \u001b[0;36m_do_run\u001b[0;34m(self, handle, target_list, fetch_list, feed_dict, options, run_metadata)\u001b[0m\n\u001b[1;32m   1130\u001b[0m     \u001b[0;32mif\u001b[0m \u001b[0mhandle\u001b[0m \u001b[0;32mis\u001b[0m \u001b[0;32mNone\u001b[0m\u001b[0;34m:\u001b[0m\u001b[0;34m\u001b[0m\u001b[0m\n\u001b[1;32m   1131\u001b[0m       return self._do_call(_run_fn, self._session, feed_dict, fetch_list,\n\u001b[0;32m-> 1132\u001b[0;31m                            target_list, options, run_metadata)\n\u001b[0m\u001b[1;32m   1133\u001b[0m     \u001b[0;32melse\u001b[0m\u001b[0;34m:\u001b[0m\u001b[0;34m\u001b[0m\u001b[0m\n\u001b[1;32m   1134\u001b[0m       return self._do_call(_prun_fn, self._session, handle, feed_dict,\n",
      "\u001b[0;32m/Users/farhan.damani/anaconda3/lib/python3.5/site-packages/tensorflow/python/client/session.py\u001b[0m in \u001b[0;36m_do_call\u001b[0;34m(self, fn, *args)\u001b[0m\n\u001b[1;32m   1150\u001b[0m         \u001b[0;32mexcept\u001b[0m \u001b[0mKeyError\u001b[0m\u001b[0;34m:\u001b[0m\u001b[0;34m\u001b[0m\u001b[0m\n\u001b[1;32m   1151\u001b[0m           \u001b[0;32mpass\u001b[0m\u001b[0;34m\u001b[0m\u001b[0m\n\u001b[0;32m-> 1152\u001b[0;31m       \u001b[0;32mraise\u001b[0m \u001b[0mtype\u001b[0m\u001b[0;34m(\u001b[0m\u001b[0me\u001b[0m\u001b[0;34m)\u001b[0m\u001b[0;34m(\u001b[0m\u001b[0mnode_def\u001b[0m\u001b[0;34m,\u001b[0m \u001b[0mop\u001b[0m\u001b[0;34m,\u001b[0m \u001b[0mmessage\u001b[0m\u001b[0;34m)\u001b[0m\u001b[0;34m\u001b[0m\u001b[0m\n\u001b[0m\u001b[1;32m   1153\u001b[0m \u001b[0;34m\u001b[0m\u001b[0m\n\u001b[1;32m   1154\u001b[0m   \u001b[0;32mdef\u001b[0m \u001b[0m_extend_graph\u001b[0m\u001b[0;34m(\u001b[0m\u001b[0mself\u001b[0m\u001b[0;34m)\u001b[0m\u001b[0;34m:\u001b[0m\u001b[0;34m\u001b[0m\u001b[0m\n",
      "\u001b[0;31mInvalidArgumentError\u001b[0m: Cholesky decomposition was not successful. The input might not be valid.\n\t [[Node: inference_7067801248/0/Cholesky_32 = Cholesky[T=DT_FLOAT, _device=\"/job:localhost/replica:0/task:0/cpu:0\"](inference_7067801248/0/Softplus_285)]]\n\nCaused by op 'inference_7067801248/0/Cholesky_32', defined at:\n  File \"/Users/farhan.damani/anaconda3/lib/python3.5/runpy.py\", line 184, in _run_module_as_main\n    \"__main__\", mod_spec)\n  File \"/Users/farhan.damani/anaconda3/lib/python3.5/runpy.py\", line 85, in _run_code\n    exec(code, run_globals)\n  File \"/Users/farhan.damani/anaconda3/lib/python3.5/site-packages/ipykernel/__main__.py\", line 3, in <module>\n    app.launch_new_instance()\n  File \"/Users/farhan.damani/anaconda3/lib/python3.5/site-packages/traitlets/config/application.py\", line 596, in launch_instance\n    app.start()\n  File \"/Users/farhan.damani/anaconda3/lib/python3.5/site-packages/ipykernel/kernelapp.py\", line 442, in start\n    ioloop.IOLoop.instance().start()\n  File \"/Users/farhan.damani/anaconda3/lib/python3.5/site-packages/zmq/eventloop/ioloop.py\", line 162, in start\n    super(ZMQIOLoop, self).start()\n  File \"/Users/farhan.damani/anaconda3/lib/python3.5/site-packages/tornado/ioloop.py\", line 883, in start\n    handler_func(fd_obj, events)\n  File \"/Users/farhan.damani/anaconda3/lib/python3.5/site-packages/tornado/stack_context.py\", line 275, in null_wrapper\n    return fn(*args, **kwargs)\n  File \"/Users/farhan.damani/anaconda3/lib/python3.5/site-packages/zmq/eventloop/zmqstream.py\", line 440, in _handle_events\n    self._handle_recv()\n  File \"/Users/farhan.damani/anaconda3/lib/python3.5/site-packages/zmq/eventloop/zmqstream.py\", line 472, in _handle_recv\n    self._run_callback(callback, msg)\n  File \"/Users/farhan.damani/anaconda3/lib/python3.5/site-packages/zmq/eventloop/zmqstream.py\", line 414, in _run_callback\n    callback(*args, **kwargs)\n  File \"/Users/farhan.damani/anaconda3/lib/python3.5/site-packages/tornado/stack_context.py\", line 275, in null_wrapper\n    return fn(*args, **kwargs)\n  File \"/Users/farhan.damani/anaconda3/lib/python3.5/site-packages/ipykernel/kernelbase.py\", line 276, in dispatcher\n    return self.dispatch_shell(stream, msg)\n  File \"/Users/farhan.damani/anaconda3/lib/python3.5/site-packages/ipykernel/kernelbase.py\", line 228, in dispatch_shell\n    handler(stream, idents, msg)\n  File \"/Users/farhan.damani/anaconda3/lib/python3.5/site-packages/ipykernel/kernelbase.py\", line 391, in execute_request\n    user_expressions, allow_stdin)\n  File \"/Users/farhan.damani/anaconda3/lib/python3.5/site-packages/ipykernel/ipkernel.py\", line 199, in do_execute\n    shell.run_cell(code, store_history=store_history, silent=silent)\n  File \"/Users/farhan.damani/anaconda3/lib/python3.5/site-packages/IPython/core/interactiveshell.py\", line 2723, in run_cell\n    interactivity=interactivity, compiler=compiler, result=result)\n  File \"/Users/farhan.damani/anaconda3/lib/python3.5/site-packages/IPython/core/interactiveshell.py\", line 2825, in run_ast_nodes\n    if self.run_code(code, result):\n  File \"/Users/farhan.damani/anaconda3/lib/python3.5/site-packages/IPython/core/interactiveshell.py\", line 2885, in run_code\n    exec(code_obj, self.user_global_ns, self.user_ns)\n  File \"<ipython-input-513-abed67a02051>\", line 33, in <module>\n    inference.initialize(n_iter = 3000)\n  File \"/Users/farhan.damani/anaconda3/lib/python3.5/site-packages/edward/inferences/klqp.py\", line 86, in initialize\n    return super(KLqp, self).initialize(*args, **kwargs)\n  File \"/Users/farhan.damani/anaconda3/lib/python3.5/site-packages/edward/inferences/variational_inference.py\", line 75, in initialize\n    self.loss, grads_and_vars = self.build_loss_and_gradients(var_list)\n  File \"/Users/farhan.damani/anaconda3/lib/python3.5/site-packages/edward/inferences/klqp.py\", line 129, in build_loss_and_gradients\n    return build_reparam_loss_and_gradients(self, var_list)\n  File \"/Users/farhan.damani/anaconda3/lib/python3.5/site-packages/edward/inferences/klqp.py\", line 383, in build_reparam_loss_and_gradients\n    z_copy = copy(z, dict_swap, scope=scope)\n  File \"/Users/farhan.damani/anaconda3/lib/python3.5/site-packages/edward/util/random_variables.py\", line 228, in copy\n    kwargs[key] = copy_default(value, dict_swap, scope, True, copy_q)\n  File \"/Users/farhan.damani/anaconda3/lib/python3.5/site-packages/edward/util/random_variables.py\", line 84, in copy_default\n    x = copy(x, *args, **kwargs)\n  File \"/Users/farhan.damani/anaconda3/lib/python3.5/site-packages/edward/util/random_variables.py\", line 244, in copy\n    new_op = copy(op, dict_swap, scope, True, copy_q)\n  File \"/Users/farhan.damani/anaconda3/lib/python3.5/site-packages/edward/util/random_variables.py\", line 290, in copy\n    op_def)\n  File \"/Users/farhan.damani/anaconda3/lib/python3.5/site-packages/tensorflow/python/framework/ops.py\", line 1269, in __init__\n    self._traceback = _extract_stack()\n\nInvalidArgumentError (see above for traceback): Cholesky decomposition was not successful. The input might not be valid.\n\t [[Node: inference_7067801248/0/Cholesky_32 = Cholesky[T=DT_FLOAT, _device=\"/job:localhost/replica:0/task:0/cpu:0\"](inference_7067801248/0/Softplus_285)]]\n"
     ]
    }
   ],
   "source": [
    "# DATA\n",
    "sess = ed.get_session()\n",
    "# N is number of samples (ori x trials) and D is number of neurons\n",
    "N, D = Xtrain_scaled.shape[0], Xtrain_scaled.shape[1]\n",
    "\n",
    "########## DESIGN COVARIANCE MATRIX ##########\n",
    "\n",
    "cov = tf.nn.softplus(tf.Variable(tf.random_normal([D,D])))\n",
    "\n",
    "#cov = tf.nn.softplus(tf.Variable(tf.random_normal([D,D]))) + .1 * np.identity(D)\n",
    "\n",
    "\n",
    "########## MODEL ##########\n",
    "X = tf.placeholder(tf.float32, [N, D])\n",
    "\n",
    "w = MultivariateNormalFullCovariance(loc = tf.zeros([C-1,D]), covariance_matrix = tf.cholesky(cov))\n",
    "b = Normal(loc = tf.zeros(C-1), scale= tf.ones(C-1))\n",
    "logits = tf.matmul(X, tf.transpose(w)) + b\n",
    "logits = tf.concat([logits, np.zeros((N, 1))], axis = 1)\n",
    "y = Categorical(logits = logits)\n",
    "\n",
    "########## INFERENCE ##########\n",
    "qw_loc = tf.Variable(tf.random_normal([C-1, D]))\n",
    "qw_scale = tf.nn.softplus(tf.Variable(tf.random_normal([C-1, D])))\n",
    "\n",
    "qb_loc = tf.Variable(tf.random_normal([C-1]))\n",
    "qb_scale = tf.nn.softplus(tf.Variable(tf.random_normal([])))\n",
    "\n",
    "qw = Normal(loc = qw_loc, scale = qw_scale)\n",
    "qb = Normal(loc = qb_loc, scale = qb_scale)\n",
    "\n",
    "inference = ed.KLqp({w: qw, b: qb}, data={X: Xtrain_scaled, y: Ytrain})\n",
    "inference.initialize(n_iter = 3000)\n",
    "\n",
    "init = tf.global_variables_initializer()\n",
    "init.run()\n",
    "learning_curve = []\n",
    "for _ in range(inference.n_iter):\n",
    "    info_dict = inference.update()\n",
    "    if _%100 == 0:\n",
    "        print(info_dict)\n",
    "    learning_curve.append(info_dict['loss'])\n",
    "inference.finalize()"
   ]
  },
  {
   "cell_type": "code",
   "execution_count": null,
   "metadata": {
    "collapsed": true
   },
   "outputs": [],
   "source": []
  },
  {
   "cell_type": "markdown",
   "metadata": {},
   "source": [
    "# tridiagonal prior -> variational EM "
   ]
  },
  {
   "cell_type": "code",
   "execution_count": null,
   "metadata": {
    "collapsed": true
   },
   "outputs": [],
   "source": [
    "def design_precision_matrix():\n",
    "    w_covs = []\n",
    "    tau = tf.nn.softplus(tf.Variable(tf.random_normal([D])))\n",
    "    sparsity = tf.nn.softplus(tf.Variable(tf.random_normal([D])))\n",
    "    # for each neuron\n",
    "    for d in range(D):\n",
    "        # Design precision matrix\n",
    "        A = np.zeros((C-1,C))\n",
    "        for i in range(C-1):\n",
    "            A[i,i] = -1\n",
    "            A[i,i+1] = 1\n",
    "        precision = A.T.dot(A) #+ .1 * np.identity(C) # precision = A^T.dot(A)\n",
    "        precision = tau[d] * precision + sparsity[d] * np.identity(C)\n",
    "        precision = precision + .1 * np.identity(C) # guarantees full rank\n",
    "\n",
    "        cov = tf.matrix_inverse(precision)[:-1,:-1]\n",
    "        w_covs.append(cov)\n",
    "    \n",
    "    w_cov = tf.stack(w_covs)\n",
    "\n",
    "        #w_cov = tf.tile(tf.expand_dims(cov, 0), [D, 1, 1])\n",
    "    return w_cov\n",
    "    "
   ]
  },
  {
   "cell_type": "code",
   "execution_count": 44,
   "metadata": {
    "collapsed": false
   },
   "outputs": [
    {
     "data": {
      "text/plain": [
       "((1260, 66), (2520,))"
      ]
     },
     "execution_count": 44,
     "metadata": {},
     "output_type": "execute_result"
    }
   ],
   "source": [
    "Xtrain_scaled.shape, Ytrain.shape"
   ]
  },
  {
   "cell_type": "code",
   "execution_count": null,
   "metadata": {
    "collapsed": false
   },
   "outputs": [],
   "source": [
    "# for each neuron\n",
    "for d in range(D):\n",
    "    # Design precision matrix\n",
    "    A = np.zeros((C-1,C))\n",
    "    # for each orientation\n",
    "    for i in range(C-1):\n",
    "        A[i,i] = -1\n",
    "        A[i,i+1] = 1\n",
    "    precision = A.T.dot(A) #+ .1 * np.identity(C) # precision = A^T.dot(A)\n",
    "    precision[0,0] = 2.0\n",
    "    precision[C-1, C-1] = 2.0\n",
    "    precision[0, C-1] = -1.0\n",
    "    precision[C-1, 0] = -1.0\n",
    "    \n",
    "    precision = precision + sparsity * np.identity(C)\n",
    "    precision = precision + .1 * np.identity(C) # guarantees full rank\n",
    "\n",
    "    cov = tf.matrix_inverse(precision)[:-1,:-1]\n",
    "    w_covs.append(tf.cast(cov, tf.float64))\n",
    "w_cov = tf.stack(w_covs)"
   ]
  },
  {
   "cell_type": "code",
   "execution_count": null,
   "metadata": {
    "collapsed": false
   },
   "outputs": [],
   "source": [
    "precision"
   ]
  },
  {
   "cell_type": "code",
   "execution_count": 434,
   "metadata": {
    "collapsed": false
   },
   "outputs": [],
   "source": [
    "# Design precision matrix\n",
    "A = np.zeros((C-1,C))\n",
    "# for each orientation\n",
    "for i in range(C-1):\n",
    "    A[i,i] = -1\n",
    "    A[i,i+1] = 1\n",
    "precision = A.T.dot(A) #+ .1 * np.identity(C) # precision = A^T.dot(A)\n",
    "\n"
   ]
  },
  {
   "cell_type": "code",
   "execution_count": 435,
   "metadata": {
    "collapsed": false
   },
   "outputs": [
    {
     "data": {
      "text/plain": [
       "array([[ 1., -1.,  0., ...,  0.,  0.,  0.],\n",
       "       [-1.,  2., -1., ...,  0.,  0.,  0.],\n",
       "       [ 0., -1.,  2., ...,  0.,  0.,  0.],\n",
       "       ..., \n",
       "       [ 0.,  0.,  0., ...,  2., -1.,  0.],\n",
       "       [ 0.,  0.,  0., ..., -1.,  2., -1.],\n",
       "       [ 0.,  0.,  0., ...,  0., -1.,  1.]])"
      ]
     },
     "execution_count": 435,
     "metadata": {},
     "output_type": "execute_result"
    }
   ],
   "source": [
    "precision"
   ]
  },
  {
   "cell_type": "code",
   "execution_count": 438,
   "metadata": {
    "collapsed": false
   },
   "outputs": [
    {
     "data": {
      "text/plain": [
       "array([[-1.,  1.,  0., ...,  0.,  0.,  0.],\n",
       "       [ 0., -1.,  1., ...,  0.,  0.,  0.],\n",
       "       [ 0.,  0., -1., ...,  0.,  0.,  0.],\n",
       "       ..., \n",
       "       [ 0.,  0.,  0., ...,  1.,  0.,  0.],\n",
       "       [ 0.,  0.,  0., ..., -1.,  1.,  0.],\n",
       "       [ 0.,  0.,  0., ...,  0., -1.,  1.]])"
      ]
     },
     "execution_count": 438,
     "metadata": {},
     "output_type": "execute_result"
    }
   ],
   "source": [
    "A"
   ]
  },
  {
   "cell_type": "code",
   "execution_count": null,
   "metadata": {
    "collapsed": true
   },
   "outputs": [],
   "source": []
  },
  {
   "cell_type": "code",
   "execution_count": null,
   "metadata": {
    "collapsed": true
   },
   "outputs": [],
   "source": [
    "precision[0,0] = 2\n",
    "precision[C-1, C-1] = 2\n",
    "precision[0, C-1] = -1\n",
    "precision[C-1, 0] = -1"
   ]
  },
  {
   "cell_type": "code",
   "execution_count": 439,
   "metadata": {
    "collapsed": false
   },
   "outputs": [
    {
     "name": "stdout",
     "output_type": "stream",
     "text": [
      "{'t': 1, 'loss': 76521.016}\n",
      "{'t': 101, 'loss': 9734.5498}\n",
      "{'t': 201, 'loss': 7118.5664}\n",
      "{'t': 301, 'loss': 6898.1997}\n",
      "{'t': 401, 'loss': 6120.0596}\n",
      "{'t': 501, 'loss': 6192.7383}\n",
      "{'t': 601, 'loss': 6096.2578}\n",
      "{'t': 701, 'loss': 5999.6538}\n",
      "{'t': 801, 'loss': 5747.8633}\n",
      "{'t': 901, 'loss': 5227.0811}\n",
      "{'t': 1001, 'loss': 6023.1987}\n",
      "{'t': 1101, 'loss': 5398.0654}\n",
      "{'t': 1201, 'loss': 5188.6304}\n",
      "{'t': 1301, 'loss': 5179.0459}\n",
      "{'t': 1401, 'loss': 4920.7388}\n",
      "{'t': 1501, 'loss': 5314.5898}\n",
      "{'t': 1601, 'loss': 5199.1455}\n",
      "{'t': 1701, 'loss': 4849.3906}\n",
      "{'t': 1801, 'loss': 5242.9043}\n",
      "{'t': 1901, 'loss': 4936.3003}\n",
      "{'t': 2001, 'loss': 4767.4097}\n",
      "{'t': 2101, 'loss': 5226.5532}\n",
      "{'t': 2201, 'loss': 5237.6997}\n",
      "{'t': 2301, 'loss': 4867.6362}\n",
      "{'t': 2401, 'loss': 4701.623}\n",
      "{'t': 2501, 'loss': 4900.938}\n",
      "{'t': 2601, 'loss': 4885.106}\n",
      "{'t': 2701, 'loss': 5189.3833}\n",
      "{'t': 2801, 'loss': 4792.2871}\n",
      "{'t': 2901, 'loss': 4619.9199}\n"
     ]
    }
   ],
   "source": [
    "# DATA\n",
    "sess = ed.get_session()\n",
    "# N is number of samples (ori x trials) and D is number of neurons\n",
    "N, D = Xtrain_scaled.shape[0], Xtrain_scaled.shape[1]\n",
    "\n",
    "########## DESIGN COVARIANCE MATRIX ##########\n",
    "w_covs = []\n",
    "#tau = tf.nn.softplus(tf.Variable(tf.random_normal([D])))\n",
    "tau = tf.nn.softplus(tf.Variable(tf.random_normal([D])))\n",
    "\n",
    "#sparsity = tf.nn.softplus(tf.Variable(tf.random_normal([D])))\n",
    "sparsity = tf.nn.softplus(tf.Variable(tf.random_normal([])))\n",
    "\n",
    "\n",
    "# for each neuron\n",
    "for d in range(D):\n",
    "    # Design precision matrix\n",
    "    A = np.zeros((C-1,C))\n",
    "    # for each orientation\n",
    "    for i in range(C-1):\n",
    "        A[i,i] = -1\n",
    "        A[i,i+1] = 1\n",
    "    precision = A.T.dot(A) #+ .1 * np.identity(C) # precision = A^T.dot(A)\n",
    "    precision = tau[d] * precision + sparsity * np.identity(C)\n",
    "    precision = precision + .1 * np.identity(C) # guarantees full rank\n",
    "\n",
    "    cov = tf.matrix_inverse(precision)[:-1,:-1]\n",
    "    w_covs.append(cov)\n",
    "w_cov = tf.stack(w_covs)\n",
    "\n",
    "########## MODEL ##########\n",
    "X = tf.placeholder(tf.float32, [N, D])\n",
    "w = MultivariateNormalFullCovariance(loc = tf.zeros([D,C-1]), covariance_matrix = tf.cast(w_cov, tf.float32))\n",
    "b = Normal(loc = tf.zeros(C-1), scale= tf.ones(C-1))\n",
    "logits = tf.matmul(X, w) + b\n",
    "logits = tf.concat([logits, np.zeros((N, 1))], axis = 1)\n",
    "y = Categorical(logits = logits)\n",
    "\n",
    "########## INFERENCE ##########\n",
    "qw_loc = tf.Variable(tf.random_normal([D, C-1]))\n",
    "qw_scale = tf.nn.softplus(tf.Variable(tf.random_normal([D,C-1])))\n",
    "\n",
    "qb_loc = tf.Variable(tf.random_normal([C-1]))\n",
    "qb_scale = tf.nn.softplus(tf.Variable(tf.random_normal([])))\n",
    "\n",
    "qw = Normal(loc = qw_loc, scale = qw_scale)\n",
    "qb = Normal(loc = qb_loc, scale = qb_scale)\n",
    "\n",
    "inference = ed.KLqp({w: qw, b: qb}, data={X: Xtrain_scaled, y: Ytrain})\n",
    "inference.initialize(n_iter = 3000)\n",
    "\n",
    "init = tf.global_variables_initializer()\n",
    "init.run()\n",
    "learning_curve = []\n",
    "for _ in range(inference.n_iter):\n",
    "    info_dict = inference.update()\n",
    "    if _%100 == 0:\n",
    "        print(info_dict)\n",
    "    learning_curve.append(info_dict['loss'])\n",
    "inference.finalize()"
   ]
  },
  {
   "cell_type": "code",
   "execution_count": 440,
   "metadata": {
    "collapsed": false,
    "scrolled": true
   },
   "outputs": [
    {
     "name": "stdout",
     "output_type": "stream",
     "text": [
      "0.99778473309\n",
      "[ 0.90833333  0.99259259  1.          1.          1.          1.        ]\n"
     ]
    }
   ],
   "source": [
    "########## EVAL ##########\n",
    "qw_mod = tf.concat([qw.mean(), np.zeros((qw.shape[0],1))], axis=1)\n",
    "qb_mod = tf.concat([qb.mean(), np.zeros((1))], axis=0)\n",
    "logits = tf.matmul(tf.cast(Xtest_scaled, tf.float32), qw_mod) + qb_mod\n",
    "print(compute_average_auc(tf.nn.softmax(logits).eval(), Ytest_hot))\n",
    "print(evaluate_multiclass_model(x_test_scaled_3d, qw_mod.eval().T, qb_mod.eval()))"
   ]
  },
  {
   "cell_type": "code",
   "execution_count": 106,
   "metadata": {
    "collapsed": false
   },
   "outputs": [
    {
     "data": {
      "text/plain": [
       "[<matplotlib.lines.Line2D at 0x1604b9128>]"
      ]
     },
     "execution_count": 106,
     "metadata": {},
     "output_type": "execute_result"
    },
    {
     "data": {
      "image/png": "[encoded data removed]",
      "text/plain": [
       "<matplotlib.figure.Figure at 0x15c68cbe0>"
      ]
     },
     "metadata": {},
     "output_type": "display_data"
    }
   ],
   "source": [
    "plt.plot(qw_mod.eval()[0])"
   ]
  },
  {
   "cell_type": "code",
   "execution_count": null,
   "metadata": {
    "collapsed": false
   },
   "outputs": [],
   "source": [
    "tridiag_tau_each_neuron = [0.89212963, 0.98472222, 0.99953704, 0.99953704, 0.99953704, 1.]\n",
    "tridiag_single_tau = [ 0.88935185  0.99027778  0.99861111  0.99953704  0.99953704  1.        ]\n",
    "tridiag_single_tau_single_spar = [ 0.90185185  0.98981481  1.          0.99953704  0.99953704  1.        ]\n",
    "\n",
    "gp = [ 0.90138889  0.99027778  1.          0.99953704  0.99953704  1.        ]"
   ]
  },
  {
   "cell_type": "code",
   "execution_count": null,
   "metadata": {
    "collapsed": false
   },
   "outputs": [],
   "source": [
    "plt.plot(qw_mod.eval()[3])"
   ]
  },
  {
   "cell_type": "code",
   "execution_count": null,
   "metadata": {
    "collapsed": false
   },
   "outputs": [],
   "source": [
    "tau.eval()[3]"
   ]
  },
  {
   "cell_type": "code",
   "execution_count": null,
   "metadata": {
    "collapsed": true
   },
   "outputs": [],
   "source": []
  },
  {
   "cell_type": "code",
   "execution_count": null,
   "metadata": {
    "collapsed": false
   },
   "outputs": [],
   "source": [
    "########## EVAL ##########\n",
    "qw_mod = tf.concat([qw.mean(), np.zeros((qw.shape[0],1))], axis=1)\n",
    "qb_mod = tf.concat([qb.mean(), np.zeros((1))], axis=0)\n",
    "logits = tf.matmul(tf.cast(Xtest_scaled, tf.float32), qw_mod) + qb_mod\n",
    "print(compute_average_auc(tf.nn.softmax(logits).eval(), Ytest_hot))\n",
    "print(evaluate_multiclass_model(x_test_scaled_3d, qw_mod.eval().T, qb_mod.eval()))"
   ]
  },
  {
   "cell_type": "code",
   "execution_count": null,
   "metadata": {
    "collapsed": false
   },
   "outputs": [],
   "source": [
    "plt.figure(figsize=(10,8))\n",
    "plt.scatter(np.arange(len(tau.eval())),tau.eval())\n",
    "plt.ylabel(\"tau\")\n",
    "plt.xlabel(\"neuron\")"
   ]
  },
  {
   "cell_type": "code",
   "execution_count": null,
   "metadata": {
    "collapsed": false
   },
   "outputs": [],
   "source": [
    "plt.scatter(np.arange(113),sparsity.eval())"
   ]
  },
  {
   "cell_type": "code",
   "execution_count": null,
   "metadata": {
    "collapsed": true
   },
   "outputs": [],
   "source": [
    "plt.figure(figsize=(10,8))\n",
    "tau_per_neuron_vi = [0.81481481, 0.90185185, 0.96666667, 0.98564815, 0.99444444, 0.99722222]\n",
    "l2_prior = [0.74027778, 0.81759259, 0.92407407, 0.96342593, 0.98888889, 0.99305556]\n",
    "\n",
    "xticks = [5, 10, 15, 20, 25, 30]\n",
    "plt.plot(xticks, l2_prior, label=\"l2 prior\")\n",
    "plt.plot(xticks, tau_per_neuron_vi, label=\"new model\")\n",
    "plt.ylabel(\"probability correct\")\n",
    "plt.xlabel(\"orientation difference (degrees)\")\n",
    "plt.legend(loc = 'lower right')"
   ]
  },
  {
   "cell_type": "code",
   "execution_count": null,
   "metadata": {
    "collapsed": false
   },
   "outputs": [],
   "source": [
    "rbf(tf.cast(np.reshape(np.arange((3)), (-1,1)), tf.float32)).eval()"
   ]
  },
  {
   "cell_type": "code",
   "execution_count": null,
   "metadata": {
    "collapsed": false
   },
   "outputs": [],
   "source": [
    "rbf(tf.cast(np.reshape(np.arange((5)), (-1,1)), tf.float32)).eval()"
   ]
  },
  {
   "cell_type": "code",
   "execution_count": null,
   "metadata": {
    "collapsed": false
   },
   "outputs": [],
   "source": [
    "x = np.reshape(np.concatenate((np.arange(1,38), np.arange(start=36, stop=1, step=-1))), (-1,1))\n",
    "rbf(tf.cast(x, dtype=tf.float32))"
   ]
  },
  {
   "cell_type": "code",
   "execution_count": null,
   "metadata": {
    "collapsed": false
   },
   "outputs": [],
   "source": [
    "np.arange(start=36, stop=1, step=-1)"
   ]
  },
  {
   "cell_type": "code",
   "execution_count": null,
   "metadata": {
    "collapsed": false
   },
   "outputs": [],
   "source": [
    "len(np.reshape(np.concatenate((np.arange(1,38), np.arange(start=36, stop=2, step=-1))), (-1,1)))"
   ]
  },
  {
   "cell_type": "code",
   "execution_count": null,
   "metadata": {
    "collapsed": false
   },
   "outputs": [],
   "source": [
    "tf.cholesky(rbf_kernel).eval()"
   ]
  },
  {
   "cell_type": "code",
   "execution_count": 60,
   "metadata": {
    "collapsed": false
   },
   "outputs": [],
   "source": [
    "kern = np.reshape(np.arange(0,36), (-1,1))\n",
    "\n",
    "rbf_kernel = rbf(X = tf.cast(kern, tf.float32))\n",
    "rbf_kernel = tf.nn.softplus(rbf_kernel + .1 * tf.identity(rbf_kernel))"
   ]
  },
  {
   "cell_type": "code",
   "execution_count": 56,
   "metadata": {
    "collapsed": true
   },
   "outputs": [],
   "source": [
    "from edward.util import rbf"
   ]
  },
  {
   "cell_type": "code",
   "execution_count": 62,
   "metadata": {
    "collapsed": false
   },
   "outputs": [
    {
     "data": {
      "text/plain": [
       "<tf.Tensor 'Softplus_13:0' shape=(36, 36) dtype=float32>"
      ]
     },
     "execution_count": 62,
     "metadata": {},
     "output_type": "execute_result"
    }
   ],
   "source": [
    "rbf_kernel"
   ]
  },
  {
   "cell_type": "code",
   "execution_count": 223,
   "metadata": {
    "collapsed": false
   },
   "outputs": [],
   "source": [
    "def rbf_cos_kernel(theta):\n",
    "    '''\n",
    "        RBF kernel applied to distances on a circle using radians\n",
    "    '''\n",
    "    variance = 1.0\n",
    "    lengthscale = 1.0\n",
    "    kernel = np.zeros((len(theta), len(theta)))\n",
    "    for i in range(len(theta)):\n",
    "        for j in range(len(theta)):\n",
    "            radians = ((theta[j] - theta[i]) / len(theta)) * 2 * np.pi\n",
    "            kernel[i,j] = variance * (np.cos(radians) / lengthscale) ** 2\n",
    "    return kernel"
   ]
  },
  {
   "cell_type": "code",
   "execution_count": 224,
   "metadata": {
    "collapsed": false
   },
   "outputs": [
    {
     "data": {
      "text/plain": [
       "array([[ 1.       ,  0.0954915,  0.6545085,  0.6545085,  0.0954915],\n",
       "       [ 0.0954915,  1.       ,  0.0954915,  0.6545085,  0.6545085],\n",
       "       [ 0.6545085,  0.0954915,  1.       ,  0.0954915,  0.6545085],\n",
       "       [ 0.6545085,  0.6545085,  0.0954915,  1.       ,  0.0954915],\n",
       "       [ 0.0954915,  0.6545085,  0.6545085,  0.0954915,  1.       ]])"
      ]
     },
     "execution_count": 224,
     "metadata": {},
     "output_type": "execute_result"
    }
   ],
   "source": [
    "theta = np.reshape(np.arange(0,5), (-1,1))\n",
    "\n",
    "rbf_cos_kernel(theta)"
   ]
  },
  {
   "cell_type": "code",
   "execution_count": null,
   "metadata": {
    "collapsed": true
   },
   "outputs": [],
   "source": []
  },
  {
   "cell_type": "code",
   "execution_count": 137,
   "metadata": {
    "collapsed": false
   },
   "outputs": [
    {
     "data": {
      "text/plain": [
       "array([ 0.08726646])"
      ]
     },
     "execution_count": 137,
     "metadata": {},
     "output_type": "execute_result"
    }
   ],
   "source": [
    "((theta[2] - theta[1]) / 72) * 2 * np.pi"
   ]
  },
  {
   "cell_type": "code",
   "execution_count": null,
   "metadata": {
    "collapsed": true
   },
   "outputs": [],
   "source": []
  },
  {
   "cell_type": "code",
   "execution_count": null,
   "metadata": {
    "collapsed": true
   },
   "outputs": [],
   "source": [
    "vec_w = MultivariateNormalFullCovariance(loc = tf.zeros([D,C-1]), covariance_matrix = "
   ]
  },
  {
   "cell_type": "code",
   "execution_count": 445,
   "metadata": {
    "collapsed": false
   },
   "outputs": [],
   "source": [
    "import tensorflow as tf\n",
    "\n",
    "def kronecker(a, b):\n",
    "    # cite : https://stackoverflow.com/questions/44309333/what-is-the-most-efficient-way-to-compute-a-kronecker-product-in-tensorflow\n",
    "    \n",
    "    i, k, s = len(a), len(b), len(b)\n",
    "    o = s * (i - 1) + k\n",
    "\n",
    "    a_tf  = tf.reshape(tf.constant(a, dtype=tf.float32), [1, i, i, 1])\n",
    "    b_tf = tf.reshape(tf.constant(b, dtype=tf.float32), [k, k, 1, 1])\n",
    "\n",
    "    res = tf.squeeze(tf.nn.conv2d_transpose(a_tf, b_tf, (1, o, o, 1), [1, s, s, 1], \"VALID\"))\n",
    "    return res"
   ]
  },
  {
   "cell_type": "code",
   "execution_count": 447,
   "metadata": {
    "collapsed": false
   },
   "outputs": [
    {
     "data": {
      "text/plain": [
       "array([[  0.,   5.,   0.,  10.,   0.,  15.],\n",
       "       [  6.,   7.,  12.,  14.,  18.,  21.],\n",
       "       [  0.,  15.,   0.,  20.,   0.,  35.],\n",
       "       [ 18.,  21.,  24.,  28.,  42.,  49.],\n",
       "       [  0.,  40.,   0.,  45.,   0.,  20.],\n",
       "       [ 48.,  56.,  54.,  63.,  24.,  28.]], dtype=float32)"
      ]
     },
     "execution_count": 447,
     "metadata": {},
     "output_type": "execute_result"
    }
   ],
   "source": [
    "a = [[1, 2, 3], [3, 4, 7], [8, 9, 4]]\n",
    "b = [[0, 5], [6, 7]]\n",
    "kronecker(a,b).eval()\n"
   ]
  },
  {
   "cell_type": "markdown",
   "metadata": {},
   "source": [
    "## Matrix normal prior, specifying cov matrix for neuron x neurion and ori x ori"
   ]
  },
  {
   "cell_type": "code",
   "execution_count": 468,
   "metadata": {
    "collapsed": true
   },
   "outputs": [],
   "source": [
    "def kronecker(a, b):\n",
    "    # cite : https://stackoverflow.com/questions/44309333/what-is-the-most-efficient-way-to-compute-a-kronecker-product-in-tensorflow\n",
    "    \n",
    "    i, k, s = int(a.shape[0]), int(b.shape[0]), int(b.shape[0])\n",
    "    \n",
    "    o = s * (i - 1) + k\n",
    "\n",
    "    a_tf  = tf.reshape(a, [1, i, i, 1])\n",
    "    b_tf = tf.reshape(b, [k, k, 1, 1])\n",
    "\n",
    "    res = tf.squeeze(tf.nn.conv2d_transpose(a_tf, b_tf, (1, o, o, 1), [1, s, s, 1], \"VALID\"))\n",
    "    return res"
   ]
  },
  {
   "cell_type": "code",
   "execution_count": 465,
   "metadata": {
    "collapsed": false
   },
   "outputs": [
    {
     "data": {
      "text/plain": [
       "71"
      ]
     },
     "execution_count": 465,
     "metadata": {},
     "output_type": "execute_result"
    }
   ],
   "source": []
  },
  {
   "cell_type": "code",
   "execution_count": 479,
   "metadata": {
    "collapsed": false
   },
   "outputs": [],
   "source": [
    "# design stimulus x stimulus matrix\n",
    "w_covs = []\n",
    "tau = tf.nn.softplus(tf.Variable(tf.random_normal([])))\n",
    "sparsity = tf.nn.softplus(tf.Variable(tf.random_normal([])))\n",
    "# for each neuron\n",
    "# Design precision matrix\n",
    "A = np.zeros((C-1,C))\n",
    "# for each orientation\n",
    "for i in range(C-1):\n",
    "    A[i,i] = -1\n",
    "    A[i,i+1] = 1\n",
    "precision = A.T.dot(A) #+ .1 * np.identity(C) # precision = A^T.dot(A)\n",
    "precision = tau * precision + sparsity * np.identity(C)\n",
    "precision = precision + .1 * np.identity(C) # guarantees full rank\n",
    "\n",
    "cov = tf.cast(tf.matrix_inverse(precision)[:-1,:-1], tf.float32)\n",
    "\n",
    "neuron_cov = tf.nn.softplus(tf.Variable(tf.random_normal([D,D])))\n",
    "\n",
    "kron_prod = kronecker(cov, neuron_cov) + .1 * np.identity(kron_prod.shape[0])\n",
    "\n",
    "########## MODEL ##########\n",
    "X = tf.placeholder(tf.float32, [N, D])\n",
    "\n",
    "vec_w = MultivariateNormalFullCovariance(loc = tf.zeros([D*(C-1)]), covariance_matrix = kron_prod)"
   ]
  },
  {
   "cell_type": "code",
   "execution_count": 480,
   "metadata": {
    "collapsed": true
   },
   "outputs": [
    {
     "ename": "FailedPreconditionError",
     "evalue": "Attempting to use uninitialized value Variable_269\n\t [[Node: Variable_269/read = Identity[T=DT_FLOAT, _class=[\"loc:@Variable_269\"], _device=\"/job:localhost/replica:0/task:0/cpu:0\"](Variable_269)]]\n\nCaused by op 'Variable_269/read', defined at:\n  File \"/Users/farhan.damani/anaconda3/lib/python3.5/runpy.py\", line 184, in _run_module_as_main\n    \"__main__\", mod_spec)\n  File \"/Users/farhan.damani/anaconda3/lib/python3.5/runpy.py\", line 85, in _run_code\n    exec(code, run_globals)\n  File \"/Users/farhan.damani/anaconda3/lib/python3.5/site-packages/ipykernel/__main__.py\", line 3, in <module>\n    app.launch_new_instance()\n  File \"/Users/farhan.damani/anaconda3/lib/python3.5/site-packages/traitlets/config/application.py\", line 596, in launch_instance\n    app.start()\n  File \"/Users/farhan.damani/anaconda3/lib/python3.5/site-packages/ipykernel/kernelapp.py\", line 442, in start\n    ioloop.IOLoop.instance().start()\n  File \"/Users/farhan.damani/anaconda3/lib/python3.5/site-packages/zmq/eventloop/ioloop.py\", line 162, in start\n    super(ZMQIOLoop, self).start()\n  File \"/Users/farhan.damani/anaconda3/lib/python3.5/site-packages/tornado/ioloop.py\", line 883, in start\n    handler_func(fd_obj, events)\n  File \"/Users/farhan.damani/anaconda3/lib/python3.5/site-packages/tornado/stack_context.py\", line 275, in null_wrapper\n    return fn(*args, **kwargs)\n  File \"/Users/farhan.damani/anaconda3/lib/python3.5/site-packages/zmq/eventloop/zmqstream.py\", line 440, in _handle_events\n    self._handle_recv()\n  File \"/Users/farhan.damani/anaconda3/lib/python3.5/site-packages/zmq/eventloop/zmqstream.py\", line 472, in _handle_recv\n    self._run_callback(callback, msg)\n  File \"/Users/farhan.damani/anaconda3/lib/python3.5/site-packages/zmq/eventloop/zmqstream.py\", line 414, in _run_callback\n    callback(*args, **kwargs)\n  File \"/Users/farhan.damani/anaconda3/lib/python3.5/site-packages/tornado/stack_context.py\", line 275, in null_wrapper\n    return fn(*args, **kwargs)\n  File \"/Users/farhan.damani/anaconda3/lib/python3.5/site-packages/ipykernel/kernelbase.py\", line 276, in dispatcher\n    return self.dispatch_shell(stream, msg)\n  File \"/Users/farhan.damani/anaconda3/lib/python3.5/site-packages/ipykernel/kernelbase.py\", line 228, in dispatch_shell\n    handler(stream, idents, msg)\n  File \"/Users/farhan.damani/anaconda3/lib/python3.5/site-packages/ipykernel/kernelbase.py\", line 391, in execute_request\n    user_expressions, allow_stdin)\n  File \"/Users/farhan.damani/anaconda3/lib/python3.5/site-packages/ipykernel/ipkernel.py\", line 199, in do_execute\n    shell.run_cell(code, store_history=store_history, silent=silent)\n  File \"/Users/farhan.damani/anaconda3/lib/python3.5/site-packages/IPython/core/interactiveshell.py\", line 2723, in run_cell\n    interactivity=interactivity, compiler=compiler, result=result)\n  File \"/Users/farhan.damani/anaconda3/lib/python3.5/site-packages/IPython/core/interactiveshell.py\", line 2825, in run_ast_nodes\n    if self.run_code(code, result):\n  File \"/Users/farhan.damani/anaconda3/lib/python3.5/site-packages/IPython/core/interactiveshell.py\", line 2885, in run_code\n    exec(code_obj, self.user_global_ns, self.user_ns)\n  File \"<ipython-input-479-ee18c7100835>\", line 18, in <module>\n    neuron_cov = tf.nn.softplus(tf.Variable(tf.random_normal([D,D])))\n  File \"/Users/farhan.damani/anaconda3/lib/python3.5/site-packages/tensorflow/python/ops/variables.py\", line 200, in __init__\n    expected_shape=expected_shape)\n  File \"/Users/farhan.damani/anaconda3/lib/python3.5/site-packages/tensorflow/python/ops/variables.py\", line 319, in _init_from_args\n    self._snapshot = array_ops.identity(self._variable, name=\"read\")\n  File \"/Users/farhan.damani/anaconda3/lib/python3.5/site-packages/tensorflow/python/ops/gen_array_ops.py\", line 1303, in identity\n    result = _op_def_lib.apply_op(\"Identity\", input=input, name=name)\n  File \"/Users/farhan.damani/anaconda3/lib/python3.5/site-packages/tensorflow/python/framework/op_def_library.py\", line 767, in apply_op\n    op_def=op_def)\n  File \"/Users/farhan.damani/anaconda3/lib/python3.5/site-packages/tensorflow/python/framework/ops.py\", line 2506, in create_op\n    original_op=self._default_original_op, op_def=op_def)\n  File \"/Users/farhan.damani/anaconda3/lib/python3.5/site-packages/tensorflow/python/framework/ops.py\", line 1269, in __init__\n    self._traceback = _extract_stack()\n\nFailedPreconditionError (see above for traceback): Attempting to use uninitialized value Variable_269\n\t [[Node: Variable_269/read = Identity[T=DT_FLOAT, _class=[\"loc:@Variable_269\"], _device=\"/job:localhost/replica:0/task:0/cpu:0\"](Variable_269)]]\n",
     "output_type": "error",
     "traceback": [
      "\u001b[0;31m---------------------------------------------------------------------------\u001b[0m",
      "\u001b[0;31mFailedPreconditionError\u001b[0m                   Traceback (most recent call last)",
      "\u001b[0;32m/Users/farhan.damani/anaconda3/lib/python3.5/site-packages/tensorflow/python/client/session.py\u001b[0m in \u001b[0;36m_do_call\u001b[0;34m(self, fn, *args)\u001b[0m\n\u001b[1;32m   1138\u001b[0m     \u001b[0;32mtry\u001b[0m\u001b[0;34m:\u001b[0m\u001b[0;34m\u001b[0m\u001b[0m\n\u001b[0;32m-> 1139\u001b[0;31m       \u001b[0;32mreturn\u001b[0m \u001b[0mfn\u001b[0m\u001b[0;34m(\u001b[0m\u001b[0;34m*\u001b[0m\u001b[0margs\u001b[0m\u001b[0;34m)\u001b[0m\u001b[0;34m\u001b[0m\u001b[0m\n\u001b[0m\u001b[1;32m   1140\u001b[0m     \u001b[0;32mexcept\u001b[0m \u001b[0merrors\u001b[0m\u001b[0;34m.\u001b[0m\u001b[0mOpError\u001b[0m \u001b[0;32mas\u001b[0m \u001b[0me\u001b[0m\u001b[0;34m:\u001b[0m\u001b[0;34m\u001b[0m\u001b[0m\n",
      "\u001b[0;32m/Users/farhan.damani/anaconda3/lib/python3.5/site-packages/tensorflow/python/client/session.py\u001b[0m in \u001b[0;36m_run_fn\u001b[0;34m(session, feed_dict, fetch_list, target_list, options, run_metadata)\u001b[0m\n\u001b[1;32m   1120\u001b[0m                                  \u001b[0mfeed_dict\u001b[0m\u001b[0;34m,\u001b[0m \u001b[0mfetch_list\u001b[0m\u001b[0;34m,\u001b[0m \u001b[0mtarget_list\u001b[0m\u001b[0;34m,\u001b[0m\u001b[0;34m\u001b[0m\u001b[0m\n\u001b[0;32m-> 1121\u001b[0;31m                                  status, run_metadata)\n\u001b[0m\u001b[1;32m   1122\u001b[0m \u001b[0;34m\u001b[0m\u001b[0m\n",
      "\u001b[0;32m/Users/farhan.damani/anaconda3/lib/python3.5/contextlib.py\u001b[0m in \u001b[0;36m__exit__\u001b[0;34m(self, type, value, traceback)\u001b[0m\n\u001b[1;32m     65\u001b[0m             \u001b[0;32mtry\u001b[0m\u001b[0;34m:\u001b[0m\u001b[0;34m\u001b[0m\u001b[0m\n\u001b[0;32m---> 66\u001b[0;31m                 \u001b[0mnext\u001b[0m\u001b[0;34m(\u001b[0m\u001b[0mself\u001b[0m\u001b[0;34m.\u001b[0m\u001b[0mgen\u001b[0m\u001b[0;34m)\u001b[0m\u001b[0;34m\u001b[0m\u001b[0m\n\u001b[0m\u001b[1;32m     67\u001b[0m             \u001b[0;32mexcept\u001b[0m \u001b[0mStopIteration\u001b[0m\u001b[0;34m:\u001b[0m\u001b[0;34m\u001b[0m\u001b[0m\n",
      "\u001b[0;32m/Users/farhan.damani/anaconda3/lib/python3.5/site-packages/tensorflow/python/framework/errors_impl.py\u001b[0m in \u001b[0;36mraise_exception_on_not_ok_status\u001b[0;34m()\u001b[0m\n\u001b[1;32m    465\u001b[0m           \u001b[0mcompat\u001b[0m\u001b[0;34m.\u001b[0m\u001b[0mas_text\u001b[0m\u001b[0;34m(\u001b[0m\u001b[0mpywrap_tensorflow\u001b[0m\u001b[0;34m.\u001b[0m\u001b[0mTF_Message\u001b[0m\u001b[0;34m(\u001b[0m\u001b[0mstatus\u001b[0m\u001b[0;34m)\u001b[0m\u001b[0;34m)\u001b[0m\u001b[0;34m,\u001b[0m\u001b[0;34m\u001b[0m\u001b[0m\n\u001b[0;32m--> 466\u001b[0;31m           pywrap_tensorflow.TF_GetCode(status))\n\u001b[0m\u001b[1;32m    467\u001b[0m   \u001b[0;32mfinally\u001b[0m\u001b[0;34m:\u001b[0m\u001b[0;34m\u001b[0m\u001b[0m\n",
      "\u001b[0;31mFailedPreconditionError\u001b[0m: Attempting to use uninitialized value Variable_269\n\t [[Node: Variable_269/read = Identity[T=DT_FLOAT, _class=[\"loc:@Variable_269\"], _device=\"/job:localhost/replica:0/task:0/cpu:0\"](Variable_269)]]",
      "\nDuring handling of the above exception, another exception occurred:\n",
      "\u001b[0;31mFailedPreconditionError\u001b[0m                   Traceback (most recent call last)",
      "\u001b[0;32m<ipython-input-480-b5ddcfe9f82a>\u001b[0m in \u001b[0;36m<module>\u001b[0;34m()\u001b[0m\n\u001b[0;32m----> 1\u001b[0;31m \u001b[0mtf\u001b[0m\u001b[0;34m.\u001b[0m\u001b[0mcholesky\u001b[0m\u001b[0;34m(\u001b[0m\u001b[0mkron_prod\u001b[0m\u001b[0;34m)\u001b[0m\u001b[0;34m.\u001b[0m\u001b[0meval\u001b[0m\u001b[0;34m(\u001b[0m\u001b[0;34m)\u001b[0m\u001b[0;34m\u001b[0m\u001b[0m\n\u001b[0m",
      "\u001b[0;32m/Users/farhan.damani/anaconda3/lib/python3.5/site-packages/tensorflow/python/framework/ops.py\u001b[0m in \u001b[0;36meval\u001b[0;34m(self, feed_dict, session)\u001b[0m\n\u001b[1;32m    604\u001b[0m \u001b[0;34m\u001b[0m\u001b[0m\n\u001b[1;32m    605\u001b[0m     \"\"\"\n\u001b[0;32m--> 606\u001b[0;31m     \u001b[0;32mreturn\u001b[0m \u001b[0m_eval_using_default_session\u001b[0m\u001b[0;34m(\u001b[0m\u001b[0mself\u001b[0m\u001b[0;34m,\u001b[0m \u001b[0mfeed_dict\u001b[0m\u001b[0;34m,\u001b[0m \u001b[0mself\u001b[0m\u001b[0;34m.\u001b[0m\u001b[0mgraph\u001b[0m\u001b[0;34m,\u001b[0m \u001b[0msession\u001b[0m\u001b[0;34m)\u001b[0m\u001b[0;34m\u001b[0m\u001b[0m\n\u001b[0m\u001b[1;32m    607\u001b[0m \u001b[0;34m\u001b[0m\u001b[0m\n\u001b[1;32m    608\u001b[0m \u001b[0;34m\u001b[0m\u001b[0m\n",
      "\u001b[0;32m/Users/farhan.damani/anaconda3/lib/python3.5/site-packages/tensorflow/python/framework/ops.py\u001b[0m in \u001b[0;36m_eval_using_default_session\u001b[0;34m(tensors, feed_dict, graph, session)\u001b[0m\n\u001b[1;32m   3926\u001b[0m                        \u001b[0;34m\"the tensor's graph is different from the session's \"\u001b[0m\u001b[0;34m\u001b[0m\u001b[0m\n\u001b[1;32m   3927\u001b[0m                        \"graph.\")\n\u001b[0;32m-> 3928\u001b[0;31m   \u001b[0;32mreturn\u001b[0m \u001b[0msession\u001b[0m\u001b[0;34m.\u001b[0m\u001b[0mrun\u001b[0m\u001b[0;34m(\u001b[0m\u001b[0mtensors\u001b[0m\u001b[0;34m,\u001b[0m \u001b[0mfeed_dict\u001b[0m\u001b[0;34m)\u001b[0m\u001b[0;34m\u001b[0m\u001b[0m\n\u001b[0m\u001b[1;32m   3929\u001b[0m \u001b[0;34m\u001b[0m\u001b[0m\n\u001b[1;32m   3930\u001b[0m \u001b[0;34m\u001b[0m\u001b[0m\n",
      "\u001b[0;32m/Users/farhan.damani/anaconda3/lib/python3.5/site-packages/tensorflow/python/client/session.py\u001b[0m in \u001b[0;36mrun\u001b[0;34m(self, fetches, feed_dict, options, run_metadata)\u001b[0m\n\u001b[1;32m    787\u001b[0m     \u001b[0;32mtry\u001b[0m\u001b[0;34m:\u001b[0m\u001b[0;34m\u001b[0m\u001b[0m\n\u001b[1;32m    788\u001b[0m       result = self._run(None, fetches, feed_dict, options_ptr,\n\u001b[0;32m--> 789\u001b[0;31m                          run_metadata_ptr)\n\u001b[0m\u001b[1;32m    790\u001b[0m       \u001b[0;32mif\u001b[0m \u001b[0mrun_metadata\u001b[0m\u001b[0;34m:\u001b[0m\u001b[0;34m\u001b[0m\u001b[0m\n\u001b[1;32m    791\u001b[0m         \u001b[0mproto_data\u001b[0m \u001b[0;34m=\u001b[0m \u001b[0mtf_session\u001b[0m\u001b[0;34m.\u001b[0m\u001b[0mTF_GetBuffer\u001b[0m\u001b[0;34m(\u001b[0m\u001b[0mrun_metadata_ptr\u001b[0m\u001b[0;34m)\u001b[0m\u001b[0;34m\u001b[0m\u001b[0m\n",
      "\u001b[0;32m/Users/farhan.damani/anaconda3/lib/python3.5/site-packages/tensorflow/python/client/session.py\u001b[0m in \u001b[0;36m_run\u001b[0;34m(self, handle, fetches, feed_dict, options, run_metadata)\u001b[0m\n\u001b[1;32m    995\u001b[0m     \u001b[0;32mif\u001b[0m \u001b[0mfinal_fetches\u001b[0m \u001b[0;32mor\u001b[0m \u001b[0mfinal_targets\u001b[0m\u001b[0;34m:\u001b[0m\u001b[0;34m\u001b[0m\u001b[0m\n\u001b[1;32m    996\u001b[0m       results = self._do_run(handle, final_targets, final_fetches,\n\u001b[0;32m--> 997\u001b[0;31m                              feed_dict_string, options, run_metadata)\n\u001b[0m\u001b[1;32m    998\u001b[0m     \u001b[0;32melse\u001b[0m\u001b[0;34m:\u001b[0m\u001b[0;34m\u001b[0m\u001b[0m\n\u001b[1;32m    999\u001b[0m       \u001b[0mresults\u001b[0m \u001b[0;34m=\u001b[0m \u001b[0;34m[\u001b[0m\u001b[0;34m]\u001b[0m\u001b[0;34m\u001b[0m\u001b[0m\n",
      "\u001b[0;32m/Users/farhan.damani/anaconda3/lib/python3.5/site-packages/tensorflow/python/client/session.py\u001b[0m in \u001b[0;36m_do_run\u001b[0;34m(self, handle, target_list, fetch_list, feed_dict, options, run_metadata)\u001b[0m\n\u001b[1;32m   1130\u001b[0m     \u001b[0;32mif\u001b[0m \u001b[0mhandle\u001b[0m \u001b[0;32mis\u001b[0m \u001b[0;32mNone\u001b[0m\u001b[0;34m:\u001b[0m\u001b[0;34m\u001b[0m\u001b[0m\n\u001b[1;32m   1131\u001b[0m       return self._do_call(_run_fn, self._session, feed_dict, fetch_list,\n\u001b[0;32m-> 1132\u001b[0;31m                            target_list, options, run_metadata)\n\u001b[0m\u001b[1;32m   1133\u001b[0m     \u001b[0;32melse\u001b[0m\u001b[0;34m:\u001b[0m\u001b[0;34m\u001b[0m\u001b[0m\n\u001b[1;32m   1134\u001b[0m       return self._do_call(_prun_fn, self._session, handle, feed_dict,\n",
      "\u001b[0;32m/Users/farhan.damani/anaconda3/lib/python3.5/site-packages/tensorflow/python/client/session.py\u001b[0m in \u001b[0;36m_do_call\u001b[0;34m(self, fn, *args)\u001b[0m\n\u001b[1;32m   1150\u001b[0m         \u001b[0;32mexcept\u001b[0m \u001b[0mKeyError\u001b[0m\u001b[0;34m:\u001b[0m\u001b[0;34m\u001b[0m\u001b[0m\n\u001b[1;32m   1151\u001b[0m           \u001b[0;32mpass\u001b[0m\u001b[0;34m\u001b[0m\u001b[0m\n\u001b[0;32m-> 1152\u001b[0;31m       \u001b[0;32mraise\u001b[0m \u001b[0mtype\u001b[0m\u001b[0;34m(\u001b[0m\u001b[0me\u001b[0m\u001b[0;34m)\u001b[0m\u001b[0;34m(\u001b[0m\u001b[0mnode_def\u001b[0m\u001b[0;34m,\u001b[0m \u001b[0mop\u001b[0m\u001b[0;34m,\u001b[0m \u001b[0mmessage\u001b[0m\u001b[0;34m)\u001b[0m\u001b[0;34m\u001b[0m\u001b[0m\n\u001b[0m\u001b[1;32m   1153\u001b[0m \u001b[0;34m\u001b[0m\u001b[0m\n\u001b[1;32m   1154\u001b[0m   \u001b[0;32mdef\u001b[0m \u001b[0m_extend_graph\u001b[0m\u001b[0;34m(\u001b[0m\u001b[0mself\u001b[0m\u001b[0;34m)\u001b[0m\u001b[0;34m:\u001b[0m\u001b[0;34m\u001b[0m\u001b[0m\n",
      "\u001b[0;31mFailedPreconditionError\u001b[0m: Attempting to use uninitialized value Variable_269\n\t [[Node: Variable_269/read = Identity[T=DT_FLOAT, _class=[\"loc:@Variable_269\"], _device=\"/job:localhost/replica:0/task:0/cpu:0\"](Variable_269)]]\n\nCaused by op 'Variable_269/read', defined at:\n  File \"/Users/farhan.damani/anaconda3/lib/python3.5/runpy.py\", line 184, in _run_module_as_main\n    \"__main__\", mod_spec)\n  File \"/Users/farhan.damani/anaconda3/lib/python3.5/runpy.py\", line 85, in _run_code\n    exec(code, run_globals)\n  File \"/Users/farhan.damani/anaconda3/lib/python3.5/site-packages/ipykernel/__main__.py\", line 3, in <module>\n    app.launch_new_instance()\n  File \"/Users/farhan.damani/anaconda3/lib/python3.5/site-packages/traitlets/config/application.py\", line 596, in launch_instance\n    app.start()\n  File \"/Users/farhan.damani/anaconda3/lib/python3.5/site-packages/ipykernel/kernelapp.py\", line 442, in start\n    ioloop.IOLoop.instance().start()\n  File \"/Users/farhan.damani/anaconda3/lib/python3.5/site-packages/zmq/eventloop/ioloop.py\", line 162, in start\n    super(ZMQIOLoop, self).start()\n  File \"/Users/farhan.damani/anaconda3/lib/python3.5/site-packages/tornado/ioloop.py\", line 883, in start\n    handler_func(fd_obj, events)\n  File \"/Users/farhan.damani/anaconda3/lib/python3.5/site-packages/tornado/stack_context.py\", line 275, in null_wrapper\n    return fn(*args, **kwargs)\n  File \"/Users/farhan.damani/anaconda3/lib/python3.5/site-packages/zmq/eventloop/zmqstream.py\", line 440, in _handle_events\n    self._handle_recv()\n  File \"/Users/farhan.damani/anaconda3/lib/python3.5/site-packages/zmq/eventloop/zmqstream.py\", line 472, in _handle_recv\n    self._run_callback(callback, msg)\n  File \"/Users/farhan.damani/anaconda3/lib/python3.5/site-packages/zmq/eventloop/zmqstream.py\", line 414, in _run_callback\n    callback(*args, **kwargs)\n  File \"/Users/farhan.damani/anaconda3/lib/python3.5/site-packages/tornado/stack_context.py\", line 275, in null_wrapper\n    return fn(*args, **kwargs)\n  File \"/Users/farhan.damani/anaconda3/lib/python3.5/site-packages/ipykernel/kernelbase.py\", line 276, in dispatcher\n    return self.dispatch_shell(stream, msg)\n  File \"/Users/farhan.damani/anaconda3/lib/python3.5/site-packages/ipykernel/kernelbase.py\", line 228, in dispatch_shell\n    handler(stream, idents, msg)\n  File \"/Users/farhan.damani/anaconda3/lib/python3.5/site-packages/ipykernel/kernelbase.py\", line 391, in execute_request\n    user_expressions, allow_stdin)\n  File \"/Users/farhan.damani/anaconda3/lib/python3.5/site-packages/ipykernel/ipkernel.py\", line 199, in do_execute\n    shell.run_cell(code, store_history=store_history, silent=silent)\n  File \"/Users/farhan.damani/anaconda3/lib/python3.5/site-packages/IPython/core/interactiveshell.py\", line 2723, in run_cell\n    interactivity=interactivity, compiler=compiler, result=result)\n  File \"/Users/farhan.damani/anaconda3/lib/python3.5/site-packages/IPython/core/interactiveshell.py\", line 2825, in run_ast_nodes\n    if self.run_code(code, result):\n  File \"/Users/farhan.damani/anaconda3/lib/python3.5/site-packages/IPython/core/interactiveshell.py\", line 2885, in run_code\n    exec(code_obj, self.user_global_ns, self.user_ns)\n  File \"<ipython-input-479-ee18c7100835>\", line 18, in <module>\n    neuron_cov = tf.nn.softplus(tf.Variable(tf.random_normal([D,D])))\n  File \"/Users/farhan.damani/anaconda3/lib/python3.5/site-packages/tensorflow/python/ops/variables.py\", line 200, in __init__\n    expected_shape=expected_shape)\n  File \"/Users/farhan.damani/anaconda3/lib/python3.5/site-packages/tensorflow/python/ops/variables.py\", line 319, in _init_from_args\n    self._snapshot = array_ops.identity(self._variable, name=\"read\")\n  File \"/Users/farhan.damani/anaconda3/lib/python3.5/site-packages/tensorflow/python/ops/gen_array_ops.py\", line 1303, in identity\n    result = _op_def_lib.apply_op(\"Identity\", input=input, name=name)\n  File \"/Users/farhan.damani/anaconda3/lib/python3.5/site-packages/tensorflow/python/framework/op_def_library.py\", line 767, in apply_op\n    op_def=op_def)\n  File \"/Users/farhan.damani/anaconda3/lib/python3.5/site-packages/tensorflow/python/framework/ops.py\", line 2506, in create_op\n    original_op=self._default_original_op, op_def=op_def)\n  File \"/Users/farhan.damani/anaconda3/lib/python3.5/site-packages/tensorflow/python/framework/ops.py\", line 1269, in __init__\n    self._traceback = _extract_stack()\n\nFailedPreconditionError (see above for traceback): Attempting to use uninitialized value Variable_269\n\t [[Node: Variable_269/read = Identity[T=DT_FLOAT, _class=[\"loc:@Variable_269\"], _device=\"/job:localhost/replica:0/task:0/cpu:0\"](Variable_269)]]\n"
     ]
    }
   ],
   "source": [
    "tf.cholesky(kron_prod).eval()"
   ]
  },
  {
   "cell_type": "code",
   "execution_count": 490,
   "metadata": {
    "collapsed": false
   },
   "outputs": [
    {
     "data": {
      "text/plain": [
       "(66, 71, 4686)"
      ]
     },
     "execution_count": 490,
     "metadata": {},
     "output_type": "execute_result"
    }
   ],
   "source": [
    "D, C-1, D*(C-1)"
   ]
  },
  {
   "cell_type": "code",
   "execution_count": 491,
   "metadata": {
    "collapsed": false
   },
   "outputs": [
    {
     "data": {
      "text/plain": [
       "array([[ 0.1,  0. ,  0. , ...,  0. ,  0. ,  0. ],\n",
       "       [ 0. ,  0.1,  0. , ...,  0. ,  0. ,  0. ],\n",
       "       [ 0. ,  0. ,  0.1, ...,  0. ,  0. ,  0. ],\n",
       "       ..., \n",
       "       [ 0. ,  0. ,  0. , ...,  0.1,  0. ,  0. ],\n",
       "       [ 0. ,  0. ,  0. , ...,  0. ,  0.1,  0. ],\n",
       "       [ 0. ,  0. ,  0. , ...,  0. ,  0. ,  0.1]])"
      ]
     },
     "execution_count": 491,
     "metadata": {},
     "output_type": "execute_result"
    }
   ],
   "source": [
    ".1 * np.identity(D*(C-1))"
   ]
  },
  {
   "cell_type": "code",
   "execution_count": 492,
   "metadata": {
    "collapsed": false
   },
   "outputs": [
    {
     "ename": "InvalidArgumentError",
     "evalue": "Cholesky decomposition was not successful. The input might not be valid.\n\t [[Node: inference_6737233344/0/MultivariateNormalTriL/init/Cholesky = Cholesky[T=DT_FLOAT, _device=\"/job:localhost/replica:0/task:0/cpu:0\"](inference_6737233344/0/add_1044)]]\n\nCaused by op 'inference_6737233344/0/MultivariateNormalTriL/init/Cholesky', defined at:\n  File \"/Users/farhan.damani/anaconda3/lib/python3.5/runpy.py\", line 184, in _run_module_as_main\n    \"__main__\", mod_spec)\n  File \"/Users/farhan.damani/anaconda3/lib/python3.5/runpy.py\", line 85, in _run_code\n    exec(code, run_globals)\n  File \"/Users/farhan.damani/anaconda3/lib/python3.5/site-packages/ipykernel/__main__.py\", line 3, in <module>\n    app.launch_new_instance()\n  File \"/Users/farhan.damani/anaconda3/lib/python3.5/site-packages/traitlets/config/application.py\", line 596, in launch_instance\n    app.start()\n  File \"/Users/farhan.damani/anaconda3/lib/python3.5/site-packages/ipykernel/kernelapp.py\", line 442, in start\n    ioloop.IOLoop.instance().start()\n  File \"/Users/farhan.damani/anaconda3/lib/python3.5/site-packages/zmq/eventloop/ioloop.py\", line 162, in start\n    super(ZMQIOLoop, self).start()\n  File \"/Users/farhan.damani/anaconda3/lib/python3.5/site-packages/tornado/ioloop.py\", line 883, in start\n    handler_func(fd_obj, events)\n  File \"/Users/farhan.damani/anaconda3/lib/python3.5/site-packages/tornado/stack_context.py\", line 275, in null_wrapper\n    return fn(*args, **kwargs)\n  File \"/Users/farhan.damani/anaconda3/lib/python3.5/site-packages/zmq/eventloop/zmqstream.py\", line 440, in _handle_events\n    self._handle_recv()\n  File \"/Users/farhan.damani/anaconda3/lib/python3.5/site-packages/zmq/eventloop/zmqstream.py\", line 472, in _handle_recv\n    self._run_callback(callback, msg)\n  File \"/Users/farhan.damani/anaconda3/lib/python3.5/site-packages/zmq/eventloop/zmqstream.py\", line 414, in _run_callback\n    callback(*args, **kwargs)\n  File \"/Users/farhan.damani/anaconda3/lib/python3.5/site-packages/tornado/stack_context.py\", line 275, in null_wrapper\n    return fn(*args, **kwargs)\n  File \"/Users/farhan.damani/anaconda3/lib/python3.5/site-packages/ipykernel/kernelbase.py\", line 276, in dispatcher\n    return self.dispatch_shell(stream, msg)\n  File \"/Users/farhan.damani/anaconda3/lib/python3.5/site-packages/ipykernel/kernelbase.py\", line 228, in dispatch_shell\n    handler(stream, idents, msg)\n  File \"/Users/farhan.damani/anaconda3/lib/python3.5/site-packages/ipykernel/kernelbase.py\", line 391, in execute_request\n    user_expressions, allow_stdin)\n  File \"/Users/farhan.damani/anaconda3/lib/python3.5/site-packages/ipykernel/ipkernel.py\", line 199, in do_execute\n    shell.run_cell(code, store_history=store_history, silent=silent)\n  File \"/Users/farhan.damani/anaconda3/lib/python3.5/site-packages/IPython/core/interactiveshell.py\", line 2723, in run_cell\n    interactivity=interactivity, compiler=compiler, result=result)\n  File \"/Users/farhan.damani/anaconda3/lib/python3.5/site-packages/IPython/core/interactiveshell.py\", line 2825, in run_ast_nodes\n    if self.run_code(code, result):\n  File \"/Users/farhan.damani/anaconda3/lib/python3.5/site-packages/IPython/core/interactiveshell.py\", line 2885, in run_code\n    exec(code_obj, self.user_global_ns, self.user_ns)\n  File \"<ipython-input-492-f7d278befebe>\", line 51, in <module>\n    inference.initialize(n_iter = 3000)\n  File \"/Users/farhan.damani/anaconda3/lib/python3.5/site-packages/edward/inferences/klqp.py\", line 86, in initialize\n    return super(KLqp, self).initialize(*args, **kwargs)\n  File \"/Users/farhan.damani/anaconda3/lib/python3.5/site-packages/edward/inferences/variational_inference.py\", line 75, in initialize\n    self.loss, grads_and_vars = self.build_loss_and_gradients(var_list)\n  File \"/Users/farhan.damani/anaconda3/lib/python3.5/site-packages/edward/inferences/klqp.py\", line 129, in build_loss_and_gradients\n    return build_reparam_loss_and_gradients(self, var_list)\n  File \"/Users/farhan.damani/anaconda3/lib/python3.5/site-packages/edward/inferences/klqp.py\", line 383, in build_reparam_loss_and_gradients\n    z_copy = copy(z, dict_swap, scope=scope)\n  File \"/Users/farhan.damani/anaconda3/lib/python3.5/site-packages/edward/util/random_variables.py\", line 232, in copy\n    new_rv = type(rv)(*args, **kwargs)\n  File \"/Users/farhan.damani/anaconda3/lib/python3.5/site-packages/edward/models/random_variable.py\", line 103, in __init__\n    super(RandomVariable, self).__init__(*args, **kwargs)\n  File \"/Users/farhan.damani/anaconda3/lib/python3.5/site-packages/tensorflow/contrib/distributions/python/ops/mvn_full_covariance.py\", line 181, in __init__\n    scale_tril = linalg_ops.cholesky(covariance_matrix)\n  File \"/Users/farhan.damani/anaconda3/lib/python3.5/site-packages/tensorflow/python/ops/gen_linalg_ops.py\", line 227, in cholesky\n    result = _op_def_lib.apply_op(\"Cholesky\", input=input, name=name)\n  File \"/Users/farhan.damani/anaconda3/lib/python3.5/site-packages/tensorflow/python/framework/op_def_library.py\", line 767, in apply_op\n    op_def=op_def)\n  File \"/Users/farhan.damani/anaconda3/lib/python3.5/site-packages/tensorflow/python/framework/ops.py\", line 2506, in create_op\n    original_op=self._default_original_op, op_def=op_def)\n  File \"/Users/farhan.damani/anaconda3/lib/python3.5/site-packages/tensorflow/python/framework/ops.py\", line 1269, in __init__\n    self._traceback = _extract_stack()\n\nInvalidArgumentError (see above for traceback): Cholesky decomposition was not successful. The input might not be valid.\n\t [[Node: inference_6737233344/0/MultivariateNormalTriL/init/Cholesky = Cholesky[T=DT_FLOAT, _device=\"/job:localhost/replica:0/task:0/cpu:0\"](inference_6737233344/0/add_1044)]]\n",
     "output_type": "error",
     "traceback": [
      "\u001b[0;31m---------------------------------------------------------------------------\u001b[0m",
      "\u001b[0;31mInvalidArgumentError\u001b[0m                      Traceback (most recent call last)",
      "\u001b[0;32m/Users/farhan.damani/anaconda3/lib/python3.5/site-packages/tensorflow/python/client/session.py\u001b[0m in \u001b[0;36m_do_call\u001b[0;34m(self, fn, *args)\u001b[0m\n\u001b[1;32m   1138\u001b[0m     \u001b[0;32mtry\u001b[0m\u001b[0;34m:\u001b[0m\u001b[0;34m\u001b[0m\u001b[0m\n\u001b[0;32m-> 1139\u001b[0;31m       \u001b[0;32mreturn\u001b[0m \u001b[0mfn\u001b[0m\u001b[0;34m(\u001b[0m\u001b[0;34m*\u001b[0m\u001b[0margs\u001b[0m\u001b[0;34m)\u001b[0m\u001b[0;34m\u001b[0m\u001b[0m\n\u001b[0m\u001b[1;32m   1140\u001b[0m     \u001b[0;32mexcept\u001b[0m \u001b[0merrors\u001b[0m\u001b[0;34m.\u001b[0m\u001b[0mOpError\u001b[0m \u001b[0;32mas\u001b[0m \u001b[0me\u001b[0m\u001b[0;34m:\u001b[0m\u001b[0;34m\u001b[0m\u001b[0m\n",
      "\u001b[0;32m/Users/farhan.damani/anaconda3/lib/python3.5/site-packages/tensorflow/python/client/session.py\u001b[0m in \u001b[0;36m_run_fn\u001b[0;34m(session, feed_dict, fetch_list, target_list, options, run_metadata)\u001b[0m\n\u001b[1;32m   1120\u001b[0m                                  \u001b[0mfeed_dict\u001b[0m\u001b[0;34m,\u001b[0m \u001b[0mfetch_list\u001b[0m\u001b[0;34m,\u001b[0m \u001b[0mtarget_list\u001b[0m\u001b[0;34m,\u001b[0m\u001b[0;34m\u001b[0m\u001b[0m\n\u001b[0;32m-> 1121\u001b[0;31m                                  status, run_metadata)\n\u001b[0m\u001b[1;32m   1122\u001b[0m \u001b[0;34m\u001b[0m\u001b[0m\n",
      "\u001b[0;32m/Users/farhan.damani/anaconda3/lib/python3.5/contextlib.py\u001b[0m in \u001b[0;36m__exit__\u001b[0;34m(self, type, value, traceback)\u001b[0m\n\u001b[1;32m     65\u001b[0m             \u001b[0;32mtry\u001b[0m\u001b[0;34m:\u001b[0m\u001b[0;34m\u001b[0m\u001b[0m\n\u001b[0;32m---> 66\u001b[0;31m                 \u001b[0mnext\u001b[0m\u001b[0;34m(\u001b[0m\u001b[0mself\u001b[0m\u001b[0;34m.\u001b[0m\u001b[0mgen\u001b[0m\u001b[0;34m)\u001b[0m\u001b[0;34m\u001b[0m\u001b[0m\n\u001b[0m\u001b[1;32m     67\u001b[0m             \u001b[0;32mexcept\u001b[0m \u001b[0mStopIteration\u001b[0m\u001b[0;34m:\u001b[0m\u001b[0;34m\u001b[0m\u001b[0m\n",
      "\u001b[0;32m/Users/farhan.damani/anaconda3/lib/python3.5/site-packages/tensorflow/python/framework/errors_impl.py\u001b[0m in \u001b[0;36mraise_exception_on_not_ok_status\u001b[0;34m()\u001b[0m\n\u001b[1;32m    465\u001b[0m           \u001b[0mcompat\u001b[0m\u001b[0;34m.\u001b[0m\u001b[0mas_text\u001b[0m\u001b[0;34m(\u001b[0m\u001b[0mpywrap_tensorflow\u001b[0m\u001b[0;34m.\u001b[0m\u001b[0mTF_Message\u001b[0m\u001b[0;34m(\u001b[0m\u001b[0mstatus\u001b[0m\u001b[0;34m)\u001b[0m\u001b[0;34m)\u001b[0m\u001b[0;34m,\u001b[0m\u001b[0;34m\u001b[0m\u001b[0m\n\u001b[0;32m--> 466\u001b[0;31m           pywrap_tensorflow.TF_GetCode(status))\n\u001b[0m\u001b[1;32m    467\u001b[0m   \u001b[0;32mfinally\u001b[0m\u001b[0;34m:\u001b[0m\u001b[0;34m\u001b[0m\u001b[0m\n",
      "\u001b[0;31mInvalidArgumentError\u001b[0m: Cholesky decomposition was not successful. The input might not be valid.\n\t [[Node: inference_6737233344/0/MultivariateNormalTriL/init/Cholesky = Cholesky[T=DT_FLOAT, _device=\"/job:localhost/replica:0/task:0/cpu:0\"](inference_6737233344/0/add_1044)]]",
      "\nDuring handling of the above exception, another exception occurred:\n",
      "\u001b[0;31mInvalidArgumentError\u001b[0m                      Traceback (most recent call last)",
      "\u001b[0;32m<ipython-input-492-f7d278befebe>\u001b[0m in \u001b[0;36m<module>\u001b[0;34m()\u001b[0m\n\u001b[1;32m     55\u001b[0m \u001b[0mlearning_curve\u001b[0m \u001b[0;34m=\u001b[0m \u001b[0;34m[\u001b[0m\u001b[0;34m]\u001b[0m\u001b[0;34m\u001b[0m\u001b[0m\n\u001b[1;32m     56\u001b[0m \u001b[0;32mfor\u001b[0m \u001b[0m_\u001b[0m \u001b[0;32min\u001b[0m \u001b[0mrange\u001b[0m\u001b[0;34m(\u001b[0m\u001b[0minference\u001b[0m\u001b[0;34m.\u001b[0m\u001b[0mn_iter\u001b[0m\u001b[0;34m)\u001b[0m\u001b[0;34m:\u001b[0m\u001b[0;34m\u001b[0m\u001b[0m\n\u001b[0;32m---> 57\u001b[0;31m     \u001b[0minfo_dict\u001b[0m \u001b[0;34m=\u001b[0m \u001b[0minference\u001b[0m\u001b[0;34m.\u001b[0m\u001b[0mupdate\u001b[0m\u001b[0;34m(\u001b[0m\u001b[0;34m)\u001b[0m\u001b[0;34m\u001b[0m\u001b[0m\n\u001b[0m\u001b[1;32m     58\u001b[0m     \u001b[0;32mif\u001b[0m \u001b[0m_\u001b[0m\u001b[0;34m%\u001b[0m\u001b[0;36m100\u001b[0m \u001b[0;34m==\u001b[0m \u001b[0;36m0\u001b[0m\u001b[0;34m:\u001b[0m\u001b[0;34m\u001b[0m\u001b[0m\n\u001b[1;32m     59\u001b[0m         \u001b[0mprint\u001b[0m\u001b[0;34m(\u001b[0m\u001b[0minfo_dict\u001b[0m\u001b[0;34m)\u001b[0m\u001b[0;34m\u001b[0m\u001b[0m\n",
      "\u001b[0;32m/Users/farhan.damani/anaconda3/lib/python3.5/site-packages/edward/inferences/variational_inference.py\u001b[0m in \u001b[0;36mupdate\u001b[0;34m(self, feed_dict)\u001b[0m\n\u001b[1;32m    162\u001b[0m \u001b[0;34m\u001b[0m\u001b[0m\n\u001b[1;32m    163\u001b[0m     \u001b[0msess\u001b[0m \u001b[0;34m=\u001b[0m \u001b[0mget_session\u001b[0m\u001b[0;34m(\u001b[0m\u001b[0;34m)\u001b[0m\u001b[0;34m\u001b[0m\u001b[0m\n\u001b[0;32m--> 164\u001b[0;31m     \u001b[0m_\u001b[0m\u001b[0;34m,\u001b[0m \u001b[0mt\u001b[0m\u001b[0;34m,\u001b[0m \u001b[0mloss\u001b[0m \u001b[0;34m=\u001b[0m \u001b[0msess\u001b[0m\u001b[0;34m.\u001b[0m\u001b[0mrun\u001b[0m\u001b[0;34m(\u001b[0m\u001b[0;34m[\u001b[0m\u001b[0mself\u001b[0m\u001b[0;34m.\u001b[0m\u001b[0mtrain\u001b[0m\u001b[0;34m,\u001b[0m \u001b[0mself\u001b[0m\u001b[0;34m.\u001b[0m\u001b[0mincrement_t\u001b[0m\u001b[0;34m,\u001b[0m \u001b[0mself\u001b[0m\u001b[0;34m.\u001b[0m\u001b[0mloss\u001b[0m\u001b[0;34m]\u001b[0m\u001b[0;34m,\u001b[0m \u001b[0mfeed_dict\u001b[0m\u001b[0;34m)\u001b[0m\u001b[0;34m\u001b[0m\u001b[0m\n\u001b[0m\u001b[1;32m    165\u001b[0m \u001b[0;34m\u001b[0m\u001b[0m\n\u001b[1;32m    166\u001b[0m     \u001b[0;32mif\u001b[0m \u001b[0mself\u001b[0m\u001b[0;34m.\u001b[0m\u001b[0mdebug\u001b[0m\u001b[0;34m:\u001b[0m\u001b[0;34m\u001b[0m\u001b[0m\n",
      "\u001b[0;32m/Users/farhan.damani/anaconda3/lib/python3.5/site-packages/tensorflow/python/client/session.py\u001b[0m in \u001b[0;36mrun\u001b[0;34m(self, fetches, feed_dict, options, run_metadata)\u001b[0m\n\u001b[1;32m    787\u001b[0m     \u001b[0;32mtry\u001b[0m\u001b[0;34m:\u001b[0m\u001b[0;34m\u001b[0m\u001b[0m\n\u001b[1;32m    788\u001b[0m       result = self._run(None, fetches, feed_dict, options_ptr,\n\u001b[0;32m--> 789\u001b[0;31m                          run_metadata_ptr)\n\u001b[0m\u001b[1;32m    790\u001b[0m       \u001b[0;32mif\u001b[0m \u001b[0mrun_metadata\u001b[0m\u001b[0;34m:\u001b[0m\u001b[0;34m\u001b[0m\u001b[0m\n\u001b[1;32m    791\u001b[0m         \u001b[0mproto_data\u001b[0m \u001b[0;34m=\u001b[0m \u001b[0mtf_session\u001b[0m\u001b[0;34m.\u001b[0m\u001b[0mTF_GetBuffer\u001b[0m\u001b[0;34m(\u001b[0m\u001b[0mrun_metadata_ptr\u001b[0m\u001b[0;34m)\u001b[0m\u001b[0;34m\u001b[0m\u001b[0m\n",
      "\u001b[0;32m/Users/farhan.damani/anaconda3/lib/python3.5/site-packages/tensorflow/python/client/session.py\u001b[0m in \u001b[0;36m_run\u001b[0;34m(self, handle, fetches, feed_dict, options, run_metadata)\u001b[0m\n\u001b[1;32m    995\u001b[0m     \u001b[0;32mif\u001b[0m \u001b[0mfinal_fetches\u001b[0m \u001b[0;32mor\u001b[0m \u001b[0mfinal_targets\u001b[0m\u001b[0;34m:\u001b[0m\u001b[0;34m\u001b[0m\u001b[0m\n\u001b[1;32m    996\u001b[0m       results = self._do_run(handle, final_targets, final_fetches,\n\u001b[0;32m--> 997\u001b[0;31m                              feed_dict_string, options, run_metadata)\n\u001b[0m\u001b[1;32m    998\u001b[0m     \u001b[0;32melse\u001b[0m\u001b[0;34m:\u001b[0m\u001b[0;34m\u001b[0m\u001b[0m\n\u001b[1;32m    999\u001b[0m       \u001b[0mresults\u001b[0m \u001b[0;34m=\u001b[0m \u001b[0;34m[\u001b[0m\u001b[0;34m]\u001b[0m\u001b[0;34m\u001b[0m\u001b[0m\n",
      "\u001b[0;32m/Users/farhan.damani/anaconda3/lib/python3.5/site-packages/tensorflow/python/client/session.py\u001b[0m in \u001b[0;36m_do_run\u001b[0;34m(self, handle, target_list, fetch_list, feed_dict, options, run_metadata)\u001b[0m\n\u001b[1;32m   1130\u001b[0m     \u001b[0;32mif\u001b[0m \u001b[0mhandle\u001b[0m \u001b[0;32mis\u001b[0m \u001b[0;32mNone\u001b[0m\u001b[0;34m:\u001b[0m\u001b[0;34m\u001b[0m\u001b[0m\n\u001b[1;32m   1131\u001b[0m       return self._do_call(_run_fn, self._session, feed_dict, fetch_list,\n\u001b[0;32m-> 1132\u001b[0;31m                            target_list, options, run_metadata)\n\u001b[0m\u001b[1;32m   1133\u001b[0m     \u001b[0;32melse\u001b[0m\u001b[0;34m:\u001b[0m\u001b[0;34m\u001b[0m\u001b[0m\n\u001b[1;32m   1134\u001b[0m       return self._do_call(_prun_fn, self._session, handle, feed_dict,\n",
      "\u001b[0;32m/Users/farhan.damani/anaconda3/lib/python3.5/site-packages/tensorflow/python/client/session.py\u001b[0m in \u001b[0;36m_do_call\u001b[0;34m(self, fn, *args)\u001b[0m\n\u001b[1;32m   1150\u001b[0m         \u001b[0;32mexcept\u001b[0m \u001b[0mKeyError\u001b[0m\u001b[0;34m:\u001b[0m\u001b[0;34m\u001b[0m\u001b[0m\n\u001b[1;32m   1151\u001b[0m           \u001b[0;32mpass\u001b[0m\u001b[0;34m\u001b[0m\u001b[0m\n\u001b[0;32m-> 1152\u001b[0;31m       \u001b[0;32mraise\u001b[0m \u001b[0mtype\u001b[0m\u001b[0;34m(\u001b[0m\u001b[0me\u001b[0m\u001b[0;34m)\u001b[0m\u001b[0;34m(\u001b[0m\u001b[0mnode_def\u001b[0m\u001b[0;34m,\u001b[0m \u001b[0mop\u001b[0m\u001b[0;34m,\u001b[0m \u001b[0mmessage\u001b[0m\u001b[0;34m)\u001b[0m\u001b[0;34m\u001b[0m\u001b[0m\n\u001b[0m\u001b[1;32m   1153\u001b[0m \u001b[0;34m\u001b[0m\u001b[0m\n\u001b[1;32m   1154\u001b[0m   \u001b[0;32mdef\u001b[0m \u001b[0m_extend_graph\u001b[0m\u001b[0;34m(\u001b[0m\u001b[0mself\u001b[0m\u001b[0;34m)\u001b[0m\u001b[0;34m:\u001b[0m\u001b[0;34m\u001b[0m\u001b[0m\n",
      "\u001b[0;31mInvalidArgumentError\u001b[0m: Cholesky decomposition was not successful. The input might not be valid.\n\t [[Node: inference_6737233344/0/MultivariateNormalTriL/init/Cholesky = Cholesky[T=DT_FLOAT, _device=\"/job:localhost/replica:0/task:0/cpu:0\"](inference_6737233344/0/add_1044)]]\n\nCaused by op 'inference_6737233344/0/MultivariateNormalTriL/init/Cholesky', defined at:\n  File \"/Users/farhan.damani/anaconda3/lib/python3.5/runpy.py\", line 184, in _run_module_as_main\n    \"__main__\", mod_spec)\n  File \"/Users/farhan.damani/anaconda3/lib/python3.5/runpy.py\", line 85, in _run_code\n    exec(code, run_globals)\n  File \"/Users/farhan.damani/anaconda3/lib/python3.5/site-packages/ipykernel/__main__.py\", line 3, in <module>\n    app.launch_new_instance()\n  File \"/Users/farhan.damani/anaconda3/lib/python3.5/site-packages/traitlets/config/application.py\", line 596, in launch_instance\n    app.start()\n  File \"/Users/farhan.damani/anaconda3/lib/python3.5/site-packages/ipykernel/kernelapp.py\", line 442, in start\n    ioloop.IOLoop.instance().start()\n  File \"/Users/farhan.damani/anaconda3/lib/python3.5/site-packages/zmq/eventloop/ioloop.py\", line 162, in start\n    super(ZMQIOLoop, self).start()\n  File \"/Users/farhan.damani/anaconda3/lib/python3.5/site-packages/tornado/ioloop.py\", line 883, in start\n    handler_func(fd_obj, events)\n  File \"/Users/farhan.damani/anaconda3/lib/python3.5/site-packages/tornado/stack_context.py\", line 275, in null_wrapper\n    return fn(*args, **kwargs)\n  File \"/Users/farhan.damani/anaconda3/lib/python3.5/site-packages/zmq/eventloop/zmqstream.py\", line 440, in _handle_events\n    self._handle_recv()\n  File \"/Users/farhan.damani/anaconda3/lib/python3.5/site-packages/zmq/eventloop/zmqstream.py\", line 472, in _handle_recv\n    self._run_callback(callback, msg)\n  File \"/Users/farhan.damani/anaconda3/lib/python3.5/site-packages/zmq/eventloop/zmqstream.py\", line 414, in _run_callback\n    callback(*args, **kwargs)\n  File \"/Users/farhan.damani/anaconda3/lib/python3.5/site-packages/tornado/stack_context.py\", line 275, in null_wrapper\n    return fn(*args, **kwargs)\n  File \"/Users/farhan.damani/anaconda3/lib/python3.5/site-packages/ipykernel/kernelbase.py\", line 276, in dispatcher\n    return self.dispatch_shell(stream, msg)\n  File \"/Users/farhan.damani/anaconda3/lib/python3.5/site-packages/ipykernel/kernelbase.py\", line 228, in dispatch_shell\n    handler(stream, idents, msg)\n  File \"/Users/farhan.damani/anaconda3/lib/python3.5/site-packages/ipykernel/kernelbase.py\", line 391, in execute_request\n    user_expressions, allow_stdin)\n  File \"/Users/farhan.damani/anaconda3/lib/python3.5/site-packages/ipykernel/ipkernel.py\", line 199, in do_execute\n    shell.run_cell(code, store_history=store_history, silent=silent)\n  File \"/Users/farhan.damani/anaconda3/lib/python3.5/site-packages/IPython/core/interactiveshell.py\", line 2723, in run_cell\n    interactivity=interactivity, compiler=compiler, result=result)\n  File \"/Users/farhan.damani/anaconda3/lib/python3.5/site-packages/IPython/core/interactiveshell.py\", line 2825, in run_ast_nodes\n    if self.run_code(code, result):\n  File \"/Users/farhan.damani/anaconda3/lib/python3.5/site-packages/IPython/core/interactiveshell.py\", line 2885, in run_code\n    exec(code_obj, self.user_global_ns, self.user_ns)\n  File \"<ipython-input-492-f7d278befebe>\", line 51, in <module>\n    inference.initialize(n_iter = 3000)\n  File \"/Users/farhan.damani/anaconda3/lib/python3.5/site-packages/edward/inferences/klqp.py\", line 86, in initialize\n    return super(KLqp, self).initialize(*args, **kwargs)\n  File \"/Users/farhan.damani/anaconda3/lib/python3.5/site-packages/edward/inferences/variational_inference.py\", line 75, in initialize\n    self.loss, grads_and_vars = self.build_loss_and_gradients(var_list)\n  File \"/Users/farhan.damani/anaconda3/lib/python3.5/site-packages/edward/inferences/klqp.py\", line 129, in build_loss_and_gradients\n    return build_reparam_loss_and_gradients(self, var_list)\n  File \"/Users/farhan.damani/anaconda3/lib/python3.5/site-packages/edward/inferences/klqp.py\", line 383, in build_reparam_loss_and_gradients\n    z_copy = copy(z, dict_swap, scope=scope)\n  File \"/Users/farhan.damani/anaconda3/lib/python3.5/site-packages/edward/util/random_variables.py\", line 232, in copy\n    new_rv = type(rv)(*args, **kwargs)\n  File \"/Users/farhan.damani/anaconda3/lib/python3.5/site-packages/edward/models/random_variable.py\", line 103, in __init__\n    super(RandomVariable, self).__init__(*args, **kwargs)\n  File \"/Users/farhan.damani/anaconda3/lib/python3.5/site-packages/tensorflow/contrib/distributions/python/ops/mvn_full_covariance.py\", line 181, in __init__\n    scale_tril = linalg_ops.cholesky(covariance_matrix)\n  File \"/Users/farhan.damani/anaconda3/lib/python3.5/site-packages/tensorflow/python/ops/gen_linalg_ops.py\", line 227, in cholesky\n    result = _op_def_lib.apply_op(\"Cholesky\", input=input, name=name)\n  File \"/Users/farhan.damani/anaconda3/lib/python3.5/site-packages/tensorflow/python/framework/op_def_library.py\", line 767, in apply_op\n    op_def=op_def)\n  File \"/Users/farhan.damani/anaconda3/lib/python3.5/site-packages/tensorflow/python/framework/ops.py\", line 2506, in create_op\n    original_op=self._default_original_op, op_def=op_def)\n  File \"/Users/farhan.damani/anaconda3/lib/python3.5/site-packages/tensorflow/python/framework/ops.py\", line 1269, in __init__\n    self._traceback = _extract_stack()\n\nInvalidArgumentError (see above for traceback): Cholesky decomposition was not successful. The input might not be valid.\n\t [[Node: inference_6737233344/0/MultivariateNormalTriL/init/Cholesky = Cholesky[T=DT_FLOAT, _device=\"/job:localhost/replica:0/task:0/cpu:0\"](inference_6737233344/0/add_1044)]]\n"
     ]
    }
   ],
   "source": [
    "# DATA\n",
    "sess = ed.get_session()\n",
    "# N is number of samples (ori x trials) and D is number of neurons\n",
    "N, D = Xtrain_scaled.shape[0], Xtrain_scaled.shape[1]\n",
    "\n",
    "########## DESIGN COVARIANCE MATRICES ##########\n",
    "\n",
    "# design stimulus x stimulus matrix\n",
    "w_covs = []\n",
    "tau = tf.nn.softplus(tf.Variable(tf.random_normal([])))\n",
    "sparsity = tf.nn.softplus(tf.Variable(tf.random_normal([])))\n",
    "# for each neuron\n",
    "# Design precision matrix\n",
    "A = np.zeros((C-1,C))\n",
    "# for each orientation\n",
    "for i in range(C-1):\n",
    "    A[i,i] = -1\n",
    "    A[i,i+1] = 1\n",
    "precision = A.T.dot(A) #+ .1 * np.identity(C) # precision = A^T.dot(A)\n",
    "precision = tau * precision + sparsity * np.identity(C)\n",
    "precision = precision + .1 * np.identity(C) # guarantees full rank\n",
    "\n",
    "cov = tf.cast(tf.matrix_inverse(precision)[:-1,:-1], tf.float32)\n",
    "\n",
    "neuron_cov = tf.nn.softplus(tf.Variable(tf.random_normal([D,D])))\n",
    "\n",
    "kron_prod = kronecker(cov, neuron_cov) + .1 * np.identity(D*(C-1))\n",
    "\n",
    "########## MODEL ##########\n",
    "X = tf.placeholder(tf.float32, [N, D])\n",
    "\n",
    "vec_w = MultivariateNormalFullCovariance(loc = tf.zeros([D*(C-1)]), covariance_matrix = kron_prod)\n",
    "\n",
    "b = Normal(loc = tf.zeros(C-1), scale= tf.ones(C-1))\n",
    "logits = tf.matmul(X, tf.reshape(vec_w, (D, C-1))) + b\n",
    "\n",
    "logits = tf.concat([logits, np.zeros((N, 1))], axis = 1)\n",
    "y = Categorical(logits = logits)\n",
    "\n",
    "########## INFERENCE ##########\n",
    "qw_loc = tf.Variable(tf.random_normal([D * (C-1)]))\n",
    "qw_scale = tf.nn.softplus(tf.Variable(tf.random_normal([D * (C-1)])))\n",
    "\n",
    "qb_loc = tf.Variable(tf.random_normal([C-1]))\n",
    "qb_scale = tf.nn.softplus(tf.Variable(tf.random_normal([])))\n",
    "\n",
    "qw = Normal(loc = qw_loc, scale = qw_scale)\n",
    "qb = Normal(loc = qb_loc, scale = qb_scale)\n",
    "\n",
    "inference = ed.KLqp({vec_w: qw, b: qb}, data={X: Xtrain_scaled, y: Ytrain})\n",
    "inference.initialize(n_iter = 3000)\n",
    "\n",
    "init = tf.global_variables_initializer()\n",
    "init.run()\n",
    "learning_curve = []\n",
    "for _ in range(inference.n_iter):\n",
    "    info_dict = inference.update()\n",
    "    if _%100 == 0:\n",
    "        print(info_dict)\n",
    "    learning_curve.append(info_dict['loss'])\n",
    "inference.finalize()"
   ]
  },
  {
   "cell_type": "code",
   "execution_count": 454,
   "metadata": {
    "collapsed": false
   },
   "outputs": [
    {
     "name": "stdout",
     "output_type": "stream",
     "text": [
      "0.997811684924\n",
      "[ 0.91111111  0.98981481  1.          1.          1.          1.        ]\n"
     ]
    }
   ],
   "source": [
    "########## EVAL ##########\n",
    "qw_mod = tf.concat([qw.mean(), np.zeros((qw.shape[0],1))], axis=1)\n",
    "qb_mod = tf.concat([qb.mean(), np.zeros((1))], axis=0)\n",
    "logits = tf.matmul(tf.cast(Xtest_scaled, tf.float32), qw_mod) + qb_mod\n",
    "print(compute_average_auc(tf.nn.softmax(logits).eval(), Ytest_hot))\n",
    "print(evaluate_multiclass_model(x_test_scaled_3d, qw_mod.eval().T, qb_mod.eval()))"
   ]
  },
  {
   "cell_type": "code",
   "execution_count": 522,
   "metadata": {
    "collapsed": true
   },
   "outputs": [],
   "source": [
    "X = np.array([1, 2, 3, 4, 5, 6])"
   ]
  },
  {
   "cell_type": "code",
   "execution_count": 520,
   "metadata": {
    "collapsed": false
   },
   "outputs": [
    {
     "ename": "TypeError",
     "evalue": "slice() missing 1 required positional argument: 'X2'",
     "output_type": "error",
     "traceback": [
      "\u001b[0;31m---------------------------------------------------------------------------\u001b[0m",
      "\u001b[0;31mTypeError\u001b[0m                                 Traceback (most recent call last)",
      "\u001b[0;32m<ipython-input-520-bee0b5a4e9c1>\u001b[0m in \u001b[0;36m<module>\u001b[0;34m()\u001b[0m\n\u001b[0;32m----> 1\u001b[0;31m \u001b[0mK\u001b[0m\u001b[0;34m(\u001b[0m\u001b[0mX\u001b[0m\u001b[0;34m)\u001b[0m\u001b[0;34m\u001b[0m\u001b[0m\n\u001b[0m",
      "\u001b[0;32m<ipython-input-518-cbc11c52665c>\u001b[0m in \u001b[0;36mK\u001b[0;34m(X, X2, presliced)\u001b[0m\n\u001b[1;32m      1\u001b[0m \u001b[0;32mdef\u001b[0m \u001b[0mK\u001b[0m\u001b[0;34m(\u001b[0m\u001b[0mX\u001b[0m\u001b[0;34m,\u001b[0m \u001b[0mX2\u001b[0m\u001b[0;34m=\u001b[0m\u001b[0;32mNone\u001b[0m\u001b[0;34m,\u001b[0m \u001b[0mpresliced\u001b[0m\u001b[0;34m=\u001b[0m\u001b[0;32mFalse\u001b[0m\u001b[0;34m)\u001b[0m\u001b[0;34m:\u001b[0m\u001b[0;34m\u001b[0m\u001b[0m\n\u001b[1;32m      2\u001b[0m     \u001b[0;32mif\u001b[0m \u001b[0;32mnot\u001b[0m \u001b[0mpresliced\u001b[0m\u001b[0;34m:\u001b[0m\u001b[0;34m\u001b[0m\u001b[0m\n\u001b[0;32m----> 3\u001b[0;31m         \u001b[0mX\u001b[0m\u001b[0;34m,\u001b[0m \u001b[0mX2\u001b[0m \u001b[0;34m=\u001b[0m \u001b[0mslice\u001b[0m\u001b[0;34m(\u001b[0m\u001b[0mX\u001b[0m\u001b[0;34m,\u001b[0m \u001b[0mX2\u001b[0m\u001b[0;34m)\u001b[0m\u001b[0;34m\u001b[0m\u001b[0m\n\u001b[0m\u001b[1;32m      4\u001b[0m     \u001b[0mr\u001b[0m \u001b[0;34m=\u001b[0m \u001b[0mself\u001b[0m\u001b[0;34m.\u001b[0m\u001b[0meuclid_dist\u001b[0m\u001b[0;34m(\u001b[0m\u001b[0mX\u001b[0m\u001b[0;34m,\u001b[0m \u001b[0mX2\u001b[0m\u001b[0;34m)\u001b[0m\u001b[0;34m\u001b[0m\u001b[0m\n\u001b[1;32m      5\u001b[0m     \u001b[0;32mreturn\u001b[0m \u001b[0mself\u001b[0m\u001b[0;34m.\u001b[0m\u001b[0mvariance\u001b[0m \u001b[0;34m*\u001b[0m \u001b[0mtf\u001b[0m\u001b[0;34m.\u001b[0m\u001b[0mcos\u001b[0m\u001b[0;34m(\u001b[0m\u001b[0mr\u001b[0m\u001b[0;34m)\u001b[0m\u001b[0;34m\u001b[0m\u001b[0m\n",
      "\u001b[0;31mTypeError\u001b[0m: slice() missing 1 required positional argument: 'X2'"
     ]
    }
   ],
   "source": [
    "K(X)"
   ]
  },
  {
   "cell_type": "code",
   "execution_count": 551,
   "metadata": {
    "collapsed": true
   },
   "outputs": [],
   "source": [
    "def periodic_kern(x, p, lengthscale, variance):\n",
    "    k = np.zeros((x.shape[0], x.shape[0]))\n",
    "    for i in range(x.shape[0]):\n",
    "        for j in range(x.shape[0]):\n",
    "            k[i,j] = variance * tf.exp(-(2 * np.sin(np.pi * np.abs(x[i] - x[j])/p)**2) / lengthscale**2)\n",
    "    return k"
   ]
  },
  {
   "cell_type": "code",
   "execution_count": 552,
   "metadata": {
    "collapsed": false
   },
   "outputs": [
    {
     "ename": "TypeError",
     "evalue": "'Tensor' object does not support item assignment",
     "output_type": "error",
     "traceback": [
      "\u001b[0;31m---------------------------------------------------------------------------\u001b[0m",
      "\u001b[0;31mTypeError\u001b[0m                                 Traceback (most recent call last)",
      "\u001b[0;32m<ipython-input-552-42c738ca7848>\u001b[0m in \u001b[0;36m<module>\u001b[0;34m()\u001b[0m\n\u001b[1;32m      2\u001b[0m \u001b[0mlengthscale\u001b[0m \u001b[0;34m=\u001b[0m \u001b[0mtf\u001b[0m\u001b[0;34m.\u001b[0m\u001b[0mnn\u001b[0m\u001b[0;34m.\u001b[0m\u001b[0msoftplus\u001b[0m\u001b[0;34m(\u001b[0m\u001b[0mtf\u001b[0m\u001b[0;34m.\u001b[0m\u001b[0mVariable\u001b[0m\u001b[0;34m(\u001b[0m\u001b[0mtf\u001b[0m\u001b[0;34m.\u001b[0m\u001b[0mrandom_normal\u001b[0m\u001b[0;34m(\u001b[0m\u001b[0;34m[\u001b[0m\u001b[0;34m]\u001b[0m\u001b[0;34m)\u001b[0m\u001b[0;34m)\u001b[0m\u001b[0;34m)\u001b[0m\u001b[0;34m\u001b[0m\u001b[0m\n\u001b[1;32m      3\u001b[0m \u001b[0mvariance\u001b[0m \u001b[0;34m=\u001b[0m \u001b[0mtf\u001b[0m\u001b[0;34m.\u001b[0m\u001b[0mnn\u001b[0m\u001b[0;34m.\u001b[0m\u001b[0msoftplus\u001b[0m\u001b[0;34m(\u001b[0m\u001b[0mtf\u001b[0m\u001b[0;34m.\u001b[0m\u001b[0mVariable\u001b[0m\u001b[0;34m(\u001b[0m\u001b[0mtf\u001b[0m\u001b[0;34m.\u001b[0m\u001b[0mrandom_normal\u001b[0m\u001b[0;34m(\u001b[0m\u001b[0;34m[\u001b[0m\u001b[0;34m]\u001b[0m\u001b[0;34m)\u001b[0m\u001b[0;34m)\u001b[0m\u001b[0;34m)\u001b[0m\u001b[0;34m\u001b[0m\u001b[0m\n\u001b[0;32m----> 4\u001b[0;31m \u001b[0mperiodic_kern\u001b[0m\u001b[0;34m(\u001b[0m\u001b[0mX\u001b[0m\u001b[0;34m,\u001b[0m \u001b[0mp\u001b[0m\u001b[0;34m,\u001b[0m \u001b[0mlengthscale\u001b[0m\u001b[0;34m,\u001b[0m \u001b[0mvariance\u001b[0m\u001b[0;34m)\u001b[0m\u001b[0;34m\u001b[0m\u001b[0m\n\u001b[0m",
      "\u001b[0;32m<ipython-input-551-0c53c08f752e>\u001b[0m in \u001b[0;36mperiodic_kern\u001b[0;34m(x, p, lengthscale, variance)\u001b[0m\n\u001b[1;32m      3\u001b[0m     \u001b[0;32mfor\u001b[0m \u001b[0mi\u001b[0m \u001b[0;32min\u001b[0m \u001b[0mrange\u001b[0m\u001b[0;34m(\u001b[0m\u001b[0mx\u001b[0m\u001b[0;34m.\u001b[0m\u001b[0mshape\u001b[0m\u001b[0;34m[\u001b[0m\u001b[0;36m0\u001b[0m\u001b[0;34m]\u001b[0m\u001b[0;34m)\u001b[0m\u001b[0;34m:\u001b[0m\u001b[0;34m\u001b[0m\u001b[0m\n\u001b[1;32m      4\u001b[0m         \u001b[0;32mfor\u001b[0m \u001b[0mj\u001b[0m \u001b[0;32min\u001b[0m \u001b[0mrange\u001b[0m\u001b[0;34m(\u001b[0m\u001b[0mx\u001b[0m\u001b[0;34m.\u001b[0m\u001b[0mshape\u001b[0m\u001b[0;34m[\u001b[0m\u001b[0;36m0\u001b[0m\u001b[0;34m]\u001b[0m\u001b[0;34m)\u001b[0m\u001b[0;34m:\u001b[0m\u001b[0;34m\u001b[0m\u001b[0m\n\u001b[0;32m----> 5\u001b[0;31m             \u001b[0mk\u001b[0m\u001b[0;34m[\u001b[0m\u001b[0mi\u001b[0m\u001b[0;34m,\u001b[0m\u001b[0mj\u001b[0m\u001b[0;34m]\u001b[0m \u001b[0;34m=\u001b[0m \u001b[0mvariance\u001b[0m \u001b[0;34m*\u001b[0m \u001b[0mtf\u001b[0m\u001b[0;34m.\u001b[0m\u001b[0mexp\u001b[0m\u001b[0;34m(\u001b[0m\u001b[0;34m-\u001b[0m\u001b[0;34m(\u001b[0m\u001b[0;36m2\u001b[0m \u001b[0;34m*\u001b[0m \u001b[0mnp\u001b[0m\u001b[0;34m.\u001b[0m\u001b[0msin\u001b[0m\u001b[0;34m(\u001b[0m\u001b[0mnp\u001b[0m\u001b[0;34m.\u001b[0m\u001b[0mpi\u001b[0m \u001b[0;34m*\u001b[0m \u001b[0mnp\u001b[0m\u001b[0;34m.\u001b[0m\u001b[0mabs\u001b[0m\u001b[0;34m(\u001b[0m\u001b[0mx\u001b[0m\u001b[0;34m[\u001b[0m\u001b[0mi\u001b[0m\u001b[0;34m]\u001b[0m \u001b[0;34m-\u001b[0m \u001b[0mx\u001b[0m\u001b[0;34m[\u001b[0m\u001b[0mj\u001b[0m\u001b[0;34m]\u001b[0m\u001b[0;34m)\u001b[0m\u001b[0;34m/\u001b[0m\u001b[0mp\u001b[0m\u001b[0;34m)\u001b[0m\u001b[0;34m**\u001b[0m\u001b[0;36m2\u001b[0m\u001b[0;34m)\u001b[0m \u001b[0;34m/\u001b[0m \u001b[0mlengthscale\u001b[0m\u001b[0;34m**\u001b[0m\u001b[0;36m2\u001b[0m\u001b[0;34m)\u001b[0m\u001b[0;34m\u001b[0m\u001b[0m\n\u001b[0m\u001b[1;32m      6\u001b[0m     \u001b[0;32mreturn\u001b[0m \u001b[0mk\u001b[0m\u001b[0;34m\u001b[0m\u001b[0m\n",
      "\u001b[0;31mTypeError\u001b[0m: 'Tensor' object does not support item assignment"
     ]
    }
   ],
   "source": [
    "p = X.shape[0]# C-1 # period\n",
    "lengthscale = tf.nn.softplus(tf.Variable(tf.random_normal([])))\n",
    "variance = tf.nn.softplus(tf.Variable(tf.random_normal([])))\n",
    "periodic_kern(X, p, lengthscale, variance)"
   ]
  },
  {
   "cell_type": "markdown",
   "metadata": {},
   "source": [
    "## GP prior with periodic kernel"
   ]
  },
  {
   "cell_type": "code",
   "execution_count": 651,
   "metadata": {
    "collapsed": true
   },
   "outputs": [],
   "source": [
    "def periodic_kern(x, p, lengthscale, variance):\n",
    "    k = np.zeros((x.shape[0], x.shape[0]))\n",
    "    for i in range(x.shape[0]):\n",
    "        for j in range(x.shape[0]):\n",
    "            k[i,j] = variance * np.exp(-(2 * np.sin(np.pi * np.abs(x[i] - x[j])/p)**2) / lengthscale)\n",
    "    return k"
   ]
  },
  {
   "cell_type": "code",
   "execution_count": 652,
   "metadata": {
    "collapsed": false
   },
   "outputs": [],
   "source": [
    "def periodic_kernmat(x, p, lengthscale, variance):\n",
    "    lengthscale = tf.convert_to_tensor(lengthscale)\n",
    "    variance = tf.convert_to_tensor(variance)\n",
    "    p = tf.convert_to_tensor(p)\n",
    "    x = tf.cast(tf.convert_to_tensor(x), tf.float32)\n",
    "    pi = tf.convert_to_tensor(np.pi)\n",
    "    k = variance * tf.exp(-(2 * tf.sin(pi * tf.abs(tf.reshape(x, [-1,1]) - \n",
    "                                                      tf.reshape(x, [1,-1])) / p)**2) / lengthscale)\n",
    "    return k"
   ]
  },
  {
   "cell_type": "code",
   "execution_count": 638,
   "metadata": {
    "collapsed": false
   },
   "outputs": [],
   "source": [
    "x = tf.cast(np.arange(0,72), tf.float32)\n",
    "pi = tf.convert_to_tensor(np.pi)\n",
    "\n",
    "\n",
    "k = 1 * tf.exp(-(2 * tf.sin(np.pi * tf.abs(tf.reshape(x, [-1,1]) - tf.reshape(x, [1,-1])) / 10)**2) / 1)"
   ]
  },
  {
   "cell_type": "code",
   "execution_count": 633,
   "metadata": {
    "collapsed": false
   },
   "outputs": [
    {
     "data": {
      "text/plain": [
       "<tf.Tensor 'Const_365:0' shape=() dtype=float32>"
      ]
     },
     "execution_count": 633,
     "metadata": {},
     "output_type": "execute_result"
    }
   ],
   "source": [
    "tf.convert_to_tensor(np.pi)"
   ]
  },
  {
   "cell_type": "code",
   "execution_count": 657,
   "metadata": {
    "collapsed": false
   },
   "outputs": [
    {
     "data": {
      "text/plain": [
       "[<matplotlib.lines.Line2D at 0x1ff1efdd8>]"
      ]
     },
     "execution_count": 657,
     "metadata": {},
     "output_type": "execute_result"
    },
    {
     "data": {
      "image/png": "[encoded data removed]",
      "text/plain": [
       "<matplotlib.figure.Figure at 0x1f751bf28>"
      ]
     },
     "metadata": {},
     "output_type": "display_data"
    }
   ],
   "source": [
    "plt.plot(periodic_kernmat(tf.cast(np.arange(0,72), tf.float32), 36.0, 10.0, 1.0).eval()[0])"
   ]
  },
  {
   "cell_type": "code",
   "execution_count": 653,
   "metadata": {
    "collapsed": false
   },
   "outputs": [
    {
     "data": {
      "text/plain": [
       "array([[ 1.        ,  0.99809916,  0.99243265, ...,  0.98310722,\n",
       "         0.99243265,  0.99809916],\n",
       "       [ 0.99809916,  1.        ,  0.99809916, ...,  0.9702964 ,\n",
       "         0.98310722,  0.99243265],\n",
       "       [ 0.99243265,  0.99809916,  1.        , ...,  0.95423424,\n",
       "         0.9702964 ,  0.98310722],\n",
       "       ..., \n",
       "       [ 0.98310722,  0.9702964 ,  0.95423424, ...,  1.        ,\n",
       "         0.99809916,  0.99243265],\n",
       "       [ 0.99243265,  0.98310722,  0.9702964 , ...,  0.99809916,\n",
       "         1.        ,  0.99809916],\n",
       "       [ 0.99809916,  0.99243265,  0.98310722, ...,  0.99243265,\n",
       "         0.99809916,  1.        ]])"
      ]
     },
     "execution_count": 653,
     "metadata": {},
     "output_type": "execute_result"
    }
   ],
   "source": [
    "periodic_kern(np.arange(0,72), 72, 2, 1)"
   ]
  },
  {
   "cell_type": "code",
   "execution_count": null,
   "metadata": {
    "collapsed": true
   },
   "outputs": [],
   "source": [
    "using matrices we can reshape x1 to (-1,1) and x2 to (1,-1)"
   ]
  },
  {
   "cell_type": "code",
   "execution_count": 566,
   "metadata": {
    "collapsed": false
   },
   "outputs": [
    {
     "data": {
      "text/plain": [
       "array([[ 0.5       ,  0.49952456,  0.49810457, ...,  0.49575882,\n",
       "         0.49810457,  0.49952456],\n",
       "       [ 0.49952456,  0.5       ,  0.49952456, ...,  0.49251812,\n",
       "         0.49575882,  0.49810457],\n",
       "       [ 0.49810457,  0.49952456,  0.5       , ...,  0.48842457,\n",
       "         0.49251812,  0.49575882],\n",
       "       ..., \n",
       "       [ 0.49575882,  0.49251812,  0.48842457, ...,  0.5       ,\n",
       "         0.49952456,  0.49810457],\n",
       "       [ 0.49810457,  0.49575882,  0.49251812, ...,  0.49952456,\n",
       "         0.5       ,  0.49952456],\n",
       "       [ 0.49952456,  0.49810457,  0.49575882, ...,  0.49810457,\n",
       "         0.49952456,  0.5       ]])"
      ]
     },
     "execution_count": 566,
     "metadata": {},
     "output_type": "execute_result"
    }
   ],
   "source": [
    "periodic_kern(np.arange(0,72), 72, 4, .5)"
   ]
  },
  {
   "cell_type": "code",
   "execution_count": 600,
   "metadata": {
    "collapsed": false
   },
   "outputs": [
    {
     "data": {
      "text/plain": [
       "[<matplotlib.lines.Line2D at 0x1f5ee1908>]"
      ]
     },
     "execution_count": 600,
     "metadata": {},
     "output_type": "execute_result"
    },
    {
     "data": {
      "image/png": "[encoded data removed]",
      "text/plain": [
       "<matplotlib.figure.Figure at 0x1f5ce14e0>"
      ]
     },
     "metadata": {},
     "output_type": "display_data"
    }
   ],
   "source": [
    "plt.plot(periodic_kern(np.arange(0,72), 36, 1, 1)[10])"
   ]
  },
  {
   "cell_type": "code",
   "execution_count": 584,
   "metadata": {
    "collapsed": true
   },
   "outputs": [],
   "source": [
    "kern = tf.cast(np.reshape(np.concatenate((np.arange(1,38), np.arange(start=36, stop=1, step=-1))), (-1,1)), tf.float32)\n",
    "\n",
    "rbf_kernel = rbf(X = kern, lengthscale = 4.5, variance = .5)"
   ]
  },
  {
   "cell_type": "code",
   "execution_count": 585,
   "metadata": {
    "collapsed": false
   },
   "outputs": [
    {
     "data": {
      "text/plain": [
       "[<matplotlib.lines.Line2D at 0x1fba70e80>]"
      ]
     },
     "execution_count": 585,
     "metadata": {},
     "output_type": "execute_result"
    },
    {
     "data": {
      "image/png": "[encoded data removed]",
      "text/plain": [
       "<matplotlib.figure.Figure at 0x1f8384940>"
      ]
     },
     "metadata": {},
     "output_type": "display_data"
    }
   ],
   "source": [
    "plt.plot(rbf_kernel.eval()[0])"
   ]
  },
  {
   "cell_type": "code",
   "execution_count": 603,
   "metadata": {
    "collapsed": false
   },
   "outputs": [],
   "source": [
    "from edward.util import rbf\n",
    "\n",
    "\n",
    "# DATA\n",
    "sess = ed.get_session()\n",
    "# N is number of samples (ori x trials) and D is number of neurons\n",
    "N, D = Xtrain_scaled.shape[0], Xtrain_scaled.shape[1]\n",
    "\n",
    "########## MODEL ##########\n",
    "X = tf.placeholder(tf.float32, [N, D])\n",
    "cov = tf.nn.softplus(tf.random_normal([C-1,C-1]))\n",
    "\n",
    "####### the X matrix should NOT be cov, but rather 1....72\n",
    "#length = tf.nn.softplus(tf.Variable(tf.random_normal([])))\n",
    "length = 4.5\n",
    "var = .5\n",
    "#var = tf.nn.softplus(tf.Variable(tf.random_normal([])))\n",
    "\n",
    "kerndata = np.reshape(np.arange(0,72), (-1,1))\n",
    "k = periodic_kern(kerndata, 36, 1, 1)[:-1, :-1]"
   ]
  },
  {
   "cell_type": "code",
   "execution_count": null,
   "metadata": {
    "collapsed": true
   },
   "outputs": [],
   "source": []
  },
  {
   "cell_type": "code",
   "execution_count": 607,
   "metadata": {
    "collapsed": false
   },
   "outputs": [
    {
     "name": "stdout",
     "output_type": "stream",
     "text": [
      "{'t': 1, 'loss': 96684.375}\n",
      "{'t': 101, 'loss': 7881.3442}\n",
      "{'t': 201, 'loss': 6322.0303}\n",
      "{'t': 301, 'loss': 6170.9839}\n",
      "{'t': 401, 'loss': 5864.4409}\n",
      "{'t': 501, 'loss': 6043.3809}\n",
      "{'t': 601, 'loss': 5991.3115}\n",
      "{'t': 701, 'loss': 5933.0312}\n",
      "{'t': 801, 'loss': 5723.668}\n",
      "{'t': 901, 'loss': 5992.8916}\n",
      "{'t': 1001, 'loss': 6041.1069}\n",
      "{'t': 1101, 'loss': 5753.4321}\n",
      "{'t': 1201, 'loss': 5572.7808}\n",
      "{'t': 1301, 'loss': 5583.2891}\n",
      "{'t': 1401, 'loss': 5455.897}\n",
      "{'t': 1501, 'loss': 5395.2041}\n",
      "{'t': 1601, 'loss': 5472.4072}\n",
      "{'t': 1701, 'loss': 5335.562}\n",
      "{'t': 1801, 'loss': 5373.0767}\n",
      "{'t': 1901, 'loss': 5217.4497}\n",
      "{'t': 2001, 'loss': 5135.1904}\n",
      "{'t': 2101, 'loss': 5049.9868}\n",
      "{'t': 2201, 'loss': 5255.5093}\n",
      "{'t': 2301, 'loss': 5362.9004}\n",
      "{'t': 2401, 'loss': 5237.8389}\n",
      "{'t': 2501, 'loss': 5292.7031}\n",
      "{'t': 2601, 'loss': 5358.5684}\n",
      "{'t': 2701, 'loss': 5340.8452}\n",
      "{'t': 2801, 'loss': 5076.0}\n",
      "{'t': 2901, 'loss': 5311.2983}\n",
      "0.997993392453\n",
      "[ 0.91296296  0.98981481  1.          1.          1.          1.        ]\n"
     ]
    }
   ],
   "source": [
    "from edward.util import rbf\n",
    "\n",
    "\n",
    "# DATA\n",
    "sess = ed.get_session()\n",
    "# N is number of samples (ori x trials) and D is number of neurons\n",
    "N, D = Xtrain_scaled.shape[0], Xtrain_scaled.shape[1]\n",
    "\n",
    "########## MODEL ##########\n",
    "X = tf.placeholder(tf.float32, [N, D])\n",
    "cov = tf.nn.softplus(tf.random_normal([C-1,C-1]))\n",
    "\n",
    "####### the X matrix should NOT be cov, but rather 1....72\n",
    "#length = tf.nn.softplus(tf.Variable(tf.random_normal([])))\n",
    "length = 4.5\n",
    "var = .5\n",
    "#var = tf.nn.softplus(tf.Variable(tf.random_normal([])))\n",
    "\n",
    "kerndata = np.reshape(np.arange(0,72), (-1,1))\n",
    "k = periodic_kern(kerndata, 36, 4, .5)[:-1, :-1]\n",
    "\n",
    "w = MultivariateNormalTriL(loc = tf.zeros([D,C-1]), \n",
    "                           scale_tril = tf.cast(k, tf.float32))\n",
    "\n",
    "b = Normal(loc = tf.zeros(C-1), scale= tf.ones(C-1))\n",
    "logits = tf.matmul(X, w) + b\n",
    "logits = tf.concat([logits, np.zeros((N, 1))], axis = 1)\n",
    "y = Categorical(logits = logits)\n",
    "\n",
    "########## INFERENCE ##########\n",
    "qw_loc = tf.Variable(tf.random_normal([D, C-1]))\n",
    "qw_scale = tf.nn.softplus(tf.Variable(tf.random_normal([D,C-1])))\n",
    "\n",
    "qb_loc = tf.Variable(tf.random_normal([C-1]))\n",
    "qb_scale = tf.nn.softplus(tf.Variable(tf.random_normal([])))\n",
    "\n",
    "qw = Normal(loc = qw_loc, scale = qw_scale)\n",
    "qb = Normal(loc = qb_loc, scale = qb_scale)\n",
    "\n",
    "inference = ed.KLqp({w: qw, b: qb}, \n",
    "                    data={X: Xtrain_scaled, y: Ytrain})\n",
    "inference.initialize(n_iter = 3000)\n",
    "\n",
    "init = tf.global_variables_initializer()\n",
    "init.run()\n",
    "learning_curve = []\n",
    "for _ in range(inference.n_iter):\n",
    "    info_dict = inference.update()\n",
    "    if _%100 == 0:\n",
    "        print(info_dict)\n",
    "    learning_curve.append(info_dict['loss'])\n",
    "inference.finalize()\n",
    "\n",
    "\n",
    "########## EVAL ##########\n",
    "qw_mod = tf.concat([qw.mean(), np.zeros((qw.shape[0],1))], axis=1)\n",
    "qb_mod = tf.concat([qb.mean(), np.zeros((1))], axis=0)\n",
    "logits = tf.matmul(tf.cast(Xtest_scaled, tf.float32), qw_mod) + qb_mod\n",
    "print(compute_average_auc(tf.nn.softmax(logits).eval(), Ytest_hot))\n",
    "print(evaluate_multiclass_model(x_test_scaled_3d, qw_mod.eval().T, qb_mod.eval()))"
   ]
  },
  {
   "cell_type": "code",
   "execution_count": null,
   "metadata": {
    "collapsed": true
   },
   "outputs": [],
   "source": [
    "########## EVAL ##########\n",
    "qw_mod = tf.concat([qw.mean(), np.zeros((qw.shape[0],1))], axis=1)\n",
    "qb_mod = tf.concat([qb.mean(), np.zeros((1))], axis=0)\n",
    "logits = tf.matmul(tf.cast(Xtest_scaled, tf.float32), qw_mod) + qb_mod\n",
    "print(compute_average_auc(tf.nn.softmax(logits).eval(), Ytest_hot))\n",
    "print(evaluate_multiclass_model(x_test_scaled_3d, qw_mod.eval().T, qb_mod.eval()))"
   ]
  },
  {
   "cell_type": "code",
   "execution_count": null,
   "metadata": {
    "collapsed": true
   },
   "outputs": [],
   "source": []
  },
  {
   "cell_type": "code",
   "execution_count": null,
   "metadata": {
    "collapsed": true
   },
   "outputs": [],
   "source": []
  },
  {
   "cell_type": "code",
   "execution_count": null,
   "metadata": {
    "collapsed": true
   },
   "outputs": [],
   "source": []
  },
  {
   "cell_type": "markdown",
   "metadata": {
    "collapsed": true
   },
   "source": [
    "## A gaussian process prior on the weights with rbf kernel on theta = {1,...,38,...,2}..."
   ]
  },
  {
   "cell_type": "code",
   "execution_count": 586,
   "metadata": {
    "collapsed": false
   },
   "outputs": [
    {
     "name": "stdout",
     "output_type": "stream",
     "text": [
      "{'t': 1, 'loss': 76139.453}\n",
      "{'t': 101, 'loss': 9901.9434}\n",
      "{'t': 201, 'loss': 7551.4932}\n",
      "{'t': 301, 'loss': 7504.2817}\n",
      "{'t': 401, 'loss': 6954.209}\n",
      "{'t': 501, 'loss': 6527.4844}\n",
      "{'t': 601, 'loss': 6183.5815}\n",
      "{'t': 701, 'loss': 6848.6714}\n",
      "{'t': 801, 'loss': 5904.2729}\n",
      "{'t': 901, 'loss': 5854.874}\n",
      "{'t': 1001, 'loss': 5869.7002}\n",
      "{'t': 1101, 'loss': 5989.3584}\n",
      "{'t': 1201, 'loss': 5507.9302}\n",
      "{'t': 1301, 'loss': 5322.6533}\n",
      "{'t': 1401, 'loss': 5546.4761}\n",
      "{'t': 1501, 'loss': 5355.0688}\n",
      "{'t': 1601, 'loss': 5312.4595}\n",
      "{'t': 1701, 'loss': 5690.8154}\n",
      "{'t': 1801, 'loss': 5421.7969}\n",
      "{'t': 1901, 'loss': 5401.9678}\n",
      "{'t': 2001, 'loss': 5315.6436}\n",
      "{'t': 2101, 'loss': 5395.876}\n",
      "{'t': 2201, 'loss': 5419.2461}\n",
      "{'t': 2301, 'loss': 5362.2905}\n",
      "{'t': 2401, 'loss': 5310.3989}\n",
      "{'t': 2501, 'loss': 5249.7871}\n",
      "{'t': 2601, 'loss': 5274.8633}\n",
      "{'t': 2701, 'loss': 5128.0903}\n",
      "{'t': 2801, 'loss': 5308.978}\n",
      "{'t': 2901, 'loss': 5241.1362}\n",
      "0.997869066249\n",
      "[ 0.90925926  0.99537037  0.99814815  1.          1.          1.        ]\n"
     ]
    }
   ],
   "source": [
    "from edward.util import rbf\n",
    "\n",
    "\n",
    "# DATA\n",
    "sess = ed.get_session()\n",
    "# N is number of samples (ori x trials) and D is number of neurons\n",
    "N, D = Xtrain_scaled.shape[0], Xtrain_scaled.shape[1]\n",
    "\n",
    "########## MODEL ##########\n",
    "X = tf.placeholder(tf.float32, [N, D])\n",
    "cov = tf.nn.softplus(tf.random_normal([C-1,C-1]))\n",
    "\n",
    "####### the X matrix should NOT be cov, but rather 1....72\n",
    "length = tf.nn.softplus(tf.Variable(tf.random_normal([])))\n",
    "var = tf.nn.softplus(tf.Variable(tf.random_normal([])))\n",
    "\n",
    "kern = tf.cast(np.reshape(np.concatenate((np.arange(1,38), np.arange(start=36, stop=1, step=-1))), (-1,1)), tf.float32)\n",
    "\n",
    "rbf_kernel = rbf(X = kern, lengthscale = length, variance = var)[:-1,:-1]\n",
    "\n",
    "w = MultivariateNormalTriL(loc = tf.zeros([D,C-1]), \n",
    "                           scale_tril = rbf_kernel)\n",
    "\n",
    "b = Normal(loc = tf.zeros(C-1), scale= tf.ones(C-1))\n",
    "logits = tf.matmul(X, w) + b\n",
    "logits = tf.concat([logits, np.zeros((N, 1))], axis = 1)\n",
    "y = Categorical(logits = logits)\n",
    "\n",
    "########## INFERENCE ##########\n",
    "qw_loc = tf.Variable(tf.random_normal([D, C-1]))\n",
    "qw_scale = tf.nn.softplus(tf.Variable(tf.random_normal([D,C-1])))\n",
    "\n",
    "qb_loc = tf.Variable(tf.random_normal([C-1]))\n",
    "qb_scale = tf.nn.softplus(tf.Variable(tf.random_normal([])))\n",
    "\n",
    "qw = Normal(loc = qw_loc, scale = qw_scale)\n",
    "qb = Normal(loc = qb_loc, scale = qb_scale)\n",
    "\n",
    "inference = ed.KLqp({w: qw, b: qb}, \n",
    "                    data={X: Xtrain_scaled, y: Ytrain})\n",
    "inference.initialize(n_iter = 3000)\n",
    "\n",
    "init = tf.global_variables_initializer()\n",
    "init.run()\n",
    "learning_curve = []\n",
    "for _ in range(inference.n_iter):\n",
    "    info_dict = inference.update()\n",
    "    if _%100 == 0:\n",
    "        print(info_dict)\n",
    "    learning_curve.append(info_dict['loss'])\n",
    "inference.finalize()\n",
    "\n",
    "\n",
    "########## EVAL ##########\n",
    "qw_mod = tf.concat([qw.mean(), np.zeros((qw.shape[0],1))], axis=1)\n",
    "qb_mod = tf.concat([qb.mean(), np.zeros((1))], axis=0)\n",
    "logits = tf.matmul(tf.cast(Xtest_scaled, tf.float32), qw_mod) + qb_mod\n",
    "print(compute_average_auc(tf.nn.softmax(logits).eval(), Ytest_hot))\n",
    "print(evaluate_multiclass_model(x_test_scaled_3d, qw_mod.eval().T, qb_mod.eval()))"
   ]
  },
  {
   "cell_type": "code",
   "execution_count": 587,
   "metadata": {
    "collapsed": false
   },
   "outputs": [
    {
     "name": "stdout",
     "output_type": "stream",
     "text": [
      "0.997869066249\n",
      "[ 0.90925926  0.99537037  0.99814815  1.          1.          1.        ]\n"
     ]
    }
   ],
   "source": [
    "########## EVAL ##########\n",
    "qw_mod = tf.concat([qw.mean(), np.zeros((qw.shape[0],1))], axis=1)\n",
    "qb_mod = tf.concat([qb.mean(), np.zeros((1))], axis=0)\n",
    "logits = tf.matmul(tf.cast(Xtest_scaled, tf.float32), qw_mod) + qb_mod\n",
    "print(compute_average_auc(tf.nn.softmax(logits).eval(), Ytest_hot))\n",
    "print(evaluate_multiclass_model(x_test_scaled_3d, qw_mod.eval().T, qb_mod.eval()))"
   ]
  },
  {
   "cell_type": "code",
   "execution_count": null,
   "metadata": {
    "collapsed": false
   },
   "outputs": [],
   "source": [
    "plt.plot(w.eval()[0])"
   ]
  },
  {
   "cell_type": "code",
   "execution_count": 589,
   "metadata": {
    "collapsed": false
   },
   "outputs": [
    {
     "data": {
      "text/plain": [
       "array([[ 0.49341494,  0.48366931,  0.45557225, ...,  0.35858503,\n",
       "         0.41232386,  0.45557225],\n",
       "       [ 0.48366931,  0.49341494,  0.48366931, ...,  0.41232386,\n",
       "         0.45557225,  0.48366931],\n",
       "       [ 0.45557225,  0.48366931,  0.49341494, ...,  0.45557222,\n",
       "         0.48366931,  0.49341494],\n",
       "       ..., \n",
       "       [ 0.35858503,  0.41232386,  0.45557222, ...,  0.49341494,\n",
       "         0.48366931,  0.45557222],\n",
       "       [ 0.41232386,  0.45557225,  0.48366931, ...,  0.48366931,\n",
       "         0.49341494,  0.48366931],\n",
       "       [ 0.45557225,  0.48366931,  0.49341494, ...,  0.45557222,\n",
       "         0.48366931,  0.49341494]], dtype=float32)"
      ]
     },
     "execution_count": 589,
     "metadata": {},
     "output_type": "execute_result"
    }
   ],
   "source": [
    "rbf_kernel.eval()"
   ]
  },
  {
   "cell_type": "code",
   "execution_count": 597,
   "metadata": {
    "collapsed": false
   },
   "outputs": [
    {
     "data": {
      "text/plain": [
       "[<matplotlib.lines.Line2D at 0x1f5498278>]"
      ]
     },
     "execution_count": 597,
     "metadata": {},
     "output_type": "execute_result"
    },
    {
     "data": {
      "image/png": "[encoded data removed]",
      "text/plain": [
       "<matplotlib.figure.Figure at 0x16f99c9e8>"
      ]
     },
     "metadata": {},
     "output_type": "display_data"
    }
   ],
   "source": [
    "plt.plot(rbf_kernel.eval()[20])"
   ]
  },
  {
   "cell_type": "code",
   "execution_count": null,
   "metadata": {
    "collapsed": true
   },
   "outputs": [],
   "source": []
  },
  {
   "cell_type": "code",
   "execution_count": 254,
   "metadata": {
    "collapsed": false
   },
   "outputs": [
    {
     "data": {
      "text/plain": [
       "(4.4581113, 0.50333989)"
      ]
     },
     "execution_count": 254,
     "metadata": {},
     "output_type": "execute_result"
    }
   ],
   "source": [
    "length.eval(), var.eval()"
   ]
  },
  {
   "cell_type": "code",
   "execution_count": null,
   "metadata": {
    "collapsed": false
   },
   "outputs": [],
   "source": [
    "plt.plot(w.eval()[10])"
   ]
  },
  {
   "cell_type": "code",
   "execution_count": 554,
   "metadata": {
    "collapsed": false
   },
   "outputs": [
    {
     "data": {
      "text/plain": [
       "(4.4087973, 0.5023067)"
      ]
     },
     "execution_count": 554,
     "metadata": {},
     "output_type": "execute_result"
    }
   ],
   "source": [
    "length.eval(), var.eval()"
   ]
  },
  {
   "cell_type": "code",
   "execution_count": 262,
   "metadata": {
    "collapsed": false
   },
   "outputs": [
    {
     "data": {
      "text/plain": [
       "[<matplotlib.lines.Line2D at 0x17a246748>]"
      ]
     },
     "execution_count": 262,
     "metadata": {},
     "output_type": "execute_result"
    },
    {
     "data": {
      "image/png": "[encoded data removed]",
      "text/plain": [
       "<matplotlib.figure.Figure at 0x178c087b8>"
      ]
     },
     "metadata": {},
     "output_type": "display_data"
    }
   ],
   "source": [
    "%matplotlib inline\n",
    "plt.plot(qw_mod[0].eval())"
   ]
  },
  {
   "cell_type": "code",
   "execution_count": 246,
   "metadata": {
    "collapsed": false
   },
   "outputs": [
    {
     "data": {
      "text/plain": [
       "[<matplotlib.lines.Line2D at 0x173486cc0>]"
      ]
     },
     "execution_count": 246,
     "metadata": {},
     "output_type": "execute_result"
    },
    {
     "data": {
      "image/png": "[encoded data removed]",
      "text/plain": [
       "<matplotlib.figure.Figure at 0x163bf79b0>"
      ]
     },
     "metadata": {},
     "output_type": "display_data"
    }
   ],
   "source": [
    "%matplotlib inline\n",
    "plt.plot(qw_mod[0].eval())"
   ]
  },
  {
   "cell_type": "markdown",
   "metadata": {},
   "source": [
    "## Experimental"
   ]
  },
  {
   "cell_type": "code",
   "execution_count": null,
   "metadata": {
    "collapsed": false
   },
   "outputs": [],
   "source": [
    "#### MODEL working VI for multi-class setting and converges quickly\n",
    "C = 72\n",
    "N = Xtrain_scaled.shape[0]\n",
    "X = tf.placeholder(tf.float32, [N, D])\n",
    "#w = MultivariateNormalTriL(loc = tf.zeros((D,C-1)), scale_tril = tf.cast(sample_cov[:-1,:-1], tf.float32))\n",
    "w = MultivariateNormalTriL(loc = tf.zeros((D,C-1)), \n",
    "                           scale_tril = rbf(tf.cast(np.mean(x_train_scaled, axis=1), tf.float32))[:-1,:-1])\n",
    "\n",
    "b = Normal(loc = tf.zeros(C-1), scale = 1 * tf.ones([]))\n",
    "\n",
    "logits = tf.matmul(X, w) + b\n",
    "logits = tf.concat([logits, np.zeros((N, 1))], axis = 1)\n",
    "\n",
    "y = Multinomial(logits = tf.nn.softmax(logits), total_count=1.0)\n",
    "\n",
    "# INFERENCE\n",
    "qw_loc = tf.Variable(tf.random_normal([D,C-1]))\n",
    "qw_scale = tf.nn.softplus(tf.Variable(tf.random_normal([C-1])))\n",
    "\n",
    "qb_loc = tf.Variable(tf.random_normal([C-1]))\n",
    "qb_scale = tf.nn.softplus(tf.Variable(tf.random_normal([])))\n",
    "\n",
    "qw = Normal(loc = qw_loc, scale = qw_scale)\n",
    "qb = Normal(loc = qb_loc, scale = qb_scale)\n",
    "\n",
    "inference = ed.KLqp({w: qw, b: qb}, data={X: Xtrain_scaled, y: Ytrain_hot})\n",
    "inference.initialize(n_iter = 10000)"
   ]
  },
  {
   "cell_type": "code",
   "execution_count": null,
   "metadata": {
    "collapsed": true
   },
   "outputs": [],
   "source": [
    "sess = ed.get_session()\n",
    "init = tf.global_variables_initializer()\n",
    "init.run()\n",
    "learning_curve = []\n",
    "for _ in range(inference.n_iter):\n",
    "    info_dict = inference.update()\n",
    "    if _%1000 == 0:\n",
    "        print(info_dict)\n",
    "    learning_curve.append(info_dict['loss'])\n",
    "inference.finalize()"
   ]
  },
  {
   "cell_type": "code",
   "execution_count": null,
   "metadata": {
    "collapsed": false
   },
   "outputs": [],
   "source": [
    "A = np.zeros((C-1,C))\n",
    "for i in range(C-1):\n",
    "    A[i,i] = -1\n",
    "    A[i,i+1] = 1\n",
    "precision = A.T.dot(A) + .01 * np.identity(C) # A^T.dot(A) + .1 * I for invertability\n",
    "lambda_1 = 1\n",
    "precision = lambda_1 * precision\n",
    "#precision = precision + 1 * np.identity(C) # add sparsity prior \n",
    "cov_matrix = tf.matrix_inverse(precision)\n",
    "cov_matrix_chol = tf.cholesky(cov_matrix)"
   ]
  },
  {
   "cell_type": "code",
   "execution_count": null,
   "metadata": {
    "collapsed": true
   },
   "outputs": [],
   "source": [
    "A = np.zeros((D-1,D))\n",
    "for i in range(D-1):\n",
    "    A[i,i] = -1\n",
    "    A[i,i+1] = 1\n",
    "precision = A.T.dot(A) + .01 * np.identity(D) # A^T.dot(A) + .1 * I for invertability\n",
    "lambda_1 = 1\n",
    "precision = lambda_1 * precision\n",
    "precision = precision + 1 * np.identity(D) # add sparsity prior \n",
    "cov_matrix = tf.matrix_inverse(precision)\n",
    "cov_matrix_chol = tf.cholesky(cov_matrix)"
   ]
  },
  {
   "cell_type": "code",
   "execution_count": null,
   "metadata": {
    "collapsed": false
   },
   "outputs": [],
   "source": [
    "lambdas = [1e-6, 1e-5, 1e-4, 1e-3, 1e-2, 1e-1, 1, 1e1, 1e2, 1e3, 1e4, 1e5, 1e6]    \n",
    "\n",
    "C = 72\n",
    "N = Xtrain_scaled.shape[0]\n",
    "X = tf.placeholder(tf.float32, [N, D])\n",
    "#w = Normal(loc = tf.zeros((D,C-1)), scale = 1 * tf.ones((D,C-1)))\n",
    "w = MultivariateNormalTriL(loc = tf.zeros((D,C-1)), \n",
    "                           scale_tril = tf.cast(tf.cholesky(cov_matrix[:-1,:-1]), tf.float32))\n",
    "\n",
    "# define a (batch of D) C-1 multivariate normals\n",
    "#w = MultivariateNormalFullCovariance(loc = tf.zeros((D,C-1)),\n",
    "#                                     covariance_matrix = tf.cast(cov_matrix[:-1,:-1], tf.float32))\n",
    "\n",
    "#w = MultivariateNormalTriL(loc = tf.zeros((D,C-1)),\n",
    "#                                     scale_tril = tf.cast(cov_matrix_chol[:-1,:-1], tf.float32))\n",
    "\n",
    "#w = MultivariateNormalTriL(loc = tf.zeros((D,C-1)), scale_tril = rbf_kernel)\n",
    "#w = Normal(loc = tf.zeros((D,C-1)), scale = 1* tf.ones(C-1))\n",
    "#b = Normal(loc = tf.zeros(C-1, 1), scale = 1 * tf.ones([]))\n",
    "\n",
    "logits = tf.matmul(X, (w)) #+ b\n",
    "logits = tf.concat([logits, np.zeros((N, 1))], axis = 1)\n",
    "\n",
    "y = Categorical(probs = tf.nn.softmax(logits))\n",
    "\n",
    "\n",
    "# INFERENCE\n",
    "qw_loc = tf.Variable(tf.random_normal([D,C-1]))\n",
    "#qb_loc = tf.Variable(tf.zeros([C-1]))\n",
    "\n",
    "qw = PointMass(params = qw_loc)\n",
    "#qb = PointMass(params = qb_loc)\n",
    "\n",
    "inference = ed.MAP({w: qw}, data={X: Xtrain_scaled, y: Ytrain})\n",
    "inference.initialize(n_iter = 5000)\n",
    "\n",
    "sess = ed.get_session()\n",
    "init = tf.global_variables_initializer()\n",
    "init.run()\n",
    "learning_curve = []\n",
    "for _ in range(inference.n_iter):\n",
    "    info_dict = inference.update()\n",
    "    if _%1000 == 0:\n",
    "        print(info_dict)\n",
    "    learning_curve.append(info_dict['loss'])\n",
    "inference.finalize()"
   ]
  },
  {
   "cell_type": "code",
   "execution_count": null,
   "metadata": {
    "collapsed": true
   },
   "outputs": [],
   "source": [
    "\n",
    "'''\n",
    "qw_loc = tf.Variable(tf.random_normal([D,C-1]))\n",
    "qw_scale = tf.nn.softplus(tf.Variable(tf.random_normal([D,C-1])))\n",
    "\n",
    "qb_loc = tf.Variable(tf.random_normal([C-1]))\n",
    "qb_scale = tf.nn.softplus(tf.Variable(tf.random_normal([])))\n",
    "\n",
    "qw = Normal(loc = qw_loc, scale = qw_scale)\n",
    "qb = Normal(loc = qb_loc, scale = qb_scale)\n",
    "\n",
    "inference = ed.KLqp({w: qw, b: qb}, data={X: Xtrain_scaled, y: Ytrain})\n",
    "inference.initialize(n_iter = 10000)\n",
    "'''\n",
    "'''\n",
    "# EVALUATION ON TEST DATA\n",
    "qw_mod = tf.concat([tf.transpose(qw.mean()), np.zeros((58,1))], axis=1)\n",
    "qb_mod = tf.concat([qb.mean(), np.zeros((1))], axis=0)\n",
    "logits = tf.matmul(tf.cast(sklearn.preprocessing.scale(Xtest), tf.float32), qw_mod) + qb_mod\n",
    "print(compute_average_auc(tf.nn.softmax(logits).eval(), Ytest_hot))\n",
    "\n",
    "print(evaluate_multiclass_model(x_test_scaled, qw_mod.eval(), qb_mod.eval()))\n",
    "'''"
   ]
  },
  {
   "cell_type": "code",
   "execution_count": null,
   "metadata": {
    "collapsed": true
   },
   "outputs": [],
   "source": []
  },
  {
   "cell_type": "code",
   "execution_count": null,
   "metadata": {
    "collapsed": true
   },
   "outputs": [],
   "source": []
  },
  {
   "cell_type": "markdown",
   "metadata": {},
   "source": [
    "# STAN"
   ]
  },
  {
   "cell_type": "code",
   "execution_count": null,
   "metadata": {
    "collapsed": true
   },
   "outputs": [],
   "source": [
    "import pystan"
   ]
  },
  {
   "cell_type": "code",
   "execution_count": null,
   "metadata": {
    "collapsed": false
   },
   "outputs": [],
   "source": [
    "Ytrain=Ytrain+1"
   ]
  },
  {
   "cell_type": "code",
   "execution_count": null,
   "metadata": {
    "collapsed": false
   },
   "outputs": [],
   "source": [
    "### MAP estimation with beta ~ normal(0,1)\n",
    "\n",
    "# K outcomes\n",
    "multi_logit_code = \"\"\"\n",
    "data {\n",
    "    int<lower=2> K; // num orientations\n",
    "    int<lower=0> N; // num samples\n",
    "    int<lower=1> D; // num features\n",
    "    int y[N];\n",
    "    vector[D] x[N];\n",
    "}\n",
    "parameters {\n",
    "    matrix[K,D] beta;\n",
    "    vector[K] intercept;\n",
    "}\n",
    "model {\n",
    "    for (k in 1:K) {\n",
    "        beta[k] ~ normal(0,1);\n",
    "    }\n",
    "    //for (d in 1:D) {\n",
    "    //    beta[:,d] ~ normal(0,1);\n",
    "    //}\n",
    "    intercept ~ normal(0,1);\n",
    "    for (n in 1:N) {\n",
    "       y[n] ~ categorical_logit(beta * x[n] + intercept);\n",
    "    }\n",
    "}\n",
    "\"\"\"\n",
    "dat = {'K': 72, 'N': 2520, 'D': 58, 'x': Xtrain_scaled, 'y': Ytrain}\n",
    "\n",
    "sm = pystan.StanModel(model_code = multi_logit_code)\n",
    "fit = sm.optimizing(data= dat);"
   ]
  },
  {
   "cell_type": "code",
   "execution_count": null,
   "metadata": {
    "collapsed": false
   },
   "outputs": [],
   "source": [
    "beta_ori = fit['beta']\n",
    "intercept_ori = fit['intercept']"
   ]
  },
  {
   "cell_type": "code",
   "execution_count": null,
   "metadata": {
    "collapsed": false
   },
   "outputs": [],
   "source": [
    "evaluate_multiclass_model(x_test_scaled_3d, beta_ori, intercept_ori)"
   ]
  },
  {
   "cell_type": "code",
   "execution_count": null,
   "metadata": {
    "collapsed": true
   },
   "outputs": [],
   "source": [
    "### MAP estimation with beta ~ normal(0,1)\n",
    "\n",
    "# K outcomes\n",
    "multi_logit_code = \"\"\"\n",
    "data {\n",
    "    int<lower=2> K; // num orientations\n",
    "    int<lower=0> N; // num samples\n",
    "    int<lower=1> D; // num neurons\n",
    "    int y[N];\n",
    "    vector[D] x[N];\n",
    "}\n",
    "transformed data {\n",
    "    row_vector[D] zeros;\n",
    "    zeros = rep_row_vector(0, D);\n",
    "}\n",
    "parameters {\n",
    "    matrix[K-1, D] beta_raw;\n",
    "    vector[K] intercept;\n",
    "    real<lower=0> sigma[K];\n",
    "    real<lower=0> sigma_intercept;\n",
    "}\n",
    "transformed parameters {\n",
    "    matrix[K, D] beta;\n",
    "    beta = append_row(beta_raw, zeros);\n",
    "}\n",
    "model {\n",
    "    for (k in 1:K) {\n",
    "        beta[k] ~ normal(0,sigma[k]);\n",
    "    }\n",
    "    //for (d in 1:D) {\n",
    "    //    beta[:,d] ~ normal(0,1);\n",
    "    //}\n",
    "    intercept ~ normal(0,sigma_intercept);\n",
    "    for (n in 1:N) {\n",
    "       y[n] ~ categorical_logit(beta * x[n] + intercept);\n",
    "    }\n",
    "}\n",
    "\"\"\"\n",
    "dat = {'K': 72, 'N': 2520, 'D': 58, 'x': Xtrain, 'y': Ytrain}\n",
    "\n",
    "sm = pystan.StanModel(model_code = multi_logit_code)\n",
    "fit = sm.vb(data= dat)"
   ]
  },
  {
   "cell_type": "code",
   "execution_count": null,
   "metadata": {
    "collapsed": true
   },
   "outputs": [],
   "source": []
  },
  {
   "cell_type": "code",
   "execution_count": null,
   "metadata": {
    "collapsed": true
   },
   "outputs": [],
   "source": [
    "# gaussian process prior\n",
    "multi_logit_code = \"\"\"\n",
    "data {\n",
    "    int<lower=2> K;\n",
    "    int<lower=0> N;\n",
    "    int<lower=1> D;\n",
    "    int y[N];\n",
    "    vector[D] x[N];\n",
    "}\n",
    "transformed data {\n",
    "    //cov_matrix[K] Kern;\n",
    "    //K = cov_exp_quad()\n",
    "    \n",
    "}\n",
    "parameters {\n",
    "    matrix[K,D] beta;\n",
    "    vector[K] intercept;\n",
    "    //cov_matrix[K] Kern;\n",
    "    //K = cov_exp_quad(beta, 1 1);\n",
    "}\n",
    "model {\n",
    "    for (d in 1:D) {\n",
    "        beta[:,d] ~ multi_normal(0, Kern);\n",
    "    }\n",
    "    // beta[:,d] ~ GP[0, squared rbf kernel] model each column as a gp \n",
    "    intercept ~ normal(0,1);\n",
    "    for (n in 1:N) {\n",
    "       y[n] ~ categorical_logit(beta * x[n] + intercept);\n",
    "    }\n",
    "}\n",
    "\"\"\"\n",
    "dat = {'K': 4, 'N': 140, 'D': 58, 'x': Xtrain_n, 'y': yt}\n",
    "\n",
    "sm = pystan.StanModel(model_code = multi_logit_code)\n",
    "fit = sm.vb(data= dat);"
   ]
  },
  {
   "cell_type": "code",
   "execution_count": null,
   "metadata": {
    "collapsed": true
   },
   "outputs": [],
   "source": []
  }
 ],
 "metadata": {
  "anaconda-cloud": {},
  "kernelspec": {
   "display_name": "Python [Root]",
   "language": "python",
   "name": "Python [Root]"
  },
  "language_info": {
   "codemirror_mode": {
    "name": "ipython",
    "version": 3
   },
   "file_extension": ".py",
   "mimetype": "text/x-python",
   "name": "python",
   "nbconvert_exporter": "python",
   "pygments_lexer": "ipython3",
   "version": "3.5.2"
  }
 },
 "nbformat": 4,
 "nbformat_minor": 0
}
