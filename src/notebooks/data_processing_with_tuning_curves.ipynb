{
 "cells": [
  {
   "cell_type": "markdown",
   "metadata": {},
   "source": [
    "# This notebook \n",
    "## 1) reads and processes .mat files from Graf 2011\n",
    "## 2) computes spike counts per trial\n",
    "## 3) plots tuning curves\n",
    "## 4) builds a Poisson Independent Decoder (PID)\n",
    "## 5) builds an L1 regularized multinomial logistic regression model\n",
    "## 6) builds a Bayesian hierarchical logistic regression model (many variations) \n",
    "## 7) evaluates the three models"
   ]
  },
  {
   "cell_type": "code",
   "execution_count": 1,
   "metadata": {
    "collapsed": true
   },
   "outputs": [],
   "source": [
    "#!/usr/bin/env python\n",
    "from __future__ import absolute_import\n",
    "from __future__ import division\n",
    "from __future__ import print_function"
   ]
  },
  {
   "cell_type": "code",
   "execution_count": 2,
   "metadata": {
    "collapsed": false
   },
   "outputs": [
    {
     "name": "stderr",
     "output_type": "stream",
     "text": [
      "/Users/farhan.damani/anaconda3/lib/python3.5/site-packages/sklearn/lda.py:4: DeprecationWarning: lda.LDA has been moved to discriminant_analysis.LinearDiscriminantAnalysis in 0.17 and will be removed in 0.19\n",
      "  \"in 0.17 and will be removed in 0.19\", DeprecationWarning)\n",
      "/Users/farhan.damani/anaconda3/lib/python3.5/site-packages/sklearn/qda.py:4: DeprecationWarning: qda.QDA has been moved to discriminant_analysis.QuadraticDiscriminantAnalysis in 0.17 and will be removed in 0.19.\n",
      "  \"in 0.17 and will be removed in 0.19.\", DeprecationWarning)\n"
     ]
    }
   ],
   "source": [
    "import scipy.io\n",
    "import numpy as np\n",
    "import pandas as pd\n",
    "import seaborn as sns\n",
    "import matplotlib.pyplot as plt\n",
    "\n",
    "import edward as ed\n",
    "import matplotlib.pyplot as plt\n",
    "import numpy as np\n",
    "import tensorflow as tf\n",
    "\n",
    "import sklearn\n",
    "from sklearn.cross_validation import train_test_split\n",
    "from sklearn import *\n",
    "from edward.models import Categorical, Empirical, Laplace,Bernoulli, Multinomial, Normal, PointMass, MultivariateNormalDiag, MultivariateNormalFullCovariance, MultivariateNormalTriL"
   ]
  },
  {
   "cell_type": "code",
   "execution_count": 3,
   "metadata": {
    "collapsed": false
   },
   "outputs": [
    {
     "data": {
      "text/plain": [
       "'1.2.1'"
      ]
     },
     "execution_count": 3,
     "metadata": {},
     "output_type": "execute_result"
    }
   ],
   "source": [
    "tf.__version__"
   ]
  },
  {
   "cell_type": "code",
   "execution_count": 4,
   "metadata": {
    "collapsed": false
   },
   "outputs": [],
   "source": [
    "ed.set_seed(42)"
   ]
  },
  {
   "cell_type": "code",
   "execution_count": 127,
   "metadata": {
    "collapsed": true
   },
   "outputs": [],
   "source": [
    "def read_data(file_path):\n",
    "    '''Read and process mat file from Graf2011\n",
    "    \n",
    "    param array_number: {1, 2, 3, 4, 5}\n",
    "\n",
    "    return:\n",
    "        spike_times: {Nx3600} N simultaneously recorded spike trains for 3600 trials\n",
    "            (50 repeated trials of 72 direction in random order)\n",
    "        orientation_per_trial: orientation for each trial (of length 3600)\n",
    "        num_neurons: number of neurons\n",
    "        orientations: sorted set of orientations\n",
    "        num_repeats: number of repeats for each (orientation,neuron) (=50)\n",
    "        num_trials: 50 repeated trials x 72 directions\n",
    "        trial_length: length of trial (in seconds)\n",
    "    '''\n",
    "    dataStruct = scipy.io.loadmat(file_path)\n",
    "    spike_times = pd.DataFrame.from_dict(dataStruct['spk_times'])\n",
    "    orientation_per_trial = dataStruct['ori'][0]\n",
    "    num_neurons = np.shape(dataStruct['neur_param'])[0]\n",
    "    orientations = np.sort(np.unique(dataStruct['ori']))\n",
    "    trial_length = 2560e-3\n",
    "    num_repeats = 50\n",
    "    num_trials = 3600 # 50 repeated trials x 72 directions\n",
    "    num_orientations = len(orientations)\n",
    "    return spike_times, orientation_per_trial, num_neurons, orientations, trial_length, num_repeats, num_trials, num_orientations"
   ]
  },
  {
   "cell_type": "code",
   "execution_count": 128,
   "metadata": {
    "collapsed": true
   },
   "outputs": [],
   "source": [
    "def compute_spike_counts(spike_times, num_neurons, num_trials):\n",
    "    '''\n",
    "        Compute spike counts for each (orientation, neuron, trial)\n",
    "        return 3D numpy array: orientation x trials x neurons\n",
    "        \n",
    "        TODO: add option to average [0 180] with responses from [180 360]\n",
    "    '''\n",
    "    spike_times_mat = spike_times.as_matrix()\n",
    "    spike_counts = np.zeros((num_orientations, num_neurons, num_repeats))\n",
    "    # for each orientation\n",
    "    for i in range(num_orientations):\n",
    "        # access indices in spike times that corresponds to ori\n",
    "        idx = np.where(orientation_per_trial == orientations[i])[0]\n",
    "        spike_times_ori = np.take(spike_times_mat, idx, axis = 1)\n",
    "        for j in range(num_neurons):\n",
    "            for k in range(num_repeats):\n",
    "                spike_counts[i, j, k] = np.count_nonzero(spike_times_ori[j][k])\n",
    "    return spike_counts"
   ]
  },
  {
   "cell_type": "code",
   "execution_count": 129,
   "metadata": {
    "collapsed": true
   },
   "outputs": [],
   "source": [
    "'''\n",
    "Filters to data\n",
    "1) spike counts observed after 1280 ms\n",
    "    - exclude\n",
    "    - use to filter neurons that do not have a significantly higher mean tc with stimulus than without\n",
    "\n",
    "2) from paper, \n",
    "To get visually driven neurons, we only accepted neurons of which the\n",
    "peak or trough of their tuning curve fell outside of the window defined\n",
    "by the mean and one s.d. of their spontaneous activity. Furthermore, we\n",
    "obtained meaningful sample of V1 neurons by only considering neurons with\n",
    "tuning curves that could be well approximated (r2   0.75) by bimodal\n",
    "circular Gaussian functions (the sum of two von Mises functions with\n",
    "different preferred orientations, amplitudes and bandwidths), allowing us\n",
    "to accommo- date for direction (mono-modal) or orientation (bi-modal)\n",
    "tuning. We obtained populations of simultaneously recorded neurons of\n",
    "sizes 40, 57, 60, 70 and 74. Each data set was obtained in a ~3-h-long\n",
    "recording session.\n",
    "\n",
    "3) average across 180 degree axis?\n",
    "\n",
    "4) if max of tc for neuron i across orientations - min of tc for neuron i across orientations is \n",
    "    not greater than 10, -> exclude neuron\n",
    "    \n",
    "5) divisive normalization\n",
    "\n",
    "'''\n",
    "\n",
    "def normalize_spike_counts(spike_counts, num_orientations, num_neurons, num_repeats):\n",
    "    '''\n",
    "        Normalize by variance of spike counts\n",
    "            for each trial\n",
    "                square spike counts across (neurons, orientations) then sum across neurons\n",
    "                divide the square of each spike count by the summed squared spike counts across neurons\n",
    "                \n",
    "        PROBLEM: mean tuning curve gives same mean for all entries\n",
    "    '''\n",
    "    spike_counts_norm = np.zeros((num_orientations, num_neurons, num_repeats))\n",
    "    for i in range(num_repeats):\n",
    "        variance_sum = np.sum(spike_counts[:, :, i]**2, axis = 1).reshape(-1,1)\n",
    "        spike_counts_norm[:, :, i] = (spike_counts[:, :, i]**2) / np.tile(variance_sum, num_neurons)\n",
    "    return spike_counts_norm"
   ]
  },
  {
   "cell_type": "code",
   "execution_count": null,
   "metadata": {
    "collapsed": false
   },
   "outputs": [],
   "source": [
    "best fit to the tuning curve \n",
    "\n",
    "one von mise might get too narrow - add a constraint to keep the means separate and prevent variances from going to 0"
   ]
  },
  {
   "cell_type": "markdown",
   "metadata": {},
   "source": [
    "From Graf 2011, \"Evoked activity was estimated over the full stimulus presentation. We neglected the contamination by the blank preceding each grating because this period of the response (the first ~60 ms corresponding to typical V1 response latencies50) was of negligible duration compared with the 1,280 ms stimulus presentation time and this contamination was the same for each grating. Spontaneous activity was assessed on the last 500 ms of each blank presentation to avoid contamina- tion induced by the preceding grating. To get visually driven neurons, we only accepted neurons of which the peak or trough of their tuning curve fell outside of the window defined by the mean and one s.d. of their spontaneous activity. Furthermore, we obtained meaningful sample of V1 neurons by only considering neurons with tuning curves that could be well approximated (r2   0.75) by bimodal circular Gaussian functions (the sum of two von Mises functions with different preferred orientations, amplitudes and bandwidths), allowing us to accommo- date for direction (mono-modal) or orientation (bi-modal) tuning.\"\n",
    "\n",
    "\n",
    "\n",
    "From Montijn 2014, \"To further parameterize neuronal orientation tuning, we also calculated each neuron's preferred direction by fitting a double von Mises distribution to the neuron's responses, where the peaks of both von Mises functions are opposite to each other (separated by 180°):\n",
    "\n",
    "$$f(x∣∣θ,κ1,κ2,μ0)= \\frac{e^{κ_1cos(x−θ)}}{2πI_0(κ_1)} + \\frac{e^{κ_2cos(x+π−θ)}}{2πI_0(κ_2)}+μ_0$$\n",
    "(1)\n",
    "Here, I0(κ) is the modified Bessel function of order 0 and x represents the stimulus angle. As can be seen in the equation, we defined the free parameters as θ (preferred direction), κ1 (concentration parameter at θ), κ2 (concentration parameter at θ +π) and μ0 (baseline response). A neuron's preferred direction was defined as the angle with the highest concentration parameter (which could be either κ1 or κ2).\"\n",
    "\n",
    "## is this based on training data or all?"
   ]
  },
  {
   "cell_type": "code",
   "execution_count": 130,
   "metadata": {
    "collapsed": true
   },
   "outputs": [],
   "source": [
    "def compute_mean_tc(spike_counts):\n",
    "    return np.mean(spike_counts, axis=2)\n",
    "\n",
    "def compute_var_tc(spike_counts):\n",
    "    return np.var(spike_counts, axis=2)\n",
    "\n",
    "def compute_cov_tc(spike_counts):\n",
    "    tc_cov = np.zeros((num_neurons, num_neurons, num_orientations))\n",
    "    for i in range(num_orientations):\n",
    "        tc_cov[:, :, i] = np.cov(spike_counts[i])\n",
    "    return tc_cov"
   ]
  },
  {
   "cell_type": "code",
   "execution_count": 131,
   "metadata": {
    "collapsed": true
   },
   "outputs": [],
   "source": [
    "def compute_preferred_orientation(mean_tc, num_neurons):\n",
    "    '''max of tuning curve across orientations'''\n",
    "    pref_ori = np.zeros(147)\n",
    "    for i in range(num_neurons):\n",
    "        pref_ori[i] = np.argmax(mean_tc[:,i])\n",
    "    return pref_ori"
   ]
  },
  {
   "cell_type": "code",
   "execution_count": 132,
   "metadata": {
    "collapsed": false
   },
   "outputs": [
    {
     "ename": "NameError",
     "evalue": "name 'pref_ori' is not defined",
     "output_type": "error",
     "traceback": [
      "\u001b[0;31m---------------------------------------------------------------------------\u001b[0m",
      "\u001b[0;31mNameError\u001b[0m                                 Traceback (most recent call last)",
      "\u001b[0;32m<ipython-input-132-635085cd56b9>\u001b[0m in \u001b[0;36m<module>\u001b[0;34m()\u001b[0m\n\u001b[0;32m----> 1\u001b[0;31m \u001b[0mplt\u001b[0m\u001b[0;34m.\u001b[0m\u001b[0mplot\u001b[0m\u001b[0;34m(\u001b[0m\u001b[0mpref_ori\u001b[0m\u001b[0;34m)\u001b[0m\u001b[0;34m\u001b[0m\u001b[0m\n\u001b[0m",
      "\u001b[0;31mNameError\u001b[0m: name 'pref_ori' is not defined"
     ]
    }
   ],
   "source": [
    "plt.plot(pref_ori)"
   ]
  },
  {
   "cell_type": "code",
   "execution_count": 133,
   "metadata": {
    "collapsed": true
   },
   "outputs": [],
   "source": [
    "def filter_to_well_tuned_neurons(mean_tc, thresh):\n",
    "    '''Filter to well tuned neurons, example thresh = 10'''\n",
    "    maxdiff = np.max(mean_tc, axis=0) - np.min(mean_tc, axis=0)\n",
    "    ind_tuned = np.where(maxdiff > thresh)[0]\n",
    "    return ind_tuned"
   ]
  },
  {
   "cell_type": "code",
   "execution_count": 546,
   "metadata": {
    "collapsed": false
   },
   "outputs": [],
   "source": [
    "# path to mat file from Graf 2011\n",
    "file_path = '../../data/graf_V1data/array_2.mat'\n",
    "\n",
    "# read and process data\n",
    "spike_times, orientation_per_trial, num_neurons, orientations, trial_length,\\\n",
    "    num_repeats, num_trials, num_orientations = read_data(file_path)\n",
    "\n",
    "# compute spike counts\n",
    "spike_counts = compute_spike_counts(spike_times, num_neurons, num_trials)\n",
    "\n",
    "# compute tuning curves\n",
    "mean_tc = compute_mean_tc(spike_counts)\n",
    "var_tc = compute_var_tc(spike_counts)\n",
    "cov_tc = compute_cov_tc(spike_counts)\n",
    "\n",
    "# identify indices for well-tuned neurons\n",
    "ind_well_tuned = filter_to_well_tuned_neurons(mean_tc, 10)\n",
    "\n",
    "# normalize spike counts\n",
    "spike_counts_norm = normalize_spike_counts(spike_counts, num_orientations, num_neurons, num_repeats)\n",
    "\n",
    "# compute normalized tuning curves\n",
    "mean_tc_norm = compute_mean_tc(spike_counts_norm)\n",
    "var_tc_norm = compute_var_tc(spike_counts_norm)\n",
    "cov_tc_norm = compute_cov_tc(spike_counts_norm)"
   ]
  },
  {
   "cell_type": "code",
   "execution_count": 547,
   "metadata": {
    "collapsed": false
   },
   "outputs": [
    {
     "data": {
      "image/png": "[encoded data removed]",
      "text/plain": [
       "<matplotlib.figure.Figure at 0x133e9ccf8>"
      ]
     },
     "metadata": {},
     "output_type": "display_data"
    }
   ],
   "source": [
    "# plot mean tuning curve for 10 well tuned neurons\n",
    "%matplotlib inline\n",
    "sns.set_style(\"darkgrid\")\n",
    "plt.plot(orientations, mean_tc[:, ind_well_tuned[0:10]]);"
   ]
  },
  {
   "cell_type": "code",
   "execution_count": 548,
   "metadata": {
    "collapsed": false
   },
   "outputs": [
    {
     "data": {
      "image/png": "[encoded data removed]",
      "text/plain": [
       "<matplotlib.figure.Figure at 0x1311cb860>"
      ]
     },
     "metadata": {},
     "output_type": "display_data"
    }
   ],
   "source": [
    "# plot variance tuning curve for 10 well tuned neurons\n",
    "plt.plot(orientations, var_tc[:, ind_well_tuned[0:10]]);"
   ]
  },
  {
   "cell_type": "markdown",
   "metadata": {},
   "source": [
    "## EVALUATION METRICS\n",
    "1) Figure 4 from Graf '11 measuring orientation discrimination accuracy.\n",
    "Compute likelihood ratio tests between $\\theta$ and $\\theta + \\delta \\theta$ where $\\delta = \\in \\{5, 10, 15, 20, 25, 30\\}$ across all 72 values of $\\theta$. So train each model on 35 samples and test on 15 for each class."
   ]
  },
  {
   "cell_type": "code",
   "execution_count": 135,
   "metadata": {
    "collapsed": false
   },
   "outputs": [],
   "source": [
    "def likelihood_ratio_test(likelihood_one, likelihood_two):\n",
    "    diff = likelihood_one - likelihood_two\n",
    "    diff[diff > 0] = 1\n",
    "    diff[diff < 0] = 2\n",
    "    return diff\n",
    "\n",
    "def likelihood(w_i, r_i, b_i):\n",
    "    '''Compute data likelihood given w, r, b for stimulus i'''\n",
    "    #return np.log(np.sum(np.dot(w_i, r_i.T)) + b_i)\n",
    "    return np.log(np.dot(w_i, r_i.T) + b_i)\n",
    "    \n",
    "\n",
    "def evaluate_model(x_test, w, b):    \n",
    "    probabilities = np.zeros((72, 6)) # orientations x deltas\n",
    "    deltas = [1, 2, 3, 4, 5, 6]\n",
    "    # for each ori\n",
    "    for i in range(72):\n",
    "        # for each delta\n",
    "        for delta in deltas:\n",
    "            test_data = (np.concatenate((x_test[i], x_test[(i+delta) % 72])))\n",
    "            test_labels = np.repeat(np.arange(1,3), 15)\n",
    "            likelihoods_one = likelihood(w[i], test_data, b[i])\n",
    "            likelihoods_two = likelihood(w[(i+delta) % 72], test_data, b[(i+delta) % 72])\n",
    "            pred_labels = likelihood_ratio_test(likelihoods_one, likelihoods_two)\n",
    "            probabilities[i][delta-1] = sklearn.metrics.accuracy_score(pred_labels, test_labels)\n",
    "    return np.mean(probabilities, axis=0)"
   ]
  },
  {
   "cell_type": "code",
   "execution_count": 136,
   "metadata": {
    "collapsed": false
   },
   "outputs": [],
   "source": [
    "def multiclass_log_likelihood(c, w, x, b):\n",
    "    logit = np.dot(w[c], x.T) + b[c]\n",
    "    numerator = np.exp(logit)\n",
    "    denominator = 0\n",
    "    C = 72\n",
    "    for i in range(C):\n",
    "        denominator = denominator + np.exp(np.dot(w[i], x.T) + b[i])\n",
    "    return np.log(numerator / denominator)\n",
    "\n",
    "def evaluate_multiclass_model(x, w, b):    \n",
    "    deltas = [1, 2, 3, 4, 5, 6]\n",
    "    C = 72\n",
    "    probabilities = np.zeros((C, len(deltas))) # orientations x deltas\n",
    "\n",
    "    # for each ori\n",
    "    for i in range(C):\n",
    "        # for each delta\n",
    "        for delta in deltas:\n",
    "            test_data = (np.concatenate((x[i], x[(i+delta) % C])))\n",
    "            test_labels = np.repeat(np.arange(1,3), 15)\n",
    "            likelihoods_one = multiclass_log_likelihood(i, w, test_data, b)\n",
    "            likelihoods_two = multiclass_log_likelihood((i+delta)%C, w, test_data, b)\n",
    "            pred_labels = likelihood_ratio_test(likelihoods_one, likelihoods_two)\n",
    "            \n",
    "            probabilities[i][delta-1] = sklearn.metrics.accuracy_score(pred_labels.astype(int), test_labels)\n",
    "    return np.mean(probabilities, axis=0)"
   ]
  },
  {
   "cell_type": "code",
   "execution_count": 555,
   "metadata": {
    "collapsed": false
   },
   "outputs": [
    {
     "data": {
      "text/plain": [
       "array([ 0.55648148,  0.58425926,  0.6037037 ,  0.66203704,  0.71527778,\n",
       "        0.82638889])"
      ]
     },
     "execution_count": 555,
     "metadata": {},
     "output_type": "execute_result"
    }
   ],
   "source": [
    "evaluate_model(x_test, w, b)"
   ]
  },
  {
   "cell_type": "code",
   "execution_count": null,
   "metadata": {
    "collapsed": true
   },
   "outputs": [],
   "source": [
    "# green is sklearn l1\n",
    "# blue is with Stan normal(0,1) prior\n",
    "# yellow is VI with sample covariance prior\n",
    "# brown is edward normal(0, .1) prior\n",
    "# red is PID\n",
    "\n",
    "xticks = [5, 10, 15, 20, 25, 30]\n",
    "#plt.plot(xticks, evaluate_multiclass_model(x_test_scaled, w_model.T, b_model))\n",
    "#plt.plot(xticks, evaluate_multiclass_model(x_test_scaled, beta, intercept))\n",
    "#plt.plot(xticks,evaluate_multiclass_model(x_test_scaled, lr.coef_, lr.intercept_))\n",
    "#plt.plot(xticks, evaluate_multiclass_model(x_test_scaled, beta_ori, intercept_ori))\n",
    "#plt.plevaluate_multiclass_model(x_test_scaled, qw_mod.eval().T, qb_mod.eval())\n",
    "\n",
    "plt.plot(xticks, evaluate_model(x_test_scaled, w, b))\n",
    "#plt.plot(xticks, evaluate_multiclass_model(x_test_scaled, w_vi.T, b_vi))\n",
    "\n",
    "#plt.plot(xticks,evaluate_multiclass_model(x_test_scaled, qw_mod.eval().T, qb_mod.eval()))\n",
    "plt.plot(xticks,([ 0.91157407,  0.94722222,  0.97685185,  0.98842593,  0.99583333,\n",
    "        0.99768519]))\n",
    "plt.plot(xticks,([ 0.92037037,  0.96435185,  0.98148148,  0.9912037 ,  0.99768519,\n",
    "        0.99722222]))\n",
    "\n",
    "#plt.plot(xticks, evaluate_multiclass_model(x_test_scaled, qw_mod.eval().T, qb_mod.eval()))\n",
    "\n",
    "plt.ylabel(\"probability correct\")\n",
    "plt.xlabel(\"orientation difference (degrees)\")"
   ]
  },
  {
   "cell_type": "markdown",
   "metadata": {},
   "source": [
    "### Lets build a Poisson Independent Decoder (PID). We assume each neuron's stimulus-specific spike counts is Poisson distributed and statistically independent across neurons. The rate parameter $w_i(\\theta)$ is the logarithm of the mean neuronal tuning function for neuron i across trials for stimulus $\\theta$.\n",
    "\n",
    "### The likelihood function is $\\log L(\\theta) = \\sum_{i=1}^N w_i(\\theta)r_i + b(\\theta)$. The offset b incorporates overall bias in coverage of orientations and is the sum of the mean tuning curve across neurons for stimulus $\\theta$."
   ]
  },
  {
   "cell_type": "code",
   "execution_count": 549,
   "metadata": {
    "collapsed": false
   },
   "outputs": [],
   "source": [
    "def compute_mean_tc_training(x):\n",
    "    '''compute mean tuning curve (mean of samples for a given orientation,neuron) given training data (orientation,samples) x neurons'''\n",
    "    mean_tc = np.zeros((x.shape[0], x.shape[2]))\n",
    "    for i in range(72):\n",
    "        mean_tc[i] = np.mean(x[i], axis = 0)\n",
    "    return mean_tc"
   ]
  },
  {
   "cell_type": "code",
   "execution_count": 550,
   "metadata": {
    "collapsed": false
   },
   "outputs": [],
   "source": [
    "# filter to well-tuned neurons then rotate axes so we have ori x samples x neurons\n",
    "spike_counts_filt = np.rollaxis(np.rollaxis(spike_counts[:, ind_well_tuned, :], 2), 1)\n",
    "# train/test split\n",
    "inds = np.arange(50)\n",
    "train_ind = np.random.choice(inds, size = 35, replace = False)\n",
    "test_ind =  np.array([x for x in inds if x not in train_ind])\n",
    "x_train, x_test = spike_counts_filt[:, train_ind, :], spike_counts_filt[:, test_ind, :]\n",
    "# compute mean training curve on training data\n",
    "mean_tc_train = compute_mean_tc_training(x_train)\n",
    "# weights are log of mean tuning curve\n",
    "w = np.log(mean_tc_train)\n",
    "b = np.sum(w, axis=1)"
   ]
  },
  {
   "cell_type": "code",
   "execution_count": 551,
   "metadata": {
    "collapsed": false
   },
   "outputs": [],
   "source": [
    "def likelihood_(w_i, r_i, b_i):\n",
    "    '''Compute data likelihood given w, r, b for stimulus i'''\n",
    "    return np.log(np.sum(np.dot(w_i, r_i.T)) + b_i)"
   ]
  },
  {
   "cell_type": "code",
   "execution_count": 552,
   "metadata": {
    "collapsed": false
   },
   "outputs": [],
   "source": [
    "def plot_likelihood(w, x_train, b, stimulus_choice):\n",
    "    '''plot likelihood of stimulus-specific spike train as a function of model choice'''\n",
    "    sx = []\n",
    "    for i in range(72):\n",
    "        sx.append(likelihood(w[i], x_train[stimulus_choice], b[i]))\n",
    "    fig = plt.plot(sx)"
   ]
  },
  {
   "cell_type": "code",
   "execution_count": 553,
   "metadata": {
    "collapsed": true
   },
   "outputs": [],
   "source": [
    "def likelihood_ratio_test_(w, x_train, b, ori1, ori2):\n",
    "    '''given a population response, compute likelihood ratio test comparing two orientation models'''\n",
    "    val = likelihood(w[ori1], x_train, b[ori1]) - likelihood(w[ori2], x_train, b[ori2])\n",
    "    if val > 0:\n",
    "        return ori1\n",
    "    else:\n",
    "        return ori2"
   ]
  },
  {
   "cell_type": "code",
   "execution_count": 53,
   "metadata": {
    "collapsed": false
   },
   "outputs": [
    {
     "ename": "TypeError",
     "evalue": "likelihood_ratio_test() takes 2 positional arguments but 5 were given",
     "output_type": "error",
     "traceback": [
      "\u001b[0;31m---------------------------------------------------------------------------\u001b[0m",
      "\u001b[0;31mTypeError\u001b[0m                                 Traceback (most recent call last)",
      "\u001b[0;32m<ipython-input-53-46bf5c737416>\u001b[0m in \u001b[0;36m<module>\u001b[0;34m()\u001b[0m\n\u001b[0;32m----> 1\u001b[0;31m \u001b[0mlikelihood_ratio_test\u001b[0m\u001b[0;34m(\u001b[0m\u001b[0mw\u001b[0m\u001b[0;34m,\u001b[0m \u001b[0mx_train\u001b[0m\u001b[0;34m[\u001b[0m\u001b[0;36m10\u001b[0m\u001b[0;34m]\u001b[0m\u001b[0;34m,\u001b[0m \u001b[0mb\u001b[0m\u001b[0;34m,\u001b[0m \u001b[0;36m45\u001b[0m\u001b[0;34m,\u001b[0m\u001b[0;36m10\u001b[0m\u001b[0;34m)\u001b[0m\u001b[0;34m\u001b[0m\u001b[0m\n\u001b[0m",
      "\u001b[0;31mTypeError\u001b[0m: likelihood_ratio_test() takes 2 positional arguments but 5 were given"
     ]
    }
   ],
   "source": [
    "likelihood_ratio_test(w, x_train[10], b, 45,10)"
   ]
  },
  {
   "cell_type": "code",
   "execution_count": 54,
   "metadata": {
    "collapsed": false
   },
   "outputs": [
    {
     "data": {
      "image/png": "[encoded data removed]",
      "text/plain": [
       "<matplotlib.figure.Figure at 0x1329dea20>"
      ]
     },
     "metadata": {},
     "output_type": "display_data"
    }
   ],
   "source": [
    "# likelihood comparison -- which model provides best explanation of the data?,\n",
    "plot_likelihood(w, x_train, b, 1) # for example, we fit spike trains from ori 1 against all possible models\n",
    "plot_likelihood(w, x_test, b, 1)"
   ]
  },
  {
   "cell_type": "markdown",
   "metadata": {},
   "source": [
    "## DATA Processing "
   ]
  },
  {
   "cell_type": "code",
   "execution_count": 559,
   "metadata": {
    "collapsed": false
   },
   "outputs": [],
   "source": [
    "### DATA PROCESSING\n",
    "Xtrain = x_train.reshape(x_train.shape[0] * x_train.shape[1], x_train.shape[2])\n",
    "Xtest = x_test.reshape(x_test.shape[0] * x_test.shape[1], x_test.shape[2])\n",
    "\n",
    "Ytrain = np.repeat(np.arange(72), x_train.shape[1])\n",
    "Ytest = np.repeat(np.arange(72), x_test.shape[1])\n",
    "\n",
    "\n",
    "C = 72\n",
    "N,D = Xtrain.shape[0], Xtrain.shape[1]\n",
    "\n",
    "Xtrain_scaled = sklearn.preprocessing.scale(Xtrain)\n",
    "Xtest_scaled = sklearn.preprocessing.scale(Xtest)\n",
    "Ytrain_hot = tf.one_hot(Ytrain, depth=C).eval()\n",
    "Ytest_hot = tf.one_hot(Ytest, depth=C).eval()\n",
    "\n",
    "x_test_scaled_3d = np.zeros((72,15,D))\n",
    "for i in range(72):\n",
    "    x_test_scaled_3d[i] = Xtest_scaled[i*15:i*15+15]"
   ]
  },
  {
   "cell_type": "markdown",
   "metadata": {},
   "source": [
    "### Lets build a L1 regularized multinomial multi-class logistic regression model"
   ]
  },
  {
   "cell_type": "code",
   "execution_count": 560,
   "metadata": {
    "collapsed": false
   },
   "outputs": [
    {
     "data": {
      "text/plain": [
       "LogisticRegression(C=1.0, class_weight=None, dual=False, fit_intercept=True,\n",
       "          intercept_scaling=1, max_iter=100, multi_class='ovr', n_jobs=1,\n",
       "          penalty='l1', random_state=None, solver='liblinear', tol=0.0001,\n",
       "          verbose=0, warm_start=False)"
      ]
     },
     "execution_count": 560,
     "metadata": {},
     "output_type": "execute_result"
    }
   ],
   "source": [
    "# specify model\n",
    "lr = sklearn.linear_model.LogisticRegression(penalty='l1', fit_intercept=True)\n",
    "\n",
    "# fit the model\n",
    "lr.fit(Xtrain_scaled, np.repeat(np.arange(72),35))\n",
    "\n",
    "## predict labels and probability distributions on test data\n",
    "#labels_test = lr.predict(sklearn.preprocessing.scale(Xtest_scaled))\n",
    "#scores_test = lr.predict_proba(sklearn.preprocessing.scale(Xtest_scaled))"
   ]
  },
  {
   "cell_type": "code",
   "execution_count": 565,
   "metadata": {
    "collapsed": false
   },
   "outputs": [
    {
     "data": {
      "text/plain": [
       "array([ 0.80694444,  0.9462963 ,  0.99074074,  0.99398148,  0.9962963 ,\n",
       "        0.99675926])"
      ]
     },
     "execution_count": 565,
     "metadata": {},
     "output_type": "execute_result"
    }
   ],
   "source": [
    "evaluate_multiclass_model(x_test_scaled_3d, lr.coef_, lr.intercept_)"
   ]
  },
  {
   "cell_type": "code",
   "execution_count": 564,
   "metadata": {
    "collapsed": false
   },
   "outputs": [
    {
     "data": {
      "text/plain": [
       "((2520, 66), (72, 15, 58))"
      ]
     },
     "execution_count": 564,
     "metadata": {},
     "output_type": "execute_result"
    }
   ],
   "source": [
    "Xtrain_scaled.shape, x_test_scaled.shape"
   ]
  },
  {
   "cell_type": "code",
   "execution_count": null,
   "metadata": {
    "collapsed": true
   },
   "outputs": [],
   "source": []
  },
  {
   "cell_type": "code",
   "execution_count": 144,
   "metadata": {
    "collapsed": false
   },
   "outputs": [],
   "source": [
    "def evaluate_one_versus_all(y_test, scores):\n",
    "    '''AUC scores for one versus all classification on test data across all classes'''\n",
    "    aucs = []\n",
    "    for j in range(72):\n",
    "        sx = []\n",
    "        for i in range(len(y_test)):\n",
    "            if y_test[i] == (j+1):\n",
    "                sx.append(int(1))\n",
    "            else:\n",
    "                sx.append(int(0))\n",
    "        aucs.append(sklearn.metrics.roc_auc_score(np.array(sx),scores[:,j]))\n",
    "    plt.figure(figsize=(10,5))\n",
    "    plt.scatter(np.arange(72),aucs)\n",
    "    plt.xlabel('class')\n",
    "    plt.ylabel('auc')"
   ]
  },
  {
   "cell_type": "code",
   "execution_count": 145,
   "metadata": {
    "collapsed": false
   },
   "outputs": [],
   "source": [
    "def evaluate_one_versus_one(y_test, scores, delta):\n",
    "    '''AUC scores for one class versus one class on test data across all classes\n",
    "        delta, int : discriminate between class and class + delta    \n",
    "    '''\n",
    "    aucs = []\n",
    "    for j in range(1,73):\n",
    "        inds = np.concatenate((np.where(y_test == (j))[0], np.where(y_test == (((j-1)+delta) % 72) + 1)[0]))\n",
    "        #print(y_test[inds])\n",
    "        #print(scores[inds,j-1])\n",
    "        y = (y_test[inds] == j).astype(int)\n",
    "        aucs.append((sklearn.metrics.roc_auc_score(y, scores[inds,j-1])))\n",
    "    plt.figure(figsize=(10,5))\n",
    "    plt.scatter(np.arange(72),aucs)\n",
    "    plt.xlabel('class')\n",
    "    plt.ylabel('auc')"
   ]
  },
  {
   "cell_type": "code",
   "execution_count": null,
   "metadata": {
    "collapsed": false
   },
   "outputs": [],
   "source": [
    "evaluate_one_versus_one(y_test, scores_test, 1)\n",
    "evaluate_one_versus_one(y_test, scores_test, 2)\n",
    "evaluate_one_versus_one(y_test, scores_test, 5)\n",
    "evaluate_one_versus_one(y_test, scores_test, 10)\n",
    "evaluate_one_versus_one(y_test, scores_test, 20)"
   ]
  },
  {
   "cell_type": "markdown",
   "metadata": {},
   "source": [
    "## Takeaway: model does poorly at discriminating between small deltas."
   ]
  },
  {
   "cell_type": "markdown",
   "metadata": {},
   "source": [
    "### Lets build a Bayesian multinomial multi-class logistic regression model\n",
    "$$p(\\theta^{(i)} = c | r^{(i)}, w^{(c)}) = \\frac{\\exp{(w^{(c)T}r^{(i)})}}{\\sum_{j=1}^C(w^{(j)T}r^{(i)})}$$\n",
    "$$p(w^{(c)}|\\Lambda^{(c)}) = \\mathcal{N}(0, \\Lambda^{(c)}), \\Lambda^{(c)} \\in \\mathcal{R^{\\text{NxN}}}$$"
   ]
  },
  {
   "cell_type": "markdown",
   "metadata": {},
   "source": [
    "## Set variance across neurons; MAP estimation; two class setting\n",
    "$$p(y | x, w)$$\n",
    "$$p(w | 0, \\sigma I)$$"
   ]
  },
  {
   "cell_type": "code",
   "execution_count": 120,
   "metadata": {
    "collapsed": true
   },
   "outputs": [],
   "source": [
    "def compute_average_auc(predictions, labels):\n",
    "    classes = labels.shape[1]\n",
    "    aucs = np.zeros((classes))\n",
    "    for i in range(classes):\n",
    "        aucs[i] = sklearn.metrics.roc_auc_score(labels[:,i], predictions[:,i])\n",
    "    return np.mean(aucs)"
   ]
  },
  {
   "cell_type": "code",
   "execution_count": null,
   "metadata": {
    "collapsed": true
   },
   "outputs": [],
   "source": [
    "sess = ed.get_session()"
   ]
  },
  {
   "cell_type": "markdown",
   "metadata": {},
   "source": [
    "# 1) w ~ N(0,1) with MAP"
   ]
  },
  {
   "cell_type": "code",
   "execution_count": 566,
   "metadata": {
    "collapsed": false
   },
   "outputs": [
    {
     "name": "stdout",
     "output_type": "stream",
     "text": [
      "1000/1000 [100%] ██████████████████████████████ Elapsed: 24s | Loss: nan\n",
      "0.5\n",
      "[ 0.  0.  0.  0.  0.  0.]\n"
     ]
    }
   ],
   "source": [
    "C = 72\n",
    "N, D = Xtrain_scaled.shape[0], Xtrain_scaled.shape[1]\n",
    "\n",
    "# MODEL\n",
    "X = tf.placeholder(tf.float32, [N, D])\n",
    "w = Normal(loc = tf.zeros([D,C-1]), scale = 1 * tf.ones([C-1]))\n",
    "b = Normal(loc= tf.zeros(C-1), scale = 1.0 * tf.ones(C-1))\n",
    "logits = tf.matmul(X, w) + b\n",
    "logits = tf.concat([logits, np.zeros((N, 1))], axis = 1)\n",
    "y = Categorical(probs = tf.nn.softmax(logits))\n",
    "\n",
    "# INFERENCE\n",
    "qw_loc = tf.Variable(tf.zeros([D,C-1]))\n",
    "qb_loc = tf.Variable(tf.zeros([C-1]))\n",
    "\n",
    "qw = PointMass(params = qw_loc)\n",
    "qb = PointMass(params = qb_loc)\n",
    "\n",
    "inference = ed.MAP({w: qw, b: qb}, data={X: Xtrain_scaled, y: Ytrain})\n",
    "inference.run()\n",
    "\n",
    "# EVAL\n",
    "qw_mod = tf.concat([qw.mean(), np.zeros((D,1))], axis=1)\n",
    "qb_mod = tf.concat([qb.mean(), np.zeros((1))], axis=0)\n",
    "logits = tf.matmul(tf.cast(Xtest_scaled, tf.float32), qw_mod) + qb_mod\n",
    "print(compute_average_auc(tf.nn.softmax(logits).eval(), Ytest_hot))\n",
    "print(evaluate_multiclass_model(x_test_scaled_3d, qw_mod.eval().T, qb_mod.eval()))"
   ]
  },
  {
   "cell_type": "code",
   "execution_count": null,
   "metadata": {
    "collapsed": true
   },
   "outputs": [],
   "source": []
  },
  {
   "cell_type": "markdown",
   "metadata": {
    "collapsed": false
   },
   "source": [
    "# 2) w ~ N(0, $\\Lambda^{-1}$) with MAP and lambda1 = 1"
   ]
  },
  {
   "cell_type": "code",
   "execution_count": 382,
   "metadata": {
    "collapsed": false
   },
   "outputs": [
    {
     "ename": "ValueError",
     "evalue": "shapes (72,71,58) and (58,71,72) not aligned: 58 (dim 2) != 71 (dim 1)",
     "output_type": "error",
     "traceback": [
      "\u001b[0;31m---------------------------------------------------------------------------\u001b[0m",
      "\u001b[0;31mValueError\u001b[0m                                Traceback (most recent call last)",
      "\u001b[0;32m<ipython-input-382-f02ceea799b7>\u001b[0m in \u001b[0;36m<module>\u001b[0;34m()\u001b[0m\n\u001b[1;32m      5\u001b[0m         \u001b[0mA\u001b[0m\u001b[0;34m[\u001b[0m\u001b[0md\u001b[0m\u001b[0;34m,\u001b[0m\u001b[0mi\u001b[0m\u001b[0;34m,\u001b[0m\u001b[0mi\u001b[0m\u001b[0;34m]\u001b[0m \u001b[0;34m=\u001b[0m \u001b[0;34m-\u001b[0m\u001b[0;36m1\u001b[0m\u001b[0;34m\u001b[0m\u001b[0m\n\u001b[1;32m      6\u001b[0m         \u001b[0mA\u001b[0m\u001b[0;34m[\u001b[0m\u001b[0md\u001b[0m\u001b[0;34m,\u001b[0m\u001b[0mi\u001b[0m\u001b[0;34m,\u001b[0m\u001b[0mi\u001b[0m\u001b[0;34m+\u001b[0m\u001b[0;36m1\u001b[0m\u001b[0;34m]\u001b[0m \u001b[0;34m=\u001b[0m \u001b[0;36m1\u001b[0m\u001b[0;34m\u001b[0m\u001b[0m\n\u001b[0;32m----> 7\u001b[0;31m \u001b[0mprecision\u001b[0m \u001b[0;34m=\u001b[0m \u001b[0mA\u001b[0m\u001b[0;34m.\u001b[0m\u001b[0mT\u001b[0m\u001b[0;34m.\u001b[0m\u001b[0mdot\u001b[0m\u001b[0;34m(\u001b[0m\u001b[0mA\u001b[0m\u001b[0;34m)\u001b[0m \u001b[0;34m+\u001b[0m \u001b[0;36m.1\u001b[0m \u001b[0;34m*\u001b[0m \u001b[0mnp\u001b[0m\u001b[0;34m.\u001b[0m\u001b[0midentity\u001b[0m\u001b[0;34m(\u001b[0m\u001b[0mC\u001b[0m\u001b[0;34m)\u001b[0m \u001b[0;31m# A^T.dot(A) + .1 * I for invertability\u001b[0m\u001b[0;34m\u001b[0m\u001b[0m\n\u001b[0m\u001b[1;32m      8\u001b[0m \u001b[0mlambda_1\u001b[0m \u001b[0;34m=\u001b[0m \u001b[0;36m1\u001b[0m\u001b[0;34m\u001b[0m\u001b[0m\n\u001b[1;32m      9\u001b[0m \u001b[0mprecision\u001b[0m \u001b[0;34m=\u001b[0m \u001b[0mlambda_1\u001b[0m \u001b[0;34m*\u001b[0m \u001b[0mprecision\u001b[0m\u001b[0;34m\u001b[0m\u001b[0m\n",
      "\u001b[0;31mValueError\u001b[0m: shapes (72,71,58) and (58,71,72) not aligned: 58 (dim 2) != 71 (dim 1)"
     ]
    }
   ],
   "source": [
    "# COVARIANCE MATRIX\n",
    "A = np.zeros((C-1,C))\n",
    "for i in range(C-1):\n",
    "    A[i,i] = -1\n",
    "    A[i,i+1] = 1\n",
    "precision = A.T.dot(A) + .1 * np.identity(C) # A^T.dot(A) + .1 * I for invertability\n",
    "lambda_1 = 1\n",
    "precision = lambda_1 * precision\n",
    "#precision = precision  + 1 * np.identity(C)\n",
    "cov_matrix = np.linalg.inv(precision)\n",
    "cov_matrix_chol = tf.cholesky(cov_matrix)"
   ]
  },
  {
   "cell_type": "code",
   "execution_count": 383,
   "metadata": {
    "collapsed": false
   },
   "outputs": [
    {
     "data": {
      "text/plain": [
       "(72, 72)"
      ]
     },
     "execution_count": 383,
     "metadata": {},
     "output_type": "execute_result"
    }
   ],
   "source": [
    "cov_matrix.shape"
   ]
  },
  {
   "cell_type": "code",
   "execution_count": 385,
   "metadata": {
    "collapsed": false
   },
   "outputs": [],
   "source": [
    "cov_new = np.zeros((D, C-1, C-1))\n",
    "for d in range(D):\n",
    "    cov_new[d] = cov_matrix[:-1,:-1]"
   ]
  },
  {
   "cell_type": "code",
   "execution_count": 388,
   "metadata": {
    "collapsed": false
   },
   "outputs": [
    {
     "data": {
      "text/plain": [
       "array([[  2.70156212e+00,   1.97171833e+00,   1.43904638e+00, ...,\n",
       "          1.50207962e-09,   1.19183786e-09,   1.00077988e-09],\n",
       "       [  1.97171833e+00,   2.16889016e+00,   1.58295101e+00, ...,\n",
       "          1.65228758e-09,   1.31102164e-09,   1.10085787e-09],\n",
       "       [  1.43904638e+00,   1.58295101e+00,   1.88515075e+00, ...,\n",
       "          1.96772430e-09,   1.56130759e-09,   1.31102164e-09],\n",
       "       ..., \n",
       "       [  1.50207962e-09,   1.65228758e-09,   1.96772430e-09, ...,\n",
       "          1.73401072e+00,   1.37586557e+00,   1.15530696e+00],\n",
       "       [  1.19183786e-09,   1.31102164e-09,   1.56130759e-09, ...,\n",
       "          1.37586557e+00,   1.88515075e+00,   1.58295101e+00],\n",
       "       [  1.00077988e-09,   1.10085787e-09,   1.31102164e-09, ...,\n",
       "          1.15530696e+00,   1.58295101e+00,   2.16889016e+00]])"
      ]
     },
     "execution_count": 388,
     "metadata": {},
     "output_type": "execute_result"
    }
   ],
   "source": [
    "cov_new[1]"
   ]
  },
  {
   "cell_type": "code",
   "execution_count": 154,
   "metadata": {
    "collapsed": false
   },
   "outputs": [
    {
     "name": "stdout",
     "output_type": "stream",
     "text": [
      "1000/1000 [100%] ██████████████████████████████ Elapsed: 8s | Loss: 5021.923\n",
      "0.984804816554\n",
      "[ 0.7712963   0.87453704  0.95462963  0.98101852  0.99212963  0.99675926]\n"
     ]
    }
   ],
   "source": [
    "C = 72\n",
    "N, D = Xtrain_scaled.shape[0], Xtrain_scaled.shape[1]\n",
    "\n",
    "# MODEL\n",
    "X = tf.placeholder(tf.float32, [N, D])\n",
    "w = MultivariateNormalTriL(loc = tf.zeros([D,C-1]), scale_tril = tf.cast(cov_matrix_chol[:-1,:-1], tf.float32))\n",
    "b = Normal(loc= tf.zeros(C-1), scale = 1.0 * tf.ones(C-1))\n",
    "logits = tf.matmul(X, w) + b\n",
    "logits = tf.concat([logits, np.zeros((N, 1))], axis = 1)\n",
    "y = Categorical(probs = tf.nn.softmax(logits))\n",
    "\n",
    "# INFERENCE\n",
    "qw_loc = tf.Variable(tf.zeros([D,C-1]))\n",
    "qb_loc = tf.Variable(tf.zeros([C-1]))\n",
    "\n",
    "qw = PointMass(params = qw_loc)\n",
    "qb = PointMass(params = qb_loc)\n",
    "\n",
    "inference = ed.MAP({w: qw, b: qb}, data={X: Xtrain_scaled, y: Ytrain})\n",
    "inference.run()\n",
    "\n",
    "# EVAL\n",
    "qw_mod = tf.concat([qw.mean(), np.zeros((58,1))], axis=1)\n",
    "qb_mod = tf.concat([qb.mean(), np.zeros((1))], axis=0)\n",
    "logits = tf.matmul(tf.cast(Xtest_scaled, tf.float32), qw_mod) + qb_mod\n",
    "print(compute_average_auc(tf.nn.softmax(logits).eval(), Ytest_hot))\n",
    "print(evaluate_multiclass_model(x_test_scaled_3d, qw_mod.eval().T, qb_mod.eval()))\n"
   ]
  },
  {
   "cell_type": "code",
   "execution_count": 160,
   "metadata": {
    "collapsed": false
   },
   "outputs": [
    {
     "ename": "TypeError",
     "evalue": "'function' object is not subscriptable",
     "output_type": "error",
     "traceback": [
      "\u001b[0;31m---------------------------------------------------------------------------\u001b[0m",
      "\u001b[0;31mTypeError\u001b[0m                                 Traceback (most recent call last)",
      "\u001b[0;32m<ipython-input-160-34cb008c7ed3>\u001b[0m in \u001b[0;36m<module>\u001b[0;34m()\u001b[0m\n\u001b[0;32m----> 1\u001b[0;31m \u001b[0mtf\u001b[0m\u001b[0;34m.\u001b[0m\u001b[0mexp\u001b[0m\u001b[0;34m(\u001b[0m\u001b[0mtf\u001b[0m\u001b[0;34m.\u001b[0m\u001b[0mVariable\u001b[0m\u001b[0;34m(\u001b[0m\u001b[0mtf\u001b[0m\u001b[0;34m.\u001b[0m\u001b[0mzeros\u001b[0m\u001b[0;34m[\u001b[0m\u001b[0;36m10\u001b[0m\u001b[0;34m]\u001b[0m\u001b[0;34m)\u001b[0m\u001b[0;34m)\u001b[0m\u001b[0;34m\u001b[0m\u001b[0m\n\u001b[0m",
      "\u001b[0;31mTypeError\u001b[0m: 'function' object is not subscriptable"
     ]
    }
   ],
   "source": [
    "tf.exp(tf.Variable(tf.zeros[10]))"
   ]
  },
  {
   "cell_type": "code",
   "execution_count": 336,
   "metadata": {
    "collapsed": false
   },
   "outputs": [
    {
     "data": {
      "text/plain": [
       "array([[ 1.04880881,  0.        ,  0.        , ...,  0.        ,\n",
       "         0.        ,  0.        ],\n",
       "       [ 0.9534626 ,  0.43693143,  0.        , ...,  0.        ,\n",
       "         0.        ,  0.        ],\n",
       "       [ 0.9534626 ,  0.20806254,  0.38421226, ...,  0.        ,\n",
       "         0.        ,  0.        ],\n",
       "       ..., \n",
       "       [ 0.9534626 ,  0.20806254,  0.12393942, ...,  0.31908447,\n",
       "         0.        ,  0.        ],\n",
       "       [ 0.9534626 ,  0.20806254,  0.12393942, ...,  0.00568778,\n",
       "         0.31903377,  0.        ],\n",
       "       [ 0.9534626 ,  0.20806254,  0.12393942, ...,  0.00568778,\n",
       "         0.00558728,  0.31898484]], dtype=float32)"
      ]
     },
     "execution_count": 336,
     "metadata": {},
     "output_type": "execute_result"
    }
   ],
   "source": [
    "tf.cholesky(.1*np.identity(D) + tf.ones((D,D))).eval()"
   ]
  },
  {
   "cell_type": "markdown",
   "metadata": {},
   "source": [
    "# 3) Lets now replicate 1) with variational inference instead of MAP\n",
    "# starting with binary classification..."
   ]
  },
  {
   "cell_type": "code",
   "execution_count": 337,
   "metadata": {
    "collapsed": false
   },
   "outputs": [
    {
     "name": "stdout",
     "output_type": "stream",
     "text": [
      "{'loss': 1141.4717, 't': 1}\n",
      "{'loss': 60.790092, 't': 1001}\n",
      "{'loss': 55.615585, 't': 2001}\n",
      "{'loss': 56.857479, 't': 3001}\n",
      "{'loss': 61.98587, 't': 4001}\n",
      "{'loss': 56.89679, 't': 5001}\n",
      "{'loss': 57.031734, 't': 6001}\n",
      "{'loss': 52.859249, 't': 7001}\n",
      "{'loss': 56.449089, 't': 8001}\n",
      "{'loss': 52.592323, 't': 9001}\n",
      "0.751111111111\n"
     ]
    }
   ],
   "source": [
    "# DATA\n",
    "Ytrain_bin = Ytrain[0:70]\n",
    "Xtrain_bin = Xtrain_scaled[0:70]\n",
    "Ytest_bin = Ytest[0:30]\n",
    "Xtest_bin = Xtest_scaled[0:30]\n",
    "\n",
    "sess = ed.get_session()\n",
    "\n",
    "N, D = Xtrain_bin.shape[0], Xtrain_bin.shape[1]\n",
    "\n",
    "# MODEL\n",
    "X = tf.placeholder(tf.float32, [N, D])\n",
    "w = MultivariateNormalFullCovariance(loc = tf.zeros(D), covariance_matrix = .1*np.identity(D) + 1 * tf.ones((D,D)))\n",
    "b = Normal(loc = tf.zeros([]), scale = 1.0 * tf.ones([]))\n",
    "\n",
    "y = Bernoulli(logits = ed.dot(X, w) + b)\n",
    "\n",
    "# compare inference methods\n",
    "'''\n",
    "# MAP estimation\n",
    "qw_loc = tf.Variable(tf.zeros([D]))\n",
    "qb_loc = tf.Variable(tf.zeros([]))\n",
    "\n",
    "qw = PointMass(params = qw_loc)\n",
    "qb = PointMass(params = qb_loc)\n",
    "\n",
    "inference = ed.MAP({w: qw, b: qb}, data={X: Xtrain_bin, y: Ytrain_bin})\n",
    "inference.run()\n",
    "\n",
    "# EVAL\n",
    "y_preds = tf.sigmoid(ed.dot(tf.cast(Xtest_bin, tf.float32), qw.mean()) + qb.mean()).eval()\n",
    "print(sklearn.metrics.roc_auc_score(Ytest_bin, y_preds))\n",
    "'''\n",
    "\n",
    "# VI\n",
    "qw_loc = tf.Variable(tf.random_normal([D]))\n",
    "qw_scale = tf.nn.softplus(tf.Variable(tf.random_normal([D])))\n",
    "\n",
    "\n",
    "qb_loc = tf.Variable(tf.random_normal([]) + 10)\n",
    "qb_scale = tf.nn.softplus(tf.Variable(tf.random_normal([])))\n",
    "\n",
    "qw = Normal(loc=qw_loc, scale=qw_scale)\n",
    "qb = Normal(loc=qb_loc, scale=qb_scale)\n",
    "\n",
    "inference = ed.KLqp({w: qw, b: qb}, data={X: Xtrain_bin, y: Ytrain_bin})\n",
    "inference.initialize(n_samples=5, n_iter = 10000)\n",
    "\n",
    "init = tf.global_variables_initializer()\n",
    "init.run()\n",
    "learning_curve = []\n",
    "for _ in range(inference.n_iter):\n",
    "    info_dict = inference.update()\n",
    "    if _%1000 == 0:\n",
    "        print(info_dict)\n",
    "    learning_curve.append(info_dict['loss'])\n",
    "inference.finalize()\n",
    "\n",
    "# EVAL\n",
    "y_preds = tf.sigmoid(ed.dot(tf.cast(Xtest_bin, tf.float32), qw.mean()) + qb.mean()).eval()\n",
    "print(sklearn.metrics.roc_auc_score(Ytest_bin, y_preds))"
   ]
  },
  {
   "cell_type": "markdown",
   "metadata": {},
   "source": [
    "# w ~ N(0, $\\Lambda^{-1}$) with set precision, lambda1 =1, w is estimated with VI...the VI estimate of w is consistent with MAP"
   ]
  },
  {
   "cell_type": "code",
   "execution_count": 393,
   "metadata": {
    "collapsed": false
   },
   "outputs": [
    {
     "name": "stdout",
     "output_type": "stream",
     "text": [
      "{'loss': 72943.992, 't': 1}\n",
      "{'loss': 9015.2402, 't': 101}\n",
      "{'loss': 7741.7935, 't': 201}\n",
      "{'loss': 7348.0776, 't': 301}\n",
      "{'loss': 7190.6953, 't': 401}\n",
      "{'loss': 7179.3286, 't': 501}\n",
      "{'loss': 7031.6968, 't': 601}\n",
      "{'loss': 7137.958, 't': 701}\n",
      "{'loss': 7012.1758, 't': 801}\n",
      "{'loss': 6830.0391, 't': 901}\n",
      "{'loss': 7290.5972, 't': 1001}\n",
      "{'loss': 7138.2407, 't': 1101}\n",
      "{'loss': 6734.3799, 't': 1201}\n",
      "{'loss': 6756.1211, 't': 1301}\n",
      "{'loss': 6611.3853, 't': 1401}\n",
      "{'loss': 6841.4785, 't': 1501}\n",
      "{'loss': 6775.5591, 't': 1601}\n",
      "{'loss': 6635.9727, 't': 1701}\n",
      "{'loss': 6738.7559, 't': 1801}\n",
      "{'loss': 6692.2139, 't': 1901}\n",
      "{'loss': 6707.7861, 't': 2001}\n",
      "{'loss': 6562.0869, 't': 2101}\n",
      "{'loss': 6606.2642, 't': 2201}\n",
      "{'loss': 6529.9541, 't': 2301}\n",
      "{'loss': 6675.0635, 't': 2401}\n",
      "{'loss': 6535.1489, 't': 2501}\n",
      "{'loss': 6562.7139, 't': 2601}\n",
      "{'loss': 6488.5825, 't': 2701}\n",
      "{'loss': 6486.1611, 't': 2801}\n",
      "{'loss': 6491.7271, 't': 2901}\n",
      "{'loss': 6340.8477, 't': 3001}\n",
      "{'loss': 6637.7915, 't': 3101}\n",
      "{'loss': 6533.4561, 't': 3201}\n",
      "{'loss': 6626.8984, 't': 3301}\n",
      "{'loss': 6367.8672, 't': 3401}\n",
      "{'loss': 6574.6367, 't': 3501}\n",
      "{'loss': 6571.6748, 't': 3601}\n",
      "{'loss': 6379.1211, 't': 3701}\n",
      "{'loss': 6690.2178, 't': 3801}\n",
      "{'loss': 6458.979, 't': 3901}\n",
      "{'loss': 6420.8433, 't': 4001}\n",
      "{'loss': 6427.9106, 't': 4101}\n",
      "{'loss': 6586.2129, 't': 4201}\n",
      "{'loss': 6684.2764, 't': 4301}\n",
      "{'loss': 6496.7842, 't': 4401}\n",
      "{'loss': 6523.4653, 't': 4501}\n",
      "{'loss': 6596.2573, 't': 4601}\n",
      "{'loss': 6711.1733, 't': 4701}\n",
      "{'loss': 6370.041, 't': 4801}\n",
      "{'loss': 6332.4419, 't': 4901}\n"
     ]
    }
   ],
   "source": [
    "# DATA\n",
    "sess = ed.get_session()\n",
    "N, D = Xtrain_scaled.shape[0], Xtrain_scaled.shape[1]\n",
    "\n",
    "# MODEL\n",
    "X = tf.placeholder(tf.float32, [N, D])\n",
    "w = MultivariateNormalFullCovariance(loc = tf.zeros([D,C-1]), covariance_matrix = tf.cast(cov_new, tf.float32))\n",
    "\n",
    "b = Normal(loc = tf.zeros(C-1), scale= tf.ones(C-1))\n",
    "\n",
    "logits = tf.matmul(X, w) + b\n",
    "logits = tf.concat([logits, np.zeros((N, 1))], axis = 1)\n",
    "y = Categorical(logits = logits)\n",
    "\n",
    "# INFERENCE\n",
    "qw_loc = tf.Variable(tf.random_normal([D, C-1]))\n",
    "qw_scale = tf.nn.softplus(tf.Variable(tf.random_normal([D,C-1])))\n",
    "\n",
    "qb_loc = tf.Variable(tf.random_normal([C-1]))\n",
    "qb_scale = tf.nn.softplus(tf.Variable(tf.random_normal([])))\n",
    "\n",
    "qw = Normal(loc = qw_loc, scale = qw_scale)\n",
    "qb = Normal(loc = qb_loc, scale = qb_scale)\n",
    "\n",
    "inference = ed.KLqp({w: qw, b: qb}, data={X: Xtrain_scaled, y: Ytrain})\n",
    "inference.initialize(n_iter = 5000)\n",
    "\n",
    "init = tf.global_variables_initializer()\n",
    "init.run()\n",
    "learning_curve = []\n",
    "for _ in range(inference.n_iter):\n",
    "    info_dict = inference.update()\n",
    "    if _%100 == 0:\n",
    "        print(info_dict)\n",
    "    learning_curve.append(info_dict['loss'])\n",
    "inference.finalize()"
   ]
  },
  {
   "cell_type": "code",
   "execution_count": null,
   "metadata": {
    "collapsed": true
   },
   "outputs": [],
   "source": []
  },
  {
   "cell_type": "markdown",
   "metadata": {},
   "source": [
    "# Now, lets optimize over our precision matrix"
   ]
  },
  {
   "cell_type": "code",
   "execution_count": null,
   "metadata": {
    "collapsed": true
   },
   "outputs": [],
   "source": [
    "# COVARIANCE MATRIX\n",
    "A = np.zeros((C-1,C))\n",
    "for i in range(C-1):\n",
    "    A[i,i] = -1\n",
    "    A[i,i+1] = 1\n",
    "precision = A.T.dot(A) + .1 * np.identity(C) # A^T.dot(A) + .1 * I for invertability\n",
    "lambda_1 = 1\n",
    "precision = lambda_1 * precision\n",
    "#precision = precision  + 1 * np.identity(C)\n",
    "cov_matrix = np.linalg.inv(precision)\n",
    "cov_matrix_chol = tf.cholesky(cov_matrix)\n",
    "\n",
    "cov_new = np.zeros((D, C-1, C-1))\n",
    "for d in range(D):\n",
    "    cov_new[d] = cov_matrix[:-1,:-1]"
   ]
  },
  {
   "cell_type": "code",
   "execution_count": null,
   "metadata": {
    "collapsed": true
   },
   "outputs": [],
   "source": [
    "tf.Variable()"
   ]
  },
  {
   "cell_type": "code",
   "execution_count": 398,
   "metadata": {
    "collapsed": false
   },
   "outputs": [
    {
     "data": {
      "text/plain": [
       "<tf.Tensor 'MatrixInverse:0' shape=(58, 71, 71) dtype=float64>"
      ]
     },
     "execution_count": 398,
     "metadata": {},
     "output_type": "execute_result"
    }
   ],
   "source": [
    "tf.matrix_inverse(cov_new)"
   ]
  },
  {
   "cell_type": "code",
   "execution_count": 420,
   "metadata": {
    "collapsed": false
   },
   "outputs": [],
   "source": [
    "# Design precision matrix\n",
    "A = np.zeros((C-1,C))\n",
    "for i in range(C-1):\n",
    "    A[i,i] = -1\n",
    "    A[i,i+1] = 1\n",
    "precision = A.T.dot(A) + .1 * np.identity(C) # A^T.dot(A) + .1 * I for invertability\n",
    "tau = tf.nn.softplus(tf.Variable(tf.random_normal([])))\n",
    "#tau = 1\n",
    "precision = tau * precision\n",
    "cov = tf.matrix_inverse(precision)[:-1,:-1]"
   ]
  },
  {
   "cell_type": "code",
   "execution_count": 422,
   "metadata": {
    "collapsed": false
   },
   "outputs": [
    {
     "data": {
      "text/plain": [
       "<tf.Tensor 'Tile_11:0' shape=(58, 71, 71) dtype=float32>"
      ]
     },
     "execution_count": 422,
     "metadata": {},
     "output_type": "execute_result"
    }
   ],
   "source": [
    "tf.tile(tf.expand_dims(cov, 0), [D, 1, 1])"
   ]
  },
  {
   "cell_type": "code",
   "execution_count": 436,
   "metadata": {
    "collapsed": false
   },
   "outputs": [
    {
     "data": {
      "text/plain": [
       "<tf.Tensor 'mul_885:0' shape=(72, 72) dtype=float32>"
      ]
     },
     "execution_count": 436,
     "metadata": {},
     "output_type": "execute_result"
    }
   ],
   "source": [
    "precision"
   ]
  },
  {
   "cell_type": "code",
   "execution_count": 435,
   "metadata": {
    "collapsed": false
   },
   "outputs": [
    {
     "data": {
      "text/plain": [
       "array([[ 4.5120635 , -4.10187578,  0.        , ...,  0.        ,\n",
       "         0.        ,  0.        ],\n",
       "       [-4.10187578,  8.61393833, -4.10187578, ...,  0.        ,\n",
       "         0.        ,  0.        ],\n",
       "       [ 0.        , -4.10187578,  8.61393833, ...,  0.        ,\n",
       "         0.        ,  0.        ],\n",
       "       ..., \n",
       "       [ 0.        ,  0.        ,  0.        , ...,  8.61393833,\n",
       "        -4.10187578,  0.        ],\n",
       "       [ 0.        ,  0.        ,  0.        , ..., -4.10187578,\n",
       "         8.61393833, -4.10187578],\n",
       "       [ 0.        ,  0.        ,  0.        , ...,  0.        ,\n",
       "        -4.10187578,  4.5120635 ]], dtype=float32)"
      ]
     },
     "execution_count": 435,
     "metadata": {},
     "output_type": "execute_result"
    }
   ],
   "source": [
    "precision.eval()"
   ]
  },
  {
   "cell_type": "code",
   "execution_count": 447,
   "metadata": {
    "collapsed": true
   },
   "outputs": [],
   "source": [
    "# Design precision matrix\n",
    "A = np.zeros((C-1,C))\n",
    "for i in range(C-1):\n",
    "    A[i,i] = -1\n",
    "    A[i,i+1] = 1\n",
    "precision = A.T.dot(A) + .1 * np.identity(C) # A^T.dot(A) + .1 * I to create full rank\n",
    "\n",
    "tau = tf.nn.softplus(tf.Variable(tf.random_normal([C,C])))\n",
    "\n",
    "sparsity = tf.nn.softplus(tf.Variable(tf.random_normal([])))\n",
    "\n",
    "precision = tau * precision + sparsity * np.identity(C)\n",
    "cov = tf.matrix_inverse(precision)[:-1,:-1]\n",
    "\n",
    "w_cov = tf.tile(tf.expand_dims(cov, 0), [D, 1, 1])"
   ]
  },
  {
   "cell_type": "code",
   "execution_count": 480,
   "metadata": {
    "collapsed": false
   },
   "outputs": [
    {
     "data": {
      "text/plain": [
       "<tf.Tensor 'stack_4:0' shape=(2, 71, 71) dtype=float32>"
      ]
     },
     "execution_count": 480,
     "metadata": {},
     "output_type": "execute_result"
    }
   ],
   "source": [
    "tf.stack([tf.stack(cov), cov])"
   ]
  },
  {
   "cell_type": "code",
   "execution_count": 487,
   "metadata": {
    "collapsed": true
   },
   "outputs": [],
   "source": [
    "def design_precision_matrix():\n",
    "    w_covs = []\n",
    "    tau = tf.nn.softplus(tf.Variable(tf.random_normal([D])))\n",
    "    sparsity = tf.nn.softplus(tf.Variable(tf.random_normal([D])))\n",
    "    # for each neuron\n",
    "    for d in range(D):\n",
    "        # Design precision matrix\n",
    "        A = np.zeros((C-1,C))\n",
    "        for i in range(C-1):\n",
    "            A[i,i] = -1\n",
    "            A[i,i+1] = 1\n",
    "        precision = A.T.dot(A) #+ .1 * np.identity(C) # precision = A^T.dot(A)\n",
    "        precision = tau[d] * precision + sparsity[d] * np.identity(C)\n",
    "        precision = precision + .1 * np.identity(C) # guarantees full rank\n",
    "\n",
    "        cov = tf.matrix_inverse(precision)[:-1,:-1]\n",
    "        w_covs.append(cov)\n",
    "    \n",
    "    w_cov = tf.stack(w_covs)\n",
    "\n",
    "        #w_cov = tf.tile(tf.expand_dims(cov, 0), [D, 1, 1])\n",
    "    return w_cov\n",
    "    "
   ]
  },
  {
   "cell_type": "code",
   "execution_count": 488,
   "metadata": {
    "collapsed": false
   },
   "outputs": [
    {
     "data": {
      "text/plain": [
       "<tf.Tensor 'stack_9:0' shape=(58, 71, 71) dtype=float32>"
      ]
     },
     "execution_count": 488,
     "metadata": {},
     "output_type": "execute_result"
    }
   ],
   "source": [
    "w_cov = design_precision_matrix()\n",
    "w_cov"
   ]
  },
  {
   "cell_type": "code",
   "execution_count": 513,
   "metadata": {
    "collapsed": false
   },
   "outputs": [
    {
     "name": "stdout",
     "output_type": "stream",
     "text": [
      "{'loss': 68207.891, 't': 1}\n",
      "{'loss': 8413.8145, 't': 101}\n",
      "{'loss': 7175.458, 't': 201}\n",
      "{'loss': 7041.4893, 't': 301}\n",
      "{'loss': 6332.2676, 't': 401}\n",
      "{'loss': 6453.8809, 't': 501}\n",
      "{'loss': 6404.4165, 't': 601}\n",
      "{'loss': 5830.6597, 't': 701}\n",
      "{'loss': 5949.667, 't': 801}\n",
      "{'loss': 5739.2539, 't': 901}\n",
      "{'loss': 5684.6807, 't': 1001}\n",
      "{'loss': 5918.3193, 't': 1101}\n",
      "{'loss': 5690.416, 't': 1201}\n",
      "{'loss': 5584.8652, 't': 1301}\n",
      "{'loss': 5787.9639, 't': 1401}\n",
      "{'loss': 5542.749, 't': 1501}\n",
      "{'loss': 5584.4478, 't': 1601}\n",
      "{'loss': 5399.4604, 't': 1701}\n",
      "{'loss': 5434.1069, 't': 1801}\n",
      "{'loss': 5618.8975, 't': 1901}\n",
      "{'loss': 5382.2422, 't': 2001}\n",
      "{'loss': 5234.4067, 't': 2101}\n",
      "{'loss': 5510.4951, 't': 2201}\n",
      "{'loss': 5177.7637, 't': 2301}\n",
      "{'loss': 5270.6689, 't': 2401}\n",
      "{'loss': 5309.2368, 't': 2501}\n",
      "{'loss': 5331.4888, 't': 2601}\n",
      "{'loss': 5240.5234, 't': 2701}\n",
      "{'loss': 5219.417, 't': 2801}\n",
      "{'loss': 5290.582, 't': 2901}\n",
      "{'loss': 5236.2891, 't': 3001}\n",
      "{'loss': 5209.2568, 't': 3101}\n",
      "{'loss': 5243.7339, 't': 3201}\n",
      "{'loss': 5198.9819, 't': 3301}\n",
      "{'loss': 5237.0352, 't': 3401}\n",
      "{'loss': 5169.1929, 't': 3501}\n",
      "{'loss': 5075.2622, 't': 3601}\n",
      "{'loss': 5243.6841, 't': 3701}\n",
      "{'loss': 5174.1162, 't': 3801}\n",
      "{'loss': 5217.7334, 't': 3901}\n",
      "{'loss': 5270.8096, 't': 4001}\n",
      "{'loss': 5139.6055, 't': 4101}\n",
      "{'loss': 5257.6978, 't': 4201}\n",
      "{'loss': 5158.6377, 't': 4301}\n",
      "{'loss': 5177.5576, 't': 4401}\n",
      "{'loss': 5291.188, 't': 4501}\n",
      "{'loss': 5210.4229, 't': 4601}\n",
      "{'loss': 5126.7788, 't': 4701}\n",
      "{'loss': 5218.3428, 't': 4801}\n",
      "{'loss': 5198.0757, 't': 4901}\n"
     ]
    }
   ],
   "source": [
    "# DATA\n",
    "sess = ed.get_session()\n",
    "N, D = Xtrain_scaled.shape[0], Xtrain_scaled.shape[1]\n",
    "\n",
    "########## DESIGN COVARIANCE MATRIX ##########\n",
    "w_covs = []\n",
    "tau = tf.nn.softplus(tf.Variable(tf.random_normal([D])))\n",
    "sparsity = tf.nn.softplus(tf.Variable(tf.random_normal([D])))\n",
    "# for each neuron\n",
    "for d in range(D):\n",
    "    # Design precision matrix\n",
    "    A = np.zeros((C-1,C))\n",
    "    for i in range(C-1):\n",
    "        A[i,i] = -1\n",
    "        A[i,i+1] = 1\n",
    "    precision = A.T.dot(A) #+ .1 * np.identity(C) # precision = A^T.dot(A)\n",
    "    precision = tau[d] * precision + sparsity[d] * np.identity(C)\n",
    "    precision = precision + .1 * np.identity(C) # guarantees full rank\n",
    "\n",
    "    cov = tf.matrix_inverse(precision)[:-1,:-1]\n",
    "    w_covs.append(cov)\n",
    "w_cov = tf.stack(w_covs)\n",
    "\n",
    "########## MODEL ##########\n",
    "X = tf.placeholder(tf.float32, [N, D])\n",
    "w = MultivariateNormalFullCovariance(loc = tf.zeros([D,C-1]), covariance_matrix = tf.cast(w_cov, tf.float32))\n",
    "b = Normal(loc = tf.zeros(C-1), scale= tf.ones(C-1))\n",
    "logits = tf.matmul(X, w) + b\n",
    "logits = tf.concat([logits, np.zeros((N, 1))], axis = 1)\n",
    "y = Categorical(logits = logits)\n",
    "\n",
    "########## INFERENCE ##########\n",
    "qw_loc = tf.Variable(tf.random_normal([D, C-1]))\n",
    "qw_scale = tf.nn.softplus(tf.Variable(tf.random_normal([D,C-1])))\n",
    "\n",
    "qb_loc = tf.Variable(tf.random_normal([C-1]))\n",
    "qb_scale = tf.nn.softplus(tf.Variable(tf.random_normal([])))\n",
    "\n",
    "qw = Normal(loc = qw_loc, scale = qw_scale)\n",
    "qb = Normal(loc = qb_loc, scale = qb_scale)\n",
    "\n",
    "inference = ed.KLqp({w: qw, b: qb}, data={X: Xtrain_scaled, y: Ytrain})\n",
    "inference.initialize(n_iter = 5000)\n",
    "\n",
    "init = tf.global_variables_initializer()\n",
    "init.run()\n",
    "learning_curve = []\n",
    "for _ in range(inference.n_iter):\n",
    "    info_dict = inference.update()\n",
    "    if _%100 == 0:\n",
    "        print(info_dict)\n",
    "    learning_curve.append(info_dict['loss'])\n",
    "inference.finalize()"
   ]
  },
  {
   "cell_type": "code",
   "execution_count": 501,
   "metadata": {
    "collapsed": false
   },
   "outputs": [
    {
     "name": "stdout",
     "output_type": "stream",
     "text": [
      "0.987832550861\n",
      "[ 0.79861111  0.89398148  0.96111111  0.98657407  0.99351852  0.99675926]\n"
     ]
    }
   ],
   "source": [
    "########## EVAL ##########\n",
    "qw_mod = tf.concat([qw.mean(), np.zeros((58,1))], axis=1)\n",
    "qb_mod = tf.concat([qb.mean(), np.zeros((1))], axis=0)\n",
    "logits = tf.matmul(tf.cast(Xtest_scaled, tf.float32), qw_mod) + qb_mod\n",
    "print(compute_average_auc(tf.nn.softmax(logits).eval(), Ytest_hot))\n",
    "print(evaluate_multiclass_model(x_test_scaled_3d, qw_mod.eval().T, qb_mod.eval()))"
   ]
  },
  {
   "cell_type": "code",
   "execution_count": 512,
   "metadata": {
    "collapsed": false
   },
   "outputs": [
    {
     "name": "stdout",
     "output_type": "stream",
     "text": [
      "0.988401147626\n",
      "[ 0.81481481  0.90185185  0.96666667  0.98564815  0.99444444  0.99722222]\n"
     ]
    }
   ],
   "source": [
    "########## EVAL ##########\n",
    "qw_mod = tf.concat([qw.mean(), np.zeros((58,1))], axis=1)\n",
    "qb_mod = tf.concat([qb.mean(), np.zeros((1))], axis=0)\n",
    "logits = tf.matmul(tf.cast(Xtest_scaled, tf.float32), qw_mod) + qb_mod\n",
    "print(compute_average_auc(tf.nn.softmax(logits).eval(), Ytest_hot))\n",
    "print(evaluate_multiclass_model(x_test_scaled_3d, qw_mod.eval().T, qb_mod.eval()))"
   ]
  },
  {
   "cell_type": "code",
   "execution_count": 514,
   "metadata": {
    "collapsed": false
   },
   "outputs": [
    {
     "name": "stdout",
     "output_type": "stream",
     "text": [
      "0.988331594505\n",
      "[ 0.80138889  0.90138889  0.9625      0.98472222  0.99212963  0.99768519]\n"
     ]
    }
   ],
   "source": [
    "########## EVAL ##########\n",
    "qw_mod = tf.concat([qw.mean(), np.zeros((58,1))], axis=1)\n",
    "qb_mod = tf.concat([qb.mean(), np.zeros((1))], axis=0)\n",
    "logits = tf.matmul(tf.cast(Xtest_scaled, tf.float32), qw_mod) + qb_mod\n",
    "print(compute_average_auc(tf.nn.softmax(logits).eval(), Ytest_hot))\n",
    "print(evaluate_multiclass_model(x_test_scaled_3d, qw_mod.eval().T, qb_mod.eval()))"
   ]
  },
  {
   "cell_type": "code",
   "execution_count": 507,
   "metadata": {
    "collapsed": false
   },
   "outputs": [
    {
     "data": {
      "text/plain": [
       "array([ 1.19942951,  1.98426366,  0.56540889,  0.22730301,  0.17347601,\n",
       "        0.39815739,  0.71411711,  0.9784348 ,  0.53698981,  0.25285155,\n",
       "        0.59904069,  0.55804372,  0.76986295,  0.50492537,  0.64560294,\n",
       "        0.67883384,  0.08654054,  0.17158923,  0.29590341,  0.66813797,\n",
       "        0.38923401,  2.02471972,  0.75022525,  0.20547044,  0.18756822,\n",
       "        0.06614894,  0.89655185,  0.2799758 ,  0.69984335,  0.43963885,\n",
       "        0.26992518,  0.57692349,  1.31372428,  0.15869902,  0.58034027,\n",
       "        0.54264963,  0.14952287,  0.0879385 ,  0.1341868 ,  0.09276477,\n",
       "        1.73499811,  0.83521426,  1.45327687,  0.33596453,  0.32210147,\n",
       "        0.90648437,  1.0319978 ,  0.36996812,  0.27416518,  0.35977721,\n",
       "        0.82797873,  0.40907151,  0.20351104,  0.06549779,  0.30692452,\n",
       "        2.85262442,  0.8355571 ,  0.61098164], dtype=float32)"
      ]
     },
     "execution_count": 507,
     "metadata": {},
     "output_type": "execute_result"
    }
   ],
   "source": [
    "tau.eval()"
   ]
  },
  {
   "cell_type": "code",
   "execution_count": 534,
   "metadata": {
    "collapsed": false
   },
   "outputs": [
    {
     "data": {
      "text/plain": [
       "58"
      ]
     },
     "execution_count": 534,
     "metadata": {},
     "output_type": "execute_result"
    }
   ],
   "source": [
    "len(tau.eval())"
   ]
  },
  {
   "cell_type": "code",
   "execution_count": 542,
   "metadata": {
    "collapsed": false
   },
   "outputs": [
    {
     "data": {
      "text/plain": [
       "<matplotlib.text.Text at 0x1312ac630>"
      ]
     },
     "execution_count": 542,
     "metadata": {},
     "output_type": "execute_result"
    },
    {
     "data": {
      "image/png": "[encoded data removed]",
      "text/plain": [
       "<matplotlib.figure.Figure at 0x289d00e48>"
      ]
     },
     "metadata": {},
     "output_type": "display_data"
    }
   ],
   "source": [
    "plt.figure(figsize=(10,8))\n",
    "plt.scatter(np.arange(58),tau.eval())\n",
    "plt.ylabel(\"tau\")\n",
    "plt.xlabel(\"neuron\")"
   ]
  },
  {
   "cell_type": "code",
   "execution_count": 499,
   "metadata": {
    "collapsed": false
   },
   "outputs": [
    {
     "data": {
      "text/plain": [
       "array([  5.69566200e-03,   3.82287800e-03,   1.21347693e-04,\n",
       "         1.05971441e-04,   1.07278489e-03,   3.96888179e-04,\n",
       "         5.66228082e-05,   1.85982838e+01,   4.41029668e-02,\n",
       "         1.45508233e-03,   1.29461270e-02,   1.76533373e-04,\n",
       "         2.40600204e+00,   1.95773640e+01,   1.49263115e+01,\n",
       "         1.60164475e-01,   8.90120119e-03,   7.78918171e+00,\n",
       "         1.34869367e-02,   1.57795515e+01,   2.58889049e-04,\n",
       "         5.29904068e-01,   2.26642284e+01,   2.04639854e+01,\n",
       "         2.84980587e-03,   7.18758069e-03,   9.26213252e-05,\n",
       "         2.35509649e-01,   1.73192787e+01,   2.01049957e+01,\n",
       "         2.93948621e-01,   1.96381397e+01,   2.24600391e+01,\n",
       "         1.83590627e+00,   2.04930458e+01,   7.45914412e+00,\n",
       "         1.46644468e+01,   1.55529041e+01,   3.31441879e+00,\n",
       "         1.35996810e-03,   1.49929533e+01,   1.49739742e+01,\n",
       "         1.27965491e-02,   1.64733661e-04,   7.64316239e-04,\n",
       "         1.37949164e-03,   1.03744864e+00,   3.18238162e-04,\n",
       "         4.07638680e-03,   2.19182301e+01,   1.60521622e+01,\n",
       "         1.72362053e+00,   1.21125278e+01,   4.95981646e+00,\n",
       "         1.78870239e+01,   2.30043163e+01,   1.19366198e+01,\n",
       "         1.49274578e+01], dtype=float32)"
      ]
     },
     "execution_count": 499,
     "metadata": {},
     "output_type": "execute_result"
    }
   ],
   "source": [
    "sparsity.eval()"
   ]
  },
  {
   "cell_type": "code",
   "execution_count": 490,
   "metadata": {
    "collapsed": false
   },
   "outputs": [
    {
     "name": "stdout",
     "output_type": "stream",
     "text": [
      "0.988055555556\n",
      "[ 0.79537037  0.89027778  0.9587963   0.98425926  0.99259259  0.99768519]\n"
     ]
    }
   ],
   "source": [
    "# EVAL\n",
    "qw_mod = tf.concat([qw.mean(), np.zeros((58,1))], axis=1)\n",
    "qb_mod = tf.concat([qb.mean(), np.zeros((1))], axis=0)\n",
    "logits = tf.matmul(tf.cast(Xtest_scaled, tf.float32), qw_mod) + qb_mod\n",
    "print(compute_average_auc(tf.nn.softmax(logits).eval(), Ytest_hot))\n",
    "print(evaluate_multiclass_model(x_test_scaled_3d, qw_mod.eval().T, qb_mod.eval()))"
   ]
  },
  {
   "cell_type": "code",
   "execution_count": 458,
   "metadata": {
    "collapsed": false
   },
   "outputs": [],
   "source": [
    "optimized_taus = tau.eval()"
   ]
  },
  {
   "cell_type": "code",
   "execution_count": 444,
   "metadata": {
    "collapsed": false
   },
   "outputs": [
    {
     "name": "stdout",
     "output_type": "stream",
     "text": [
      "0.986210224309\n",
      "[ 0.77268519  0.87777778  0.95092593  0.98240741  0.99259259  0.99675926]\n"
     ]
    }
   ],
   "source": [
    "# EVAL\n",
    "qw_mod = tf.concat([qw.mean(), np.zeros((58,1))], axis=1)\n",
    "qb_mod = tf.concat([qb.mean(), np.zeros((1))], axis=0)\n",
    "logits = tf.matmul(tf.cast(Xtest_scaled, tf.float32), qw_mod) + qb_mod\n",
    "print(compute_average_auc(tf.nn.softmax(logits).eval(), Ytest_hot))\n",
    "print(evaluate_multiclass_model(x_test_scaled_3d, qw_mod.eval().T, qb_mod.eval()))"
   ]
  },
  {
   "cell_type": "code",
   "execution_count": 464,
   "metadata": {
    "collapsed": false
   },
   "outputs": [
    {
     "data": {
      "text/plain": [
       "(0.34544367, 0.0064606136)"
      ]
     },
     "execution_count": 464,
     "metadata": {},
     "output_type": "execute_result"
    }
   ],
   "source": [
    "tau.eval(), sparsity.eval()"
   ]
  },
  {
   "cell_type": "code",
   "execution_count": 394,
   "metadata": {
    "collapsed": false
   },
   "outputs": [
    {
     "name": "stdout",
     "output_type": "stream",
     "text": [
      "0.98441314554\n",
      "[ 0.77268519  0.87314815  0.94953704  0.98333333  0.99212963  0.99722222]\n"
     ]
    }
   ],
   "source": [
    "# EVAL\n",
    "qw_mod = tf.concat([qw.mean(), np.zeros((58,1))], axis=1)\n",
    "qb_mod = tf.concat([qb.mean(), np.zeros((1))], axis=0)\n",
    "logits = tf.matmul(tf.cast(Xtest_scaled, tf.float32), qw_mod) + qb_mod\n",
    "print(compute_average_auc(tf.nn.softmax(logits).eval(), Ytest_hot))\n",
    "print(evaluate_multiclass_model(x_test_scaled_3d, qw_mod.eval().T, qb_mod.eval()))"
   ]
  },
  {
   "cell_type": "code",
   "execution_count": 456,
   "metadata": {
    "collapsed": false
   },
   "outputs": [
    {
     "name": "stdout",
     "output_type": "stream",
     "text": [
      "0.986328464615\n",
      "[ 0.77962963  0.88472222  0.95509259  0.97916667  0.99305556  0.99722222]\n"
     ]
    }
   ],
   "source": [
    "# EVAL\n",
    "qw_mod = tf.concat([qw.mean(), np.zeros((58,1))], axis=1)\n",
    "qb_mod = tf.concat([qb.mean(), np.zeros((1))], axis=0)\n",
    "logits = tf.matmul(tf.cast(Xtest_scaled, tf.float32), qw_mod) + qb_mod\n",
    "print(compute_average_auc(tf.nn.softmax(logits).eval(), Ytest_hot))\n",
    "print(evaluate_multiclass_model(x_test_scaled_3d, qw_mod.eval().T, qb_mod.eval()))"
   ]
  },
  {
   "cell_type": "code",
   "execution_count": 219,
   "metadata": {
    "collapsed": false
   },
   "outputs": [
    {
     "name": "stdout",
     "output_type": "stream",
     "text": [
      "0.684444444444\n"
     ]
    }
   ],
   "source": [
    "# EVAL\n",
    "y_preds = tf.sigmoid(ed.dot(tf.cast(Xtest_bin, tf.float32), qw.mean()) + qb.mean()).eval()\n",
    "print(sklearn.metrics.roc_auc_score(Ytest_bin, y_preds))"
   ]
  },
  {
   "cell_type": "code",
   "execution_count": 199,
   "metadata": {
    "collapsed": false
   },
   "outputs": [
    {
     "data": {
      "text/plain": [
       "array([ 0.39199698, -1.34435701, -0.45171723, -1.05598974, -0.84732127,\n",
       "        1.45743263, -0.46754509,  0.45252237,  0.04581361, -0.23724943,\n",
       "        1.13083661,  0.80232686, -0.0205152 , -0.11598575,  0.05427436,\n",
       "       -0.20698902,  1.35600603,  0.31732216,  1.57111406,  0.15447403,\n",
       "       -1.19633329, -0.38403153, -0.33120477,  0.20653927,  0.02939797,\n",
       "       -0.51845229,  0.17184703,  1.33149302, -0.6437791 , -0.7630434 ,\n",
       "       -0.76209605, -0.23133433,  0.55434895, -0.87057388, -0.2682364 ,\n",
       "        0.78900003, -0.55991501, -0.61797011, -1.61680663,  1.17191815,\n",
       "       -0.1794453 ,  1.32231379, -0.28185111,  0.19574048, -0.37276003,\n",
       "        0.41636264, -1.10710025, -0.47537404, -0.47903255, -0.06833144,\n",
       "       -1.87255967, -0.05002886,  0.23890744,  0.82209122,  0.18460545,\n",
       "        0.07322872,  0.76268739,  1.84166217], dtype=float32)"
      ]
     },
     "execution_count": 199,
     "metadata": {},
     "output_type": "execute_result"
    }
   ],
   "source": [
    "qw.mean().eval()"
   ]
  },
  {
   "cell_type": "code",
   "execution_count": null,
   "metadata": {
    "collapsed": true
   },
   "outputs": [],
   "source": [
    "C = 72\n",
    "N, D = Xtrain_scaled.shape[0], Xtrain_scaled.shape[1]\n",
    "\n",
    "# MODEL\n",
    "X = tf.placeholder(tf.float32, [N, D])\n",
    "w = Normal(loc = tf.zeros([D,C-1]), scale = 1 * tf.ones([C-1]))\n",
    "b = Normal(loc= tf.zeros(C-1), scale = 1.0 * tf.ones(C-1))\n",
    "logits = tf.matmul(X, w) + b\n",
    "logits = tf.concat([logits, np.zeros((N, 1))], axis = 1)\n",
    "y = Categorical(probs = tf.nn.softmax(logits))\n",
    "\n",
    "# INFERENCE\n",
    "qw_loc = tf.Variable(tf.zeros([D,C-1]))\n",
    "qb_loc = tf.Variable(tf.zeros([C-1]))\n",
    "\n",
    "qw = PointMass(params = qw_loc)\n",
    "qb = PointMass(params = qb_loc)\n",
    "\n",
    "inference = ed.MAP({w: qw, b: qb}, data={X: Xtrain_scaled, y: Ytrain})\n",
    "inference.run()\n",
    "\n",
    "# EVAL\n",
    "qw_mod = tf.concat([qw.mean(), np.zeros((58,1))], axis=1)\n",
    "qb_mod = tf.concat([qb.mean(), np.zeros((1))], axis=0)\n",
    "logits = tf.matmul(tf.cast(Xtest_scaled, tf.float32), qw_mod) + qb_mod\n",
    "print(compute_average_auc(tf.nn.softmax(logits).eval(), Ytest_hot))\n",
    "print(evaluate_multiclass_model(x_test_scaled_3d, qw_mod.eval().T, qb_mod.eval()))"
   ]
  },
  {
   "cell_type": "code",
   "execution_count": null,
   "metadata": {
    "collapsed": true
   },
   "outputs": [],
   "source": []
  },
  {
   "cell_type": "code",
   "execution_count": null,
   "metadata": {
    "collapsed": true
   },
   "outputs": [],
   "source": []
  },
  {
   "cell_type": "code",
   "execution_count": 545,
   "metadata": {
    "collapsed": false
   },
   "outputs": [
    {
     "data": {
      "text/plain": [
       "<matplotlib.legend.Legend at 0x27a570860>"
      ]
     },
     "execution_count": 545,
     "metadata": {},
     "output_type": "execute_result"
    },
    {
     "data": {
      "image/png": "[encoded data removed]",
      "text/plain": [
       "<matplotlib.figure.Figure at 0x27a31bcc0>"
      ]
     },
     "metadata": {},
     "output_type": "display_data"
    }
   ],
   "source": [
    "plt.figure(figsize=(10,8))\n",
    "tau_per_neuron_vi = [0.81481481, 0.90185185, 0.96666667, 0.98564815, 0.99444444, 0.99722222]\n",
    "l2_prior = [0.74027778, 0.81759259, 0.92407407, 0.96342593, 0.98888889, 0.99305556]\n",
    "\n",
    "xticks = [5, 10, 15, 20, 25, 30]\n",
    "plt.plot(xticks, l2_prior, label=\"l2 prior\")\n",
    "plt.plot(xticks, tau_per_neuron_vi, label=\"new model\")\n",
    "plt.ylabel(\"probability correct\")\n",
    "plt.xlabel(\"orientation difference (degrees)\")\n",
    "plt.legend(loc = 'lower right')"
   ]
  },
  {
   "cell_type": "code",
   "execution_count": null,
   "metadata": {
    "collapsed": true
   },
   "outputs": [],
   "source": []
  },
  {
   "cell_type": "code",
   "execution_count": null,
   "metadata": {
    "collapsed": true
   },
   "outputs": [],
   "source": []
  },
  {
   "cell_type": "markdown",
   "metadata": {},
   "source": [
    "## Experimental"
   ]
  },
  {
   "cell_type": "code",
   "execution_count": null,
   "metadata": {
    "collapsed": false
   },
   "outputs": [],
   "source": [
    "#### MODEL working VI for multi-class setting and converges quickly\n",
    "C = 72\n",
    "N = Xtrain_scaled.shape[0]\n",
    "X = tf.placeholder(tf.float32, [N, D])\n",
    "#w = MultivariateNormalTriL(loc = tf.zeros((D,C-1)), scale_tril = tf.cast(sample_cov[:-1,:-1], tf.float32))\n",
    "w = MultivariateNormalTriL(loc = tf.zeros((D,C-1)), scale_tril = rbf(tf.cast(np.mean(x_train_scaled, axis=1), tf.float32))[:-1,:-1])\n",
    "\n",
    "b = Normal(loc = tf.zeros(C-1), scale = 1 * tf.ones([]))\n",
    "\n",
    "logits = tf.matmul(X, w) + b\n",
    "logits = tf.concat([logits, np.zeros((N, 1))], axis = 1)\n",
    "\n",
    "y = Multinomial(logits = tf.nn.softmax(logits), total_count=1.0)\n",
    "\n",
    "# INFERENCE\n",
    "qw_loc = tf.Variable(tf.random_normal([D,C-1]))\n",
    "qw_scale = tf.nn.softplus(tf.Variable(tf.random_normal([C-1])))\n",
    "\n",
    "qb_loc = tf.Variable(tf.random_normal([C-1]))\n",
    "qb_scale = tf.nn.softplus(tf.Variable(tf.random_normal([])))\n",
    "\n",
    "qw = Normal(loc = qw_loc, scale = qw_scale)\n",
    "qb = Normal(loc = qb_loc, scale = qb_scale)\n",
    "\n",
    "inference = ed.KLqp({w: qw, b: qb}, data={X: Xtrain_scaled, y: Ytrain_hot})\n",
    "inference.initialize(n_iter = 10000)"
   ]
  },
  {
   "cell_type": "code",
   "execution_count": null,
   "metadata": {
    "collapsed": true
   },
   "outputs": [],
   "source": [
    "sess = ed.get_session()\n",
    "init = tf.global_variables_initializer()\n",
    "init.run()\n",
    "learning_curve = []\n",
    "for _ in range(inference.n_iter):\n",
    "    info_dict = inference.update()\n",
    "    if _%1000 == 0:\n",
    "        print(info_dict)\n",
    "    learning_curve.append(info_dict['loss'])\n",
    "inference.finalize()"
   ]
  },
  {
   "cell_type": "code",
   "execution_count": null,
   "metadata": {
    "collapsed": false
   },
   "outputs": [],
   "source": [
    "A = np.zeros((C-1,C))\n",
    "for i in range(C-1):\n",
    "    A[i,i] = -1\n",
    "    A[i,i+1] = 1\n",
    "precision = A.T.dot(A) + .01 * np.identity(C) # A^T.dot(A) + .1 * I for invertability\n",
    "lambda_1 = 1\n",
    "precision = lambda_1 * precision\n",
    "#precision = precision + 1 * np.identity(C) # add sparsity prior \n",
    "cov_matrix = tf.matrix_inverse(precision)\n",
    "cov_matrix_chol = tf.cholesky(cov_matrix)"
   ]
  },
  {
   "cell_type": "code",
   "execution_count": null,
   "metadata": {
    "collapsed": true
   },
   "outputs": [],
   "source": [
    "A = np.zeros((D-1,D))\n",
    "for i in range(D-1):\n",
    "    A[i,i] = -1\n",
    "    A[i,i+1] = 1\n",
    "precision = A.T.dot(A) + .01 * np.identity(D) # A^T.dot(A) + .1 * I for invertability\n",
    "lambda_1 = 1\n",
    "precision = lambda_1 * precision\n",
    "precision = precision + 1 * np.identity(D) # add sparsity prior \n",
    "cov_matrix = tf.matrix_inverse(precision)\n",
    "cov_matrix_chol = tf.cholesky(cov_matrix)"
   ]
  },
  {
   "cell_type": "code",
   "execution_count": null,
   "metadata": {
    "collapsed": true
   },
   "outputs": [],
   "source": [
    "lambdas = [1e-6, 1e-5, 1e-4, 1e-3, 1e-2, 1e-1, 1, 1e1, 1e2, 1e3, 1e4, 1e5, 1e6]    \n",
    "\n",
    "C = 72\n",
    "N = Xtrain_scaled.shape[0]\n",
    "X = tf.placeholder(tf.float32, [N, D])\n",
    "#w = Normal(loc = tf.zeros((D,C-1)), scale = 1 * tf.ones((D,C-1)))\n",
    "w = MultivariateNormalTriL(loc = tf.zeros((D,C-1)), \n",
    "                           scale_tril = tf.cast(tf.cholesky(cov_matrix[:-1,:-1]), tf.float32))\n",
    "\n",
    "# define a (batch of D) C-1 multivariate normals\n",
    "#w = MultivariateNormalFullCovariance(loc = tf.zeros((D,C-1)),\n",
    "#                                     covariance_matrix = tf.cast(cov_matrix[:-1,:-1], tf.float32))\n",
    "\n",
    "#w = MultivariateNormalTriL(loc = tf.zeros((D,C-1)),\n",
    "#                                     scale_tril = tf.cast(cov_matrix_chol[:-1,:-1], tf.float32))\n",
    "\n",
    "#w = MultivariateNormalTriL(loc = tf.zeros((D,C-1)), scale_tril = rbf_kernel)\n",
    "#w = Normal(loc = tf.zeros((D,C-1)), scale = 1* tf.ones(C-1))\n",
    "#b = Normal(loc = tf.zeros(C-1, 1), scale = 1 * tf.ones([]))\n",
    "\n",
    "logits = tf.matmul(X, (w)) #+ b\n",
    "logits = tf.concat([logits, np.zeros((N, 1))], axis = 1)\n",
    "\n",
    "y = Categorical(probs = tf.nn.softmax(logits))\n",
    "\n",
    "\n",
    "# INFERENCE\n",
    "qw_loc = tf.Variable(tf.random_normal([D,C-1]))\n",
    "#qb_loc = tf.Variable(tf.zeros([C-1]))\n",
    "\n",
    "qw = PointMass(params = qw_loc)\n",
    "#qb = PointMass(params = qb_loc)\n",
    "\n",
    "inference = ed.MAP({w: qw}, data={X: Xtrain_scaled, y: Ytrain})\n",
    "inference.initialize(n_iter = 5000)\n",
    "\n",
    "sess = ed.get_session()\n",
    "init = tf.global_variables_initializer()\n",
    "init.run()\n",
    "learning_curve = []\n",
    "for _ in range(inference.n_iter):\n",
    "    info_dict = inference.update()\n",
    "    if _%1000 == 0:\n",
    "        print(info_dict)\n",
    "    learning_curve.append(info_dict['loss'])\n",
    "inference.finalize()"
   ]
  },
  {
   "cell_type": "code",
   "execution_count": null,
   "metadata": {
    "collapsed": true
   },
   "outputs": [],
   "source": [
    "\n",
    "'''\n",
    "qw_loc = tf.Variable(tf.random_normal([D,C-1]))\n",
    "qw_scale = tf.nn.softplus(tf.Variable(tf.random_normal([D,C-1])))\n",
    "\n",
    "qb_loc = tf.Variable(tf.random_normal([C-1]))\n",
    "qb_scale = tf.nn.softplus(tf.Variable(tf.random_normal([])))\n",
    "\n",
    "qw = Normal(loc = qw_loc, scale = qw_scale)\n",
    "qb = Normal(loc = qb_loc, scale = qb_scale)\n",
    "\n",
    "inference = ed.KLqp({w: qw, b: qb}, data={X: Xtrain_scaled, y: Ytrain})\n",
    "inference.initialize(n_iter = 10000)\n",
    "'''\n",
    "'''\n",
    "# EVALUATION ON TEST DATA\n",
    "qw_mod = tf.concat([tf.transpose(qw.mean()), np.zeros((58,1))], axis=1)\n",
    "qb_mod = tf.concat([qb.mean(), np.zeros((1))], axis=0)\n",
    "logits = tf.matmul(tf.cast(sklearn.preprocessing.scale(Xtest), tf.float32), qw_mod) + qb_mod\n",
    "print(compute_average_auc(tf.nn.softmax(logits).eval(), Ytest_hot))\n",
    "\n",
    "print(evaluate_multiclass_model(x_test_scaled, qw_mod.eval(), qb_mod.eval()))\n",
    "'''"
   ]
  },
  {
   "cell_type": "code",
   "execution_count": null,
   "metadata": {
    "collapsed": true
   },
   "outputs": [],
   "source": []
  },
  {
   "cell_type": "code",
   "execution_count": null,
   "metadata": {
    "collapsed": true
   },
   "outputs": [],
   "source": []
  },
  {
   "cell_type": "markdown",
   "metadata": {},
   "source": [
    "# STAN"
   ]
  },
  {
   "cell_type": "code",
   "execution_count": 108,
   "metadata": {
    "collapsed": true
   },
   "outputs": [],
   "source": [
    "import pystan"
   ]
  },
  {
   "cell_type": "code",
   "execution_count": 106,
   "metadata": {
    "collapsed": false
   },
   "outputs": [],
   "source": [
    "Ytrain=Ytrain+1"
   ]
  },
  {
   "cell_type": "code",
   "execution_count": 109,
   "metadata": {
    "collapsed": false
   },
   "outputs": [],
   "source": [
    "### MAP estimation with beta ~ normal(0,1)\n",
    "\n",
    "# K outcomes\n",
    "multi_logit_code = \"\"\"\n",
    "data {\n",
    "    int<lower=2> K; // num orientations\n",
    "    int<lower=0> N; // num samples\n",
    "    int<lower=1> D; // num features\n",
    "    int y[N];\n",
    "    vector[D] x[N];\n",
    "}\n",
    "parameters {\n",
    "    matrix[K,D] beta;\n",
    "    vector[K] intercept;\n",
    "}\n",
    "model {\n",
    "    for (k in 1:K) {\n",
    "        beta[k] ~ normal(0,1);\n",
    "    }\n",
    "    //for (d in 1:D) {\n",
    "    //    beta[:,d] ~ normal(0,1);\n",
    "    //}\n",
    "    intercept ~ normal(0,1);\n",
    "    for (n in 1:N) {\n",
    "       y[n] ~ categorical_logit(beta * x[n] + intercept);\n",
    "    }\n",
    "}\n",
    "\"\"\"\n",
    "dat = {'K': 72, 'N': 2520, 'D': 58, 'x': Xtrain_scaled, 'y': Ytrain}\n",
    "\n",
    "sm = pystan.StanModel(model_code = multi_logit_code)\n",
    "fit = sm.optimizing(data= dat);"
   ]
  },
  {
   "cell_type": "code",
   "execution_count": 111,
   "metadata": {
    "collapsed": false
   },
   "outputs": [],
   "source": [
    "beta_ori = fit['beta']\n",
    "intercept_ori = fit['intercept']"
   ]
  },
  {
   "cell_type": "code",
   "execution_count": 117,
   "metadata": {
    "collapsed": false
   },
   "outputs": [
    {
     "data": {
      "text/plain": [
       "array([ 0.7375    ,  0.83425926,  0.91851852,  0.9662037 ,  0.98472222,\n",
       "        0.99305556])"
      ]
     },
     "execution_count": 117,
     "metadata": {},
     "output_type": "execute_result"
    }
   ],
   "source": [
    "evaluate_multiclass_model(x_test_scaled_3d, beta_ori, intercept_ori)"
   ]
  },
  {
   "cell_type": "code",
   "execution_count": null,
   "metadata": {
    "collapsed": true
   },
   "outputs": [],
   "source": [
    "### MAP estimation with beta ~ normal(0,1)\n",
    "\n",
    "# K outcomes\n",
    "multi_logit_code = \"\"\"\n",
    "data {\n",
    "    int<lower=2> K; // num orientations\n",
    "    int<lower=0> N; // num samples\n",
    "    int<lower=1> D; // num neurons\n",
    "    int y[N];\n",
    "    vector[D] x[N];\n",
    "}\n",
    "transformed data {\n",
    "    row_vector[D] zeros;\n",
    "    zeros = rep_row_vector(0, D);\n",
    "}\n",
    "parameters {\n",
    "    matrix[K-1, D] beta_raw;\n",
    "    vector[K] intercept;\n",
    "    real<lower=0> sigma[K];\n",
    "    real<lower=0> sigma_intercept;\n",
    "}\n",
    "transformed parameters {\n",
    "    matrix[K, D] beta;\n",
    "    beta = append_row(beta_raw, zeros);\n",
    "}\n",
    "model {\n",
    "    for (k in 1:K) {\n",
    "        beta[k] ~ normal(0,sigma[k]);\n",
    "    }\n",
    "    //for (d in 1:D) {\n",
    "    //    beta[:,d] ~ normal(0,1);\n",
    "    //}\n",
    "    intercept ~ normal(0,sigma_intercept);\n",
    "    for (n in 1:N) {\n",
    "       y[n] ~ categorical_logit(beta * x[n] + intercept);\n",
    "    }\n",
    "}\n",
    "\"\"\"\n",
    "dat = {'K': 72, 'N': 2520, 'D': 58, 'x': Xtrain, 'y': Ytrain}\n",
    "\n",
    "sm = pystan.StanModel(model_code = multi_logit_code)\n",
    "fit = sm.vb(data= dat)"
   ]
  },
  {
   "cell_type": "code",
   "execution_count": null,
   "metadata": {
    "collapsed": true
   },
   "outputs": [],
   "source": []
  },
  {
   "cell_type": "code",
   "execution_count": null,
   "metadata": {
    "collapsed": true
   },
   "outputs": [],
   "source": [
    "# gaussian process prior\n",
    "multi_logit_code = \"\"\"\n",
    "data {\n",
    "    int<lower=2> K;\n",
    "    int<lower=0> N;\n",
    "    int<lower=1> D;\n",
    "    int y[N];\n",
    "    vector[D] x[N];\n",
    "}\n",
    "transformed data {\n",
    "    //cov_matrix[K] Kern;\n",
    "    //K = cov_exp_quad()\n",
    "    \n",
    "}\n",
    "parameters {\n",
    "    matrix[K,D] beta;\n",
    "    vector[K] intercept;\n",
    "    //cov_matrix[K] Kern;\n",
    "    //K = cov_exp_quad(beta, 1 1);\n",
    "}\n",
    "model {\n",
    "    for (d in 1:D) {\n",
    "        beta[:,d] ~ multi_normal(0, Kern);\n",
    "    }\n",
    "    // beta[:,d] ~ GP[0, squared rbf kernel] model each column as a gp \n",
    "    intercept ~ normal(0,1);\n",
    "    for (n in 1:N) {\n",
    "       y[n] ~ categorical_logit(beta * x[n] + intercept);\n",
    "    }\n",
    "}\n",
    "\"\"\"\n",
    "dat = {'K': 4, 'N': 140, 'D': 58, 'x': Xtrain_n, 'y': yt}\n",
    "\n",
    "sm = pystan.StanModel(model_code = multi_logit_code)\n",
    "fit = sm.vb(data= dat);"
   ]
  },
  {
   "cell_type": "code",
   "execution_count": null,
   "metadata": {
    "collapsed": true
   },
   "outputs": [],
   "source": []
  }
 ],
 "metadata": {
  "anaconda-cloud": {},
  "kernelspec": {
   "display_name": "Python [Root]",
   "language": "python",
   "name": "Python [Root]"
  },
  "language_info": {
   "codemirror_mode": {
    "name": "ipython",
    "version": 3
   },
   "file_extension": ".py",
   "mimetype": "text/x-python",
   "name": "python",
   "nbconvert_exporter": "python",
   "pygments_lexer": "ipython3",
   "version": "3.5.2"
  }
 },
 "nbformat": 4,
 "nbformat_minor": 0
}
