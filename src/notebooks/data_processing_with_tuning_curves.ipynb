{
 "cells": [
  {
   "cell_type": "markdown",
   "metadata": {},
   "source": [
    "# This notebook \n",
    "## 1) reads and processes .mat files from Graf 2011\n",
    "## 2) computes spike counts per trial\n",
    "## 3) plots tuning curves\n",
    "## 4) builds a Poisson Independent Decoder (PID)\n",
    "## 5) builds an L1 regularized multinomial logistic regression model\n",
    "## 6) builds a Bayesian hierarchical logistic regression model (many variations) \n",
    "## 7) evaluates the three models"
   ]
  },
  {
   "cell_type": "code",
   "execution_count": 1,
   "metadata": {
    "collapsed": true
   },
   "outputs": [],
   "source": [
    "#!/usr/bin/env python\n",
    "from __future__ import absolute_import\n",
    "from __future__ import division\n",
    "from __future__ import print_function"
   ]
  },
  {
   "cell_type": "code",
   "execution_count": 2,
   "metadata": {},
   "outputs": [
    {
     "name": "stderr",
     "output_type": "stream",
     "text": [
      "/Users/fdamani/anaconda3/lib/python3.6/site-packages/sklearn/cross_validation.py:41: DeprecationWarning: This module was deprecated in version 0.18 in favor of the model_selection module into which all the refactored classes and functions are moved. Also note that the interface of the new CV iterators are different from that of this module. This module will be removed in 0.20.\n",
      "  \"This module will be removed in 0.20.\", DeprecationWarning)\n",
      "/Users/fdamani/anaconda3/lib/python3.6/site-packages/sklearn/grid_search.py:42: DeprecationWarning: This module was deprecated in version 0.18 in favor of the model_selection module into which all the refactored classes and functions are moved. This module will be removed in 0.20.\n",
      "  DeprecationWarning)\n",
      "/Users/fdamani/anaconda3/lib/python3.6/site-packages/sklearn/learning_curve.py:22: DeprecationWarning: This module was deprecated in version 0.18 in favor of the model_selection module into which all the functions are moved. This module will be removed in 0.20\n",
      "  DeprecationWarning)\n"
     ]
    }
   ],
   "source": [
    "import scipy.io\n",
    "import numpy as np\n",
    "import pandas as pd\n",
    "import seaborn as sns\n",
    "import matplotlib.pyplot as plt\n",
    "\n",
    "import edward as ed\n",
    "import matplotlib.pyplot as plt\n",
    "import numpy as np\n",
    "import tensorflow as tf\n",
    "\n",
    "import sklearn\n",
    "from sklearn.cross_validation import train_test_split\n",
    "from sklearn import *\n",
    "from edward.models import InverseGamma, Poisson, Categorical, Empirical, Laplace,Bernoulli, Multinomial, Normal, PointMass, MultivariateNormalDiag, MultivariateNormalFullCovariance, MultivariateNormalTriL"
   ]
  },
  {
   "cell_type": "code",
   "execution_count": 3,
   "metadata": {},
   "outputs": [
    {
     "data": {
      "text/plain": [
       "'1.2.1'"
      ]
     },
     "execution_count": 3,
     "metadata": {},
     "output_type": "execute_result"
    }
   ],
   "source": [
    "tf.__version__"
   ]
  },
  {
   "cell_type": "code",
   "execution_count": 4,
   "metadata": {
    "collapsed": true
   },
   "outputs": [],
   "source": [
    "ed.set_seed(42)\n",
    "sess = ed.get_session()"
   ]
  },
  {
   "cell_type": "code",
   "execution_count": 5,
   "metadata": {
    "collapsed": true
   },
   "outputs": [],
   "source": [
    "def read_data(file_path):\n",
    "    '''Read and process mat file from Graf2011\n",
    "    \n",
    "    param array_number: {1, 2, 3, 4, 5}\n",
    "\n",
    "    return:\n",
    "        spike_times: {Nx3600} N simultaneously recorded spike trains for 3600 trials\n",
    "            (50 repeated trials of 72 direction in random order)\n",
    "        orientation_per_trial: orientation for each trial (of length 3600)\n",
    "        num_neurons: number of neurons\n",
    "        orientations: sorted set of orientations\n",
    "        num_repeats: number of repeats for each (orientation,neuron) (=50)\n",
    "        num_trials: 50 repeated trials x 72 directions\n",
    "        trial_length: length of trial (in seconds)\n",
    "    '''\n",
    "    dataStruct = scipy.io.loadmat(file_path)\n",
    "    spike_times = pd.DataFrame.from_dict(dataStruct['spk_times'])\n",
    "    orientation_per_trial = dataStruct['ori'][0]\n",
    "    num_neurons = np.shape(dataStruct['neur_param'])[0]\n",
    "    orientations = np.sort(np.unique(dataStruct['ori']))\n",
    "    trial_length = 2560e-3\n",
    "    num_repeats = 50\n",
    "    num_trials = 3600 # 50 repeated trials x 72 directions\n",
    "    num_orientations = len(orientations)\n",
    "    return spike_times, orientation_per_trial, num_neurons, orientations, trial_length, num_repeats, num_trials, num_orientations"
   ]
  },
  {
   "cell_type": "code",
   "execution_count": 6,
   "metadata": {
    "collapsed": true
   },
   "outputs": [],
   "source": [
    "def compute_spike_counts(spike_times, num_neurons, num_trials):\n",
    "    '''\n",
    "        Compute spike counts for each (orientation, neuron, trial)\n",
    "        return 3D numpy array: orientation x trials x neurons\n",
    "        \n",
    "        TODO: add option to average [0 180] with responses from [180 360]\n",
    "    '''\n",
    "    spike_times_mat = spike_times.as_matrix()\n",
    "    spike_counts = np.zeros((num_orientations, num_neurons, num_repeats))\n",
    "    # for each orientation\n",
    "    for i in range(num_orientations):\n",
    "        # access indices in spike times that corresponds to ori\n",
    "        idx = np.where(orientation_per_trial == orientations[i])[0]\n",
    "        spike_times_ori = np.take(spike_times_mat, idx, axis = 1)\n",
    "        for j in range(num_neurons):\n",
    "            for k in range(num_repeats):\n",
    "                a = np.count_nonzero(spike_times_ori[j][k] <= 1280) ## only look at spikes before 1280 ms e.g. stimulus presentation\n",
    "                b = np.count_nonzero(spike_times_ori[j][k] <= 60) ## ignore spikes before 60 ms - v1 response latencies\n",
    "                spikes = a - b\n",
    "                spike_counts[i, j, k] = spikes\n",
    "    return spike_counts"
   ]
  },
  {
   "cell_type": "code",
   "execution_count": 7,
   "metadata": {
    "collapsed": true
   },
   "outputs": [],
   "source": [
    "'''\n",
    "Filters to data\n",
    "1) spike counts observed after 1280 ms\n",
    "    - exclude\n",
    "    - use to filter neurons that do not have a significantly higher mean tc with stimulus than without\n",
    "\n",
    "2) from paper, \n",
    "To get visually driven neurons, we only accepted neurons of which the\n",
    "peak or trough of their tuning curve fell outside of the window defined\n",
    "by the mean and one s.d. of their spontaneous activity. Furthermore, we\n",
    "obtained meaningful sample of V1 neurons by only considering neurons with\n",
    "tuning curves that could be well approximated (r2   0.75) by bimodal\n",
    "circular Gaussian functions (the sum of two von Mises functions with\n",
    "different preferred orientations, amplitudes and bandwidths), allowing us\n",
    "to accommo- date for direction (mono-modal) or orientation (bi-modal)\n",
    "tuning. We obtained populations of simultaneously recorded neurons of\n",
    "sizes 40, 57, 60, 70 and 74. Each data set was obtained in a ~3-h-long\n",
    "recording session.\n",
    "\n",
    "3) average across 180 degree axis?\n",
    "\n",
    "4) if max of tc for neuron i across orientations - min of tc for neuron i across orientations is \n",
    "    not greater than 10, -> exclude neuron\n",
    "    \n",
    "5) divisive normalization\n",
    "\n",
    "'''\n",
    "\n",
    "def normalize_spike_counts(spike_counts, num_orientations, num_neurons, num_repeats):\n",
    "    '''\n",
    "        Normalize by variance of spike counts\n",
    "            for each trial\n",
    "                square spike counts across (neurons, orientations) then sum across neurons\n",
    "                divide the square of each spike count by the summed squared spike counts across neurons\n",
    "                \n",
    "        PROBLEM: mean tuning curve gives same mean for all entries\n",
    "    '''\n",
    "    spike_counts_norm = np.zeros((num_orientations, num_neurons, num_repeats))\n",
    "    for i in range(num_repeats):\n",
    "        variance_sum = np.sum(spike_counts[:, :, i]**2, axis = 1).reshape(-1,1)\n",
    "        spike_counts_norm[:, :, i] = (spike_counts[:, :, i]**2) / np.tile(variance_sum, num_neurons)\n",
    "    return spike_counts_norm"
   ]
  },
  {
   "cell_type": "code",
   "execution_count": 8,
   "metadata": {},
   "outputs": [
    {
     "ename": "SyntaxError",
     "evalue": "invalid syntax (<ipython-input-8-a54a9182e0ea>, line 1)",
     "output_type": "error",
     "traceback": [
      "\u001b[0;36m  File \u001b[0;32m\"<ipython-input-8-a54a9182e0ea>\"\u001b[0;36m, line \u001b[0;32m1\u001b[0m\n\u001b[0;31m    best fit to the tuning curve\u001b[0m\n\u001b[0m           ^\u001b[0m\n\u001b[0;31mSyntaxError\u001b[0m\u001b[0;31m:\u001b[0m invalid syntax\n"
     ]
    }
   ],
   "source": [
    "best fit to the tuning curve \n",
    "\n",
    "one von mise might get too narrow - add a constraint to keep the means separate and prevent variances from going to 0"
   ]
  },
  {
   "cell_type": "markdown",
   "metadata": {},
   "source": [
    "From Graf 2011, \"Evoked activity was estimated over the full stimulus presentation. We neglected the contamination by the blank preceding each grating because this period of the response (the first ~60 ms corresponding to typical V1 response latencies50) was of negligible duration compared with the 1,280 ms stimulus presentation time and this contamination was the same for each grating. Spontaneous activity was assessed on the last 500 ms of each blank presentation to avoid contamina- tion induced by the preceding grating. To get visually driven neurons, we only accepted neurons of which the peak or trough of their tuning curve fell outside of the window defined by the mean and one s.d. of their spontaneous activity. Furthermore, we obtained meaningful sample of V1 neurons by only considering neurons with tuning curves that could be well approximated (r2   0.75) by bimodal circular Gaussian functions (the sum of two von Mises functions with different preferred orientations, amplitudes and bandwidths), allowing us to accommo- date for direction (mono-modal) or orientation (bi-modal) tuning.\"\n",
    "\n",
    "\n",
    "\n",
    "From Montijn 2014, \"To further parameterize neuronal orientation tuning, we also calculated each neuron's preferred direction by fitting a double von Mises distribution to the neuron's responses, where the peaks of both von Mises functions are opposite to each other (separated by 180°):\n",
    "\n",
    "$$f(x∣∣θ,κ1,κ2,μ0)= \\frac{e^{κ_1cos(x−θ)}}{2πI_0(κ_1)} + \\frac{e^{κ_2cos(x+π−θ)}}{2πI_0(κ_2)}+μ_0$$\n",
    "(1)\n",
    "Here, I0(κ) is the modified Bessel function of order 0 and x represents the stimulus angle. As can be seen in the equation, we defined the free parameters as θ (preferred direction), κ1 (concentration parameter at θ), κ2 (concentration parameter at θ +π) and μ0 (baseline response). A neuron's preferred direction was defined as the angle with the highest concentration parameter (which could be either κ1 or κ2).\"\n",
    "\n",
    "## is this based on training data or all?"
   ]
  },
  {
   "cell_type": "code",
   "execution_count": 9,
   "metadata": {
    "collapsed": true
   },
   "outputs": [],
   "source": [
    "def compute_mean_tc(spike_counts):\n",
    "    return np.mean(spike_counts, axis=2)\n",
    "\n",
    "def compute_var_tc(spike_counts):\n",
    "    return np.var(spike_counts, axis=2)\n",
    "\n",
    "def compute_cov_tc(spike_counts):\n",
    "    tc_cov = np.zeros((num_neurons, num_neurons, num_orientations))\n",
    "    for i in range(num_orientations):\n",
    "        tc_cov[:, :, i] = np.cov(spike_counts[i])\n",
    "    return tc_cov"
   ]
  },
  {
   "cell_type": "code",
   "execution_count": 10,
   "metadata": {
    "collapsed": true
   },
   "outputs": [],
   "source": [
    "def compute_preferred_orientation(mean_tc, num_neurons):\n",
    "    '''max of tuning curve across orientations'''\n",
    "    pref_ori = np.zeros(147)\n",
    "    for i in range(num_neurons):\n",
    "        pref_ori[i] = np.argmax(mean_tc[:,i])\n",
    "    return pref_ori"
   ]
  },
  {
   "cell_type": "code",
   "execution_count": 11,
   "metadata": {
    "collapsed": true
   },
   "outputs": [],
   "source": [
    "def filter_to_well_tuned_neurons(mean_tc, thresh):\n",
    "    '''Filter to well tuned neurons, example thresh = 10'''\n",
    "    maxdiff = np.max(mean_tc, axis=0) - np.min(mean_tc, axis=0)\n",
    "    ind_tuned = np.where(maxdiff > thresh)[0]\n",
    "    return ind_tuned"
   ]
  },
  {
   "cell_type": "markdown",
   "metadata": {},
   "source": [
    "## y  ~ Poisson(f(x; $\\theta$)), where f is a mixture of von mises, y is spike trains and x is orientation"
   ]
  },
  {
   "cell_type": "code",
   "execution_count": 12,
   "metadata": {
    "collapsed": true
   },
   "outputs": [],
   "source": [
    "from numpy.core import linspace, atleast_1d, atleast_2d\n",
    "from numpy.core.numeric import empty_like\n",
    "## Modified numpy code to work with tensorflow\n",
    "def i0(x):\n",
    "    \"\"\"\n",
    "    Modified Bessel function of the first kind, order 0.\n",
    "    Usually denoted :math:`I_0`.  This function does broadcast, but will *not*\n",
    "    \"up-cast\" int dtype arguments unless accompanied by at least one float or\n",
    "    complex dtype argument (see Raises below).\n",
    "    Parameters\n",
    "    ----------\n",
    "    x : array_like, dtype float or complex\n",
    "        Argument of the Bessel function.\n",
    "    Returns\n",
    "    -------\n",
    "    out : ndarray, shape = x.shape, dtype = x.dtype\n",
    "        The modified Bessel function evaluated at each of the elements of `x`.\n",
    "    Raises\n",
    "    ------\n",
    "    TypeError: array cannot be safely cast to required type\n",
    "        If argument consists exclusively of int dtypes.\n",
    "    See Also\n",
    "    --------\n",
    "    scipy.special.iv, scipy.special.ive\n",
    "    Notes\n",
    "    -----\n",
    "    We use the algorithm published by Clenshaw [1]_ and referenced by\n",
    "    Abramowitz and Stegun [2]_, for which the function domain is\n",
    "    partitioned into the two intervals [0,8] and (8,inf), and Chebyshev\n",
    "    polynomial expansions are employed in each interval. Relative error on\n",
    "    the domain [0,30] using IEEE arithmetic is documented [3]_ as having a\n",
    "    peak of 5.8e-16 with an rms of 1.4e-16 (n = 30000).\n",
    "    References\n",
    "    ----------\n",
    "    .. [1] C. W. Clenshaw, \"Chebyshev series for mathematical functions\", in\n",
    "           *National Physical Laboratory Mathematical Tables*, vol. 5, London:\n",
    "           Her Majesty's Stationery Office, 1962.\n",
    "    .. [2] M. Abramowitz and I. A. Stegun, *Handbook of Mathematical\n",
    "           Functions*, 10th printing, New York: Dover, 1964, pp. 379.\n",
    "           http://www.math.sfu.ca/~cbm/aands/page_379.htm\n",
    "    .. [3] http://kobesearch.cpan.org/htdocs/Math-Cephes/Math/Cephes.html\n",
    "    Examples\n",
    "    --------\n",
    "    >>> np.i0([0.])\n",
    "    array(1.0)\n",
    "    >>> np.i0([0., 1. + 2j])\n",
    "    array([ 1.00000000+0.j        ,  0.18785373+0.64616944j])\n",
    "    \"\"\"\n",
    "    '''\n",
    "    x = atleast_1d(x).copy()\n",
    "    y = empty_like(x)\n",
    "    ind = (x < 0)\n",
    "    x[ind] = -x[ind]\n",
    "    ind = (x <= 8.0)\n",
    "    y[ind] = _i0_1(x[ind])\n",
    "    ind2 = ~ind\n",
    "    y[ind2] = _i0_2(x[ind2])\n",
    "    return y.squeeze()\n",
    "    '''\n",
    "    return tf.where((x <= 8), _i0_1(x), _i0_2(x))\n",
    "\n",
    "def _i0_1(x):\n",
    "    return tf.exp(x) * _chbevl( x /2.0-2, _i0A)\n",
    "\n",
    "def _chbevl(x, vals):\n",
    "    b0 = vals[0]\n",
    "    b1 = 0.0\n",
    "\n",
    "    for i in range(1, len(vals)):\n",
    "        b2 = b1\n",
    "        b1 = b0\n",
    "        b0 = x*b1 - b2 + vals[i]\n",
    "\n",
    "    return 0.5*(b0 - b2)\n",
    "\n",
    "def _i0_2(x):\n",
    "    return tf.exp(x) * _chbevl(32.0 / x - 2.0, _i0B) / tf.sqrt(x)\n",
    "\n",
    "_i0A = [\n",
    "    -4.41534164647933937950E-18,\n",
    "    3.33079451882223809783E-17,\n",
    "    -2.43127984654795469359E-16,\n",
    "    1.71539128555513303061E-15,\n",
    "    -1.16853328779934516808E-14,\n",
    "    7.67618549860493561688E-14,\n",
    "    -4.85644678311192946090E-13,\n",
    "    2.95505266312963983461E-12,\n",
    "    -1.72682629144155570723E-11,\n",
    "    9.67580903537323691224E-11,\n",
    "    -5.18979560163526290666E-10,\n",
    "    2.65982372468238665035E-9,\n",
    "    -1.30002500998624804212E-8,\n",
    "    6.04699502254191894932E-8,\n",
    "    -2.67079385394061173391E-7,\n",
    "    1.11738753912010371815E-6,\n",
    "    -4.41673835845875056359E-6,\n",
    "    1.64484480707288970893E-5,\n",
    "    -5.75419501008210370398E-5,\n",
    "    1.88502885095841655729E-4,\n",
    "    -5.76375574538582365885E-4,\n",
    "    1.63947561694133579842E-3,\n",
    "    -4.32430999505057594430E-3,\n",
    "    1.05464603945949983183E-2,\n",
    "    -2.37374148058994688156E-2,\n",
    "    4.93052842396707084878E-2,\n",
    "    -9.49010970480476444210E-2,\n",
    "    1.71620901522208775349E-1,\n",
    "    -3.04682672343198398683E-1,\n",
    "    6.76795274409476084995E-1\n",
    "    ]\n",
    "\n",
    "_i0B = [\n",
    "    -7.23318048787475395456E-18,\n",
    "    -4.83050448594418207126E-18,\n",
    "    4.46562142029675999901E-17,\n",
    "    3.46122286769746109310E-17,\n",
    "    -2.82762398051658348494E-16,\n",
    "    -3.42548561967721913462E-16,\n",
    "    1.77256013305652638360E-15,\n",
    "    3.81168066935262242075E-15,\n",
    "    -9.55484669882830764870E-15,\n",
    "    -4.15056934728722208663E-14,\n",
    "    1.54008621752140982691E-14,\n",
    "    3.85277838274214270114E-13,\n",
    "    7.18012445138366623367E-13,\n",
    "    -1.79417853150680611778E-12,\n",
    "    -1.32158118404477131188E-11,\n",
    "    -3.14991652796324136454E-11,\n",
    "    1.18891471078464383424E-11,\n",
    "    4.94060238822496958910E-10,\n",
    "    3.39623202570838634515E-9,\n",
    "    2.26666899049817806459E-8,\n",
    "    2.04891858946906374183E-7,\n",
    "    2.89137052083475648297E-6,\n",
    "    6.88975834691682398426E-5,\n",
    "    3.36911647825569408990E-3,\n",
    "    8.04490411014108831608E-1\n",
    "    ]\n",
    "\n",
    "def mixture_von_mises(params):\n",
    "\n",
    "    k1, mu1, k2, mu2, weight, weight2 = params\n",
    "    x = tf.reshape(tf.cast(tf.constant((np.arange(-36,36) / 72.0) * 2.0 * np.pi), tf.float64), (-1,1))\n",
    "    \n",
    "    first_term = weight * (tf.exp(k1 * tf.cos(x - mu1)) / (2.0 * np.pi * i0(k1)))  \n",
    "    second_term = weight2 * (tf.exp(k2 * tf.cos(x - mu2)) / (2.0 * np.pi * i0(k2)))\n",
    "    return first_term + second_term"
   ]
  },
  {
   "cell_type": "code",
   "execution_count": 675,
   "metadata": {},
   "outputs": [
    {
     "name": "stdout",
     "output_type": "stream",
     "text": [
      "{'t': 1, 'loss': 1766667.5360998155}\n",
      "{'t': 101, 'loss': 762283.85017815651}\n",
      "{'t': 201, 'loss': 394527.93369509862}\n",
      "{'t': 301, 'loss': 134208.12848689815}\n",
      "{'t': 401, 'loss': 65950.232723317269}\n",
      "{'t': 501, 'loss': 53222.495016077373}\n",
      "{'t': 601, 'loss': 45479.121006667527}\n",
      "{'t': 701, 'loss': 42123.847364091154}\n",
      "{'t': 801, 'loss': 41119.292192799978}\n",
      "{'t': 901, 'loss': 40391.67909344958}\n",
      "{'t': 1001, 'loss': 39795.452695028558}\n",
      "{'t': 1101, 'loss': 39296.958084827769}\n",
      "{'t': 1201, 'loss': 38874.87385422361}\n",
      "{'t': 1301, 'loss': 38513.96294759099}\n",
      "{'t': 1401, 'loss': 38202.867233068624}\n",
      "{'t': 1501, 'loss': 37932.885804931582}\n",
      "{'t': 1601, 'loss': 37697.218491290834}\n",
      "{'t': 1701, 'loss': 37490.465706243587}\n",
      "{'t': 1801, 'loss': 37308.282949957473}\n",
      "{'t': 1901, 'loss': 37147.134129028098}\n",
      "{'t': 2001, 'loss': 37004.111681690105}\n",
      "{'t': 2101, 'loss': 36876.802784369283}\n",
      "{'t': 2201, 'loss': 36763.188413367578}\n",
      "{'t': 2301, 'loss': 36661.566150573752}\n",
      "{'t': 2401, 'loss': 36570.49044408778}\n",
      "{'t': 2501, 'loss': 36488.725921131583}\n",
      "{'t': 2601, 'loss': 36415.21049080306}\n",
      "{'t': 2701, 'loss': 36349.025998516787}\n",
      "{'t': 2801, 'loss': 36289.374661894588}\n",
      "{'t': 2901, 'loss': 36235.560000161204}\n",
      "0\n"
     ]
    }
   ],
   "source": [
    "num_restarts = 1\n",
    "N = mean_tc.shape[1]\n",
    "scores = np.zeros((num_restarts, N))\n",
    "for i in range(num_restarts):\n",
    "    C = 72 # num orientations\n",
    "    N = mean_tc.shape[1] # num neurons\n",
    "    #N = 5\n",
    "\n",
    "    # mixture of von mises params\n",
    "    k1 = tf.nn.softplus(tf.Variable(tf.random_normal([N], mean=30, stddev=0.0001, dtype=tf.float64)))\n",
    "    k2 = tf.nn.softplus(tf.Variable(tf.random_normal([N], mean=30, stddev=0.0001, dtype=tf.float64)))\n",
    "    mu1 = tf.Variable(tf.random_normal([N], mean = -1.5, stddev=0.001, dtype=tf.float64))\n",
    "    mu2 = tf.Variable(tf.random_normal([N], mean=1.5, stddev=0.001, dtype=tf.float64))\n",
    "    weight = tf.nn.softplus(tf.Variable(tf.random_normal([N], mean = 50 , stddev=0.001, dtype=tf.float64)))\n",
    "    weight2 = tf.nn.softplus(tf.Variable(tf.random_normal([N], mean = 50, stddev=0.001, dtype=tf.float64)))\n",
    "\n",
    "    params = [k1, mu1, k2, mu2, weight, weight2]\n",
    "    rate = mixture_von_mises(params)\n",
    "\n",
    "    # MODEL\n",
    "    y = Poisson(rate = rate)\n",
    "\n",
    "    # INFERENCE\n",
    "    qy = PointMass(params = tf.Variable(tf.zeros([C, N], dtype=tf.float64)))\n",
    "    inference = ed.MAP({y: qy}, data={y: mean_tc})\n",
    "    #inference.run()\n",
    "    \n",
    "    \n",
    "    inference.initialize(n_iter = 3000)\n",
    "    init = tf.global_variables_initializer()\n",
    "    init.run()\n",
    "    learning_curve = []\n",
    "    for _ in range(inference.n_iter):\n",
    "        info_dict = inference.update()\n",
    "        if _%100 == 0:\n",
    "            print(info_dict)\n",
    "        learning_curve.append(info_dict['loss'])\n",
    "    inference.finalize()\n",
    "    \n",
    "    preds = y.mean().eval()\n",
    "    for j in range(N):\n",
    "        scores[i,j] = metrics.r2_score(mean_tc[:,j], preds[:,j])\n",
    "    print(i)"
   ]
  },
  {
   "cell_type": "code",
   "execution_count": 679,
   "metadata": {},
   "outputs": [
    {
     "name": "stdout",
     "output_type": "stream",
     "text": [
      "Num neurons with r^2 >= .75:  18\n"
     ]
    }
   ],
   "source": [
    "sx = np.max(scores, axis=0)\n",
    "inds_tuned_vm = np.where(sx >= 0.90)[0]\n",
    "print(\"Num neurons with r^2 >= .75: \", len(inds_tuned_vm))"
   ]
  },
  {
   "cell_type": "code",
   "execution_count": 16,
   "metadata": {},
   "outputs": [
    {
     "ename": "NameError",
     "evalue": "name 'mean_tc' is not defined",
     "output_type": "error",
     "traceback": [
      "\u001b[0;31m---------------------------------------------------------------------------\u001b[0m",
      "\u001b[0;31mNameError\u001b[0m                                 Traceback (most recent call last)",
      "\u001b[0;32m<ipython-input-16-d881c138f391>\u001b[0m in \u001b[0;36m<module>\u001b[0;34m()\u001b[0m\n\u001b[0;32m----> 1\u001b[0;31m \u001b[0;32mfor\u001b[0m \u001b[0mi\u001b[0m \u001b[0;32min\u001b[0m \u001b[0mrange\u001b[0m\u001b[0;34m(\u001b[0m\u001b[0mmean_tc\u001b[0m\u001b[0;34m.\u001b[0m\u001b[0mshape\u001b[0m\u001b[0;34m[\u001b[0m\u001b[0;36m1\u001b[0m\u001b[0;34m]\u001b[0m\u001b[0;34m)\u001b[0m\u001b[0;34m:\u001b[0m\u001b[0;34m\u001b[0m\u001b[0m\n\u001b[0m\u001b[1;32m      2\u001b[0m     \u001b[0;32mif\u001b[0m \u001b[0msx\u001b[0m\u001b[0;34m[\u001b[0m\u001b[0mi\u001b[0m\u001b[0;34m]\u001b[0m \u001b[0;34m>=\u001b[0m \u001b[0;36m0.75\u001b[0m\u001b[0;34m:\u001b[0m\u001b[0;34m\u001b[0m\u001b[0m\n\u001b[1;32m      3\u001b[0m         \u001b[0mfig\u001b[0m \u001b[0;34m=\u001b[0m \u001b[0mplt\u001b[0m\u001b[0;34m.\u001b[0m\u001b[0mfigure\u001b[0m\u001b[0;34m(\u001b[0m\u001b[0;34m)\u001b[0m\u001b[0;34m\u001b[0m\u001b[0m\n\u001b[1;32m      4\u001b[0m         \u001b[0mplt\u001b[0m\u001b[0;34m.\u001b[0m\u001b[0mplot\u001b[0m\u001b[0;34m(\u001b[0m\u001b[0mmean_tc\u001b[0m\u001b[0;34m[\u001b[0m\u001b[0;34m:\u001b[0m\u001b[0;34m,\u001b[0m\u001b[0mi\u001b[0m\u001b[0;34m]\u001b[0m\u001b[0;34m)\u001b[0m\u001b[0;34m\u001b[0m\u001b[0m\n\u001b[1;32m      5\u001b[0m         \u001b[0mplt\u001b[0m\u001b[0;34m.\u001b[0m\u001b[0mplot\u001b[0m\u001b[0;34m(\u001b[0m\u001b[0mpreds\u001b[0m\u001b[0;34m[\u001b[0m\u001b[0;34m:\u001b[0m\u001b[0;34m,\u001b[0m\u001b[0mi\u001b[0m\u001b[0;34m]\u001b[0m\u001b[0;34m)\u001b[0m\u001b[0;34m\u001b[0m\u001b[0m\n",
      "\u001b[0;31mNameError\u001b[0m: name 'mean_tc' is not defined"
     ]
    }
   ],
   "source": [
    "for i in range(mean_tc.shape[1]):\n",
    "    if sx[i] >= 0.75:\n",
    "        fig = plt.figure()\n",
    "        plt.plot(mean_tc[:,i])\n",
    "        plt.plot(preds[:,i])\n",
    "        plt.xlabel(sx[i])"
   ]
  },
  {
   "cell_type": "code",
   "execution_count": 17,
   "metadata": {},
   "outputs": [
    {
     "ename": "NameError",
     "evalue": "name 'mean_tc' is not defined",
     "output_type": "error",
     "traceback": [
      "\u001b[0;31m---------------------------------------------------------------------------\u001b[0m",
      "\u001b[0;31mNameError\u001b[0m                                 Traceback (most recent call last)",
      "\u001b[0;32m<ipython-input-17-2bae10d8fadb>\u001b[0m in \u001b[0;36m<module>\u001b[0;34m()\u001b[0m\n\u001b[0;32m----> 1\u001b[0;31m \u001b[0;32mfor\u001b[0m \u001b[0mi\u001b[0m \u001b[0;32min\u001b[0m \u001b[0mrange\u001b[0m\u001b[0;34m(\u001b[0m\u001b[0mmean_tc\u001b[0m\u001b[0;34m.\u001b[0m\u001b[0mshape\u001b[0m\u001b[0;34m[\u001b[0m\u001b[0;36m1\u001b[0m\u001b[0;34m]\u001b[0m\u001b[0;34m)\u001b[0m\u001b[0;34m:\u001b[0m\u001b[0;34m\u001b[0m\u001b[0m\n\u001b[0m\u001b[1;32m      2\u001b[0m     \u001b[0;32mif\u001b[0m \u001b[0msx\u001b[0m\u001b[0;34m[\u001b[0m\u001b[0mi\u001b[0m\u001b[0;34m]\u001b[0m \u001b[0;34m<\u001b[0m \u001b[0;36m0.75\u001b[0m\u001b[0;34m:\u001b[0m\u001b[0;34m\u001b[0m\u001b[0m\n\u001b[1;32m      3\u001b[0m         \u001b[0mfig\u001b[0m \u001b[0;34m=\u001b[0m \u001b[0mplt\u001b[0m\u001b[0;34m.\u001b[0m\u001b[0mfigure\u001b[0m\u001b[0;34m(\u001b[0m\u001b[0;34m)\u001b[0m\u001b[0;34m\u001b[0m\u001b[0m\n\u001b[1;32m      4\u001b[0m         \u001b[0mplt\u001b[0m\u001b[0;34m.\u001b[0m\u001b[0mplot\u001b[0m\u001b[0;34m(\u001b[0m\u001b[0mmean_tc\u001b[0m\u001b[0;34m[\u001b[0m\u001b[0;34m:\u001b[0m\u001b[0;34m,\u001b[0m\u001b[0mi\u001b[0m\u001b[0;34m]\u001b[0m\u001b[0;34m)\u001b[0m\u001b[0;34m\u001b[0m\u001b[0m\n\u001b[1;32m      5\u001b[0m         \u001b[0mplt\u001b[0m\u001b[0;34m.\u001b[0m\u001b[0mplot\u001b[0m\u001b[0;34m(\u001b[0m\u001b[0mpreds\u001b[0m\u001b[0;34m[\u001b[0m\u001b[0;34m:\u001b[0m\u001b[0;34m,\u001b[0m\u001b[0mi\u001b[0m\u001b[0;34m]\u001b[0m\u001b[0;34m)\u001b[0m\u001b[0;34m\u001b[0m\u001b[0m\n",
      "\u001b[0;31mNameError\u001b[0m: name 'mean_tc' is not defined"
     ]
    }
   ],
   "source": [
    "for i in range(mean_tc.shape[1]):\n",
    "    if sx[i] < 0.75:\n",
    "        fig = plt.figure()\n",
    "        plt.plot(mean_tc[:,i])\n",
    "        plt.plot(preds[:,i])\n",
    "        plt.xlabel(sx[i])"
   ]
  },
  {
   "cell_type": "code",
   "execution_count": null,
   "metadata": {
    "collapsed": true
   },
   "outputs": [],
   "source": []
  },
  {
   "cell_type": "code",
   "execution_count": 18,
   "metadata": {},
   "outputs": [
    {
     "ename": "NameError",
     "evalue": "name 'k1' is not defined",
     "output_type": "error",
     "traceback": [
      "\u001b[0;31m---------------------------------------------------------------------------\u001b[0m",
      "\u001b[0;31mNameError\u001b[0m                                 Traceback (most recent call last)",
      "\u001b[0;32m<ipython-input-18-fa1c0e1d9907>\u001b[0m in \u001b[0;36m<module>\u001b[0;34m()\u001b[0m\n\u001b[0;32m----> 1\u001b[0;31m \u001b[0mk1\u001b[0m\u001b[0;34m.\u001b[0m\u001b[0meval\u001b[0m\u001b[0;34m(\u001b[0m\u001b[0;34m)\u001b[0m\u001b[0;34m,\u001b[0m \u001b[0mk2\u001b[0m\u001b[0;34m.\u001b[0m\u001b[0meval\u001b[0m\u001b[0;34m(\u001b[0m\u001b[0;34m)\u001b[0m\u001b[0;34m,\u001b[0m \u001b[0mmu1\u001b[0m\u001b[0;34m.\u001b[0m\u001b[0meval\u001b[0m\u001b[0;34m(\u001b[0m\u001b[0;34m)\u001b[0m\u001b[0;34m,\u001b[0m \u001b[0mmu2\u001b[0m\u001b[0;34m.\u001b[0m\u001b[0meval\u001b[0m\u001b[0;34m(\u001b[0m\u001b[0;34m)\u001b[0m\u001b[0;34m,\u001b[0m \u001b[0mweight2\u001b[0m\u001b[0;34m.\u001b[0m\u001b[0meval\u001b[0m\u001b[0;34m(\u001b[0m\u001b[0;34m)\u001b[0m\u001b[0;34m,\u001b[0m \u001b[0mweight\u001b[0m\u001b[0;34m.\u001b[0m\u001b[0meval\u001b[0m\u001b[0;34m(\u001b[0m\u001b[0;34m)\u001b[0m\u001b[0;34m\u001b[0m\u001b[0m\n\u001b[0m",
      "\u001b[0;31mNameError\u001b[0m: name 'k1' is not defined"
     ]
    }
   ],
   "source": [
    "k1.eval(), k2.eval(), mu1.eval(), mu2.eval(), weight2.eval(), weight.eval()"
   ]
  },
  {
   "cell_type": "code",
   "execution_count": null,
   "metadata": {
    "collapsed": true
   },
   "outputs": [],
   "source": []
  },
  {
   "cell_type": "markdown",
   "metadata": {},
   "source": [
    "# Read in data and call subroutines to process, compute spike counts and tuning curves"
   ]
  },
  {
   "cell_type": "code",
   "execution_count": 13,
   "metadata": {
    "collapsed": true
   },
   "outputs": [],
   "source": [
    "# path to mat file from Graf 2011\n",
    "file_path = '../../data/graf_V1data/array_3.mat'\n",
    "\n",
    "# read and process data\n",
    "spike_times, orientation_per_trial, num_neurons, orientations, trial_length,\\\n",
    "    num_repeats, num_trials, num_orientations = read_data(file_path)\n",
    "\n",
    "# compute spike counts\n",
    "spike_counts = compute_spike_counts(spike_times, num_neurons, num_trials)\n",
    "\n",
    "# compute tuning curves\n",
    "mean_tc = compute_mean_tc(spike_counts)\n",
    "var_tc = compute_var_tc(spike_counts)\n",
    "cov_tc = compute_cov_tc(spike_counts)\n",
    "\n",
    "# identify indices for well-tuned neurons\n",
    "ind_well_tuned = filter_to_well_tuned_neurons(mean_tc, 10)\n",
    "\n",
    "# normalize spike counts\n",
    "spike_counts_norm = normalize_spike_counts(spike_counts, num_orientations, num_neurons, num_repeats)\n",
    "\n",
    "# compute normalized tuning curves\n",
    "mean_tc_norm = compute_mean_tc(spike_counts_norm)\n",
    "var_tc_norm = compute_var_tc(spike_counts_norm)\n",
    "cov_tc_norm = compute_cov_tc(spike_counts_norm)"
   ]
  },
  {
   "cell_type": "code",
   "execution_count": 14,
   "metadata": {},
   "outputs": [
    {
     "data": {
      "image/png": "[encoded data removed]",
      "text/plain": [
       "<matplotlib.figure.Figure at 0x1a102aa470>"
      ]
     },
     "metadata": {},
     "output_type": "display_data"
    }
   ],
   "source": [
    "# plot mean tuning curve for 10 well tuned neurons\n",
    "%matplotlib inline\n",
    "sns.set_style(\"darkgrid\")\n",
    "plt.plot(orientations, mean_tc[:, ind_well_tuned[0:10]]);"
   ]
  },
  {
   "cell_type": "code",
   "execution_count": 15,
   "metadata": {},
   "outputs": [
    {
     "data": {
      "image/png": "[encoded data removed]",
      "text/plain": [
       "<matplotlib.figure.Figure at 0x1c24e8aa90>"
      ]
     },
     "metadata": {},
     "output_type": "display_data"
    }
   ],
   "source": [
    "# plot variance tuning curve for 10 well tuned neurons\n",
    "plt.plot(orientations, var_tc[:, ind_well_tuned[0:10]]);"
   ]
  },
  {
   "cell_type": "markdown",
   "metadata": {},
   "source": [
    "## EVALUATION METRICS\n",
    "1) Figure 4 from Graf '11 measuring orientation discrimination accuracy.\n",
    "Compute likelihood ratio tests between $\\theta$ and $\\theta + \\delta \\theta$ where $\\delta = \\in \\{5, 10, 15, 20, 25, 30\\}$ across all 72 values of $\\theta$. So train each model on 35 samples and test on 15 for each class."
   ]
  },
  {
   "cell_type": "code",
   "execution_count": 16,
   "metadata": {
    "collapsed": true
   },
   "outputs": [],
   "source": [
    "def likelihood_ratio_test(likelihood_one, likelihood_two):\n",
    "    diff = likelihood_one - likelihood_two\n",
    "    diff[diff > 0] = 1\n",
    "    diff[diff < 0] = 2\n",
    "    return diff\n",
    "\n",
    "def likelihood(w_i, r_i, b_i):\n",
    "    '''Compute data likelihood given w, r, b for stimulus i'''\n",
    "    #return np.log(np.sum(np.dot(w_i, r_i.T)) + b_i)\n",
    "    return np.log(np.dot(w_i, r_i.T) + b_i)\n",
    "    \n",
    "\n",
    "def evaluate_model(x_test, w, b):    \n",
    "    probabilities = np.zeros((72, 6)) # orientations x deltas\n",
    "    deltas = [1, 2, 3, 4, 5, 6]\n",
    "    # for each ori\n",
    "    for i in range(72):\n",
    "        # for each delta\n",
    "        for delta in deltas:\n",
    "            test_data = (np.concatenate((x_test[i], x_test[(i+delta) % 72])))\n",
    "            test_labels = np.repeat(np.arange(1,3), 15)\n",
    "            likelihoods_one = likelihood(w[i], test_data, b[i])\n",
    "            likelihoods_two = likelihood(w[(i+delta) % 72], test_data, b[(i+delta) % 72])\n",
    "            pred_labels = likelihood_ratio_test(likelihoods_one, likelihoods_two)\n",
    "            probabilities[i][delta-1] = sklearn.metrics.accuracy_score(pred_labels.astype(int), test_labels)\n",
    "    return np.mean(probabilities, axis=0)"
   ]
  },
  {
   "cell_type": "code",
   "execution_count": null,
   "metadata": {
    "collapsed": true
   },
   "outputs": [],
   "source": []
  },
  {
   "cell_type": "code",
   "execution_count": 17,
   "metadata": {
    "collapsed": true
   },
   "outputs": [],
   "source": [
    "def multiclass_log_likelihood(c, w, x, b):\n",
    "    logit = np.dot(w[c], x.T) + b[c]\n",
    "    numerator = np.exp(logit)\n",
    "    denominator = 0\n",
    "    C = 36\n",
    "    for i in range(C):\n",
    "        denominator = denominator + np.exp(np.dot(w[i], x.T) + b[i])\n",
    "    return np.log(numerator / denominator)\n",
    "\n",
    "def evaluate_multiclass_model(x, w, b):    \n",
    "    deltas = [1, 2, 3, 4, 5, 6]\n",
    "    C = 72\n",
    "    probabilities = np.zeros((C, len(deltas))) # orientations x deltas\n",
    "\n",
    "    # for each ori\n",
    "    for i in range(C):\n",
    "        # for each delta\n",
    "        for delta in deltas:\n",
    "            test_data = (np.concatenate((x[i], x[(i+delta) % C])))\n",
    "            test_labels = np.repeat(np.arange(1,3), test_data.shape[0]/2)\n",
    "            likelihoods_one = multiclass_log_likelihood(i, w, test_data, b)\n",
    "            likelihoods_two = multiclass_log_likelihood((i+delta)%C, w, test_data, b)\n",
    "            pred_labels = likelihood_ratio_test(likelihoods_one, likelihoods_two)\n",
    "            \n",
    "            probabilities[i][delta-1] = sklearn.metrics.accuracy_score(pred_labels.astype(int), test_labels)\n",
    "    return np.mean(probabilities, axis=0)"
   ]
  },
  {
   "cell_type": "code",
   "execution_count": 298,
   "metadata": {},
   "outputs": [
    {
     "data": {
      "text/plain": [
       "<matplotlib.text.Text at 0x1c25d03860>"
      ]
     },
     "execution_count": 298,
     "metadata": {},
     "output_type": "execute_result"
    },
    {
     "data": {
      "image/png": "[encoded data removed]",
      "text/plain": [
       "<matplotlib.figure.Figure at 0x1c22d9ceb8>"
      ]
     },
     "metadata": {},
     "output_type": "display_data"
    }
   ],
   "source": [
    "\n",
    "xticks = [5, 10, 15, 20, 25, 30]\n",
    "plt.figure(figsize=(10,10))\n",
    "plt.plot(xticks, evaluate_multiclass_model(x_test_scaled_3d, w_svm, b_svm), label=\"svm\")\n",
    "plt.plot(xticks, evaluate_multiclass_model(x_test_scaled_3d, w_sample_cov_prior, b_sample_cov_prior), label=\"sample cov prior\")\n",
    "plt.plot(xticks, evaluate_multiclass_model(x_test_scaled_3d, w_lr_l2, b_lr_l2), label=\"L2 prior\")\n",
    "plt.plot(xticks, evaluate_multiclass_model(x_test_scaled_3d, w_periodic_kern, b_periodic_kern), label=\"periodic kernel\")\n",
    "\n",
    "\n",
    "\n",
    "\n",
    "plt.legend()\n",
    "plt.ylabel(\"probability correct\")\n",
    "plt.xlabel(\"orientation difference (degrees)\")"
   ]
  },
  {
   "cell_type": "code",
   "execution_count": 249,
   "metadata": {},
   "outputs": [
    {
     "data": {
      "text/plain": [
       "array([ 0.85833333,  0.96527778,  0.97962963,  0.98101852,  0.9837963 ,\n",
       "        0.99212963])"
      ]
     },
     "execution_count": 249,
     "metadata": {},
     "output_type": "execute_result"
    }
   ],
   "source": [
    "evaluate_multiclass_model(x_test, w_svm, b_svm)"
   ]
  },
  {
   "cell_type": "markdown",
   "metadata": {},
   "source": [
    "### Lets build a Poisson Independent Decoder (PID). We assume each neuron's stimulus-specific spike counts is Poisson distributed and statistically independent across neurons. The rate parameter $w_i(\\theta)$ is the logarithm of the mean neuronal tuning function for neuron i across trials for stimulus $\\theta$.\n",
    "\n",
    "### The likelihood function is $\\log L(\\theta) = \\sum_{i=1}^N w_i(\\theta)r_i + b(\\theta)$. The offset b incorporates overall bias in coverage of orientations and is the sum of the mean tuning curve across neurons for stimulus $\\theta$."
   ]
  },
  {
   "cell_type": "code",
   "execution_count": 18,
   "metadata": {
    "collapsed": true
   },
   "outputs": [],
   "source": [
    "def compute_mean_tc_training(x):\n",
    "    '''compute mean tuning curve (mean of samples for a given orientation,neuron) given training data (orientation,samples) x neurons'''\n",
    "    mean_tc = np.zeros((x.shape[0], x.shape[2]))\n",
    "    for i in range(72):\n",
    "        mean_tc[i] = np.mean(x[i], axis = 0)\n",
    "    return mean_tc"
   ]
  },
  {
   "cell_type": "code",
   "execution_count": 20,
   "metadata": {},
   "outputs": [
    {
     "data": {
      "text/plain": [
       "(72, 35, 65)"
      ]
     },
     "execution_count": 20,
     "metadata": {},
     "output_type": "execute_result"
    }
   ],
   "source": [
    "x_train.shape"
   ]
  },
  {
   "cell_type": "code",
   "execution_count": 517,
   "metadata": {},
   "outputs": [
    {
     "data": {
      "text/plain": [
       "((72, 113, 50), (72, 50, 65))"
      ]
     },
     "execution_count": 517,
     "metadata": {},
     "output_type": "execute_result"
    }
   ],
   "source": [
    "spike_counts_filt = np.rollaxis(np.rollaxis(spike_counts[:, ind_well_tuned, :], 2), 1)\n",
    "spike_counts.shape, spike_counts_filt.shape\n"
   ]
  },
  {
   "cell_type": "code",
   "execution_count": 518,
   "metadata": {},
   "outputs": [
    {
     "data": {
      "text/plain": [
       "(72, 50, 113)"
      ]
     },
     "execution_count": 518,
     "metadata": {},
     "output_type": "execute_result"
    }
   ],
   "source": [
    "spike_counts_filt = np.rollaxis(np.rollaxis(spike_counts[:, :, :], 2), 1)\n",
    "spike_counts_filt.shape\n"
   ]
  },
  {
   "cell_type": "code",
   "execution_count": 19,
   "metadata": {},
   "outputs": [
    {
     "name": "stderr",
     "output_type": "stream",
     "text": [
      "/Users/fdamani/anaconda3/lib/python3.6/site-packages/ipykernel_launcher.py:15: RuntimeWarning: divide by zero encountered in log\n",
      "  from ipykernel import kernelapp as app\n"
     ]
    }
   ],
   "source": [
    "#spike_counts_filt = np.rollaxis(np.rollaxis(spike_counts[:, inds_tuned_vm, :], 2), 1)\n",
    "#spike_counts_filt = np.rollaxis(np.rollaxis(spike_counts[:, :, :], 2), 1)\n",
    "\n",
    "# filter to well-tuned neurons then rotate axes so we have ori x samples x neurons\n",
    "spike_counts_filt = np.rollaxis(np.rollaxis(spike_counts[:, ind_well_tuned, :], 2), 1)\n",
    "#spike_counts_filt = np.rollaxis(np.rollaxis(spike_counts, 2), 1)\n",
    "# train/test split\n",
    "inds = np.arange(50)\n",
    "train_ind = np.random.choice(inds, size = 35, replace = False)\n",
    "test_ind =  np.array([x for x in inds if x not in train_ind])\n",
    "x_train, x_test = spike_counts_filt[:, train_ind, :], spike_counts_filt[:, test_ind, :]\n",
    "# compute mean training curve on training data\n",
    "mean_tc_train = compute_mean_tc_training(x_train)\n",
    "# weights are log of mean tuning curve\n",
    "w = np.log(mean_tc_train)\n",
    "b = np.sum(w, axis=1)"
   ]
  },
  {
   "cell_type": "code",
   "execution_count": 250,
   "metadata": {
    "collapsed": true
   },
   "outputs": [],
   "source": [
    "# \"b/c of steep nonlinearity of the logarithm close to 0, we put a floor epsilon on f_i(theta)\n",
    "# for any entry < (1/35) assign value 1/35.\n",
    "mean_tc_train = compute_mean_tc_training(x_train_rand)\n",
    "inds = np.where(mean_tc_train < (1.0 / 35))\n",
    "for i in range(len(inds[0])):\n",
    "    mean_tc_train[inds[0][i], inds[1][i]] = 1.0 / 35"
   ]
  },
  {
   "cell_type": "code",
   "execution_count": 252,
   "metadata": {},
   "outputs": [
    {
     "data": {
      "text/plain": [
       "array([ 0.55740741,  0.56944444,  0.59074074,  0.66018519,  0.71157407,\n",
       "        0.75555556])"
      ]
     },
     "execution_count": 252,
     "metadata": {},
     "output_type": "execute_result"
    }
   ],
   "source": [
    "w_poisson = (mean_tc_train)\n",
    "b_poisson = np.sum(w, axis=1)\n",
    "evaluate_model(x_test_rand, w_poisson, b_poisson)"
   ]
  },
  {
   "cell_type": "code",
   "execution_count": 228,
   "metadata": {},
   "outputs": [
    {
     "data": {
      "text/plain": [
       "array([ 0.54768519,  0.56851852,  0.58148148,  0.65092593,  0.70416667,\n",
       "        0.75555556])"
      ]
     },
     "execution_count": 228,
     "metadata": {},
     "output_type": "execute_result"
    }
   ],
   "source": [
    "evaluate_model(x_test, w, b)"
   ]
  },
  {
   "cell_type": "code",
   "execution_count": 291,
   "metadata": {
    "collapsed": true
   },
   "outputs": [],
   "source": [
    "##### 0-180 degrees only\n",
    "x_train_half = x_train[0:36]\n",
    "x_test_half = x_test[0:36]"
   ]
  },
  {
   "cell_type": "code",
   "execution_count": 292,
   "metadata": {
    "collapsed": true
   },
   "outputs": [],
   "source": [
    "x_train = x_train_half\n",
    "x_test = x_test_half"
   ]
  },
  {
   "cell_type": "code",
   "execution_count": 145,
   "metadata": {},
   "outputs": [
    {
     "data": {
      "text/plain": [
       "(72, 35, 60)"
      ]
     },
     "execution_count": 145,
     "metadata": {},
     "output_type": "execute_result"
    }
   ],
   "source": [
    "x_train.shape"
   ]
  },
  {
   "cell_type": "code",
   "execution_count": 25,
   "metadata": {
    "collapsed": true
   },
   "outputs": [],
   "source": [
    "def likelihood_(w_i, r_i, b_i):\n",
    "    '''Compute data likelihood given w, r, b for stimulus i'''\n",
    "    return np.log(np.sum(np.dot(w_i, r_i.T)) + b_i)"
   ]
  },
  {
   "cell_type": "code",
   "execution_count": 26,
   "metadata": {
    "collapsed": true
   },
   "outputs": [],
   "source": [
    "def plot_likelihood(w, x_train, b, stimulus_choice):\n",
    "    '''plot likelihood of stimulus-specific spike train as a function of model choice'''\n",
    "    sx = []\n",
    "    for i in range(72):\n",
    "        sx.append(likelihood(w[i], x_train[stimulus_choice], b[i]))\n",
    "    fig = plt.plot(sx)"
   ]
  },
  {
   "cell_type": "code",
   "execution_count": 27,
   "metadata": {
    "collapsed": true
   },
   "outputs": [],
   "source": [
    "def likelihood_ratio_test_(w, x_train, b, ori1, ori2):\n",
    "    '''given a population response, compute likelihood ratio test comparing two orientation models'''\n",
    "    val = likelihood(w[ori1], x_train, b[ori1]) - likelihood(w[ori2], x_train, b[ori2])\n",
    "    if val > 0:\n",
    "        return ori1\n",
    "    else:\n",
    "        return ori2"
   ]
  },
  {
   "cell_type": "code",
   "execution_count": null,
   "metadata": {
    "collapsed": true
   },
   "outputs": [],
   "source": [
    "# likelihood comparison -- which model provides best explanation of the data?,\n",
    "plot_likelihood(w, x_train, b, 1) # for example, we fit spike trains from ori 1 against all possible models\n",
    "plot_likelihood(w, x_test, b, 1)"
   ]
  },
  {
   "cell_type": "markdown",
   "metadata": {},
   "source": [
    "## DATA Processing "
   ]
  },
  {
   "cell_type": "code",
   "execution_count": 21,
   "metadata": {
    "collapsed": true
   },
   "outputs": [],
   "source": [
    "### DATA PROCESSING\n",
    "\n",
    "num_classes = 72\n",
    "C = 72\n",
    "\n",
    "\n",
    "Xtrain = x_train.reshape(x_train.shape[0] * x_train.shape[1], x_train.shape[2])\n",
    "Xtest = x_test.reshape(x_test.shape[0] * x_test.shape[1], x_test.shape[2])\n",
    "Ytrain = np.repeat(np.arange(C), x_train.shape[1])\n",
    "Ytest = np.repeat(np.arange(C), x_test.shape[1])\n",
    "\n",
    "\n",
    "#Xtrain = x_train.reshape(x_train.shape[0] * x_train.shape[1], x_train.shape[2])\n",
    "#Xtest = x_test.reshape(x_test.shape[0] * x_test.shape[1], x_test.shape[2])\n",
    "\n",
    "#Ytrain = np.repeat(np.arange(72), x_train.shape[1])\n",
    "#Ytest = np.repeat(np.arange(72), x_test.shape[1])\n",
    "\n",
    "N,D = Xtrain.shape[0], Xtrain.shape[1]\n",
    "\n",
    "Xtrain_scaled = sklearn.preprocessing.scale(Xtrain)\n",
    "Xtest_scaled = sklearn.preprocessing.scale(Xtest)\n",
    "Ytrain_hot = tf.one_hot(Ytrain, depth=C).eval()\n",
    "Ytest_hot = tf.one_hot(Ytest, depth=C).eval()\n",
    "\n",
    "x_train_scaled_3d = np.zeros((num_classes,35,D))\n",
    "x_test_scaled_3d = np.zeros((num_classes,15,D))\n",
    "for i in range(num_classes):\n",
    "    x_test_scaled_3d[i] = Xtest_scaled[i*15:i*15+15]\n",
    "    x_train_scaled_3d[i] = Xtrain_scaled[i*35:i*35+35]\n"
   ]
  },
  {
   "cell_type": "code",
   "execution_count": 25,
   "metadata": {},
   "outputs": [
    {
     "data": {
      "text/plain": [
       "((72, 35, 65), (72, 15, 65))"
      ]
     },
     "execution_count": 25,
     "metadata": {},
     "output_type": "execute_result"
    }
   ],
   "source": [
    "x_train.shape, x_test_scaled_3d.shape"
   ]
  },
  {
   "cell_type": "markdown",
   "metadata": {},
   "source": [
    "### Lets build a L1 regularized multinomial multi-class logistic regression model"
   ]
  },
  {
   "cell_type": "code",
   "execution_count": 22,
   "metadata": {},
   "outputs": [
    {
     "data": {
      "text/plain": [
       "LogisticRegression(C=1.0, class_weight=None, dual=False, fit_intercept=True,\n",
       "          intercept_scaling=1, max_iter=100, multi_class='ovr', n_jobs=1,\n",
       "          penalty='l2', random_state=None, solver='liblinear', tol=0.0001,\n",
       "          verbose=0, warm_start=False)"
      ]
     },
     "execution_count": 22,
     "metadata": {},
     "output_type": "execute_result"
    }
   ],
   "source": [
    "# specify model\n",
    "lr = sklearn.linear_model.LogisticRegression(penalty='l2', fit_intercept=True)\n",
    "\n",
    "# fit the model\n",
    "lr.fit(Xtrain_scaled, np.repeat(np.arange(C),35))\n",
    "\n",
    "## predict labels and probability distributions on test data\n",
    "#labels_test = lr.predict(sklearn.preprocessing.scale(Xtest_scaled))\n",
    "#scores_test = lr.predict_proba(sklearn.preprocessing.scale(Xtest_scaled))"
   ]
  },
  {
   "cell_type": "code",
   "execution_count": 23,
   "metadata": {
    "collapsed": true
   },
   "outputs": [],
   "source": [
    "w_lr_l2 = lr.coef_\n",
    "b_lr_l2 = lr.intercept_"
   ]
  },
  {
   "cell_type": "code",
   "execution_count": 24,
   "metadata": {},
   "outputs": [
    {
     "data": {
      "text/plain": [
       "array([ 0.80462963,  0.9412037 ,  0.97962963,  0.99398148,  0.99537037,\n",
       "        0.99675926])"
      ]
     },
     "execution_count": 24,
     "metadata": {},
     "output_type": "execute_result"
    }
   ],
   "source": [
    "evaluate_multiclass_model(x_test_scaled_3d, lr.coef_, lr.intercept_)"
   ]
  },
  {
   "cell_type": "code",
   "execution_count": 151,
   "metadata": {
    "collapsed": true
   },
   "outputs": [],
   "source": [
    "def evaluate_one_versus_all(y_test, scores):\n",
    "    '''AUC scores for one versus all classification on test data across all classes'''\n",
    "    aucs = []\n",
    "    for j in range(72):\n",
    "        sx = []\n",
    "        for i in range(len(y_test)):\n",
    "            if y_test[i] == (j+1):\n",
    "                sx.append(int(1))\n",
    "            else:\n",
    "                sx.append(int(0))\n",
    "        aucs.append(sklearn.metrics.roc_auc_score(np.array(sx),scores[:,j]))\n",
    "    plt.figure(figsize=(10,5))\n",
    "    plt.scatter(np.arange(72),aucs)\n",
    "    plt.xlabel('class')\n",
    "    plt.ylabel('auc')"
   ]
  },
  {
   "cell_type": "code",
   "execution_count": 152,
   "metadata": {
    "collapsed": true
   },
   "outputs": [],
   "source": [
    "def evaluate_one_versus_one(y_test, scores, delta):\n",
    "    '''AUC scores for one class versus one class on test data across all classes\n",
    "        delta, int : discriminate between class and class + delta    \n",
    "    '''\n",
    "    aucs = []\n",
    "    for j in range(1,73):\n",
    "        inds = np.concatenate((np.where(y_test == (j))[0], np.where(y_test == (((j-1)+delta) % 72) + 1)[0]))\n",
    "        #print(y_test[inds])\n",
    "        #print(scores[inds,j-1])\n",
    "        y = (y_test[inds] == j).astype(int)\n",
    "        aucs.append((sklearn.metrics.roc_auc_score(y, scores[inds,j-1])))\n",
    "    plt.figure(figsize=(10,5))\n",
    "    plt.scatter(np.arange(72),aucs)\n",
    "    plt.xlabel('class')\n",
    "    plt.ylabel('auc')"
   ]
  },
  {
   "cell_type": "code",
   "execution_count": null,
   "metadata": {
    "collapsed": true
   },
   "outputs": [],
   "source": [
    "evaluate_one_versus_one(y_test, scores_test, 1)\n",
    "evaluate_one_versus_one(y_test, scores_test, 2)\n",
    "evaluate_one_versus_one(y_test, scores_test, 5)\n",
    "evaluate_one_versus_one(y_test, scores_test, 10)\n",
    "evaluate_one_versus_one(y_test, scores_test, 20)"
   ]
  },
  {
   "cell_type": "markdown",
   "metadata": {},
   "source": [
    "## SVM model from Graf 11"
   ]
  },
  {
   "cell_type": "code",
   "execution_count": 26,
   "metadata": {
    "collapsed": true
   },
   "outputs": [],
   "source": [
    "from sklearn import svm"
   ]
  },
  {
   "cell_type": "code",
   "execution_count": 27,
   "metadata": {},
   "outputs": [
    {
     "data": {
      "text/plain": [
       "(72, 35, 65)"
      ]
     },
     "execution_count": 27,
     "metadata": {},
     "output_type": "execute_result"
    }
   ],
   "source": [
    "x_train.shape"
   ]
  },
  {
   "cell_type": "code",
   "execution_count": 28,
   "metadata": {
    "collapsed": true
   },
   "outputs": [],
   "source": [
    "# 1. SVM training\n",
    "aucs_svm = []\n",
    "w_hat_svm = []\n",
    "b_hat_svm = []\n",
    "#C = x_train.shape[0]\n",
    "#N = x_train.shape[2]\n",
    "num_samples = x_train.shape[1]\n",
    "aucs_svm_local = []\n",
    "\n",
    "#rand_neurons = np.random.choice(np.arange(0,65), replace=False, size=20)\n",
    "\n",
    "#x_train_rand = x_train[:, :, rand_neurons]\n",
    "#x_test_rand = x_test[:, :, rand_neurons]\n",
    "\n",
    "x_train_rand = x_train_scaled_3d\n",
    "x_test_rand = x_test_scaled_3d\n",
    "N = x_train_rand.shape[2]\n",
    "C = x_train_rand.shape[0]\n",
    "\n",
    "for i in range(0,C):\n",
    "    clf = svm.SVC(kernel='linear')\n",
    "    train_data = np.concatenate([x_train_rand[i], x_train_rand[(i+1)%C]])\n",
    "    test_data = np.concatenate([x_test_rand[i], x_test_rand[(i+1)%C]])\n",
    "    #clf.fit(train_data, np.repeat(np.arange(-1,2, step=2), 35))\n",
    "    clf.fit(train_data, np.repeat(np.arange(2), 35))\n",
    "    \n",
    "    w_hat_svm.append(clf.coef_[0])\n",
    "    b_hat_svm.append(clf.intercept_[0])\n",
    "\n",
    "    aucs_svm_local.append(sklearn.metrics.accuracy_score(clf.predict(test_data), np.repeat([0,1],15)))\n",
    "    aucs_svm.append(np.mean(aucs_svm_local))\n",
    "w_hat_svm = np.array(w_hat_svm)\n",
    "b_hat_svm = np.array(b_hat_svm)"
   ]
  },
  {
   "cell_type": "code",
   "execution_count": 29,
   "metadata": {
    "collapsed": true
   },
   "outputs": [],
   "source": [
    "# 2. compute unit norms\n",
    "mu_svm = (w_hat_svm) / np.linalg.norm(w_hat_svm, 2, axis=1).reshape(-1,1)\n",
    "assert np.linalg.norm(mu_svm, axis=1).all() == np.ones(mu_svm.shape[0]).all()"
   ]
  },
  {
   "cell_type": "code",
   "execution_count": 30,
   "metadata": {
    "collapsed": true
   },
   "outputs": [],
   "source": [
    "# 3. z = mu * x.T (e.g. project data down to 1 dimension)\n",
    "z = np.zeros((C, num_samples*2)) # for each orientation, we have 70 1-dimensional samples\n",
    "for i in range(0,C):\n",
    "    x = np.concatenate([x_train_rand[i], x_train_rand[(i+1)%C]])\n",
    "    z[i] = np.dot(mu_svm[i].reshape(1,-1) , x.T)"
   ]
  },
  {
   "cell_type": "code",
   "execution_count": 31,
   "metadata": {
    "collapsed": true
   },
   "outputs": [],
   "source": [
    "# 4. learn a,b in sigmoid(az + b) for each orientation pair\n",
    "a = np.zeros((C))\n",
    "b = np.zeros((C))\n",
    "for i in range(C):\n",
    "    lr = sklearn.linear_model.LogisticRegression(penalty='l1', fit_intercept=True)\n",
    "    lr.fit(z[i].reshape(-1,1), np.repeat(np.arange(2), num_samples))\n",
    "    a[i] = lr.coef_\n",
    "    b[i] = lr.intercept_"
   ]
  },
  {
   "cell_type": "code",
   "execution_count": 32,
   "metadata": {
    "collapsed": true
   },
   "outputs": [],
   "source": [
    "# 5. multiple directions learned by unit vector\n",
    "# w_12 = a * mu\n",
    "w_normalized_svm = np.zeros((C, N))\n",
    "w_normalized_svm = a.reshape(-1,1) * mu_svm\n",
    "# b stays the same\n",
    "b_normalized_svm = b"
   ]
  },
  {
   "cell_type": "code",
   "execution_count": 33,
   "metadata": {
    "collapsed": true
   },
   "outputs": [],
   "source": [
    "# 6. reconstruct w coefficients for single classes by computing cumulative sums\n",
    "w_svm = np.zeros((C,N))\n",
    "b_svm = np.zeros(C)\n",
    "\n",
    "for i in range(0,C):\n",
    "    if i == 0: \n",
    "        w_svm[i] = np.zeros(N)\n",
    "        b_svm[i] = 0\n",
    "        continue\n",
    "    w_svm[i] = w_svm[i-1] + w_normalized_svm[i-1]\n",
    "    b_svm[i] = b_svm[i-1] + b_normalized_svm[i-1]"
   ]
  },
  {
   "cell_type": "code",
   "execution_count": 34,
   "metadata": {},
   "outputs": [
    {
     "name": "stderr",
     "output_type": "stream",
     "text": [
      "/Users/fdamani/anaconda3/lib/python3.6/site-packages/ipykernel_launcher.py:2: RuntimeWarning: invalid value encountered in true_divide\n",
      "  \n"
     ]
    }
   ],
   "source": [
    "# 7. independently re-normalize SVM weights\n",
    "w_svm_renorm = w_svm / np.linalg.norm(w_svm,2, axis = 1).reshape(-1,1)\n",
    "w_svm_renorm[0] = 0"
   ]
  },
  {
   "cell_type": "code",
   "execution_count": 694,
   "metadata": {},
   "outputs": [
    {
     "data": {
      "text/plain": [
       "((72, 15, 18), (72, 15, 18))"
      ]
     },
     "execution_count": 694,
     "metadata": {},
     "output_type": "execute_result"
    }
   ],
   "source": [
    "x_test.shape, x_test_scaled_3d.shape"
   ]
  },
  {
   "cell_type": "code",
   "execution_count": 695,
   "metadata": {},
   "outputs": [
    {
     "data": {
      "text/plain": [
       "array([18, 33, 30, 54, 34, 58, 40, 26, 62, 20, 31, 16, 50, 52, 23,  6, 29,\n",
       "       39, 36, 22])"
      ]
     },
     "execution_count": 695,
     "metadata": {},
     "output_type": "execute_result"
    }
   ],
   "source": [
    "np.random.choice(np.arange(0,65), replace=False, size=20)"
   ]
  },
  {
   "cell_type": "code",
   "execution_count": 35,
   "metadata": {},
   "outputs": [
    {
     "data": {
      "text/plain": [
       "array([ 0.89259259,  0.97962963,  0.9912037 ,  0.99305556,  0.99259259,\n",
       "        0.99259259])"
      ]
     },
     "execution_count": 35,
     "metadata": {},
     "output_type": "execute_result"
    }
   ],
   "source": [
    "# Evaluate\n",
    "# Evaluate on random sample of 20 neurons, repeat 10 times then take average\n",
    "# randomly sample 20 neurons\n",
    "'''\n",
    "num_trials = 10\n",
    "deltas = 6\n",
    "results = np.zeros((num_trials, deltas))\n",
    "data = x_test\n",
    "#data = x_train\n",
    "for i in range(num_trials):\n",
    "    rand_inds = np.random.choice(np.arange(0,65), replace=False, size=20)\n",
    "    results[i] = evaluate_multiclass_model(data[:,:,rand_inds], w_svm[:,rand_inds], b_svm)\n",
    "    print(results[i])\n",
    "np.mean(results, axis=0)\n",
    "'''\n",
    "evaluate_multiclass_model(x_test_rand, w_svm, b_svm)"
   ]
  },
  {
   "cell_type": "code",
   "execution_count": 697,
   "metadata": {},
   "outputs": [
    {
     "data": {
      "text/plain": [
       "array([ 0.75      ,  0.89722222,  0.94305556,  0.94861111,  0.95694444,\n",
       "        0.95787037])"
      ]
     },
     "execution_count": 697,
     "metadata": {},
     "output_type": "execute_result"
    }
   ],
   "source": [
    "evaluate_multiclass_model(x_test_scaled_3d, w_svm, b_svm)"
   ]
  },
  {
   "cell_type": "code",
   "execution_count": 698,
   "metadata": {},
   "outputs": [
    {
     "data": {
      "text/plain": [
       "array([ 0.85674603,  0.925     ,  0.95456349,  0.96031746,  0.95992063,\n",
       "        0.95972222])"
      ]
     },
     "execution_count": 698,
     "metadata": {},
     "output_type": "execute_result"
    }
   ],
   "source": [
    "# Evaluate on all neurons\n",
    "#evaluate_multiclass_model(x_test_scaled_3d, w_svm, b_svm)\n",
    "evaluate_multiclass_model(x_train_rand, w_svm, b_svm)"
   ]
  },
  {
   "cell_type": "code",
   "execution_count": null,
   "metadata": {
    "collapsed": true
   },
   "outputs": [],
   "source": [
    "# weird issues:\n",
    "# 1. evaluation on training data gives 1.0 auc, but test results still lower than paper\n",
    "# 2. not re-normalizing weights after cumulative summing"
   ]
  },
  {
   "cell_type": "markdown",
   "metadata": {},
   "source": [
    "### Lets build a Bayesian multinomial multi-class logistic regression model\n",
    "$$p(\\theta^{(i)} = c | r^{(i)}, w^{(c)}) = \\frac{\\exp{(w^{(c)T}r^{(i)})}}{\\sum_{j=1}^C(w^{(j)T}r^{(i)})}$$\n",
    "$$p(w^{(c)}|\\Lambda^{(c)}) = \\mathcal{N}(0, \\Lambda^{(c)}), \\Lambda^{(c)} \\in \\mathcal{R^{\\text{NxN}}}$$"
   ]
  },
  {
   "cell_type": "code",
   "execution_count": 36,
   "metadata": {
    "collapsed": true
   },
   "outputs": [],
   "source": [
    "def compute_average_auc(predictions, labels):\n",
    "    classes = labels.shape[1]\n",
    "    aucs = np.zeros((classes))\n",
    "    for i in range(classes):\n",
    "        aucs[i] = sklearn.metrics.roc_auc_score(labels[:,i], predictions[:,i])\n",
    "    return np.mean(aucs)"
   ]
  },
  {
   "cell_type": "code",
   "execution_count": 559,
   "metadata": {
    "collapsed": true
   },
   "outputs": [],
   "source": [
    "neuron_cov = np.zeros((C-1, D, D))\n",
    "num_sing_values = 10\n",
    "for i in range(71):\n",
    "    cov = np.cov(x_train_scaled_3d[i].T)\n",
    "    low_rank_cov = low_rank_svd(cov, num_sing_values)\n",
    "    neuron_cov[i] = low_rank_cov + .1 * np.identity(D)"
   ]
  },
  {
   "cell_type": "code",
   "execution_count": 61,
   "metadata": {},
   "outputs": [],
   "source": [
    "cov = np.cov(Xtrain_scaled.T)\n",
    "neuron_cov = low_rank_svd(cov, 10) + 0.1 * np.identity(D)"
   ]
  },
  {
   "cell_type": "code",
   "execution_count": 48,
   "metadata": {},
   "outputs": [
    {
     "data": {
      "text/plain": [
       "(65, 65)"
      ]
     },
     "execution_count": 48,
     "metadata": {},
     "output_type": "execute_result"
    }
   ],
   "source": [
    "cov.shape"
   ]
  },
  {
   "cell_type": "code",
   "execution_count": 46,
   "metadata": {
    "collapsed": true
   },
   "outputs": [],
   "source": [
    "def low_rank_svd(x, num_sing_values):\n",
    "    U, s, V = np.linalg.svd(x)\n",
    "    S = np.zeros((U.shape[0], U.shape[1]))\n",
    "    S[:num_sing_values, :num_sing_values] = np.diag(s[:num_sing_values])\n",
    "    # reconstruct a with subset of singular values\n",
    "    return np.dot(U, np.dot(S, V))"
   ]
  },
  {
   "cell_type": "code",
   "execution_count": 700,
   "metadata": {},
   "outputs": [
    {
     "data": {
      "text/plain": [
       "(18, 18)"
      ]
     },
     "execution_count": 700,
     "metadata": {},
     "output_type": "execute_result"
    }
   ],
   "source": [
    "cov.shape"
   ]
  },
  {
   "cell_type": "code",
   "execution_count": 787,
   "metadata": {},
   "outputs": [
    {
     "data": {
      "text/plain": [
       "(18, 18)"
      ]
     },
     "execution_count": 787,
     "metadata": {},
     "output_type": "execute_result"
    }
   ],
   "source": [
    "neuron_cov.shape"
   ]
  },
  {
   "cell_type": "code",
   "execution_count": null,
   "metadata": {
    "collapsed": true
   },
   "outputs": [],
   "source": []
  },
  {
   "cell_type": "code",
   "execution_count": null,
   "metadata": {
    "collapsed": true
   },
   "outputs": [],
   "source": []
  },
  {
   "cell_type": "markdown",
   "metadata": {},
   "source": [
    "## does modeling neuron x neuron cov help?"
   ]
  },
  {
   "cell_type": "code",
   "execution_count": 62,
   "metadata": {},
   "outputs": [
    {
     "name": "stdout",
     "output_type": "stream",
     "text": [
      "{'t': 1, 'loss': 101251.17}\n",
      "{'t': 101, 'loss': 7231.0542}\n",
      "{'t': 201, 'loss': 6307.7134}\n",
      "{'t': 301, 'loss': 5356.9209}\n",
      "{'t': 401, 'loss': 5370.7739}\n",
      "{'t': 501, 'loss': 5100.77}\n",
      "{'t': 601, 'loss': 5599.3472}\n",
      "{'t': 701, 'loss': 5389.708}\n",
      "{'t': 801, 'loss': 5363.1323}\n",
      "{'t': 901, 'loss': 4701.9746}\n",
      "{'t': 1001, 'loss': 4795.1289}\n",
      "{'t': 1101, 'loss': 4810.6362}\n",
      "{'t': 1201, 'loss': 4991.4341}\n",
      "{'t': 1301, 'loss': 4714.3911}\n",
      "{'t': 1401, 'loss': 4769.709}\n",
      "{'t': 1501, 'loss': 4772.7109}\n",
      "{'t': 1601, 'loss': 4775.2646}\n",
      "{'t': 1701, 'loss': 4581.0151}\n",
      "{'t': 1801, 'loss': 4655.2007}\n",
      "{'t': 1901, 'loss': 4419.5742}\n",
      "{'t': 2001, 'loss': 4844.9453}\n",
      "{'t': 2101, 'loss': 4732.4971}\n",
      "{'t': 2201, 'loss': 4479.6782}\n",
      "{'t': 2301, 'loss': 4696.0444}\n",
      "{'t': 2401, 'loss': 4362.7959}\n",
      "{'t': 2501, 'loss': 4635.313}\n",
      "{'t': 2601, 'loss': 4506.686}\n",
      "{'t': 2701, 'loss': 4478.3364}\n",
      "{'t': 2801, 'loss': 4596.7998}\n",
      "{'t': 2901, 'loss': 4327.041}\n"
     ]
    }
   ],
   "source": [
    "# DATA\n",
    "sess = ed.get_session()\n",
    "# N is number of samples (ori x trials) and D is number of neurons\n",
    "N, D = Xtrain_scaled.shape[0], Xtrain_scaled.shape[1]\n",
    "\n",
    "########## DESIGN COVARIANCE MATRIX ##########\n",
    "\n",
    "#cov = tf.nn.softplus(tf.Variable(tf.random_normal([D,D])))\n",
    "\n",
    "#cov = tf.nn.softplus(tf.Variable(tf.random_normal([D,D]))) + .1 * np.identity(D)\n",
    "\n",
    "########## MODEL ##########\n",
    "X = tf.placeholder(tf.float32, [N, D])\n",
    "\n",
    "w = MultivariateNormalFullCovariance(loc = tf.zeros([C-1,D]), \n",
    "                                     covariance_matrix = tf.cast(neuron_cov, tf.float32))\n",
    "b = Normal(loc = tf.zeros(C-1), scale= tf.ones(C-1))\n",
    "logits = tf.matmul(X, tf.transpose(w)) + b\n",
    "logits = tf.concat([logits, np.zeros((N, 1))], axis = 1)\n",
    "y = Categorical(logits = logits)\n",
    "\n",
    "########## INFERENCE ##########\n",
    "qw_loc = tf.Variable(tf.random_normal([C-1, D]))\n",
    "qw_scale = tf.nn.softplus(tf.Variable(tf.random_normal([C-1, D])))\n",
    "\n",
    "qb_loc = tf.Variable(tf.random_normal([C-1]))\n",
    "qb_scale = tf.nn.softplus(tf.Variable(tf.random_normal([])))\n",
    "\n",
    "qw = Normal(loc = qw_loc, scale = qw_scale)\n",
    "qb = Normal(loc = qb_loc, scale = qb_scale)\n",
    "\n",
    "inference = ed.KLqp({w: qw, b: qb}, data={X: Xtrain_scaled, y: Ytrain})\n",
    "inference.initialize(n_iter = 3000)\n",
    "\n",
    "init = tf.global_variables_initializer()\n",
    "init.run()\n",
    "learning_curve = []\n",
    "for _ in range(inference.n_iter):\n",
    "    info_dict = inference.update()\n",
    "    if _%100 == 0:\n",
    "        print(info_dict)\n",
    "    learning_curve.append(info_dict['loss'])\n",
    "inference.finalize()"
   ]
  },
  {
   "cell_type": "code",
   "execution_count": 60,
   "metadata": {},
   "outputs": [
    {
     "name": "stdout",
     "output_type": "stream",
     "text": [
      "0.996531907494\n",
      "[ 0.85324074  0.98333333  0.99814815  0.99861111  0.99953704  1.        ]\n"
     ]
    }
   ],
   "source": [
    "########## EVAL ##########\n",
    "qw_mod = tf.concat([tf.transpose(qw.mean()), np.zeros((qw.shape[1],1))], axis=1)\n",
    "qb_mod = tf.concat([qb.mean(), np.zeros((1))], axis=0)\n",
    "logits = tf.matmul(tf.cast(Xtest_scaled, tf.float32), qw_mod) + qb_mod\n",
    "print(compute_average_auc(tf.nn.softmax(logits).eval(), Ytest_hot))\n",
    "print(evaluate_multiclass_model(x_test_scaled_3d, qw_mod.eval().T, qb_mod.eval()))\n",
    "w_sample_cov_prior = qw_mod.eval().T\n",
    "b_sample_cov_prior = qb_mod.eval()"
   ]
  },
  {
   "cell_type": "code",
   "execution_count": 708,
   "metadata": {},
   "outputs": [
    {
     "name": "stdout",
     "output_type": "stream",
     "text": [
      "0.97359241871\n",
      "[ 0.7087963   0.87361111  0.94814815  0.96342593  0.98009259  0.98796296]\n"
     ]
    }
   ],
   "source": [
    "########## EVAL ##########\n",
    "qw_mod = tf.concat([tf.transpose(qw.mean()), np.zeros((qw.shape[1],1))], axis=1)\n",
    "qb_mod = tf.concat([qb.mean(), np.zeros((1))], axis=0)\n",
    "logits = tf.matmul(tf.cast(Xtest_scaled, tf.float32), qw_mod) + qb_mod\n",
    "print(compute_average_auc(tf.nn.softmax(logits).eval(), Ytest_hot))\n",
    "print(evaluate_multiclass_model(x_test_scaled_3d, qw_mod.eval().T, qb_mod.eval()))\n",
    "w_sample_cov_prior = qw_mod.eval().T\n",
    "b_sample_cov_prior = qb_mod.eval()"
   ]
  },
  {
   "cell_type": "markdown",
   "metadata": {},
   "source": [
    "# tridiagonal prior -> variational EM "
   ]
  },
  {
   "cell_type": "code",
   "execution_count": null,
   "metadata": {
    "collapsed": true
   },
   "outputs": [],
   "source": [
    "def design_precision_matrix():\n",
    "    w_covs = []\n",
    "    tau = tf.nn.softplus(tf.Variable(tf.random_normal([D])))\n",
    "    sparsity = tf.nn.softplus(tf.Variable(tf.random_normal([D])))\n",
    "    # for each neuron\n",
    "    for d in range(D):\n",
    "        # Design precision matrix\n",
    "        A = np.zeros((C-1,C))\n",
    "        for i in range(C-1):\n",
    "            A[i,i] = -1\n",
    "            A[i,i+1] = 1\n",
    "        precision = A.T.dot(A) #+ .1 * np.identity(C) # precision = A^T.dot(A)\n",
    "        precision = tau[d] * precision + sparsity[d] * np.identity(C)\n",
    "        precision = precision + .1 * np.identity(C) # guarantees full rank\n",
    "\n",
    "        cov = tf.matrix_inverse(precision)[:-1,:-1]\n",
    "        w_covs.append(cov)\n",
    "    \n",
    "    w_cov = tf.stack(w_covs)\n",
    "\n",
    "        #w_cov = tf.tile(tf.expand_dims(cov, 0), [D, 1, 1])\n",
    "    return w_cov\n",
    "    "
   ]
  },
  {
   "cell_type": "code",
   "execution_count": null,
   "metadata": {
    "collapsed": true
   },
   "outputs": [],
   "source": [
    "Xtrain_scaled.shape, Ytrain.shape"
   ]
  },
  {
   "cell_type": "code",
   "execution_count": null,
   "metadata": {
    "collapsed": true
   },
   "outputs": [],
   "source": [
    "# for each neuron\n",
    "for d in range(D):\n",
    "    # Design precision matrix\n",
    "    A = np.zeros((C-1,C))\n",
    "    # for each orientation\n",
    "    for i in range(C-1):\n",
    "        A[i,i] = -1\n",
    "        A[i,i+1] = 1\n",
    "    precision = A.T.dot(A) #+ .1 * np.identity(C) # precision = A^T.dot(A)\n",
    "    precision[0,0] = 2.0\n",
    "    precision[C-1, C-1] = 2.0\n",
    "    precision[0, C-1] = -1.0\n",
    "    precision[C-1, 0] = -1.0\n",
    "    \n",
    "    precision = precision + sparsity * np.identity(C)\n",
    "    precision = precision + .1 * np.identity(C) # guarantees full rank\n",
    "\n",
    "    cov = tf.matrix_inverse(precision)[:-1,:-1]\n",
    "    w_covs.append(tf.cast(cov, tf.float64))\n",
    "w_cov = tf.stack(w_covs)"
   ]
  },
  {
   "cell_type": "code",
   "execution_count": null,
   "metadata": {
    "collapsed": true
   },
   "outputs": [],
   "source": [
    "precision"
   ]
  },
  {
   "cell_type": "code",
   "execution_count": null,
   "metadata": {
    "collapsed": true
   },
   "outputs": [],
   "source": [
    "# Design precision matrix\n",
    "A = np.zeros((C-1,C))\n",
    "# for each orientation\n",
    "for i in range(C-1):\n",
    "    A[i,i] = -1\n",
    "    A[i,i+1] = 1\n",
    "precision = A.T.dot(A) #+ .1 * np.identity(C) # precision = A^T.dot(A)\n",
    "\n"
   ]
  },
  {
   "cell_type": "code",
   "execution_count": null,
   "metadata": {
    "collapsed": true
   },
   "outputs": [],
   "source": [
    "precision"
   ]
  },
  {
   "cell_type": "code",
   "execution_count": null,
   "metadata": {
    "collapsed": true
   },
   "outputs": [],
   "source": [
    "A"
   ]
  },
  {
   "cell_type": "code",
   "execution_count": null,
   "metadata": {
    "collapsed": true
   },
   "outputs": [],
   "source": []
  },
  {
   "cell_type": "code",
   "execution_count": null,
   "metadata": {
    "collapsed": true
   },
   "outputs": [],
   "source": [
    "precision[0,0] = 2\n",
    "precision[C-1, C-1] = 2\n",
    "precision[0, C-1] = -1\n",
    "precision[C-1, 0] = -1"
   ]
  },
  {
   "cell_type": "code",
   "execution_count": null,
   "metadata": {
    "collapsed": true
   },
   "outputs": [],
   "source": [
    "# DATA\n",
    "sess = ed.get_session()\n",
    "# N is number of samples (ori x trials) and D is number of neurons\n",
    "N, D = Xtrain_scaled.shape[0], Xtrain_scaled.shape[1]\n",
    "\n",
    "########## DESIGN COVARIANCE MATRIX ##########\n",
    "w_covs = []\n",
    "#tau = tf.nn.softplus(tf.Variable(tf.random_normal([D])))\n",
    "tau = tf.nn.softplus(tf.Variable(tf.random_normal([D])))\n",
    "\n",
    "#sparsity = tf.nn.softplus(tf.Variable(tf.random_normal([D])))\n",
    "sparsity = tf.nn.softplus(tf.Variable(tf.random_normal([])))\n",
    "\n",
    "\n",
    "# for each neuron\n",
    "for d in range(D):\n",
    "    # Design precision matrix\n",
    "    A = np.zeros((C-1,C))\n",
    "    # for each orientation\n",
    "    for i in range(C-1):\n",
    "        A[i,i] = -1\n",
    "        A[i,i+1] = 1\n",
    "    precision = A.T.dot(A) #+ .1 * np.identity(C) # precision = A^T.dot(A)\n",
    "    precision = tau[d] * precision + sparsity * np.identity(C)\n",
    "    precision = precision + .1 * np.identity(C) # guarantees full rank\n",
    "\n",
    "    cov = tf.matrix_inverse(precision)[:-1,:-1]\n",
    "    w_covs.append(cov)\n",
    "w_cov = tf.stack(w_covs)\n",
    "\n",
    "########## MODEL ##########\n",
    "X = tf.placeholder(tf.float32, [N, D])\n",
    "w = MultivariateNormalFullCovariance(loc = tf.zeros([D,C-1]), covariance_matrix = tf.cast(w_cov, tf.float32))\n",
    "b = Normal(loc = tf.zeros(C-1), scale= tf.ones(C-1))\n",
    "logits = tf.matmul(X, w) + b\n",
    "logits = tf.concat([logits, np.zeros((N, 1))], axis = 1)\n",
    "y = Categorical(logits = logits)\n",
    "\n",
    "########## INFERENCE ##########\n",
    "qw_loc = tf.Variable(tf.random_normal([D, C-1]))\n",
    "qw_scale = tf.nn.softplus(tf.Variable(tf.random_normal([D,C-1])))\n",
    "\n",
    "qb_loc = tf.Variable(tf.random_normal([C-1]))\n",
    "qb_scale = tf.nn.softplus(tf.Variable(tf.random_normal([])))\n",
    "\n",
    "qw = Normal(loc = qw_loc, scale = qw_scale)\n",
    "qb = Normal(loc = qb_loc, scale = qb_scale)\n",
    "\n",
    "inference = ed.KLqp({w: qw, b: qb}, data={X: Xtrain_scaled, y: Ytrain})\n",
    "inference.initialize(n_iter = 3000)\n",
    "\n",
    "init = tf.global_variables_initializer()\n",
    "init.run()\n",
    "learning_curve = []\n",
    "for _ in range(inference.n_iter):\n",
    "    info_dict = inference.update()\n",
    "    if _%100 == 0:\n",
    "        print(info_dict)\n",
    "    learning_curve.append(info_dict['loss'])\n",
    "inference.finalize()"
   ]
  },
  {
   "cell_type": "code",
   "execution_count": null,
   "metadata": {
    "collapsed": true,
    "scrolled": true
   },
   "outputs": [],
   "source": [
    "########## EVAL ##########\n",
    "qw_mod = tf.concat([qw.mean(), np.zeros((qw.shape[0],1))], axis=1)\n",
    "qb_mod = tf.concat([qb.mean(), np.zeros((1))], axis=0)\n",
    "logits = tf.matmul(tf.cast(Xtest_scaled, tf.float32), qw_mod) + qb_mod\n",
    "print(compute_average_auc(tf.nn.softmax(logits).eval(), Ytest_hot))\n",
    "print(evaluate_multiclass_model(x_test_scaled_3d, qw_mod.eval().T, qb_mod.eval()))"
   ]
  },
  {
   "cell_type": "code",
   "execution_count": null,
   "metadata": {
    "collapsed": true
   },
   "outputs": [],
   "source": [
    "plt.plot(qw_mod.eval()[0])"
   ]
  },
  {
   "cell_type": "code",
   "execution_count": null,
   "metadata": {
    "collapsed": true
   },
   "outputs": [],
   "source": [
    "tridiag_tau_each_neuron = [0.89212963, 0.98472222, 0.99953704, 0.99953704, 0.99953704, 1.]\n",
    "tridiag_single_tau = [ 0.88935185  0.99027778  0.99861111  0.99953704  0.99953704  1.        ]\n",
    "tridiag_single_tau_single_spar = [ 0.90185185  0.98981481  1.          0.99953704  0.99953704  1.        ]\n",
    "\n",
    "gp = [ 0.90138889  0.99027778  1.          0.99953704  0.99953704  1.        ]"
   ]
  },
  {
   "cell_type": "code",
   "execution_count": null,
   "metadata": {
    "collapsed": true
   },
   "outputs": [],
   "source": [
    "plt.plot(qw_mod.eval()[3])"
   ]
  },
  {
   "cell_type": "code",
   "execution_count": null,
   "metadata": {
    "collapsed": true
   },
   "outputs": [],
   "source": [
    "tau.eval()[3]"
   ]
  },
  {
   "cell_type": "code",
   "execution_count": null,
   "metadata": {
    "collapsed": true
   },
   "outputs": [],
   "source": []
  },
  {
   "cell_type": "code",
   "execution_count": null,
   "metadata": {
    "collapsed": true
   },
   "outputs": [],
   "source": [
    "########## EVAL ##########\n",
    "qw_mod = tf.concat([qw.mean(), np.zeros((qw.shape[0],1))], axis=1)\n",
    "qb_mod = tf.concat([qb.mean(), np.zeros((1))], axis=0)\n",
    "logits = tf.matmul(tf.cast(Xtest_scaled, tf.float32), qw_mod) + qb_mod\n",
    "print(compute_average_auc(tf.nn.softmax(logits).eval(), Ytest_hot))\n",
    "print(evaluate_multiclass_model(x_test_scaled_3d, qw_mod.eval().T, qb_mod.eval()))"
   ]
  },
  {
   "cell_type": "code",
   "execution_count": null,
   "metadata": {
    "collapsed": true
   },
   "outputs": [],
   "source": [
    "plt.figure(figsize=(10,8))\n",
    "plt.scatter(np.arange(len(tau.eval())),tau.eval())\n",
    "plt.ylabel(\"tau\")\n",
    "plt.xlabel(\"neuron\")"
   ]
  },
  {
   "cell_type": "code",
   "execution_count": null,
   "metadata": {
    "collapsed": true
   },
   "outputs": [],
   "source": [
    "plt.scatter(np.arange(113),sparsity.eval())"
   ]
  },
  {
   "cell_type": "code",
   "execution_count": null,
   "metadata": {
    "collapsed": true
   },
   "outputs": [],
   "source": [
    "plt.figure(figsize=(10,8))\n",
    "tau_per_neuron_vi = [0.81481481, 0.90185185, 0.96666667, 0.98564815, 0.99444444, 0.99722222]\n",
    "l2_prior = [0.74027778, 0.81759259, 0.92407407, 0.96342593, 0.98888889, 0.99305556]\n",
    "\n",
    "xticks = [5, 10, 15, 20, 25, 30]\n",
    "plt.plot(xticks, l2_prior, label=\"l2 prior\")\n",
    "plt.plot(xticks, tau_per_neuron_vi, label=\"new model\")\n",
    "plt.ylabel(\"probability correct\")\n",
    "plt.xlabel(\"orientation difference (degrees)\")\n",
    "plt.legend(loc = 'lower right')"
   ]
  },
  {
   "cell_type": "code",
   "execution_count": null,
   "metadata": {
    "collapsed": true
   },
   "outputs": [],
   "source": [
    "from edward.util import rbf"
   ]
  },
  {
   "cell_type": "code",
   "execution_count": null,
   "metadata": {
    "collapsed": true
   },
   "outputs": [],
   "source": [
    "rbf_kernel"
   ]
  },
  {
   "cell_type": "code",
   "execution_count": null,
   "metadata": {
    "collapsed": true
   },
   "outputs": [],
   "source": [
    "def rbf_cos_kernel(theta):\n",
    "    '''\n",
    "        RBF kernel applied to distances on a circle using radians\n",
    "    '''\n",
    "    variance = 1.0\n",
    "    lengthscale = 1.0\n",
    "    kernel = np.zeros((len(theta), len(theta)))\n",
    "    for i in range(len(theta)):\n",
    "        for j in range(len(theta)):\n",
    "            radians = ((theta[j] - theta[i]) / len(theta)) * 2 * np.pi\n",
    "            kernel[i,j] = variance * (np.cos(radians) / lengthscale) ** 2\n",
    "    return kernel"
   ]
  },
  {
   "cell_type": "code",
   "execution_count": null,
   "metadata": {
    "collapsed": true
   },
   "outputs": [],
   "source": [
    "theta = np.reshape(np.arange(0,5), (-1,1))\n",
    "\n",
    "rbf_cos_kernel(theta)"
   ]
  },
  {
   "cell_type": "code",
   "execution_count": null,
   "metadata": {
    "collapsed": true
   },
   "outputs": [],
   "source": []
  },
  {
   "cell_type": "code",
   "execution_count": null,
   "metadata": {
    "collapsed": true
   },
   "outputs": [],
   "source": [
    "((theta[2] - theta[1]) / 72) * 2 * np.pi"
   ]
  },
  {
   "cell_type": "code",
   "execution_count": null,
   "metadata": {
    "collapsed": true
   },
   "outputs": [],
   "source": []
  },
  {
   "cell_type": "code",
   "execution_count": null,
   "metadata": {
    "collapsed": true
   },
   "outputs": [],
   "source": [
    "vec_w = MultivariateNormalFullCovariance(loc = tf.zeros([D,C-1]), covariance_matrix = "
   ]
  },
  {
   "cell_type": "code",
   "execution_count": 63,
   "metadata": {
    "collapsed": true
   },
   "outputs": [],
   "source": [
    "import tensorflow as tf\n",
    "\n",
    "def kronecker(a, b):\n",
    "    # cite : https://stackoverflow.com/questions/44309333/what-is-the-most-efficient-way-to-compute-a-kronecker-product-in-tensorflow\n",
    "    \n",
    "    i, k, s = len(a), len(b), len(b)\n",
    "    o = s * (i - 1) + k\n",
    "\n",
    "    a_tf  = tf.reshape(tf.constant(a, dtype=tf.float32), [1, i, i, 1])\n",
    "    b_tf = tf.reshape(tf.constant(b, dtype=tf.float32), [k, k, 1, 1])\n",
    "\n",
    "    res = tf.squeeze(tf.nn.conv2d_transpose(a_tf, b_tf, (1, o, o, 1), [1, s, s, 1], \"VALID\"))\n",
    "    return res"
   ]
  },
  {
   "cell_type": "code",
   "execution_count": null,
   "metadata": {
    "collapsed": true
   },
   "outputs": [],
   "source": [
    "a = [[1, 2, 3], [3, 4, 7], [8, 9, 4]]\n",
    "b = [[0, 5], [6, 7]]\n",
    "kronecker(a,b).eval()\n"
   ]
  },
  {
   "cell_type": "code",
   "execution_count": null,
   "metadata": {
    "collapsed": true
   },
   "outputs": [],
   "source": [
    "kronecker(a,b)"
   ]
  },
  {
   "cell_type": "markdown",
   "metadata": {},
   "source": [
    "## Matrix normal prior, specifying cov matrix for neuron x neurion and ori x ori"
   ]
  },
  {
   "cell_type": "code",
   "execution_count": 81,
   "metadata": {
    "collapsed": true
   },
   "outputs": [],
   "source": [
    "def kronecker(a, b):\n",
    "    # cite : https://stackoverflow.com/questions/44309333/what-is-the-most-efficient-way-to-compute-a-kronecker-product-in-tensorflow\n",
    "    \n",
    "    i, k, s = int(a.shape[0]), int(b.shape[0]), int(b.shape[0])\n",
    "    \n",
    "    o = s * (i - 1) + k\n",
    "\n",
    "    a_tf  = tf.reshape(a, [1, i, i, 1])\n",
    "    b_tf = tf.reshape(b, [k, k, 1, 1])\n",
    "\n",
    "    res = tf.squeeze(tf.nn.conv2d_transpose(a_tf, b_tf, (1, o, o, 1), [1, s, s, 1], \"VALID\"))\n",
    "    return res"
   ]
  },
  {
   "cell_type": "code",
   "execution_count": 300,
   "metadata": {},
   "outputs": [
    {
     "ename": "NameError",
     "evalue": "name 'periodic_kernel' is not defined",
     "output_type": "error",
     "traceback": [
      "\u001b[0;31m---------------------------------------------------------------------------\u001b[0m",
      "\u001b[0;31mNameError\u001b[0m                                 Traceback (most recent call last)",
      "\u001b[0;32m<ipython-input-300-3b8d2dc391b3>\u001b[0m in \u001b[0;36m<module>\u001b[0;34m()\u001b[0m\n\u001b[0;32m----> 1\u001b[0;31m \u001b[0mperiodic_kernel\u001b[0m\u001b[0;34m.\u001b[0m\u001b[0mshape\u001b[0m\u001b[0;34m,\u001b[0m \u001b[0mnp\u001b[0m\u001b[0;34m.\u001b[0m\u001b[0mcov\u001b[0m\u001b[0;34m(\u001b[0m\u001b[0mXtrain_scaled\u001b[0m\u001b[0;34m.\u001b[0m\u001b[0mT\u001b[0m\u001b[0;34m)\u001b[0m\u001b[0;34m.\u001b[0m\u001b[0mshape\u001b[0m\u001b[0;34m\u001b[0m\u001b[0m\n\u001b[0m",
      "\u001b[0;31mNameError\u001b[0m: name 'periodic_kernel' is not defined"
     ]
    }
   ],
   "source": [
    "periodic_kernel.shape, np.cov(Xtrain_scaled.T).shape"
   ]
  },
  {
   "cell_type": "code",
   "execution_count": 303,
   "metadata": {
    "collapsed": true
   },
   "outputs": [],
   "source": [
    "kron_prod = kronecker(tf.cast(np.cov(Xtrain_scaled.T), tf.float32),tf.cast(periodic_kernel, tf.float32))"
   ]
  },
  {
   "cell_type": "code",
   "execution_count": 304,
   "metadata": {},
   "outputs": [
    {
     "data": {
      "text/plain": [
       "<tf.Tensor 'Squeeze:0' shape=(4260, 4260) dtype=float32>"
      ]
     },
     "execution_count": 304,
     "metadata": {},
     "output_type": "execute_result"
    }
   ],
   "source": [
    "kron_prod"
   ]
  },
  {
   "cell_type": "code",
   "execution_count": 227,
   "metadata": {
    "collapsed": true
   },
   "outputs": [],
   "source": [
    "vec_w = MultivariateNormalFullCovariance(loc = tf.zeros([D*(C-1)]), covariance_matrix = kron_prod)"
   ]
  },
  {
   "cell_type": "code",
   "execution_count": 229,
   "metadata": {
    "collapsed": true
   },
   "outputs": [],
   "source": [
    "b = Normal(loc = tf.zeros(C-1), scale= tf.ones(C-1))\n",
    "logits = tf.matmul(X, tf.reshape(vec_w, (D, C-1))) + b"
   ]
  },
  {
   "cell_type": "code",
   "execution_count": 368,
   "metadata": {},
   "outputs": [
    {
     "ename": "InvalidArgumentError",
     "evalue": "Cholesky decomposition was not successful. The input might not be valid.\n\t [[Node: Cholesky_5 = Cholesky[T=DT_FLOAT, _device=\"/job:localhost/replica:0/task:0/cpu:0\"](Squeeze_15)]]\n\nCaused by op 'Cholesky_5', defined at:\n  File \"/Users/farhan.damani/anaconda3/lib/python3.5/runpy.py\", line 184, in _run_module_as_main\n    \"__main__\", mod_spec)\n  File \"/Users/farhan.damani/anaconda3/lib/python3.5/runpy.py\", line 85, in _run_code\n    exec(code, run_globals)\n  File \"/Users/farhan.damani/anaconda3/lib/python3.5/site-packages/ipykernel/__main__.py\", line 3, in <module>\n    app.launch_new_instance()\n  File \"/Users/farhan.damani/anaconda3/lib/python3.5/site-packages/traitlets/config/application.py\", line 596, in launch_instance\n    app.start()\n  File \"/Users/farhan.damani/anaconda3/lib/python3.5/site-packages/ipykernel/kernelapp.py\", line 442, in start\n    ioloop.IOLoop.instance().start()\n  File \"/Users/farhan.damani/anaconda3/lib/python3.5/site-packages/zmq/eventloop/ioloop.py\", line 162, in start\n    super(ZMQIOLoop, self).start()\n  File \"/Users/farhan.damani/anaconda3/lib/python3.5/site-packages/tornado/ioloop.py\", line 883, in start\n    handler_func(fd_obj, events)\n  File \"/Users/farhan.damani/anaconda3/lib/python3.5/site-packages/tornado/stack_context.py\", line 275, in null_wrapper\n    return fn(*args, **kwargs)\n  File \"/Users/farhan.damani/anaconda3/lib/python3.5/site-packages/zmq/eventloop/zmqstream.py\", line 440, in _handle_events\n    self._handle_recv()\n  File \"/Users/farhan.damani/anaconda3/lib/python3.5/site-packages/zmq/eventloop/zmqstream.py\", line 472, in _handle_recv\n    self._run_callback(callback, msg)\n  File \"/Users/farhan.damani/anaconda3/lib/python3.5/site-packages/zmq/eventloop/zmqstream.py\", line 414, in _run_callback\n    callback(*args, **kwargs)\n  File \"/Users/farhan.damani/anaconda3/lib/python3.5/site-packages/tornado/stack_context.py\", line 275, in null_wrapper\n    return fn(*args, **kwargs)\n  File \"/Users/farhan.damani/anaconda3/lib/python3.5/site-packages/ipykernel/kernelbase.py\", line 276, in dispatcher\n    return self.dispatch_shell(stream, msg)\n  File \"/Users/farhan.damani/anaconda3/lib/python3.5/site-packages/ipykernel/kernelbase.py\", line 228, in dispatch_shell\n    handler(stream, idents, msg)\n  File \"/Users/farhan.damani/anaconda3/lib/python3.5/site-packages/ipykernel/kernelbase.py\", line 391, in execute_request\n    user_expressions, allow_stdin)\n  File \"/Users/farhan.damani/anaconda3/lib/python3.5/site-packages/ipykernel/ipkernel.py\", line 199, in do_execute\n    shell.run_cell(code, store_history=store_history, silent=silent)\n  File \"/Users/farhan.damani/anaconda3/lib/python3.5/site-packages/IPython/core/interactiveshell.py\", line 2723, in run_cell\n    interactivity=interactivity, compiler=compiler, result=result)\n  File \"/Users/farhan.damani/anaconda3/lib/python3.5/site-packages/IPython/core/interactiveshell.py\", line 2831, in run_ast_nodes\n    if self.run_code(code, result):\n  File \"/Users/farhan.damani/anaconda3/lib/python3.5/site-packages/IPython/core/interactiveshell.py\", line 2885, in run_code\n    exec(code_obj, self.user_global_ns, self.user_ns)\n  File \"<ipython-input-368-d819ea5addfc>\", line 1, in <module>\n    tf.cholesky(kron_prod).eval()# + 0.1 * tf.eye(4615)).eval()\n  File \"/Users/farhan.damani/anaconda3/lib/python3.5/site-packages/tensorflow/python/ops/gen_linalg_ops.py\", line 227, in cholesky\n    result = _op_def_lib.apply_op(\"Cholesky\", input=input, name=name)\n  File \"/Users/farhan.damani/anaconda3/lib/python3.5/site-packages/tensorflow/python/framework/op_def_library.py\", line 767, in apply_op\n    op_def=op_def)\n  File \"/Users/farhan.damani/anaconda3/lib/python3.5/site-packages/tensorflow/python/framework/ops.py\", line 2506, in create_op\n    original_op=self._default_original_op, op_def=op_def)\n  File \"/Users/farhan.damani/anaconda3/lib/python3.5/site-packages/tensorflow/python/framework/ops.py\", line 1269, in __init__\n    self._traceback = _extract_stack()\n\nInvalidArgumentError (see above for traceback): Cholesky decomposition was not successful. The input might not be valid.\n\t [[Node: Cholesky_5 = Cholesky[T=DT_FLOAT, _device=\"/job:localhost/replica:0/task:0/cpu:0\"](Squeeze_15)]]\n",
     "output_type": "error",
     "traceback": [
      "\u001b[0;31m---------------------------------------------------------------------------\u001b[0m",
      "\u001b[0;31mInvalidArgumentError\u001b[0m                      Traceback (most recent call last)",
      "\u001b[0;32m/Users/farhan.damani/anaconda3/lib/python3.5/site-packages/tensorflow/python/client/session.py\u001b[0m in \u001b[0;36m_do_call\u001b[0;34m(self, fn, *args)\u001b[0m\n\u001b[1;32m   1138\u001b[0m     \u001b[0;32mtry\u001b[0m\u001b[0;34m:\u001b[0m\u001b[0;34m\u001b[0m\u001b[0m\n\u001b[0;32m-> 1139\u001b[0;31m       \u001b[0;32mreturn\u001b[0m \u001b[0mfn\u001b[0m\u001b[0;34m(\u001b[0m\u001b[0;34m*\u001b[0m\u001b[0margs\u001b[0m\u001b[0;34m)\u001b[0m\u001b[0;34m\u001b[0m\u001b[0m\n\u001b[0m\u001b[1;32m   1140\u001b[0m     \u001b[0;32mexcept\u001b[0m \u001b[0merrors\u001b[0m\u001b[0;34m.\u001b[0m\u001b[0mOpError\u001b[0m \u001b[0;32mas\u001b[0m \u001b[0me\u001b[0m\u001b[0;34m:\u001b[0m\u001b[0;34m\u001b[0m\u001b[0m\n",
      "\u001b[0;32m/Users/farhan.damani/anaconda3/lib/python3.5/site-packages/tensorflow/python/client/session.py\u001b[0m in \u001b[0;36m_run_fn\u001b[0;34m(session, feed_dict, fetch_list, target_list, options, run_metadata)\u001b[0m\n\u001b[1;32m   1120\u001b[0m                                  \u001b[0mfeed_dict\u001b[0m\u001b[0;34m,\u001b[0m \u001b[0mfetch_list\u001b[0m\u001b[0;34m,\u001b[0m \u001b[0mtarget_list\u001b[0m\u001b[0;34m,\u001b[0m\u001b[0;34m\u001b[0m\u001b[0m\n\u001b[0;32m-> 1121\u001b[0;31m                                  status, run_metadata)\n\u001b[0m\u001b[1;32m   1122\u001b[0m \u001b[0;34m\u001b[0m\u001b[0m\n",
      "\u001b[0;32m/Users/farhan.damani/anaconda3/lib/python3.5/contextlib.py\u001b[0m in \u001b[0;36m__exit__\u001b[0;34m(self, type, value, traceback)\u001b[0m\n\u001b[1;32m     65\u001b[0m             \u001b[0;32mtry\u001b[0m\u001b[0;34m:\u001b[0m\u001b[0;34m\u001b[0m\u001b[0m\n\u001b[0;32m---> 66\u001b[0;31m                 \u001b[0mnext\u001b[0m\u001b[0;34m(\u001b[0m\u001b[0mself\u001b[0m\u001b[0;34m.\u001b[0m\u001b[0mgen\u001b[0m\u001b[0;34m)\u001b[0m\u001b[0;34m\u001b[0m\u001b[0m\n\u001b[0m\u001b[1;32m     67\u001b[0m             \u001b[0;32mexcept\u001b[0m \u001b[0mStopIteration\u001b[0m\u001b[0;34m:\u001b[0m\u001b[0;34m\u001b[0m\u001b[0m\n",
      "\u001b[0;32m/Users/farhan.damani/anaconda3/lib/python3.5/site-packages/tensorflow/python/framework/errors_impl.py\u001b[0m in \u001b[0;36mraise_exception_on_not_ok_status\u001b[0;34m()\u001b[0m\n\u001b[1;32m    465\u001b[0m           \u001b[0mcompat\u001b[0m\u001b[0;34m.\u001b[0m\u001b[0mas_text\u001b[0m\u001b[0;34m(\u001b[0m\u001b[0mpywrap_tensorflow\u001b[0m\u001b[0;34m.\u001b[0m\u001b[0mTF_Message\u001b[0m\u001b[0;34m(\u001b[0m\u001b[0mstatus\u001b[0m\u001b[0;34m)\u001b[0m\u001b[0;34m)\u001b[0m\u001b[0;34m,\u001b[0m\u001b[0;34m\u001b[0m\u001b[0m\n\u001b[0;32m--> 466\u001b[0;31m           pywrap_tensorflow.TF_GetCode(status))\n\u001b[0m\u001b[1;32m    467\u001b[0m   \u001b[0;32mfinally\u001b[0m\u001b[0;34m:\u001b[0m\u001b[0;34m\u001b[0m\u001b[0m\n",
      "\u001b[0;31mInvalidArgumentError\u001b[0m: Cholesky decomposition was not successful. The input might not be valid.\n\t [[Node: Cholesky_5 = Cholesky[T=DT_FLOAT, _device=\"/job:localhost/replica:0/task:0/cpu:0\"](Squeeze_15)]]",
      "\nDuring handling of the above exception, another exception occurred:\n",
      "\u001b[0;31mInvalidArgumentError\u001b[0m                      Traceback (most recent call last)",
      "\u001b[0;32m<ipython-input-368-d819ea5addfc>\u001b[0m in \u001b[0;36m<module>\u001b[0;34m()\u001b[0m\n\u001b[0;32m----> 1\u001b[0;31m \u001b[0mtf\u001b[0m\u001b[0;34m.\u001b[0m\u001b[0mcholesky\u001b[0m\u001b[0;34m(\u001b[0m\u001b[0mkron_prod\u001b[0m\u001b[0;34m)\u001b[0m\u001b[0;34m.\u001b[0m\u001b[0meval\u001b[0m\u001b[0;34m(\u001b[0m\u001b[0;34m)\u001b[0m\u001b[0;31m# + 0.1 * tf.eye(4615)).eval()\u001b[0m\u001b[0;34m\u001b[0m\u001b[0m\n\u001b[0m",
      "\u001b[0;32m/Users/farhan.damani/anaconda3/lib/python3.5/site-packages/tensorflow/python/framework/ops.py\u001b[0m in \u001b[0;36meval\u001b[0;34m(self, feed_dict, session)\u001b[0m\n\u001b[1;32m    604\u001b[0m \u001b[0;34m\u001b[0m\u001b[0m\n\u001b[1;32m    605\u001b[0m     \"\"\"\n\u001b[0;32m--> 606\u001b[0;31m     \u001b[0;32mreturn\u001b[0m \u001b[0m_eval_using_default_session\u001b[0m\u001b[0;34m(\u001b[0m\u001b[0mself\u001b[0m\u001b[0;34m,\u001b[0m \u001b[0mfeed_dict\u001b[0m\u001b[0;34m,\u001b[0m \u001b[0mself\u001b[0m\u001b[0;34m.\u001b[0m\u001b[0mgraph\u001b[0m\u001b[0;34m,\u001b[0m \u001b[0msession\u001b[0m\u001b[0;34m)\u001b[0m\u001b[0;34m\u001b[0m\u001b[0m\n\u001b[0m\u001b[1;32m    607\u001b[0m \u001b[0;34m\u001b[0m\u001b[0m\n\u001b[1;32m    608\u001b[0m \u001b[0;34m\u001b[0m\u001b[0m\n",
      "\u001b[0;32m/Users/farhan.damani/anaconda3/lib/python3.5/site-packages/tensorflow/python/framework/ops.py\u001b[0m in \u001b[0;36m_eval_using_default_session\u001b[0;34m(tensors, feed_dict, graph, session)\u001b[0m\n\u001b[1;32m   3926\u001b[0m                        \u001b[0;34m\"the tensor's graph is different from the session's \"\u001b[0m\u001b[0;34m\u001b[0m\u001b[0m\n\u001b[1;32m   3927\u001b[0m                        \"graph.\")\n\u001b[0;32m-> 3928\u001b[0;31m   \u001b[0;32mreturn\u001b[0m \u001b[0msession\u001b[0m\u001b[0;34m.\u001b[0m\u001b[0mrun\u001b[0m\u001b[0;34m(\u001b[0m\u001b[0mtensors\u001b[0m\u001b[0;34m,\u001b[0m \u001b[0mfeed_dict\u001b[0m\u001b[0;34m)\u001b[0m\u001b[0;34m\u001b[0m\u001b[0m\n\u001b[0m\u001b[1;32m   3929\u001b[0m \u001b[0;34m\u001b[0m\u001b[0m\n\u001b[1;32m   3930\u001b[0m \u001b[0;34m\u001b[0m\u001b[0m\n",
      "\u001b[0;32m/Users/farhan.damani/anaconda3/lib/python3.5/site-packages/tensorflow/python/client/session.py\u001b[0m in \u001b[0;36mrun\u001b[0;34m(self, fetches, feed_dict, options, run_metadata)\u001b[0m\n\u001b[1;32m    787\u001b[0m     \u001b[0;32mtry\u001b[0m\u001b[0;34m:\u001b[0m\u001b[0;34m\u001b[0m\u001b[0m\n\u001b[1;32m    788\u001b[0m       result = self._run(None, fetches, feed_dict, options_ptr,\n\u001b[0;32m--> 789\u001b[0;31m                          run_metadata_ptr)\n\u001b[0m\u001b[1;32m    790\u001b[0m       \u001b[0;32mif\u001b[0m \u001b[0mrun_metadata\u001b[0m\u001b[0;34m:\u001b[0m\u001b[0;34m\u001b[0m\u001b[0m\n\u001b[1;32m    791\u001b[0m         \u001b[0mproto_data\u001b[0m \u001b[0;34m=\u001b[0m \u001b[0mtf_session\u001b[0m\u001b[0;34m.\u001b[0m\u001b[0mTF_GetBuffer\u001b[0m\u001b[0;34m(\u001b[0m\u001b[0mrun_metadata_ptr\u001b[0m\u001b[0;34m)\u001b[0m\u001b[0;34m\u001b[0m\u001b[0m\n",
      "\u001b[0;32m/Users/farhan.damani/anaconda3/lib/python3.5/site-packages/tensorflow/python/client/session.py\u001b[0m in \u001b[0;36m_run\u001b[0;34m(self, handle, fetches, feed_dict, options, run_metadata)\u001b[0m\n\u001b[1;32m    995\u001b[0m     \u001b[0;32mif\u001b[0m \u001b[0mfinal_fetches\u001b[0m \u001b[0;32mor\u001b[0m \u001b[0mfinal_targets\u001b[0m\u001b[0;34m:\u001b[0m\u001b[0;34m\u001b[0m\u001b[0m\n\u001b[1;32m    996\u001b[0m       results = self._do_run(handle, final_targets, final_fetches,\n\u001b[0;32m--> 997\u001b[0;31m                              feed_dict_string, options, run_metadata)\n\u001b[0m\u001b[1;32m    998\u001b[0m     \u001b[0;32melse\u001b[0m\u001b[0;34m:\u001b[0m\u001b[0;34m\u001b[0m\u001b[0m\n\u001b[1;32m    999\u001b[0m       \u001b[0mresults\u001b[0m \u001b[0;34m=\u001b[0m \u001b[0;34m[\u001b[0m\u001b[0;34m]\u001b[0m\u001b[0;34m\u001b[0m\u001b[0m\n",
      "\u001b[0;32m/Users/farhan.damani/anaconda3/lib/python3.5/site-packages/tensorflow/python/client/session.py\u001b[0m in \u001b[0;36m_do_run\u001b[0;34m(self, handle, target_list, fetch_list, feed_dict, options, run_metadata)\u001b[0m\n\u001b[1;32m   1130\u001b[0m     \u001b[0;32mif\u001b[0m \u001b[0mhandle\u001b[0m \u001b[0;32mis\u001b[0m \u001b[0;32mNone\u001b[0m\u001b[0;34m:\u001b[0m\u001b[0;34m\u001b[0m\u001b[0m\n\u001b[1;32m   1131\u001b[0m       return self._do_call(_run_fn, self._session, feed_dict, fetch_list,\n\u001b[0;32m-> 1132\u001b[0;31m                            target_list, options, run_metadata)\n\u001b[0m\u001b[1;32m   1133\u001b[0m     \u001b[0;32melse\u001b[0m\u001b[0;34m:\u001b[0m\u001b[0;34m\u001b[0m\u001b[0m\n\u001b[1;32m   1134\u001b[0m       return self._do_call(_prun_fn, self._session, handle, feed_dict,\n",
      "\u001b[0;32m/Users/farhan.damani/anaconda3/lib/python3.5/site-packages/tensorflow/python/client/session.py\u001b[0m in \u001b[0;36m_do_call\u001b[0;34m(self, fn, *args)\u001b[0m\n\u001b[1;32m   1150\u001b[0m         \u001b[0;32mexcept\u001b[0m \u001b[0mKeyError\u001b[0m\u001b[0;34m:\u001b[0m\u001b[0;34m\u001b[0m\u001b[0m\n\u001b[1;32m   1151\u001b[0m           \u001b[0;32mpass\u001b[0m\u001b[0;34m\u001b[0m\u001b[0m\n\u001b[0;32m-> 1152\u001b[0;31m       \u001b[0;32mraise\u001b[0m \u001b[0mtype\u001b[0m\u001b[0;34m(\u001b[0m\u001b[0me\u001b[0m\u001b[0;34m)\u001b[0m\u001b[0;34m(\u001b[0m\u001b[0mnode_def\u001b[0m\u001b[0;34m,\u001b[0m \u001b[0mop\u001b[0m\u001b[0;34m,\u001b[0m \u001b[0mmessage\u001b[0m\u001b[0;34m)\u001b[0m\u001b[0;34m\u001b[0m\u001b[0m\n\u001b[0m\u001b[1;32m   1153\u001b[0m \u001b[0;34m\u001b[0m\u001b[0m\n\u001b[1;32m   1154\u001b[0m   \u001b[0;32mdef\u001b[0m \u001b[0m_extend_graph\u001b[0m\u001b[0;34m(\u001b[0m\u001b[0mself\u001b[0m\u001b[0;34m)\u001b[0m\u001b[0;34m:\u001b[0m\u001b[0;34m\u001b[0m\u001b[0m\n",
      "\u001b[0;31mInvalidArgumentError\u001b[0m: Cholesky decomposition was not successful. The input might not be valid.\n\t [[Node: Cholesky_5 = Cholesky[T=DT_FLOAT, _device=\"/job:localhost/replica:0/task:0/cpu:0\"](Squeeze_15)]]\n\nCaused by op 'Cholesky_5', defined at:\n  File \"/Users/farhan.damani/anaconda3/lib/python3.5/runpy.py\", line 184, in _run_module_as_main\n    \"__main__\", mod_spec)\n  File \"/Users/farhan.damani/anaconda3/lib/python3.5/runpy.py\", line 85, in _run_code\n    exec(code, run_globals)\n  File \"/Users/farhan.damani/anaconda3/lib/python3.5/site-packages/ipykernel/__main__.py\", line 3, in <module>\n    app.launch_new_instance()\n  File \"/Users/farhan.damani/anaconda3/lib/python3.5/site-packages/traitlets/config/application.py\", line 596, in launch_instance\n    app.start()\n  File \"/Users/farhan.damani/anaconda3/lib/python3.5/site-packages/ipykernel/kernelapp.py\", line 442, in start\n    ioloop.IOLoop.instance().start()\n  File \"/Users/farhan.damani/anaconda3/lib/python3.5/site-packages/zmq/eventloop/ioloop.py\", line 162, in start\n    super(ZMQIOLoop, self).start()\n  File \"/Users/farhan.damani/anaconda3/lib/python3.5/site-packages/tornado/ioloop.py\", line 883, in start\n    handler_func(fd_obj, events)\n  File \"/Users/farhan.damani/anaconda3/lib/python3.5/site-packages/tornado/stack_context.py\", line 275, in null_wrapper\n    return fn(*args, **kwargs)\n  File \"/Users/farhan.damani/anaconda3/lib/python3.5/site-packages/zmq/eventloop/zmqstream.py\", line 440, in _handle_events\n    self._handle_recv()\n  File \"/Users/farhan.damani/anaconda3/lib/python3.5/site-packages/zmq/eventloop/zmqstream.py\", line 472, in _handle_recv\n    self._run_callback(callback, msg)\n  File \"/Users/farhan.damani/anaconda3/lib/python3.5/site-packages/zmq/eventloop/zmqstream.py\", line 414, in _run_callback\n    callback(*args, **kwargs)\n  File \"/Users/farhan.damani/anaconda3/lib/python3.5/site-packages/tornado/stack_context.py\", line 275, in null_wrapper\n    return fn(*args, **kwargs)\n  File \"/Users/farhan.damani/anaconda3/lib/python3.5/site-packages/ipykernel/kernelbase.py\", line 276, in dispatcher\n    return self.dispatch_shell(stream, msg)\n  File \"/Users/farhan.damani/anaconda3/lib/python3.5/site-packages/ipykernel/kernelbase.py\", line 228, in dispatch_shell\n    handler(stream, idents, msg)\n  File \"/Users/farhan.damani/anaconda3/lib/python3.5/site-packages/ipykernel/kernelbase.py\", line 391, in execute_request\n    user_expressions, allow_stdin)\n  File \"/Users/farhan.damani/anaconda3/lib/python3.5/site-packages/ipykernel/ipkernel.py\", line 199, in do_execute\n    shell.run_cell(code, store_history=store_history, silent=silent)\n  File \"/Users/farhan.damani/anaconda3/lib/python3.5/site-packages/IPython/core/interactiveshell.py\", line 2723, in run_cell\n    interactivity=interactivity, compiler=compiler, result=result)\n  File \"/Users/farhan.damani/anaconda3/lib/python3.5/site-packages/IPython/core/interactiveshell.py\", line 2831, in run_ast_nodes\n    if self.run_code(code, result):\n  File \"/Users/farhan.damani/anaconda3/lib/python3.5/site-packages/IPython/core/interactiveshell.py\", line 2885, in run_code\n    exec(code_obj, self.user_global_ns, self.user_ns)\n  File \"<ipython-input-368-d819ea5addfc>\", line 1, in <module>\n    tf.cholesky(kron_prod).eval()# + 0.1 * tf.eye(4615)).eval()\n  File \"/Users/farhan.damani/anaconda3/lib/python3.5/site-packages/tensorflow/python/ops/gen_linalg_ops.py\", line 227, in cholesky\n    result = _op_def_lib.apply_op(\"Cholesky\", input=input, name=name)\n  File \"/Users/farhan.damani/anaconda3/lib/python3.5/site-packages/tensorflow/python/framework/op_def_library.py\", line 767, in apply_op\n    op_def=op_def)\n  File \"/Users/farhan.damani/anaconda3/lib/python3.5/site-packages/tensorflow/python/framework/ops.py\", line 2506, in create_op\n    original_op=self._default_original_op, op_def=op_def)\n  File \"/Users/farhan.damani/anaconda3/lib/python3.5/site-packages/tensorflow/python/framework/ops.py\", line 1269, in __init__\n    self._traceback = _extract_stack()\n\nInvalidArgumentError (see above for traceback): Cholesky decomposition was not successful. The input might not be valid.\n\t [[Node: Cholesky_5 = Cholesky[T=DT_FLOAT, _device=\"/job:localhost/replica:0/task:0/cpu:0\"](Squeeze_15)]]\n"
     ]
    }
   ],
   "source": [
    "tf.cholesky(kron_prod).eval()# + 0.1 * tf.eye(4615)).eval()"
   ]
  },
  {
   "cell_type": "code",
   "execution_count": null,
   "metadata": {
    "collapsed": true
   },
   "outputs": [],
   "source": [
    "# design stimulus x stimulus matrix\n",
    "w_covs = []\n",
    "tau = tf.nn.softplus(tf.Variable(tf.random_normal([])))\n",
    "sparsity = tf.nn.softplus(tf.Variable(tf.random_normal([])))\n",
    "# for each neuron\n",
    "# Design precision matrix\n",
    "A = np.zeros((C-1,C))\n",
    "# for each orientation\n",
    "for i in range(C-1):\n",
    "    A[i,i] = -1\n",
    "    A[i,i+1] = 1\n",
    "precision = A.T.dot(A) #+ .1 * np.identity(C) # precision = A^T.dot(A)\n",
    "precision = tau * precision + sparsity * np.identity(C)\n",
    "precision = precision + .1 * np.identity(C) # guarantees full rank\n",
    "\n",
    "cov = tf.cast(tf.matrix_inverse(precision)[:-1,:-1], tf.float32)\n",
    "\n",
    "neuron_cov = tf.nn.softplus(tf.Variable(tf.random_normal([D,D])))\n",
    "\n",
    "kron_prod = kronecker(cov, neuron_cov) + .1 * np.identity(kron_prod.shape[0])\n",
    "\n",
    "########## MODEL ##########\n",
    "X = tf.placeholder(tf.float32, [N, D])\n",
    "\n",
    "vec_w = MultivariateNormalFullCovariance(loc = tf.zeros([D*(C-1)]), covariance_matrix = kron_prod)"
   ]
  },
  {
   "cell_type": "code",
   "execution_count": 251,
   "metadata": {},
   "outputs": [
    {
     "data": {
      "text/plain": [
       "<tf.Tensor 'truediv_109:0' shape=(4615, 4615) dtype=float32>"
      ]
     },
     "execution_count": 251,
     "metadata": {},
     "output_type": "execute_result"
    }
   ],
   "source": [
    "kron_prod/D"
   ]
  },
  {
   "cell_type": "code",
   "execution_count": 255,
   "metadata": {},
   "outputs": [
    {
     "data": {
      "text/plain": [
       "(71.0, 4615)"
      ]
     },
     "execution_count": 255,
     "metadata": {},
     "output_type": "execute_result"
    }
   ],
   "source": [
    "4615 / 65, 65*71"
   ]
  },
  {
   "cell_type": "code",
   "execution_count": 473,
   "metadata": {
    "collapsed": true
   },
   "outputs": [],
   "source": [
    "U = tf.cast(np.cov(Xtrain_scaled.T), tf.float32) + 0.1 * tf.eye(46) # d x d\n",
    "V = tf.cast(periodic_kernel, tf.float32) + 0.1 * tf.eye(71)# c x c"
   ]
  },
  {
   "cell_type": "code",
   "execution_count": 474,
   "metadata": {
    "collapsed": true
   },
   "outputs": [],
   "source": [
    "D,C = 46, 71\n",
    "first_term = tf.matmul(tf.matrix_inverse(V), tf.transpose(w))\n",
    "second_term = tf.matmul(first_term, tf.matrix_inverse(U))\n",
    "final_term = tf.matmul(second_term, w)\n",
    "numerator = -.5 * tf.trace(final_term)\n",
    "denominator = (D*C/2.0) * tf.log(2*np.pi) + D/2.0 * tf.reduce_sum(tf.log(tf.svd(V, compute_uv=False))) \\\n",
    "    + C/2.0 * tf.reduce_sum(tf.log(tf.svd(U, compute_uv=False)))\n",
    "log_pdf = numerator - denominator"
   ]
  },
  {
   "cell_type": "code",
   "execution_count": 454,
   "metadata": {},
   "outputs": [
    {
     "data": {
      "text/plain": [
       "-43.217663"
      ]
     },
     "execution_count": 454,
     "metadata": {},
     "output_type": "execute_result"
    }
   ],
   "source": [
    "tf.log(tf.matrix_determinant(U).eval()).eval()"
   ]
  },
  {
   "cell_type": "code",
   "execution_count": 319,
   "metadata": {},
   "outputs": [
    {
     "data": {
      "text/plain": [
       "(1, 71, 71)"
      ]
     },
     "execution_count": 319,
     "metadata": {},
     "output_type": "execute_result"
    }
   ],
   "source": [
    "np.array([periodic_kernel]).shape"
   ]
  },
  {
   "cell_type": "code",
   "execution_count": 317,
   "metadata": {
    "collapsed": true
   },
   "outputs": [],
   "source": [
    "kron_prod = kronecker(tf.cast(np.cov(Xtrain_scaled.T), tf.float32), tf.cast(periodic_kernel, tf.float32))"
   ]
  },
  {
   "cell_type": "code",
   "execution_count": 329,
   "metadata": {},
   "outputs": [
    {
     "data": {
      "text/plain": [
       "array([[ 0.49723327,  0.48810158,  0.46176554, ..., -0.089925  ,\n",
       "        -0.10218232, -0.11202625],\n",
       "       [ 0.48810158,  0.49723327,  0.48810158, ..., -0.07642864,\n",
       "        -0.089925  , -0.10218232],\n",
       "       [ 0.46176554,  0.48810158,  0.49723327, ..., -0.06281165,\n",
       "        -0.07642864, -0.089925  ],\n",
       "       ..., \n",
       "       [-0.089925  , -0.07642864, -0.06281165, ...,  0.49723327,\n",
       "         0.48810158,  0.46176554],\n",
       "       [-0.10218232, -0.089925  , -0.07642864, ...,  0.48810158,\n",
       "         0.49723327,  0.48810158],\n",
       "       [-0.11202625, -0.10218232, -0.089925  , ...,  0.46176554,\n",
       "         0.48810158,  0.49723327]])"
      ]
     },
     "execution_count": 329,
     "metadata": {},
     "output_type": "execute_result"
    }
   ],
   "source": [
    "np.kron(np.cov(Xtrain_scaled.T), periodic_kernel )"
   ]
  },
  {
   "cell_type": "code",
   "execution_count": 328,
   "metadata": {},
   "outputs": [
    {
     "data": {
      "text/plain": [
       "array([[ 0.70585638,  0.        ,  0.        , ...,  0.        ,\n",
       "         0.        ,  0.        ],\n",
       "       [ 0.69150269,  0.14162377,  0.        , ...,  0.        ,\n",
       "         0.        ,  0.        ],\n",
       "       [ 0.65419191,  0.25226063,  0.08142959, ...,  0.        ,\n",
       "         0.        ,  0.        ],\n",
       "       ..., \n",
       "       [-0.12739843,  0.08238533, -0.00308492, ...,  0.04341868,\n",
       "         0.        ,  0.        ],\n",
       "       [-0.14476362,  0.07187662,  0.00175501, ...,  0.02260017,\n",
       "         0.04084565,  0.        ],\n",
       "       [-0.15870969,  0.05342222,  0.00522275, ...,  0.02041147,\n",
       "         0.01668209,  0.03854222]], dtype=float32)"
      ]
     },
     "execution_count": 328,
     "metadata": {},
     "output_type": "execute_result"
    }
   ],
   "source": [
    "tf.cholesky(kron_prod + 0.001 * tf.eye(4260)).eval()"
   ]
  },
  {
   "cell_type": "code",
   "execution_count": 735,
   "metadata": {
    "collapsed": true
   },
   "outputs": [],
   "source": [
    "kron_prod = kronecker(tf.cast(periodic_kernel, tf.float32), tf.cast(neuron_cov, tf.float32))\n",
    "kron_prod = kronecker(tf.cast(periodic_kernel, tf.float32), tf.cast(np.cov(Xtrain_scaled.T), tf.float32))\n"
   ]
  },
  {
   "cell_type": "code",
   "execution_count": 770,
   "metadata": {},
   "outputs": [
    {
     "data": {
      "text/plain": [
       "array([[ 0.48317848, -0.05601871,  0.37166711, ...,  0.37162191,\n",
       "        -0.14339542, -0.04985749],\n",
       "       [-0.05601871,  0.54915736, -0.04469925, ..., -0.03948608,\n",
       "        -0.08374353,  0.05136849],\n",
       "       [ 0.37166711, -0.04469925,  0.49357172, ...,  0.27145229,\n",
       "        -0.06068848, -0.17400338],\n",
       "       ..., \n",
       "       [ 0.37162191, -0.03948608,  0.27145229, ...,  0.48877479,\n",
       "        -0.21591704, -0.0352074 ],\n",
       "       [-0.14339542, -0.08374353, -0.06068848, ..., -0.21591704,\n",
       "         0.47110066, -0.25438383],\n",
       "       [-0.04985749,  0.05136849, -0.17400338, ..., -0.0352074 ,\n",
       "        -0.25438383,  0.54460847]])"
      ]
     },
     "execution_count": 770,
     "metadata": {},
     "output_type": "execute_result"
    }
   ],
   "source": [
    "np.kron(periodic_kernel, neuron_cov)"
   ]
  },
  {
   "cell_type": "code",
   "execution_count": null,
   "metadata": {
    "collapsed": true
   },
   "outputs": [],
   "source": []
  },
  {
   "cell_type": "code",
   "execution_count": 89,
   "metadata": {},
   "outputs": [
    {
     "name": "stdout",
     "output_type": "stream",
     "text": [
      "{'t': 1, 'loss': 105384.26}\n",
      "{'t': 101, 'loss': 8812.2324}\n",
      "{'t': 201, 'loss': 7307.9062}\n",
      "{'t': 301, 'loss': 7098.3179}\n",
      "{'t': 401, 'loss': 6729.2598}\n",
      "{'t': 501, 'loss': 6649.2656}\n",
      "{'t': 601, 'loss': 6517.6338}\n",
      "{'t': 701, 'loss': 6673.9165}\n",
      "{'t': 801, 'loss': 6589.9585}\n",
      "{'t': 901, 'loss': 6324.9653}\n",
      "{'t': 1001, 'loss': 6074.3447}\n",
      "{'t': 1101, 'loss': 6170.5278}\n",
      "{'t': 1201, 'loss': 5934.8213}\n",
      "{'t': 1301, 'loss': 6016.6025}\n",
      "{'t': 1401, 'loss': 5718.1143}\n",
      "{'t': 1501, 'loss': 6377.5503}\n",
      "{'t': 1601, 'loss': 6011.311}\n",
      "{'t': 1701, 'loss': 6260.4805}\n",
      "{'t': 1801, 'loss': 5929.8345}\n",
      "{'t': 1901, 'loss': 5817.0713}\n",
      "{'t': 2001, 'loss': 6076.2671}\n",
      "{'t': 2101, 'loss': 5910.3813}\n",
      "{'t': 2201, 'loss': 5730.2407}\n",
      "{'t': 2301, 'loss': 5658.8052}\n",
      "{'t': 2401, 'loss': 5880.0234}\n",
      "{'t': 2501, 'loss': 5699.9023}\n",
      "{'t': 2601, 'loss': 5778.0508}\n",
      "{'t': 2701, 'loss': 5927.1846}\n",
      "{'t': 2801, 'loss': 6059.3027}\n",
      "{'t': 2901, 'loss': 5541.0942}\n",
      "0.994327073552\n",
      "[ 0.81805556  0.95092593  0.99074074  0.99583333  0.99953704  0.99953704]\n"
     ]
    }
   ],
   "source": [
    "# DATA\n",
    "sess = ed.get_session()\n",
    "# N is number of samples (ori x trials) and D is number of neurons\n",
    "N, D = Xtrain_scaled.shape[0], Xtrain_scaled.shape[1]\n",
    "\n",
    "########## DESIGN COVARIANCE MATRICES ##########\n",
    "'''\n",
    "# design stimulus x stimulus matrix\n",
    "w_covs = []\n",
    "tau = tf.nn.softplus(tf.Variable(tf.random_normal([])))\n",
    "sparsity = tf.nn.softplus(tf.Variable(tf.random_normal([])))\n",
    "# for each neuron\n",
    "# Design precision matrix\n",
    "A = np.zeros((C-1,C))\n",
    "# for each orientation\n",
    "for i in range(C-1):\n",
    "    A[i,i] = -1\n",
    "    A[i,i+1] = 1\n",
    "precision = A.T.dot(A) #+ .1 * np.identity(C) # precision = A^T.dot(A)\n",
    "precision = tau * precision + sparsity * np.identity(C)\n",
    "precision = precision + .1 * np.identity(C) # guarantees full rank\n",
    "\n",
    "cov = tf.cast(tf.matrix_inverse(precision)[:-1,:-1], tf.float32)\n",
    "\n",
    "neuron_cov = tf.nn.softplus(tf.Variable(tf.random_normal([D,D])))\n",
    "\n",
    "kron_prod = kronecker(cov, neuron_cov) + .1 * np.identity(D*(C-1))\n",
    "'''\n",
    "########## MODEL ##########\n",
    "X = tf.placeholder(tf.float32, [N, D])\n",
    "\n",
    "#kron_prod = kronecker(tf.cast(periodic_kernel, tf.float32), tf.cast(np.cov(Xtrain_scaled.T), tf.float32))\n",
    "#kron_prod = kronecker(tf.cast(np.cov(Xtrain_scaled.T), tf.float32), tf.cast(periodic_kernel, tf.float32))\n",
    "\n",
    "#kron_prod = kronecker(tf.cast(neuron_cov, tf.float32), tf.cast(periodic_kernel, tf.float32))\n",
    "kron_prod = kronecker(tf.cast(periodic_kernel, tf.float32), tf.cast(neuron_cov, tf.float32))\n",
    "\n",
    "\n",
    "vec_w = MultivariateNormalFullCovariance(loc = tf.zeros([D*(C-1)]), covariance_matrix = kron_prod + .1 * tf.eye(D*(C-1)))\n",
    "\n",
    "b = Normal(loc = tf.zeros(C-1), scale= tf.ones(C-1))\n",
    "logits = tf.matmul(X, tf.reshape(vec_w, (D, C-1))) + b\n",
    "\n",
    "logits = tf.concat([logits, np.zeros((N, 1))], axis = 1)\n",
    "y = Categorical(logits = logits)\n",
    "\n",
    "########## INFERENCE ##########\n",
    "qw_loc = tf.Variable(tf.random_normal([D * (C-1)]))\n",
    "qw_scale = tf.nn.softplus(tf.Variable(tf.random_normal([D * (C-1)])))\n",
    "\n",
    "qb_loc = tf.Variable(tf.random_normal([C-1]))\n",
    "qb_scale = tf.nn.softplus(tf.Variable(tf.random_normal([])))\n",
    "\n",
    "qw = Normal(loc = qw_loc, scale = qw_scale)\n",
    "qb = Normal(loc = qb_loc, scale = qb_scale)\n",
    "\n",
    "\n",
    "\n",
    "#qw = PointMass(params = qw_loc)\n",
    "#qb = PointMass(params = qb_loc)\n",
    "\n",
    "\n",
    "\n",
    "inference = ed.KLqp({vec_w: qw, b: qb}, data={X: Xtrain_scaled, y: Ytrain})\n",
    "inference.initialize(n_iter = 3000)\n",
    "\n",
    "init = tf.global_variables_initializer()\n",
    "init.run()\n",
    "learning_curve = []\n",
    "for _ in range(inference.n_iter):\n",
    "    info_dict = inference.update()\n",
    "    if _%100 == 0:\n",
    "        print(info_dict)\n",
    "    learning_curve.append(info_dict['loss'])\n",
    "inference.finalize()\n",
    "\n",
    "########## EVAL ##########\n",
    "qw_mean = tf.reshape(qw.mean(), (D, C-1))\n",
    "qw_mod = tf.concat([qw_mean, np.zeros((qw_mean.shape[0],1))], axis=1)\n",
    "qb_mod = tf.concat([qb.mean(), np.zeros((1))], axis=0)\n",
    "logits = tf.matmul(tf.cast(Xtest_scaled, tf.float32), qw_mod) + qb_mod\n",
    "print(compute_average_auc(tf.nn.softmax(logits).eval(), Ytest_hot))\n",
    "print(evaluate_multiclass_model(x_test_scaled_3d, qw_mod.eval().T, qb_mod.eval()))"
   ]
  },
  {
   "cell_type": "code",
   "execution_count": 90,
   "metadata": {},
   "outputs": [
    {
     "name": "stdout",
     "output_type": "stream",
     "text": [
      "{'t': 1, 'loss': 96877.406}\n",
      "{'t': 101, 'loss': 9171.7021}\n",
      "{'t': 201, 'loss': 7176.5059}\n",
      "{'t': 301, 'loss': 7101.7964}\n",
      "{'t': 401, 'loss': 6711.2715}\n",
      "{'t': 501, 'loss': 6618.2324}\n",
      "{'t': 601, 'loss': 6572.3794}\n",
      "{'t': 701, 'loss': 6488.5962}\n",
      "{'t': 801, 'loss': 6443.1538}\n",
      "{'t': 901, 'loss': 6329.5713}\n",
      "{'t': 1001, 'loss': 6204.8418}\n",
      "{'t': 1101, 'loss': 6278.834}\n",
      "{'t': 1201, 'loss': 6465.9458}\n",
      "{'t': 1301, 'loss': 5903.6191}\n",
      "{'t': 1401, 'loss': 6022.2031}\n",
      "{'t': 1501, 'loss': 5931.5142}\n",
      "{'t': 1601, 'loss': 5788.4272}\n",
      "{'t': 1701, 'loss': 6042.6138}\n",
      "{'t': 1801, 'loss': 5880.3267}\n",
      "{'t': 1901, 'loss': 5904.9941}\n",
      "{'t': 2001, 'loss': 6192.9785}\n",
      "{'t': 2101, 'loss': 5822.0688}\n",
      "{'t': 2201, 'loss': 5684.313}\n",
      "{'t': 2301, 'loss': 5897.6709}\n",
      "{'t': 2401, 'loss': 5666.168}\n",
      "{'t': 2501, 'loss': 5928.9209}\n",
      "{'t': 2601, 'loss': 5817.7837}\n",
      "{'t': 2701, 'loss': 5740.8374}\n",
      "{'t': 2801, 'loss': 5831.0513}\n",
      "{'t': 2901, 'loss': 5652.0981}\n",
      "0.994257520431\n",
      "[ 0.8212963   0.95555556  0.98981481  0.99583333  0.99861111  0.99861111]\n"
     ]
    }
   ],
   "source": [
    "# DATA\n",
    "sess = ed.get_session()\n",
    "# N is number of samples (ori x trials) and D is number of neurons\n",
    "N, D = Xtrain_scaled.shape[0], Xtrain_scaled.shape[1]\n",
    "\n",
    "########## DESIGN COVARIANCE MATRICES ##########\n",
    "'''\n",
    "# design stimulus x stimulus matrix\n",
    "w_covs = []\n",
    "tau = tf.nn.softplus(tf.Variable(tf.random_normal([])))\n",
    "sparsity = tf.nn.softplus(tf.Variable(tf.random_normal([])))\n",
    "# for each neuron\n",
    "# Design precision matrix\n",
    "A = np.zeros((C-1,C))\n",
    "# for each orientation\n",
    "for i in range(C-1):\n",
    "    A[i,i] = -1\n",
    "    A[i,i+1] = 1\n",
    "precision = A.T.dot(A) #+ .1 * np.identity(C) # precision = A^T.dot(A)\n",
    "precision = tau * precision + sparsity * np.identity(C)\n",
    "precision = precision + .1 * np.identity(C) # guarantees full rank\n",
    "\n",
    "cov = tf.cast(tf.matrix_inverse(precision)[:-1,:-1], tf.float32)\n",
    "\n",
    "neuron_cov = tf.nn.softplus(tf.Variable(tf.random_normal([D,D])))\n",
    "\n",
    "kron_prod = kronecker(cov, neuron_cov) + .1 * np.identity(D*(C-1))\n",
    "'''\n",
    "########## MODEL ##########\n",
    "X = tf.placeholder(tf.float32, [N, D])\n",
    "\n",
    "#kron_prod = kronecker(tf.cast(periodic_kernel, tf.float32), tf.cast(np.cov(Xtrain_scaled.T), tf.float32))\n",
    "#kron_prod = kronecker(tf.cast(np.cov(Xtrain_scaled.T), tf.float32), tf.cast(periodic_kernel, tf.float32))\n",
    "\n",
    "#kron_prod = kronecker(tf.cast(neuron_cov, tf.float32), tf.cast(periodic_kernel, tf.float32))\n",
    "kron_prod = kronecker(tf.cast(periodic_kernel, tf.float32), tf.cast(cov, tf.float32))\n",
    "\n",
    "\n",
    "vec_w = MultivariateNormalFullCovariance(loc = tf.zeros([D*(C-1)]), covariance_matrix = kron_prod + .1 * tf.eye(D*(C-1)))\n",
    "\n",
    "b = Normal(loc = tf.zeros(C-1), scale= tf.ones(C-1))\n",
    "logits = tf.matmul(X, tf.reshape(vec_w, (D, C-1))) + b\n",
    "\n",
    "logits = tf.concat([logits, np.zeros((N, 1))], axis = 1)\n",
    "y = Categorical(logits = logits)\n",
    "\n",
    "########## INFERENCE ##########\n",
    "qw_loc = tf.Variable(tf.random_normal([D * (C-1)]))\n",
    "qw_scale = tf.nn.softplus(tf.Variable(tf.random_normal([D * (C-1)])))\n",
    "\n",
    "qb_loc = tf.Variable(tf.random_normal([C-1]))\n",
    "qb_scale = tf.nn.softplus(tf.Variable(tf.random_normal([])))\n",
    "\n",
    "qw = Normal(loc = qw_loc, scale = qw_scale)\n",
    "qb = Normal(loc = qb_loc, scale = qb_scale)\n",
    "\n",
    "\n",
    "\n",
    "#qw = PointMass(params = qw_loc)\n",
    "#qb = PointMass(params = qb_loc)\n",
    "\n",
    "\n",
    "\n",
    "inference = ed.KLqp({vec_w: qw, b: qb}, data={X: Xtrain_scaled, y: Ytrain})\n",
    "inference.initialize(n_iter = 3000)\n",
    "\n",
    "init = tf.global_variables_initializer()\n",
    "init.run()\n",
    "learning_curve = []\n",
    "for _ in range(inference.n_iter):\n",
    "    info_dict = inference.update()\n",
    "    if _%100 == 0:\n",
    "        print(info_dict)\n",
    "    learning_curve.append(info_dict['loss'])\n",
    "inference.finalize()\n",
    "\n",
    "########## EVAL ##########\n",
    "qw_mean = tf.reshape(qw.mean(), (D, C-1))\n",
    "qw_mod = tf.concat([qw_mean, np.zeros((qw_mean.shape[0],1))], axis=1)\n",
    "qb_mod = tf.concat([qb.mean(), np.zeros((1))], axis=0)\n",
    "logits = tf.matmul(tf.cast(Xtest_scaled, tf.float32), qw_mod) + qb_mod\n",
    "print(compute_average_auc(tf.nn.softmax(logits).eval(), Ytest_hot))\n",
    "print(evaluate_multiclass_model(x_test_scaled_3d, qw_mod.eval().T, qb_mod.eval()))"
   ]
  },
  {
   "cell_type": "code",
   "execution_count": null,
   "metadata": {},
   "outputs": [
    {
     "name": "stdout",
     "output_type": "stream",
     "text": [
      "{'t': 1, 'loss': 98810.922}\n",
      "{'t': 101, 'loss': 7483.9512}\n",
      "{'t': 201, 'loss': 5686.1367}\n",
      "{'t': 301, 'loss': 5532.8306}\n",
      "{'t': 401, 'loss': 5180.1162}\n",
      "{'t': 501, 'loss': 5414.9839}\n",
      "{'t': 601, 'loss': 4915.6143}\n",
      "{'t': 701, 'loss': 4801.8853}\n",
      "{'t': 801, 'loss': 4964.5293}\n",
      "{'t': 901, 'loss': 5107.9922}\n",
      "{'t': 1001, 'loss': 5044.1328}\n",
      "{'t': 1101, 'loss': 4479.4688}\n",
      "{'t': 1201, 'loss': 4890.8242}\n",
      "{'t': 1301, 'loss': 4811.4224}\n",
      "{'t': 1401, 'loss': 4617.5049}\n",
      "{'t': 1501, 'loss': 4494.502}\n",
      "{'t': 1601, 'loss': 4470.0215}\n",
      "{'t': 1701, 'loss': 4433.9556}\n",
      "{'t': 1801, 'loss': 4623.2632}\n",
      "{'t': 1901, 'loss': 4617.48}\n",
      "{'t': 2001, 'loss': 4493.7793}\n",
      "{'t': 2101, 'loss': 4617.3311}\n",
      "{'t': 2201, 'loss': 4604.48}\n",
      "{'t': 2301, 'loss': 4578.6201}\n",
      "{'t': 2401, 'loss': 4405.7163}\n",
      "{'t': 2501, 'loss': 4436.8032}\n",
      "{'t': 2601, 'loss': 4170.0415}\n",
      "{'t': 2701, 'loss': 4427.0815}\n",
      "{'t': 2801, 'loss': 4186.373}\n",
      "{'t': 2901, 'loss': 4179.0781}\n",
      "0.99776734481\n",
      "[ 0.8912037   0.99212963  0.99953704  1.          1.          1.        ]\n"
     ]
    }
   ],
   "source": [
    "# DATA\n",
    "sess = ed.get_session()\n",
    "# N is number of samples (ori x trials) and D is number of neurons\n",
    "N, D = Xtrain_scaled.shape[0], Xtrain_scaled.shape[1]\n",
    "\n",
    "########## DESIGN COVARIANCE MATRICES ##########\n",
    "'''\n",
    "# design stimulus x stimulus matrix\n",
    "w_covs = []\n",
    "tau = tf.nn.softplus(tf.Variable(tf.random_normal([])))\n",
    "sparsity = tf.nn.softplus(tf.Variable(tf.random_normal([])))\n",
    "# for each neuron\n",
    "# Design precision matrix\n",
    "A = np.zeros((C-1,C))\n",
    "# for each orientation\n",
    "for i in range(C-1):\n",
    "    A[i,i] = -1\n",
    "    A[i,i+1] = 1\n",
    "precision = A.T.dot(A) #+ .1 * np.identity(C) # precision = A^T.dot(A)\n",
    "precision = tau * precision + sparsity * np.identity(C)\n",
    "precision = precision + .1 * np.identity(C) # guarantees full rank\n",
    "\n",
    "cov = tf.cast(tf.matrix_inverse(precision)[:-1,:-1], tf.float32)\n",
    "\n",
    "neuron_cov = tf.nn.softplus(tf.Variable(tf.random_normal([D,D])))\n",
    "\n",
    "kron_prod = kronecker(cov, neuron_cov) + .1 * np.identity(D*(C-1))\n",
    "'''\n",
    "########## MODEL ##########\n",
    "X = tf.placeholder(tf.float32, [N, D])\n",
    "\n",
    "#kron_prod = kronecker(tf.cast(periodic_kernel, tf.float32), tf.cast(np.cov(Xtrain_scaled.T), tf.float32))\n",
    "#kron_prod = kronecker(tf.cast(np.cov(Xtrain_scaled.T), tf.float32), tf.cast(periodic_kernel, tf.float32))\n",
    "\n",
    "#kron_prod = kronecker(tf.cast(neuron_cov, tf.float32), tf.cast(periodic_kernel, tf.float32))\n",
    "kron_prod = kronecker(tf.cast(cov, tf.float32), tf.cast(periodic_kernel, tf.float32))\n",
    "\n",
    "\n",
    "vec_w = MultivariateNormalFullCovariance(loc = tf.zeros([D*(C-1)]), covariance_matrix = kron_prod + .1 * tf.eye(D*(C-1)))\n",
    "\n",
    "b = Normal(loc = tf.zeros(C-1), scale= tf.ones(C-1))\n",
    "logits = tf.matmul(X, tf.reshape(vec_w, (D, C-1))) + b\n",
    "\n",
    "logits = tf.concat([logits, np.zeros((N, 1))], axis = 1)\n",
    "y = Categorical(logits = logits)\n",
    "\n",
    "########## INFERENCE ##########\n",
    "qw_loc = tf.Variable(tf.random_normal([D * (C-1)]))\n",
    "qw_scale = tf.nn.softplus(tf.Variable(tf.random_normal([D * (C-1)])))\n",
    "\n",
    "qb_loc = tf.Variable(tf.random_normal([C-1]))\n",
    "qb_scale = tf.nn.softplus(tf.Variable(tf.random_normal([])))\n",
    "\n",
    "qw = Normal(loc = qw_loc, scale = qw_scale)\n",
    "qb = Normal(loc = qb_loc, scale = qb_scale)\n",
    "\n",
    "\n",
    "\n",
    "#qw = PointMass(params = qw_loc)\n",
    "#qb = PointMass(params = qb_loc)\n",
    "\n",
    "\n",
    "\n",
    "inference = ed.KLqp({vec_w: qw, b: qb}, data={X: Xtrain_scaled, y: Ytrain})\n",
    "inference.initialize(n_iter = 3000)\n",
    "\n",
    "init = tf.global_variables_initializer()\n",
    "init.run()\n",
    "learning_curve = []\n",
    "for _ in range(inference.n_iter):\n",
    "    info_dict = inference.update()\n",
    "    if _%100 == 0:\n",
    "        print(info_dict)\n",
    "    learning_curve.append(info_dict['loss'])\n",
    "inference.finalize()\n",
    "\n",
    "########## EVAL ##########\n",
    "qw_mean = tf.reshape(qw.mean(), (D, C-1))\n",
    "qw_mod = tf.concat([qw_mean, np.zeros((qw_mean.shape[0],1))], axis=1)\n",
    "qb_mod = tf.concat([qb.mean(), np.zeros((1))], axis=0)\n",
    "logits = tf.matmul(tf.cast(Xtest_scaled, tf.float32), qw_mod) + qb_mod\n",
    "print(compute_average_auc(tf.nn.softmax(logits).eval(), Ytest_hot))\n",
    "print(evaluate_multiclass_model(x_test_scaled_3d, qw_mod.eval().T, qb_mod.eval()))"
   ]
  },
  {
   "cell_type": "code",
   "execution_count": null,
   "metadata": {},
   "outputs": [
    {
     "name": "stdout",
     "output_type": "stream",
     "text": [
      "{'t': 1, 'loss': 87654.57}\n",
      "{'t': 101, 'loss': 8081.7656}\n",
      "{'t': 201, 'loss': 6081.8906}\n",
      "{'t': 301, 'loss': 5182.3198}\n",
      "{'t': 401, 'loss': 5011.0923}\n",
      "{'t': 501, 'loss': 5124.9102}\n",
      "{'t': 601, 'loss': 4906.1807}\n",
      "{'t': 701, 'loss': 4923.7939}\n",
      "{'t': 801, 'loss': 5113.561}\n",
      "{'t': 901, 'loss': 5069.9297}\n",
      "{'t': 1001, 'loss': 4287.0874}\n",
      "{'t': 1101, 'loss': 5097.0566}\n",
      "{'t': 1201, 'loss': 4389.0674}\n",
      "{'t': 1301, 'loss': 4428.6899}\n",
      "{'t': 1401, 'loss': 4502.9717}\n",
      "{'t': 1501, 'loss': 4351.04}\n",
      "{'t': 1601, 'loss': 4172.3174}\n",
      "{'t': 1701, 'loss': 4367.8779}\n",
      "{'t': 1801, 'loss': 4560.4985}\n",
      "{'t': 1901, 'loss': 4237.376}\n",
      "{'t': 2001, 'loss': 4053.1155}\n",
      "{'t': 2101, 'loss': 4167.9126}\n",
      "{'t': 2201, 'loss': 4297.3042}\n",
      "{'t': 2301, 'loss': 4332.8994}\n",
      "{'t': 2401, 'loss': 4337.9829}\n",
      "{'t': 2501, 'loss': 4279.0508}\n",
      "{'t': 2601, 'loss': 4076.7573}\n"
     ]
    }
   ],
   "source": [
    "# DATA\n",
    "sess = ed.get_session()\n",
    "# N is number of samples (ori x trials) and D is number of neurons\n",
    "N, D = Xtrain_scaled.shape[0], Xtrain_scaled.shape[1]\n",
    "\n",
    "########## DESIGN COVARIANCE MATRICES ##########\n",
    "'''\n",
    "# design stimulus x stimulus matrix\n",
    "w_covs = []\n",
    "tau = tf.nn.softplus(tf.Variable(tf.random_normal([])))\n",
    "sparsity = tf.nn.softplus(tf.Variable(tf.random_normal([])))\n",
    "# for each neuron\n",
    "# Design precision matrix\n",
    "A = np.zeros((C-1,C))\n",
    "# for each orientation\n",
    "for i in range(C-1):\n",
    "    A[i,i] = -1\n",
    "    A[i,i+1] = 1\n",
    "precision = A.T.dot(A) #+ .1 * np.identity(C) # precision = A^T.dot(A)\n",
    "precision = tau * precision + sparsity * np.identity(C)\n",
    "precision = precision + .1 * np.identity(C) # guarantees full rank\n",
    "\n",
    "cov = tf.cast(tf.matrix_inverse(precision)[:-1,:-1], tf.float32)\n",
    "\n",
    "neuron_cov = tf.nn.softplus(tf.Variable(tf.random_normal([D,D])))\n",
    "\n",
    "kron_prod = kronecker(cov, neuron_cov) + .1 * np.identity(D*(C-1))\n",
    "'''\n",
    "########## MODEL ##########\n",
    "X = tf.placeholder(tf.float32, [N, D])\n",
    "\n",
    "#kron_prod = kronecker(tf.cast(periodic_kernel, tf.float32), tf.cast(np.cov(Xtrain_scaled.T), tf.float32))\n",
    "#kron_prod = kronecker(tf.cast(np.cov(Xtrain_scaled.T), tf.float32), tf.cast(periodic_kernel, tf.float32))\n",
    "\n",
    "#kron_prod = kronecker(tf.cast(neuron_cov, tf.float32), tf.cast(periodic_kernel, tf.float32))\n",
    "kron_prod = kronecker(tf.cast(neuron_cov, tf.float32), tf.cast(periodic_kernel, tf.float32))\n",
    "\n",
    "\n",
    "vec_w = MultivariateNormalFullCovariance(loc = tf.zeros([D*(C-1)]), covariance_matrix = kron_prod + .1 * tf.eye(D*(C-1)))\n",
    "\n",
    "b = Normal(loc = tf.zeros(C-1), scale= tf.ones(C-1))\n",
    "logits = tf.matmul(X, tf.reshape(vec_w, (D, C-1))) + b\n",
    "\n",
    "logits = tf.concat([logits, np.zeros((N, 1))], axis = 1)\n",
    "y = Categorical(logits = logits)\n",
    "\n",
    "########## INFERENCE ##########\n",
    "qw_loc = tf.Variable(tf.random_normal([D * (C-1)]))\n",
    "qw_scale = tf.nn.softplus(tf.Variable(tf.random_normal([D * (C-1)])))\n",
    "\n",
    "qb_loc = tf.Variable(tf.random_normal([C-1]))\n",
    "qb_scale = tf.nn.softplus(tf.Variable(tf.random_normal([])))\n",
    "\n",
    "qw = Normal(loc = qw_loc, scale = qw_scale)\n",
    "qb = Normal(loc = qb_loc, scale = qb_scale)\n",
    "\n",
    "\n",
    "\n",
    "#qw = PointMass(params = qw_loc)\n",
    "#qb = PointMass(params = qb_loc)\n",
    "\n",
    "\n",
    "\n",
    "inference = ed.KLqp({vec_w: qw, b: qb}, data={X: Xtrain_scaled, y: Ytrain})\n",
    "inference.initialize(n_iter = 3000)\n",
    "\n",
    "init = tf.global_variables_initializer()\n",
    "init.run()\n",
    "learning_curve = []\n",
    "for _ in range(inference.n_iter):\n",
    "    info_dict = inference.update()\n",
    "    if _%100 == 0:\n",
    "        print(info_dict)\n",
    "    learning_curve.append(info_dict['loss'])\n",
    "inference.finalize()\n",
    "\n",
    "########## EVAL ##########\n",
    "qw_mean = tf.reshape(qw.mean(), (D, C-1))\n",
    "qw_mod = tf.concat([qw_mean, np.zeros((qw_mean.shape[0],1))], axis=1)\n",
    "qb_mod = tf.concat([qb.mean(), np.zeros((1))], axis=0)\n",
    "logits = tf.matmul(tf.cast(Xtest_scaled, tf.float32), qw_mod) + qb_mod\n",
    "print(compute_average_auc(tf.nn.softmax(logits).eval(), Ytest_hot))\n",
    "print(evaluate_multiclass_model(x_test_scaled_3d, qw_mod.eval().T, qb_mod.eval()))"
   ]
  },
  {
   "cell_type": "code",
   "execution_count": 769,
   "metadata": {},
   "outputs": [
    {
     "name": "stdout",
     "output_type": "stream",
     "text": [
      "0.964331420623\n",
      "[ 0.6712963   0.83472222  0.9212963   0.94537037  0.9587963   0.9662037 ]\n"
     ]
    }
   ],
   "source": [
    "########## EVAL ##########\n",
    "qw_mean = tf.reshape(qw.mean(), (D, C-1))\n",
    "qw_mod = tf.concat([qw_mean, np.zeros((qw_mean.shape[0],1))], axis=1)\n",
    "qb_mod = tf.concat([qb.mean(), np.zeros((1))], axis=0)\n",
    "logits = tf.matmul(tf.cast(Xtest_scaled, tf.float32), qw_mod) + qb_mod\n",
    "print(compute_average_auc(tf.nn.softmax(logits).eval(), Ytest_hot))\n",
    "print(evaluate_multiclass_model(x_test_scaled_3d, qw_mod.eval().T, qb_mod.eval()))"
   ]
  },
  {
   "cell_type": "code",
   "execution_count": null,
   "metadata": {
    "collapsed": true
   },
   "outputs": [],
   "source": []
  },
  {
   "cell_type": "code",
   "execution_count": 785,
   "metadata": {},
   "outputs": [
    {
     "name": "stdout",
     "output_type": "stream",
     "text": [
      "0.963685446009\n",
      "[ 0.67361111  0.83981481  0.92268519  0.94537037  0.95787037  0.96944444]\n"
     ]
    }
   ],
   "source": [
    "########## EVAL ##########\n",
    "qw_mean = tf.reshape(qw.mean(), (D, C-1))\n",
    "qw_mod = tf.concat([qw_mean, np.zeros((qw_mean.shape[0],1))], axis=1)\n",
    "qb_mod = tf.concat([qb.mean(), np.zeros((1))], axis=0)\n",
    "logits = tf.matmul(tf.cast(Xtest_scaled, tf.float32), qw_mod) + qb_mod\n",
    "print(compute_average_auc(tf.nn.softmax(logits).eval(), Ytest_hot))\n",
    "print(evaluate_multiclass_model(x_test_scaled_3d, qw_mod.eval().T, qb_mod.eval()))"
   ]
  },
  {
   "cell_type": "code",
   "execution_count": null,
   "metadata": {
    "collapsed": true
   },
   "outputs": [],
   "source": [
    "logits = tf.matmul(X, tf.reshape(vec_w, (D, C-1))) + b\n",
    "\n",
    "logits = tf.concat([logits, np.zeros((N, 1))], axis = 1)\n",
    "y = Categorical(logits = logits)"
   ]
  },
  {
   "cell_type": "code",
   "execution_count": 323,
   "metadata": {},
   "outputs": [
    {
     "data": {
      "text/plain": [
       "<tf.Tensor 'Reshape_169:0' shape=(38, 35) dtype=float32>"
      ]
     },
     "execution_count": 323,
     "metadata": {},
     "output_type": "execute_result"
    }
   ],
   "source": [
    "qw_mean"
   ]
  },
  {
   "cell_type": "code",
   "execution_count": 74,
   "metadata": {},
   "outputs": [
    {
     "data": {
      "text/plain": [
       "<tf.Tensor 'Reshape_10:0' shape=(1, 6) dtype=int64>"
      ]
     },
     "execution_count": 74,
     "metadata": {},
     "output_type": "execute_result"
    }
   ],
   "source": [
    "X = np.array([1, 2, 3, 4, 5, 6])\n",
    "X = tf.reshape(tf.convert_to_tensor(X), (1,-1))\n",
    "X"
   ]
  },
  {
   "cell_type": "code",
   "execution_count": 75,
   "metadata": {},
   "outputs": [
    {
     "data": {
      "text/plain": [
       "array([[1, 2],\n",
       "       [3, 4],\n",
       "       [5, 6]])"
      ]
     },
     "execution_count": 75,
     "metadata": {},
     "output_type": "execute_result"
    }
   ],
   "source": [
    "tf.reshape(X, (3,2)).eval()"
   ]
  },
  {
   "cell_type": "code",
   "execution_count": null,
   "metadata": {
    "collapsed": true
   },
   "outputs": [],
   "source": [
    "def periodic_kern(x, p, lengthscale, variance):\n",
    "    k = np.zeros((x.shape[0], x.shape[0]))\n",
    "    for i in range(x.shape[0]):\n",
    "        for j in range(x.shape[0]):\n",
    "            k[i,j] = variance * tf.exp(-(2 * np.sin(np.pi * np.abs(x[i] - x[j])/p)**2) / lengthscale**2)\n",
    "    return k"
   ]
  },
  {
   "cell_type": "code",
   "execution_count": null,
   "metadata": {
    "collapsed": true
   },
   "outputs": [],
   "source": [
    "p = X.shape[0]# C-1 # period\n",
    "lengthscale = tf.nn.softplus(tf.Variable(tf.random_normal([])))\n",
    "variance = tf.nn.softplus(tf.Variable(tf.random_normal([])))\n",
    "periodic_kern(X, p, lengthscale, variance)"
   ]
  },
  {
   "cell_type": "code",
   "execution_count": null,
   "metadata": {
    "collapsed": true
   },
   "outputs": [],
   "source": []
  },
  {
   "cell_type": "code",
   "execution_count": null,
   "metadata": {
    "collapsed": true
   },
   "outputs": [],
   "source": []
  },
  {
   "cell_type": "markdown",
   "metadata": {},
   "source": [
    "## GP prior with periodic kernel"
   ]
  },
  {
   "cell_type": "code",
   "execution_count": 37,
   "metadata": {
    "collapsed": true
   },
   "outputs": [],
   "source": [
    "def periodic_kern(x, p, lengthscale, variance):\n",
    "    k = np.zeros((x.shape[0], x.shape[0]))\n",
    "    for i in range(x.shape[0]):\n",
    "        for j in range(x.shape[0]):\n",
    "            k[i,j] = variance * np.exp(-(2 * np.sin(np.pi * np.abs(x[i] - x[j])/p)**2) / lengthscale)\n",
    "    return k"
   ]
  },
  {
   "cell_type": "code",
   "execution_count": null,
   "metadata": {
    "collapsed": true
   },
   "outputs": [],
   "source": []
  },
  {
   "cell_type": "code",
   "execution_count": 38,
   "metadata": {
    "collapsed": true
   },
   "outputs": [],
   "source": [
    "# from gpflow code: http://gpflow.readthedocs.io/en/latest/_modules/GPflow/kernels.html#Matern52\n",
    "def matern52(X, l, v, X2=None, presliced=False):\n",
    "    lengthscale = tf.convert_to_tensor(l, dtype=tf.float32)\n",
    "    variance = tf.convert_to_tensor(v, dtype=tf.float32)\n",
    "    X = tf.cast(tf.convert_to_tensor(X), tf.float32)\n",
    "    r = _euclid_dist(X, lengthscale, X2)\n",
    "    return variance * (1.0 + np.sqrt(5.) * r + 5. / 3. * tf.square(r)) \\\n",
    "           * tf.exp(-np.sqrt(5.) * r)\n",
    "\n",
    "def _euclid_dist(X, lengthscale, X2=None):\n",
    "    r2 = _square_dist(X, lengthscale, X2)\n",
    "    return tf.sqrt(r2 + 1e-12)\n",
    "\n",
    "def _square_dist(X, lengthscale, X2=None):\n",
    "    X = X / lengthscale\n",
    "    Xs = tf.reduce_sum(tf.square(X), 1)\n",
    "    if X2 is None:\n",
    "        return -2 * tf.matmul(X, tf.transpose(X)) + \\\n",
    "               tf.reshape(Xs, (-1, 1)) + tf.reshape(Xs, (1, -1))\n",
    "    else:\n",
    "        X2 = X2 / lengthscale\n",
    "        X2s = tf.reduce_sum(tf.square(X2), 1)\n",
    "        return -2 * tf.matmul(X, tf.transpose(X2)) + \\\n",
    "               tf.reshape(Xs, (-1, 1)) + tf.reshape(X2s, (1, -1))"
   ]
  },
  {
   "cell_type": "code",
   "execution_count": 39,
   "metadata": {},
   "outputs": [
    {
     "ename": "NameError",
     "evalue": "name 'periodic_kernmat' is not defined",
     "output_type": "error",
     "traceback": [
      "\u001b[0;31m---------------------------------------------------------------------------\u001b[0m",
      "\u001b[0;31mNameError\u001b[0m                                 Traceback (most recent call last)",
      "\u001b[0;32m<ipython-input-39-3a25f01e0f60>\u001b[0m in \u001b[0;36m<module>\u001b[0;34m()\u001b[0m\n\u001b[1;32m      4\u001b[0m \u001b[0mlengthscale\u001b[0m \u001b[0;34m=\u001b[0m \u001b[0;36m1.0\u001b[0m\u001b[0;34m\u001b[0m\u001b[0m\n\u001b[1;32m      5\u001b[0m \u001b[0mvariance\u001b[0m \u001b[0;34m=\u001b[0m\u001b[0;36m1.0\u001b[0m\u001b[0;34m\u001b[0m\u001b[0m\n\u001b[0;32m----> 6\u001b[0;31m \u001b[0mperiodic_kernmat\u001b[0m\u001b[0;34m(\u001b[0m\u001b[0mx\u001b[0m\u001b[0;34m,\u001b[0m \u001b[0;36m1.0\u001b[0m\u001b[0;34m,\u001b[0m \u001b[0;36m1.0\u001b[0m\u001b[0;34m,\u001b[0m \u001b[0;36m1.0\u001b[0m\u001b[0;34m)\u001b[0m\u001b[0;34m.\u001b[0m\u001b[0meval\u001b[0m\u001b[0;34m(\u001b[0m\u001b[0;34m)\u001b[0m\u001b[0;34m\u001b[0m\u001b[0m\n\u001b[0m",
      "\u001b[0;31mNameError\u001b[0m: name 'periodic_kernmat' is not defined"
     ]
    }
   ],
   "source": [
    "x = tf.convert_to_tensor(np.random.rand(10,10), dtype=tf.float64)\n",
    "#lengthscale = tf.nn.softplus(tf.Variable(tf.random_normal([])))\n",
    "#variance = tf.nn.softplus(tf.Variable(tf.random_normal([])))\n",
    "lengthscale = 1.0\n",
    "variance =1.0\n",
    "periodic_kernmat(x, 1.0, 1.0, 1.0).eval()"
   ]
  },
  {
   "cell_type": "code",
   "execution_count": 40,
   "metadata": {
    "collapsed": true
   },
   "outputs": [],
   "source": [
    "def periodic_kernmat(x, p, lengthscale, variance):\n",
    "    lengthscale = tf.convert_to_tensor(lengthscale)\n",
    "    variance = tf.convert_to_tensor(variance)\n",
    "    p = tf.convert_to_tensor(p)\n",
    "    x = tf.cast(tf.convert_to_tensor(x), tf.float32)\n",
    "    pi = tf.convert_to_tensor(np.pi)\n",
    "    k = variance * tf.exp(-(2 * tf.sin(pi * tf.abs(tf.reshape(x, [-1,1]) - \n",
    "                                                      tf.reshape(x, [1,-1])) / p)**2) / lengthscale**2)\n",
    "    return k"
   ]
  },
  {
   "cell_type": "code",
   "execution_count": 41,
   "metadata": {},
   "outputs": [
    {
     "name": "stdout",
     "output_type": "stream",
     "text": [
      "{'t': 1, 'loss': 177134.33}\n",
      "{'t': 101, 'loss': 8087.6792}\n",
      "{'t': 201, 'loss': 7476.0869}\n",
      "{'t': 301, 'loss': 6925.6191}\n",
      "{'t': 401, 'loss': 6668.1157}\n",
      "{'t': 501, 'loss': 6030.2725}\n",
      "{'t': 601, 'loss': 6404.791}\n",
      "{'t': 701, 'loss': 5907.4258}\n",
      "{'t': 801, 'loss': 6149.0898}\n",
      "{'t': 901, 'loss': 6041.2373}\n",
      "{'t': 1001, 'loss': 5747.6436}\n",
      "{'t': 1101, 'loss': 5760.7891}\n",
      "{'t': 1201, 'loss': 5522.8027}\n",
      "{'t': 1301, 'loss': 5559.6328}\n",
      "{'t': 1401, 'loss': 5311.1455}\n",
      "{'t': 1501, 'loss': 5675.458}\n",
      "{'t': 1601, 'loss': 5355.1963}\n",
      "{'t': 1701, 'loss': 5784.1982}\n",
      "{'t': 1801, 'loss': 5358.1729}\n",
      "{'t': 1901, 'loss': 5363.3989}\n",
      "{'t': 2001, 'loss': 5211.9253}\n",
      "{'t': 2101, 'loss': 5158.207}\n",
      "{'t': 2201, 'loss': 4990.9385}\n",
      "{'t': 2301, 'loss': 5288.6436}\n",
      "{'t': 2401, 'loss': 5261.749}\n",
      "{'t': 2501, 'loss': 5140.6934}\n",
      "{'t': 2601, 'loss': 5137.9189}\n",
      "{'t': 2701, 'loss': 5092.6001}\n",
      "{'t': 2801, 'loss': 5161.6855}\n",
      "{'t': 2901, 'loss': 5048.4585}\n",
      "0.997992523039\n",
      "[ 0.90462963  0.9912037   1.          1.          1.          1.        ]\n"
     ]
    }
   ],
   "source": [
    "from edward.util import rbf\n",
    "\n",
    "C = 72\n",
    "# DATA\n",
    "sess = ed.get_session()\n",
    "# N is number of samples (ori x trials) and D is number of neurons\n",
    "N, D = Xtrain_scaled.shape[0], Xtrain_scaled.shape[1]\n",
    "\n",
    "########## MODEL ##########\n",
    "X = tf.placeholder(tf.float32, [N, D])\n",
    "cov = tf.nn.softplus(tf.random_normal([C-1,C-1]))\n",
    "\n",
    "####### the X matrix should NOT be cov, but rather 1....72\n",
    "\n",
    "length = tf.nn.softplus(tf.Variable(tf.random_normal([])))\n",
    "var = tf.nn.softplus(tf.Variable(tf.random_normal([])))\n",
    "\n",
    "\n",
    "# rbf kernel\n",
    "#kernel_input = tf.cast(np.reshape(np.arange(0,C), (-1,1)), tf.float32)\n",
    "#w = MultivariateNormalTriL(loc = tf.zeros([D,C-1]), \n",
    "#                           scale_tril = rbf(kernel_input, lengthscale=length, variance=var)[:-1,:-1])\n",
    "\n",
    "\n",
    "# periodic kernel\n",
    "k = periodic_kernmat(np.arange(0,C), 72.0, length, var)[:-1,:-1]\n",
    "w = MultivariateNormalTriL(loc = tf.zeros([D,C-1]), \n",
    "                           scale_tril = tf.cast(k, tf.float32))\n",
    "\n",
    "\n",
    "\n",
    "\n",
    "# matern kernel\n",
    "#kernel_input = tf.cast(np.reshape(np.arange(0,C), (-1,1)), tf.float32)\n",
    "#k = matern52(kernel_input, length, var)[:-1,:-1]\n",
    "#w = MultivariateNormalTriL(loc = tf.zeros([D,C-1]), \n",
    "                           #scale_tril = tf.cast(k, tf.float32))\n",
    "\n",
    "\n",
    "b = Normal(loc = tf.zeros(C-1), scale= tf.ones(C-1))\n",
    "logits = tf.matmul(X, w) + b\n",
    "logits = tf.concat([logits, np.zeros((N, 1))], axis = 1)\n",
    "y = Categorical(logits = logits)\n",
    "\n",
    "########## INFERENCE ##########\n",
    "qw_loc = tf.Variable(tf.random_normal([D, C-1]))\n",
    "qw_scale = tf.nn.softplus(tf.Variable(tf.random_normal([D,C-1])))\n",
    "\n",
    "qb_loc = tf.Variable(tf.random_normal([C-1]))\n",
    "qb_scale = tf.nn.softplus(tf.Variable(tf.random_normal([])))\n",
    "\n",
    "qw = Normal(loc = qw_loc, scale = qw_scale)\n",
    "qb = Normal(loc = qb_loc, scale = qb_scale)\n",
    "\n",
    "inference = ed.KLqp({w: qw, b: qb}, \n",
    "                    data={X: Xtrain_scaled, y: Ytrain})\n",
    "inference.initialize(n_iter = 3000)\n",
    "\n",
    "init = tf.global_variables_initializer()\n",
    "init.run()\n",
    "learning_curve = []\n",
    "for _ in range(inference.n_iter):\n",
    "    info_dict = inference.update()\n",
    "    if _%100 == 0:\n",
    "        print(info_dict)\n",
    "    learning_curve.append(info_dict['loss'])\n",
    "inference.finalize()\n",
    "\n",
    "\n",
    "########## EVAL ##########\n",
    "qw_mod = tf.concat([qw.mean(), np.zeros((qw.shape[0],1))], axis=1)\n",
    "qb_mod = tf.concat([qb.mean(), np.zeros((1))], axis=0)\n",
    "logits = tf.matmul(tf.cast(Xtest_scaled, tf.float32), qw_mod) + qb_mod\n",
    "print(compute_average_auc(tf.nn.softmax(logits).eval(), Ytest_hot))\n",
    "print(evaluate_multiclass_model(x_test_scaled_3d, qw_mod.eval().T, qb_mod.eval()))\n",
    "w_periodic_kern = qw_mod.eval().T\n",
    "b_periodic_kern = qb_mod.eval()"
   ]
  },
  {
   "cell_type": "code",
   "execution_count": 767,
   "metadata": {},
   "outputs": [
    {
     "name": "stdout",
     "output_type": "stream",
     "text": [
      "[ 0.75185185  0.90462963  0.9587963   0.97592593  0.99027778  0.99398148]\n"
     ]
    }
   ],
   "source": [
    "########## EVAL ##########\n",
    "qw_mod = tf.concat([qw.mean(), np.zeros((qw.shape[0],1))], axis=1)\n",
    "qb_mod = tf.concat([qb.mean(), np.zeros((1))], axis=0)\n",
    "logits = tf.matmul(tf.cast(Xtest_scaled, tf.float32), qw_mod) + qb_mod\n",
    "#print(compute_average_auc(tf.nn.softmax(logits).eval(), Ytest_hot))\n",
    "print(evaluate_multiclass_model(x_test_scaled_3d, qw_mod.eval().T, qb_mod.eval()))"
   ]
  },
  {
   "cell_type": "code",
   "execution_count": 43,
   "metadata": {},
   "outputs": [
    {
     "data": {
      "text/plain": [
       "(0.29429767, 0.53900105)"
      ]
     },
     "execution_count": 43,
     "metadata": {},
     "output_type": "execute_result"
    }
   ],
   "source": [
    "length.eval(), var.eval()"
   ]
  },
  {
   "cell_type": "code",
   "execution_count": 44,
   "metadata": {
    "collapsed": true
   },
   "outputs": [],
   "source": [
    "periodic_kernel = k.eval()"
   ]
  },
  {
   "cell_type": "code",
   "execution_count": null,
   "metadata": {
    "collapsed": true
   },
   "outputs": [],
   "source": []
  },
  {
   "cell_type": "markdown",
   "metadata": {},
   "source": [
    "# modeling neuron x neuron with gp "
   ]
  },
  {
   "cell_type": "code",
   "execution_count": null,
   "metadata": {
    "collapsed": true
   },
   "outputs": [],
   "source": [
    "def periodic_kernmat(x, p, lengthscale, variance):\n",
    "    lengthscale = tf.convert_to_tensor(lengthscale)\n",
    "    variance = tf.convert_to_tensor(variance)\n",
    "    p = tf.convert_to_tensor(p)\n",
    "    x = tf.cast(tf.convert_to_tensor(x), tf.float32)\n",
    "    pi = tf.convert_to_tensor(np.pi)\n",
    "    k = variance * tf.exp(-(2 * tf.sin(pi * tf.abs(tf.reshape(x, [-1,1]) - \n",
    "                                                      tf.reshape(x, [1,-1])) / p)**2) / lengthscale**2)\n",
    "    return k"
   ]
  },
  {
   "cell_type": "code",
   "execution_count": null,
   "metadata": {
    "collapsed": true
   },
   "outputs": [],
   "source": [
    "D"
   ]
  },
  {
   "cell_type": "code",
   "execution_count": null,
   "metadata": {
    "collapsed": true
   },
   "outputs": [],
   "source": [
    "k = periodic_kernmat(np.arange(0,72), 36.0, length, var)[:-1,:-1]"
   ]
  },
  {
   "cell_type": "code",
   "execution_count": null,
   "metadata": {
    "collapsed": true
   },
   "outputs": [],
   "source": [
    "rbf(tf.cast(np.arange(0,D).reshape(-1,1), tf.float32))"
   ]
  },
  {
   "cell_type": "code",
   "execution_count": null,
   "metadata": {
    "collapsed": true
   },
   "outputs": [],
   "source": [
    "w = MultivariateNormalTriL(loc = tf.zeros([C-1,D]), \n",
    "                           scale_tril = rbf(tf.cast(np.arange(0,D).reshape(-1,1), tf.float32)))\n",
    "\n",
    "b = Normal(loc = tf.zeros(C-1), scale= tf.ones(C-1))\n",
    "logits = tf.matmul(X, tf.transpose(w)) + b\n",
    "logits = tf.concat([logits, np.zeros((N, 1))], axis = 1)\n",
    "y = Categorical(logits = logits)"
   ]
  },
  {
   "cell_type": "code",
   "execution_count": null,
   "metadata": {
    "collapsed": true
   },
   "outputs": [],
   "source": [
    "Xtrain_scaled.shape"
   ]
  },
  {
   "cell_type": "code",
   "execution_count": null,
   "metadata": {
    "collapsed": true
   },
   "outputs": [],
   "source": [
    "from edward.util import rbf\n",
    "\n",
    "\n",
    "# DATA\n",
    "sess = ed.get_session()\n",
    "# N is number of samples (ori x trials) and D is number of neurons\n",
    "N, D = Xtrain_scaled.shape[0], Xtrain_scaled.shape[1]\n",
    "\n",
    "########## MODEL ##########\n",
    "X = tf.placeholder(tf.float32, [N, D])\n",
    "cov = tf.nn.softplus(tf.random_normal([D,D]))\n",
    "\n",
    "####### the X matrix should NOT be cov, but rather 1....72\n",
    "\n",
    "length = tf.nn.softplus(tf.Variable(tf.random_normal([])))\n",
    "var = tf.nn.softplus(tf.Variable(tf.random_normal([])))\n",
    "\n",
    "k = periodic_kernmat(np.arange(0,72), 36.0, length, var)[:-1,:-1]\n",
    "\n",
    "w = MultivariateNormalTriL(loc = tf.zeros([C-1,D]), \n",
    "                           scale_tril = rbf(tf.cast(np.arange(0,D).reshape(-1,1), tf.float32)))\n",
    "\n",
    "b = Normal(loc = tf.zeros(C-1), scale= tf.ones(C-1))\n",
    "logits = tf.matmul(X, tf.transpose(w)) + b\n",
    "logits = tf.concat([logits, np.zeros((N, 1))], axis = 1)\n",
    "y = Categorical(logits = logits)"
   ]
  },
  {
   "cell_type": "code",
   "execution_count": null,
   "metadata": {
    "collapsed": true
   },
   "outputs": [],
   "source": [
    "from edward.util import rbf\n",
    "\n",
    "\n",
    "# DATA\n",
    "sess = ed.get_session()\n",
    "# N is number of samples (ori x trials) and D is number of neurons\n",
    "N, D = Xtrain_scaled.shape[0], Xtrain_scaled.shape[1]\n",
    "\n",
    "########## MODEL ##########\n",
    "X = tf.placeholder(tf.float32, [N, D])\n",
    "cov = tf.nn.softplus(tf.random_normal([D,D]))\n",
    "\n",
    "####### the X matrix should NOT be cov, but rather 1....72\n",
    "\n",
    "length = tf.nn.softplus(tf.Variable(tf.random_normal([])))\n",
    "var = tf.nn.softplus(tf.Variable(tf.random_normal([])))\n",
    "\n",
    "k = periodic_kernmat(np.arange(0,72), 36.0, length, var)[:-1,:-1]\n",
    "\n",
    "#w = MultivariateNormalTriL(loc = tf.zeros([C-1,D]), \n",
    "#                           scale_tril = rbf(tf.cast(np.arange(0,D).reshape(-1,1), tf.float32), lengthscale=length, variance=var))\n",
    "\n",
    "w = MultivariateNormalFullCovariance(loc = tf.zeros([C-1,D]), covariance_matrix = tf.cast(neuron_cov, tf.float32))\n",
    "\n",
    "\n",
    "b = Normal(loc = tf.zeros(C-1), scale= tf.ones(C-1))\n",
    "logits = tf.matmul(X, tf.transpose(w)) + b\n",
    "logits = tf.concat([logits, np.zeros((N, 1))], axis = 1)\n",
    "y = Categorical(logits = logits)\n",
    "\n",
    "########## INFERENCE ##########\n",
    "qw_loc = tf.Variable(tf.random_normal([C-1, D]))\n",
    "qw_scale = tf.nn.softplus(tf.Variable(tf.random_normal([C-1, D])))\n",
    "\n",
    "qb_loc = tf.Variable(tf.random_normal([C-1]))\n",
    "qb_scale = tf.nn.softplus(tf.Variable(tf.random_normal([])))\n",
    "\n",
    "qw = Normal(loc = qw_loc, scale = qw_scale)\n",
    "qb = Normal(loc = qb_loc, scale = qb_scale)\n",
    "\n",
    "inference = ed.KLqp({w: qw, b: qb}, \n",
    "                    data={X: Xtrain_scaled, y: Ytrain})\n",
    "inference.initialize(n_iter = 3000)\n",
    "\n",
    "init = tf.global_variables_initializer()\n",
    "init.run()\n",
    "learning_curve = []\n",
    "for _ in range(inference.n_iter):\n",
    "    info_dict = inference.update()\n",
    "    if _%100 == 0:\n",
    "        print(info_dict)\n",
    "    learning_curve.append(info_dict['loss'])\n",
    "inference.finalize()\n",
    "\n",
    "\n",
    "########## EVAL ##########\n",
    "qw_mod = tf.concat([tf.transpose(qw.mean()), np.zeros((qw.shape[1],1))], axis=1)\n",
    "qb_mod = tf.concat([qb.mean(), np.zeros((1))], axis=0)\n",
    "logits = tf.matmul(tf.cast(Xtest_scaled, tf.float32), qw_mod) + qb_mod\n",
    "print(compute_average_auc(tf.nn.softmax(logits).eval(), Ytest_hot))\n",
    "print(evaluate_multiclass_model(x_test_scaled_3d, qw_mod.eval().T, qb_mod.eval()))"
   ]
  },
  {
   "cell_type": "code",
   "execution_count": null,
   "metadata": {
    "collapsed": true
   },
   "outputs": [],
   "source": [
    "qw_mod = tf.concat([tf.transpose(qw.mean()), np.zeros((qw.shape[1],1))], axis=1)\n",
    "qb_mod = tf.concat([qb.mean(), np.zeros((1))], axis=0)\n",
    "logits = tf.matmul(tf.cast(Xtest_scaled, tf.float32), qw_mod) + qb_mod\n",
    "print(compute_average_auc(tf.nn.softmax(logits).eval(), Ytest_hot))\n",
    "print(evaluate_multiclass_model(x_test_scaled_3d, qw_mod.eval().T, qb_mod.eval()))"
   ]
  },
  {
   "cell_type": "code",
   "execution_count": null,
   "metadata": {
    "collapsed": true
   },
   "outputs": [],
   "source": [
    "neuron_cov = np.cov(Xtrain_scaled.T)\n",
    "neuron_cov.shape"
   ]
  },
  {
   "cell_type": "code",
   "execution_count": null,
   "metadata": {
    "collapsed": true
   },
   "outputs": [],
   "source": [
    "np.cov(x_train_scaled_3d[0].T).shape"
   ]
  },
  {
   "cell_type": "code",
   "execution_count": null,
   "metadata": {
    "collapsed": true
   },
   "outputs": [],
   "source": [
    "neuron_cov = np.zeros((71, 65,65))\n",
    "for i in range(71):\n",
    "    neuron_cov[i] = np.cov(x_train_scaled_3d[i].T)# + .1 * np.identity(46)"
   ]
  },
  {
   "cell_type": "code",
   "execution_count": null,
   "metadata": {
    "collapsed": true
   },
   "outputs": [],
   "source": [
    "neuron_cov.shape"
   ]
  },
  {
   "cell_type": "code",
   "execution_count": null,
   "metadata": {
    "collapsed": true
   },
   "outputs": [],
   "source": [
    "np.identity(46)"
   ]
  },
  {
   "cell_type": "markdown",
   "metadata": {
    "collapsed": true
   },
   "source": [
    "## A gaussian process prior on the weights with rbf kernel on theta = {1,...,38,...,2}..."
   ]
  },
  {
   "cell_type": "code",
   "execution_count": null,
   "metadata": {
    "collapsed": true
   },
   "outputs": [],
   "source": [
    "from edward.util import rbf\n",
    "\n",
    "\n",
    "# DATA\n",
    "sess = ed.get_session()\n",
    "# N is number of samples (ori x trials) and D is number of neurons\n",
    "N, D = Xtrain_scaled.shape[0], Xtrain_scaled.shape[1]\n",
    "\n",
    "########## MODEL ##########\n",
    "X = tf.placeholder(tf.float32, [N, D])\n",
    "cov = tf.nn.softplus(tf.random_normal([C-1,C-1]))\n",
    "\n",
    "####### the X matrix should NOT be cov, but rather 1....72\n",
    "length = tf.nn.softplus(tf.Variable(tf.random_normal([])))\n",
    "var = tf.nn.softplus(tf.Variable(tf.random_normal([])))\n",
    "\n",
    "kern = tf.cast(np.reshape(np.concatenate((np.arange(1,38), np.arange(start=36, stop=1, step=-1))), (-1,1)), tf.float32)\n",
    "\n",
    "rbf_kernel = rbf(X = kern, lengthscale = length, variance = var)[:-1,:-1]\n",
    "\n",
    "w = MultivariateNormalTriL(loc = tf.zeros([D,C-1]), \n",
    "                           scale_tril = rbf_kernel)\n",
    "\n",
    "b = Normal(loc = tf.zeros(C-1), scale= tf.ones(C-1))\n",
    "logits = tf.matmul(X, w) + b\n",
    "logits = tf.concat([logits, np.zeros((N, 1))], axis = 1)\n",
    "y = Categorical(logits = logits)\n",
    "\n",
    "########## INFERENCE ##########\n",
    "qw_loc = tf.Variable(tf.random_normal([D, C-1]))\n",
    "qw_scale = tf.nn.softplus(tf.Variable(tf.random_normal([D,C-1])))\n",
    "\n",
    "qb_loc = tf.Variable(tf.random_normal([C-1]))\n",
    "qb_scale = tf.nn.softplus(tf.Variable(tf.random_normal([])))\n",
    "\n",
    "qw = Normal(loc = qw_loc, scale = qw_scale)\n",
    "qb = Normal(loc = qb_loc, scale = qb_scale)\n",
    "\n",
    "inference = ed.KLqp({w: qw, b: qb}, \n",
    "                    data={X: Xtrain_scaled, y: Ytrain})\n",
    "inference.initialize(n_iter = 3000)\n",
    "\n",
    "init = tf.global_variables_initializer()\n",
    "init.run()\n",
    "learning_curve = []\n",
    "for _ in range(inference.n_iter):\n",
    "    info_dict = inference.update()\n",
    "    if _%100 == 0:\n",
    "        print(info_dict)\n",
    "    learning_curve.append(info_dict['loss'])\n",
    "inference.finalize()\n",
    "\n",
    "\n",
    "########## EVAL ##########\n",
    "qw_mod = tf.concat([qw.mean(), np.zeros((qw.shape[0],1))], axis=1)\n",
    "qb_mod = tf.concat([qb.mean(), np.zeros((1))], axis=0)\n",
    "logits = tf.matmul(tf.cast(Xtest_scaled, tf.float32), qw_mod) + qb_mod\n",
    "print(compute_average_auc(tf.nn.softmax(logits).eval(), Ytest_hot))\n",
    "print(evaluate_multiclass_model(x_test_scaled_3d, qw_mod.eval().T, qb_mod.eval()))"
   ]
  },
  {
   "cell_type": "code",
   "execution_count": null,
   "metadata": {
    "collapsed": true
   },
   "outputs": [],
   "source": [
    "########## EVAL ##########\n",
    "qw_mod = tf.concat([qw.mean(), np.zeros((qw.shape[0],1))], axis=1)\n",
    "qb_mod = tf.concat([qb.mean(), np.zeros((1))], axis=0)\n",
    "logits = tf.matmul(tf.cast(Xtest_scaled, tf.float32), qw_mod) + qb_mod\n",
    "print(compute_average_auc(tf.nn.softmax(logits).eval(), Ytest_hot))\n",
    "print(evaluate_multiclass_model(x_test_scaled_3d, qw_mod.eval().T, qb_mod.eval()))"
   ]
  },
  {
   "cell_type": "code",
   "execution_count": null,
   "metadata": {
    "collapsed": true
   },
   "outputs": [],
   "source": [
    "plt.plot(w.eval()[0])"
   ]
  },
  {
   "cell_type": "code",
   "execution_count": null,
   "metadata": {
    "collapsed": true
   },
   "outputs": [],
   "source": [
    "rbf_kernel.eval()"
   ]
  },
  {
   "cell_type": "code",
   "execution_count": null,
   "metadata": {
    "collapsed": true
   },
   "outputs": [],
   "source": [
    "plt.plot(rbf_kernel.eval()[20])"
   ]
  },
  {
   "cell_type": "code",
   "execution_count": null,
   "metadata": {
    "collapsed": true
   },
   "outputs": [],
   "source": []
  },
  {
   "cell_type": "code",
   "execution_count": null,
   "metadata": {
    "collapsed": true
   },
   "outputs": [],
   "source": [
    "length.eval(), var.eval()"
   ]
  },
  {
   "cell_type": "code",
   "execution_count": null,
   "metadata": {
    "collapsed": true
   },
   "outputs": [],
   "source": [
    "plt.plot(w.eval()[10])"
   ]
  },
  {
   "cell_type": "code",
   "execution_count": null,
   "metadata": {
    "collapsed": true
   },
   "outputs": [],
   "source": [
    "length.eval(), var.eval()"
   ]
  },
  {
   "cell_type": "code",
   "execution_count": null,
   "metadata": {
    "collapsed": true
   },
   "outputs": [],
   "source": [
    "%matplotlib inline\n",
    "plt.plot(qw_mod[0].eval())"
   ]
  },
  {
   "cell_type": "code",
   "execution_count": null,
   "metadata": {
    "collapsed": true
   },
   "outputs": [],
   "source": [
    "%matplotlib inline\n",
    "plt.plot(qw_mod[0].eval())"
   ]
  },
  {
   "cell_type": "markdown",
   "metadata": {},
   "source": [
    "## Experimental"
   ]
  },
  {
   "cell_type": "code",
   "execution_count": null,
   "metadata": {
    "collapsed": true
   },
   "outputs": [],
   "source": [
    "#### MODEL working VI for multi-class setting and converges quickly\n",
    "C = 72\n",
    "N = Xtrain_scaled.shape[0]\n",
    "X = tf.placeholder(tf.float32, [N, D])\n",
    "#w = MultivariateNormalTriL(loc = tf.zeros((D,C-1)), scale_tril = tf.cast(sample_cov[:-1,:-1], tf.float32))\n",
    "w = MultivariateNormalTriL(loc = tf.zeros((D,C-1)), \n",
    "                           scale_tril = rbf(tf.cast(np.mean(x_train_scaled, axis=1), tf.float32))[:-1,:-1])\n",
    "\n",
    "b = Normal(loc = tf.zeros(C-1), scale = 1 * tf.ones([]))\n",
    "\n",
    "logits = tf.matmul(X, w) + b\n",
    "logits = tf.concat([logits, np.zeros((N, 1))], axis = 1)\n",
    "\n",
    "y = Multinomial(logits = tf.nn.softmax(logits), total_count=1.0)\n",
    "\n",
    "# INFERENCE\n",
    "qw_loc = tf.Variable(tf.random_normal([D,C-1]))\n",
    "qw_scale = tf.nn.softplus(tf.Variable(tf.random_normal([C-1])))\n",
    "\n",
    "qb_loc = tf.Variable(tf.random_normal([C-1]))\n",
    "qb_scale = tf.nn.softplus(tf.Variable(tf.random_normal([])))\n",
    "\n",
    "qw = Normal(loc = qw_loc, scale = qw_scale)\n",
    "qb = Normal(loc = qb_loc, scale = qb_scale)\n",
    "\n",
    "inference = ed.KLqp({w: qw, b: qb}, data={X: Xtrain_scaled, y: Ytrain_hot})\n",
    "inference.initialize(n_iter = 10000)"
   ]
  },
  {
   "cell_type": "code",
   "execution_count": null,
   "metadata": {
    "collapsed": true
   },
   "outputs": [],
   "source": [
    "sess = ed.get_session()\n",
    "init = tf.global_variables_initializer()\n",
    "init.run()\n",
    "learning_curve = []\n",
    "for _ in range(inference.n_iter):\n",
    "    info_dict = inference.update()\n",
    "    if _%1000 == 0:\n",
    "        print(info_dict)\n",
    "    learning_curve.append(info_dict['loss'])\n",
    "inference.finalize()"
   ]
  },
  {
   "cell_type": "code",
   "execution_count": null,
   "metadata": {
    "collapsed": true
   },
   "outputs": [],
   "source": [
    "A = np.zeros((C-1,C))\n",
    "for i in range(C-1):\n",
    "    A[i,i] = -1\n",
    "    A[i,i+1] = 1\n",
    "precision = A.T.dot(A) + .01 * np.identity(C) # A^T.dot(A) + .1 * I for invertability\n",
    "lambda_1 = 1\n",
    "precision = lambda_1 * precision\n",
    "#precision = precision + 1 * np.identity(C) # add sparsity prior \n",
    "cov_matrix = tf.matrix_inverse(precision)\n",
    "cov_matrix_chol = tf.cholesky(cov_matrix)"
   ]
  },
  {
   "cell_type": "code",
   "execution_count": null,
   "metadata": {
    "collapsed": true
   },
   "outputs": [],
   "source": [
    "A = np.zeros((D-1,D))\n",
    "for i in range(D-1):\n",
    "    A[i,i] = -1\n",
    "    A[i,i+1] = 1\n",
    "precision = A.T.dot(A) + .01 * np.identity(D) # A^T.dot(A) + .1 * I for invertability\n",
    "lambda_1 = 1\n",
    "precision = lambda_1 * precision\n",
    "precision = precision + 1 * np.identity(D) # add sparsity prior \n",
    "cov_matrix = tf.matrix_inverse(precision)\n",
    "cov_matrix_chol = tf.cholesky(cov_matrix)"
   ]
  },
  {
   "cell_type": "code",
   "execution_count": null,
   "metadata": {
    "collapsed": true
   },
   "outputs": [],
   "source": [
    "lambdas = [1e-6, 1e-5, 1e-4, 1e-3, 1e-2, 1e-1, 1, 1e1, 1e2, 1e3, 1e4, 1e5, 1e6]    \n",
    "\n",
    "C = 72\n",
    "N = Xtrain_scaled.shape[0]\n",
    "X = tf.placeholder(tf.float32, [N, D])\n",
    "#w = Normal(loc = tf.zeros((D,C-1)), scale = 1 * tf.ones((D,C-1)))\n",
    "w = MultivariateNormalTriL(loc = tf.zeros((D,C-1)), \n",
    "                           scale_tril = tf.cast(tf.cholesky(cov_matrix[:-1,:-1]), tf.float32))\n",
    "\n",
    "# define a (batch of D) C-1 multivariate normals\n",
    "#w = MultivariateNormalFullCovariance(loc = tf.zeros((D,C-1)),\n",
    "#                                     covariance_matrix = tf.cast(cov_matrix[:-1,:-1], tf.float32))\n",
    "\n",
    "#w = MultivariateNormalTriL(loc = tf.zeros((D,C-1)),\n",
    "#                                     scale_tril = tf.cast(cov_matrix_chol[:-1,:-1], tf.float32))\n",
    "\n",
    "#w = MultivariateNormalTriL(loc = tf.zeros((D,C-1)), scale_tril = rbf_kernel)\n",
    "#w = Normal(loc = tf.zeros((D,C-1)), scale = 1* tf.ones(C-1))\n",
    "#b = Normal(loc = tf.zeros(C-1, 1), scale = 1 * tf.ones([]))\n",
    "\n",
    "logits = tf.matmul(X, (w)) #+ b\n",
    "logits = tf.concat([logits, np.zeros((N, 1))], axis = 1)\n",
    "\n",
    "y = Categorical(probs = tf.nn.softmax(logits))\n",
    "\n",
    "\n",
    "# INFERENCE\n",
    "qw_loc = tf.Variable(tf.random_normal([D,C-1]))\n",
    "#qb_loc = tf.Variable(tf.zeros([C-1]))\n",
    "\n",
    "qw = PointMass(params = qw_loc)\n",
    "#qb = PointMass(params = qb_loc)\n",
    "\n",
    "inference = ed.MAP({w: qw}, data={X: Xtrain_scaled, y: Ytrain})\n",
    "inference.initialize(n_iter = 5000)\n",
    "\n",
    "sess = ed.get_session()\n",
    "init = tf.global_variables_initializer()\n",
    "init.run()\n",
    "learning_curve = []\n",
    "for _ in range(inference.n_iter):\n",
    "    info_dict = inference.update()\n",
    "    if _%1000 == 0:\n",
    "        print(info_dict)\n",
    "    learning_curve.append(info_dict['loss'])\n",
    "inference.finalize()"
   ]
  },
  {
   "cell_type": "code",
   "execution_count": null,
   "metadata": {
    "collapsed": true
   },
   "outputs": [],
   "source": [
    "\n",
    "'''\n",
    "qw_loc = tf.Variable(tf.random_normal([D,C-1]))\n",
    "qw_scale = tf.nn.softplus(tf.Variable(tf.random_normal([D,C-1])))\n",
    "\n",
    "qb_loc = tf.Variable(tf.random_normal([C-1]))\n",
    "qb_scale = tf.nn.softplus(tf.Variable(tf.random_normal([])))\n",
    "\n",
    "qw = Normal(loc = qw_loc, scale = qw_scale)\n",
    "qb = Normal(loc = qb_loc, scale = qb_scale)\n",
    "\n",
    "inference = ed.KLqp({w: qw, b: qb}, data={X: Xtrain_scaled, y: Ytrain})\n",
    "inference.initialize(n_iter = 10000)\n",
    "'''\n",
    "'''\n",
    "# EVALUATION ON TEST DATA\n",
    "qw_mod = tf.concat([tf.transpose(qw.mean()), np.zeros((58,1))], axis=1)\n",
    "qb_mod = tf.concat([qb.mean(), np.zeros((1))], axis=0)\n",
    "logits = tf.matmul(tf.cast(sklearn.preprocessing.scale(Xtest), tf.float32), qw_mod) + qb_mod\n",
    "print(compute_average_auc(tf.nn.softmax(logits).eval(), Ytest_hot))\n",
    "\n",
    "print(evaluate_multiclass_model(x_test_scaled, qw_mod.eval(), qb_mod.eval()))\n",
    "'''"
   ]
  },
  {
   "cell_type": "code",
   "execution_count": null,
   "metadata": {
    "collapsed": true
   },
   "outputs": [],
   "source": []
  },
  {
   "cell_type": "code",
   "execution_count": null,
   "metadata": {
    "collapsed": true
   },
   "outputs": [],
   "source": []
  },
  {
   "cell_type": "markdown",
   "metadata": {},
   "source": [
    "# STAN"
   ]
  },
  {
   "cell_type": "code",
   "execution_count": null,
   "metadata": {
    "collapsed": true
   },
   "outputs": [],
   "source": [
    "import pystan"
   ]
  },
  {
   "cell_type": "code",
   "execution_count": null,
   "metadata": {
    "collapsed": true
   },
   "outputs": [],
   "source": [
    "Ytrain=Ytrain+1"
   ]
  },
  {
   "cell_type": "code",
   "execution_count": null,
   "metadata": {
    "collapsed": true
   },
   "outputs": [],
   "source": [
    "### MAP estimation with beta ~ normal(0,1)\n",
    "\n",
    "# K outcomes\n",
    "multi_logit_code = \"\"\"\n",
    "data {\n",
    "    int<lower=2> K; // num orientations\n",
    "    int<lower=0> N; // num samples\n",
    "    int<lower=1> D; // num features\n",
    "    int y[N];\n",
    "    vector[D] x[N];\n",
    "}\n",
    "parameters {\n",
    "    matrix[K,D] beta;\n",
    "    vector[K] intercept;\n",
    "}\n",
    "model {\n",
    "    for (k in 1:K) {\n",
    "        beta[k] ~ normal(0,1);\n",
    "    }\n",
    "    //for (d in 1:D) {\n",
    "    //    beta[:,d] ~ normal(0,1);\n",
    "    //}\n",
    "    intercept ~ normal(0,1);\n",
    "    for (n in 1:N) {\n",
    "       y[n] ~ categorical_logit(beta * x[n] + intercept);\n",
    "    }\n",
    "}\n",
    "\"\"\"\n",
    "dat = {'K': 72, 'N': 2520, 'D': 58, 'x': Xtrain_scaled, 'y': Ytrain}\n",
    "\n",
    "sm = pystan.StanModel(model_code = multi_logit_code)\n",
    "fit = sm.optimizing(data= dat);"
   ]
  },
  {
   "cell_type": "code",
   "execution_count": null,
   "metadata": {
    "collapsed": true
   },
   "outputs": [],
   "source": [
    "beta_ori = fit['beta']\n",
    "intercept_ori = fit['intercept']"
   ]
  },
  {
   "cell_type": "code",
   "execution_count": null,
   "metadata": {
    "collapsed": true
   },
   "outputs": [],
   "source": [
    "evaluate_multiclass_model(x_test_scaled_3d, beta_ori, intercept_ori)"
   ]
  },
  {
   "cell_type": "code",
   "execution_count": null,
   "metadata": {
    "collapsed": true
   },
   "outputs": [],
   "source": [
    "### MAP estimation with beta ~ normal(0,1)\n",
    "\n",
    "# K outcomes\n",
    "multi_logit_code = \"\"\"\n",
    "data {\n",
    "    int<lower=2> K; // num orientations\n",
    "    int<lower=0> N; // num samples\n",
    "    int<lower=1> D; // num neurons\n",
    "    int y[N];\n",
    "    vector[D] x[N];\n",
    "}\n",
    "transformed data {\n",
    "    row_vector[D] zeros;\n",
    "    zeros = rep_row_vector(0, D);\n",
    "}\n",
    "parameters {\n",
    "    matrix[K-1, D] beta_raw;\n",
    "    vector[K] intercept;\n",
    "    real<lower=0> sigma[K];\n",
    "    real<lower=0> sigma_intercept;\n",
    "}\n",
    "transformed parameters {\n",
    "    matrix[K, D] beta;\n",
    "    beta = append_row(beta_raw, zeros);\n",
    "}\n",
    "model {\n",
    "    for (k in 1:K) {\n",
    "        beta[k] ~ normal(0,sigma[k]);\n",
    "    }\n",
    "    //for (d in 1:D) {\n",
    "    //    beta[:,d] ~ normal(0,1);\n",
    "    //}\n",
    "    intercept ~ normal(0,sigma_intercept);\n",
    "    for (n in 1:N) {\n",
    "       y[n] ~ categorical_logit(beta * x[n] + intercept);\n",
    "    }\n",
    "}\n",
    "\"\"\"\n",
    "dat = {'K': 72, 'N': 2520, 'D': 58, 'x': Xtrain, 'y': Ytrain}\n",
    "\n",
    "sm = pystan.StanModel(model_code = multi_logit_code)\n",
    "fit = sm.vb(data= dat)"
   ]
  },
  {
   "cell_type": "code",
   "execution_count": null,
   "metadata": {
    "collapsed": true
   },
   "outputs": [],
   "source": []
  },
  {
   "cell_type": "code",
   "execution_count": null,
   "metadata": {
    "collapsed": true
   },
   "outputs": [],
   "source": [
    "# gaussian process prior\n",
    "multi_logit_code = \"\"\"\n",
    "data {\n",
    "    int<lower=2> K;\n",
    "    int<lower=0> N;\n",
    "    int<lower=1> D;\n",
    "    int y[N];\n",
    "    vector[D] x[N];\n",
    "}\n",
    "transformed data {\n",
    "    //cov_matrix[K] Kern;\n",
    "    //K = cov_exp_quad()\n",
    "    \n",
    "}\n",
    "parameters {\n",
    "    matrix[K,D] beta;\n",
    "    vector[K] intercept;\n",
    "    //cov_matrix[K] Kern;\n",
    "    //K = cov_exp_quad(beta, 1 1);\n",
    "}\n",
    "model {\n",
    "    for (d in 1:D) {\n",
    "        beta[:,d] ~ multi_normal(0, Kern);\n",
    "    }\n",
    "    // beta[:,d] ~ GP[0, squared rbf kernel] model each column as a gp \n",
    "    intercept ~ normal(0,1);\n",
    "    for (n in 1:N) {\n",
    "       y[n] ~ categorical_logit(beta * x[n] + intercept);\n",
    "    }\n",
    "}\n",
    "\"\"\"\n",
    "dat = {'K': 4, 'N': 140, 'D': 58, 'x': Xtrain_n, 'y': yt}\n",
    "\n",
    "sm = pystan.StanModel(model_code = multi_logit_code)\n",
    "fit = sm.vb(data= dat);"
   ]
  },
  {
   "cell_type": "code",
   "execution_count": null,
   "metadata": {
    "collapsed": true
   },
   "outputs": [],
   "source": []
  }
 ],
 "metadata": {
  "anaconda-cloud": {},
  "kernelspec": {
   "display_name": "Python 3",
   "language": "python",
   "name": "python3"
  },
  "language_info": {
   "codemirror_mode": {
    "name": "ipython",
    "version": 3
   },
   "file_extension": ".py",
   "mimetype": "text/x-python",
   "name": "python",
   "nbconvert_exporter": "python",
   "pygments_lexer": "ipython3",
   "version": "3.6.2"
  }
 },
 "nbformat": 4,
 "nbformat_minor": 1
}
