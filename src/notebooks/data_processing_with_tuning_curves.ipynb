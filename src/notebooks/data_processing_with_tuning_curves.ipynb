{
 "cells": [
  {
   "cell_type": "markdown",
   "metadata": {},
   "source": [
    "# This notebook \n",
    "## 1) reads and processes .mat files from Graf 2011\n",
    "## 2) computes spike counts per trial\n",
    "## 3) plots tuning curves\n",
    "## 4) builds a Poisson Independent Decoder (PID)\n",
    "## 5) builds an L1 regularized multinomial logistic regression model\n",
    "## 6) builds a Bayesian hierarchical logistic regression model (many variations) \n",
    "## 7) evaluates the three models"
   ]
  },
  {
   "cell_type": "code",
   "execution_count": 1,
   "metadata": {
    "collapsed": true
   },
   "outputs": [],
   "source": [
    "#!/usr/bin/env python\n",
    "from __future__ import absolute_import\n",
    "from __future__ import division\n",
    "from __future__ import print_function"
   ]
  },
  {
   "cell_type": "code",
   "execution_count": 2,
   "metadata": {
    "collapsed": false
   },
   "outputs": [
    {
     "name": "stderr",
     "output_type": "stream",
     "text": [
      "/Users/farhan.damani/anaconda3/lib/python3.5/site-packages/sklearn/lda.py:4: DeprecationWarning: lda.LDA has been moved to discriminant_analysis.LinearDiscriminantAnalysis in 0.17 and will be removed in 0.19\n",
      "  \"in 0.17 and will be removed in 0.19\", DeprecationWarning)\n",
      "/Users/farhan.damani/anaconda3/lib/python3.5/site-packages/sklearn/qda.py:4: DeprecationWarning: qda.QDA has been moved to discriminant_analysis.QuadraticDiscriminantAnalysis in 0.17 and will be removed in 0.19.\n",
      "  \"in 0.17 and will be removed in 0.19.\", DeprecationWarning)\n"
     ]
    }
   ],
   "source": [
    "import scipy.io\n",
    "import numpy as np\n",
    "import pandas as pd\n",
    "import seaborn as sns\n",
    "import matplotlib.pyplot as plt\n",
    "\n",
    "import edward as ed\n",
    "import matplotlib.pyplot as plt\n",
    "import numpy as np\n",
    "import tensorflow as tf\n",
    "\n",
    "import sklearn\n",
    "from sklearn.cross_validation import train_test_split\n",
    "from sklearn import *\n",
    "from edward.models import Poisson, Categorical, Empirical, Laplace,Bernoulli, Multinomial, Normal, PointMass, MultivariateNormalDiag, MultivariateNormalFullCovariance, MultivariateNormalTriL"
   ]
  },
  {
   "cell_type": "code",
   "execution_count": 3,
   "metadata": {
    "collapsed": false
   },
   "outputs": [
    {
     "data": {
      "text/plain": [
       "'1.2.1'"
      ]
     },
     "execution_count": 3,
     "metadata": {},
     "output_type": "execute_result"
    }
   ],
   "source": [
    "tf.__version__"
   ]
  },
  {
   "cell_type": "code",
   "execution_count": 4,
   "metadata": {
    "collapsed": false
   },
   "outputs": [],
   "source": [
    "ed.set_seed(42)\n",
    "sess = ed.get_session()"
   ]
  },
  {
   "cell_type": "code",
   "execution_count": 5,
   "metadata": {
    "collapsed": true
   },
   "outputs": [],
   "source": [
    "def read_data(file_path):\n",
    "    '''Read and process mat file from Graf2011\n",
    "    \n",
    "    param array_number: {1, 2, 3, 4, 5}\n",
    "\n",
    "    return:\n",
    "        spike_times: {Nx3600} N simultaneously recorded spike trains for 3600 trials\n",
    "            (50 repeated trials of 72 direction in random order)\n",
    "        orientation_per_trial: orientation for each trial (of length 3600)\n",
    "        num_neurons: number of neurons\n",
    "        orientations: sorted set of orientations\n",
    "        num_repeats: number of repeats for each (orientation,neuron) (=50)\n",
    "        num_trials: 50 repeated trials x 72 directions\n",
    "        trial_length: length of trial (in seconds)\n",
    "    '''\n",
    "    dataStruct = scipy.io.loadmat(file_path)\n",
    "    spike_times = pd.DataFrame.from_dict(dataStruct['spk_times'])\n",
    "    orientation_per_trial = dataStruct['ori'][0]\n",
    "    num_neurons = np.shape(dataStruct['neur_param'])[0]\n",
    "    orientations = np.sort(np.unique(dataStruct['ori']))\n",
    "    trial_length = 2560e-3\n",
    "    num_repeats = 50\n",
    "    num_trials = 3600 # 50 repeated trials x 72 directions\n",
    "    num_orientations = len(orientations)\n",
    "    return spike_times, orientation_per_trial, num_neurons, orientations, trial_length, num_repeats, num_trials, num_orientations"
   ]
  },
  {
   "cell_type": "code",
   "execution_count": 6,
   "metadata": {
    "collapsed": true
   },
   "outputs": [],
   "source": [
    "def compute_spike_counts(spike_times, num_neurons, num_trials):\n",
    "    '''\n",
    "        Compute spike counts for each (orientation, neuron, trial)\n",
    "        return 3D numpy array: orientation x trials x neurons\n",
    "        \n",
    "        TODO: add option to average [0 180] with responses from [180 360]\n",
    "    '''\n",
    "    spike_times_mat = spike_times.as_matrix()\n",
    "    spike_counts = np.zeros((num_orientations, num_neurons, num_repeats))\n",
    "    # for each orientation\n",
    "    for i in range(num_orientations):\n",
    "        # access indices in spike times that corresponds to ori\n",
    "        idx = np.where(orientation_per_trial == orientations[i])[0]\n",
    "        spike_times_ori = np.take(spike_times_mat, idx, axis = 1)\n",
    "        for j in range(num_neurons):\n",
    "            for k in range(num_repeats):\n",
    "                a = np.count_nonzero(spike_times_ori[j][k] <= 1280) ## only look at spikes before 1280 ms e.g. stimulus presentation\n",
    "                b = np.count_nonzero(spike_times_ori[j][k] <= 60) ## ignore spikes before 60 ms - v1 response latencies\n",
    "                spikes = a - b\n",
    "                spike_counts[i, j, k] = spikes\n",
    "    return spike_counts"
   ]
  },
  {
   "cell_type": "code",
   "execution_count": 7,
   "metadata": {
    "collapsed": true
   },
   "outputs": [],
   "source": [
    "'''\n",
    "Filters to data\n",
    "1) spike counts observed after 1280 ms\n",
    "    - exclude\n",
    "    - use to filter neurons that do not have a significantly higher mean tc with stimulus than without\n",
    "\n",
    "2) from paper, \n",
    "To get visually driven neurons, we only accepted neurons of which the\n",
    "peak or trough of their tuning curve fell outside of the window defined\n",
    "by the mean and one s.d. of their spontaneous activity. Furthermore, we\n",
    "obtained meaningful sample of V1 neurons by only considering neurons with\n",
    "tuning curves that could be well approximated (r2   0.75) by bimodal\n",
    "circular Gaussian functions (the sum of two von Mises functions with\n",
    "different preferred orientations, amplitudes and bandwidths), allowing us\n",
    "to accommo- date for direction (mono-modal) or orientation (bi-modal)\n",
    "tuning. We obtained populations of simultaneously recorded neurons of\n",
    "sizes 40, 57, 60, 70 and 74. Each data set was obtained in a ~3-h-long\n",
    "recording session.\n",
    "\n",
    "3) average across 180 degree axis?\n",
    "\n",
    "4) if max of tc for neuron i across orientations - min of tc for neuron i across orientations is \n",
    "    not greater than 10, -> exclude neuron\n",
    "    \n",
    "5) divisive normalization\n",
    "\n",
    "'''\n",
    "\n",
    "def normalize_spike_counts(spike_counts, num_orientations, num_neurons, num_repeats):\n",
    "    '''\n",
    "        Normalize by variance of spike counts\n",
    "            for each trial\n",
    "                square spike counts across (neurons, orientations) then sum across neurons\n",
    "                divide the square of each spike count by the summed squared spike counts across neurons\n",
    "                \n",
    "        PROBLEM: mean tuning curve gives same mean for all entries\n",
    "    '''\n",
    "    spike_counts_norm = np.zeros((num_orientations, num_neurons, num_repeats))\n",
    "    for i in range(num_repeats):\n",
    "        variance_sum = np.sum(spike_counts[:, :, i]**2, axis = 1).reshape(-1,1)\n",
    "        spike_counts_norm[:, :, i] = (spike_counts[:, :, i]**2) / np.tile(variance_sum, num_neurons)\n",
    "    return spike_counts_norm"
   ]
  },
  {
   "cell_type": "code",
   "execution_count": 8,
   "metadata": {
    "collapsed": false
   },
   "outputs": [
    {
     "ename": "SyntaxError",
     "evalue": "invalid syntax (<ipython-input-8-a54a9182e0ea>, line 1)",
     "output_type": "error",
     "traceback": [
      "\u001b[0;36m  File \u001b[0;32m\"<ipython-input-8-a54a9182e0ea>\"\u001b[0;36m, line \u001b[0;32m1\u001b[0m\n\u001b[0;31m    best fit to the tuning curve\u001b[0m\n\u001b[0m           ^\u001b[0m\n\u001b[0;31mSyntaxError\u001b[0m\u001b[0;31m:\u001b[0m invalid syntax\n"
     ]
    }
   ],
   "source": [
    "best fit to the tuning curve \n",
    "\n",
    "one von mise might get too narrow - add a constraint to keep the means separate and prevent variances from going to 0"
   ]
  },
  {
   "cell_type": "markdown",
   "metadata": {},
   "source": [
    "From Graf 2011, \"Evoked activity was estimated over the full stimulus presentation. We neglected the contamination by the blank preceding each grating because this period of the response (the first ~60 ms corresponding to typical V1 response latencies50) was of negligible duration compared with the 1,280 ms stimulus presentation time and this contamination was the same for each grating. Spontaneous activity was assessed on the last 500 ms of each blank presentation to avoid contamina- tion induced by the preceding grating. To get visually driven neurons, we only accepted neurons of which the peak or trough of their tuning curve fell outside of the window defined by the mean and one s.d. of their spontaneous activity. Furthermore, we obtained meaningful sample of V1 neurons by only considering neurons with tuning curves that could be well approximated (r2   0.75) by bimodal circular Gaussian functions (the sum of two von Mises functions with different preferred orientations, amplitudes and bandwidths), allowing us to accommo- date for direction (mono-modal) or orientation (bi-modal) tuning.\"\n",
    "\n",
    "\n",
    "\n",
    "From Montijn 2014, \"To further parameterize neuronal orientation tuning, we also calculated each neuron's preferred direction by fitting a double von Mises distribution to the neuron's responses, where the peaks of both von Mises functions are opposite to each other (separated by 180°):\n",
    "\n",
    "$$f(x∣∣θ,κ1,κ2,μ0)= \\frac{e^{κ_1cos(x−θ)}}{2πI_0(κ_1)} + \\frac{e^{κ_2cos(x+π−θ)}}{2πI_0(κ_2)}+μ_0$$\n",
    "(1)\n",
    "Here, I0(κ) is the modified Bessel function of order 0 and x represents the stimulus angle. As can be seen in the equation, we defined the free parameters as θ (preferred direction), κ1 (concentration parameter at θ), κ2 (concentration parameter at θ +π) and μ0 (baseline response). A neuron's preferred direction was defined as the angle with the highest concentration parameter (which could be either κ1 or κ2).\"\n",
    "\n",
    "## is this based on training data or all?"
   ]
  },
  {
   "cell_type": "code",
   "execution_count": 8,
   "metadata": {
    "collapsed": true
   },
   "outputs": [],
   "source": [
    "def compute_mean_tc(spike_counts):\n",
    "    return np.mean(spike_counts, axis=2)\n",
    "\n",
    "def compute_var_tc(spike_counts):\n",
    "    return np.var(spike_counts, axis=2)\n",
    "\n",
    "def compute_cov_tc(spike_counts):\n",
    "    tc_cov = np.zeros((num_neurons, num_neurons, num_orientations))\n",
    "    for i in range(num_orientations):\n",
    "        tc_cov[:, :, i] = np.cov(spike_counts[i])\n",
    "    return tc_cov"
   ]
  },
  {
   "cell_type": "code",
   "execution_count": 9,
   "metadata": {
    "collapsed": true
   },
   "outputs": [],
   "source": [
    "def compute_preferred_orientation(mean_tc, num_neurons):\n",
    "    '''max of tuning curve across orientations'''\n",
    "    pref_ori = np.zeros(147)\n",
    "    for i in range(num_neurons):\n",
    "        pref_ori[i] = np.argmax(mean_tc[:,i])\n",
    "    return pref_ori"
   ]
  },
  {
   "cell_type": "code",
   "execution_count": 10,
   "metadata": {
    "collapsed": true
   },
   "outputs": [],
   "source": [
    "def filter_to_well_tuned_neurons(mean_tc, thresh):\n",
    "    '''Filter to well tuned neurons, example thresh = 10'''\n",
    "    maxdiff = np.max(mean_tc, axis=0) - np.min(mean_tc, axis=0)\n",
    "    ind_tuned = np.where(maxdiff > thresh)[0]\n",
    "    return ind_tuned"
   ]
  },
  {
   "cell_type": "markdown",
   "metadata": {},
   "source": [
    "## y  ~ Poisson(f(x; $\\theta$)), where f is a mixture of von mises, y is spike trains and x is orientation"
   ]
  },
  {
   "cell_type": "code",
   "execution_count": 161,
   "metadata": {
    "collapsed": false
   },
   "outputs": [],
   "source": [
    "from numpy.core import linspace, atleast_1d, atleast_2d\n",
    "from numpy.core.numeric import empty_like\n",
    "## Modified numpy code to work with tensorflow\n",
    "def i0(x):\n",
    "    \"\"\"\n",
    "    Modified Bessel function of the first kind, order 0.\n",
    "    Usually denoted :math:`I_0`.  This function does broadcast, but will *not*\n",
    "    \"up-cast\" int dtype arguments unless accompanied by at least one float or\n",
    "    complex dtype argument (see Raises below).\n",
    "    Parameters\n",
    "    ----------\n",
    "    x : array_like, dtype float or complex\n",
    "        Argument of the Bessel function.\n",
    "    Returns\n",
    "    -------\n",
    "    out : ndarray, shape = x.shape, dtype = x.dtype\n",
    "        The modified Bessel function evaluated at each of the elements of `x`.\n",
    "    Raises\n",
    "    ------\n",
    "    TypeError: array cannot be safely cast to required type\n",
    "        If argument consists exclusively of int dtypes.\n",
    "    See Also\n",
    "    --------\n",
    "    scipy.special.iv, scipy.special.ive\n",
    "    Notes\n",
    "    -----\n",
    "    We use the algorithm published by Clenshaw [1]_ and referenced by\n",
    "    Abramowitz and Stegun [2]_, for which the function domain is\n",
    "    partitioned into the two intervals [0,8] and (8,inf), and Chebyshev\n",
    "    polynomial expansions are employed in each interval. Relative error on\n",
    "    the domain [0,30] using IEEE arithmetic is documented [3]_ as having a\n",
    "    peak of 5.8e-16 with an rms of 1.4e-16 (n = 30000).\n",
    "    References\n",
    "    ----------\n",
    "    .. [1] C. W. Clenshaw, \"Chebyshev series for mathematical functions\", in\n",
    "           *National Physical Laboratory Mathematical Tables*, vol. 5, London:\n",
    "           Her Majesty's Stationery Office, 1962.\n",
    "    .. [2] M. Abramowitz and I. A. Stegun, *Handbook of Mathematical\n",
    "           Functions*, 10th printing, New York: Dover, 1964, pp. 379.\n",
    "           http://www.math.sfu.ca/~cbm/aands/page_379.htm\n",
    "    .. [3] http://kobesearch.cpan.org/htdocs/Math-Cephes/Math/Cephes.html\n",
    "    Examples\n",
    "    --------\n",
    "    >>> np.i0([0.])\n",
    "    array(1.0)\n",
    "    >>> np.i0([0., 1. + 2j])\n",
    "    array([ 1.00000000+0.j        ,  0.18785373+0.64616944j])\n",
    "    \"\"\"\n",
    "    '''\n",
    "    x = atleast_1d(x).copy()\n",
    "    y = empty_like(x)\n",
    "    ind = (x < 0)\n",
    "    x[ind] = -x[ind]\n",
    "    ind = (x <= 8.0)\n",
    "    y[ind] = _i0_1(x[ind])\n",
    "    ind2 = ~ind\n",
    "    y[ind2] = _i0_2(x[ind2])\n",
    "    return y.squeeze()\n",
    "    '''\n",
    "    return tf.where((x <= 8), _i0_1(x), _i0_2(x))\n",
    "\n",
    "def _i0_1(x):\n",
    "    return tf.exp(x) * _chbevl( x /2.0-2, _i0A)\n",
    "\n",
    "def _chbevl(x, vals):\n",
    "    b0 = vals[0]\n",
    "    b1 = 0.0\n",
    "\n",
    "    for i in range(1, len(vals)):\n",
    "        b2 = b1\n",
    "        b1 = b0\n",
    "        b0 = x*b1 - b2 + vals[i]\n",
    "\n",
    "    return 0.5*(b0 - b2)\n",
    "\n",
    "def _i0_2(x):\n",
    "    return tf.exp(x) * _chbevl(32.0 / x - 2.0, _i0B) / tf.sqrt(x)\n",
    "\n",
    "_i0A = [\n",
    "    -4.41534164647933937950E-18,\n",
    "    3.33079451882223809783E-17,\n",
    "    -2.43127984654795469359E-16,\n",
    "    1.71539128555513303061E-15,\n",
    "    -1.16853328779934516808E-14,\n",
    "    7.67618549860493561688E-14,\n",
    "    -4.85644678311192946090E-13,\n",
    "    2.95505266312963983461E-12,\n",
    "    -1.72682629144155570723E-11,\n",
    "    9.67580903537323691224E-11,\n",
    "    -5.18979560163526290666E-10,\n",
    "    2.65982372468238665035E-9,\n",
    "    -1.30002500998624804212E-8,\n",
    "    6.04699502254191894932E-8,\n",
    "    -2.67079385394061173391E-7,\n",
    "    1.11738753912010371815E-6,\n",
    "    -4.41673835845875056359E-6,\n",
    "    1.64484480707288970893E-5,\n",
    "    -5.75419501008210370398E-5,\n",
    "    1.88502885095841655729E-4,\n",
    "    -5.76375574538582365885E-4,\n",
    "    1.63947561694133579842E-3,\n",
    "    -4.32430999505057594430E-3,\n",
    "    1.05464603945949983183E-2,\n",
    "    -2.37374148058994688156E-2,\n",
    "    4.93052842396707084878E-2,\n",
    "    -9.49010970480476444210E-2,\n",
    "    1.71620901522208775349E-1,\n",
    "    -3.04682672343198398683E-1,\n",
    "    6.76795274409476084995E-1\n",
    "    ]\n",
    "\n",
    "_i0B = [\n",
    "    -7.23318048787475395456E-18,\n",
    "    -4.83050448594418207126E-18,\n",
    "    4.46562142029675999901E-17,\n",
    "    3.46122286769746109310E-17,\n",
    "    -2.82762398051658348494E-16,\n",
    "    -3.42548561967721913462E-16,\n",
    "    1.77256013305652638360E-15,\n",
    "    3.81168066935262242075E-15,\n",
    "    -9.55484669882830764870E-15,\n",
    "    -4.15056934728722208663E-14,\n",
    "    1.54008621752140982691E-14,\n",
    "    3.85277838274214270114E-13,\n",
    "    7.18012445138366623367E-13,\n",
    "    -1.79417853150680611778E-12,\n",
    "    -1.32158118404477131188E-11,\n",
    "    -3.14991652796324136454E-11,\n",
    "    1.18891471078464383424E-11,\n",
    "    4.94060238822496958910E-10,\n",
    "    3.39623202570838634515E-9,\n",
    "    2.26666899049817806459E-8,\n",
    "    2.04891858946906374183E-7,\n",
    "    2.89137052083475648297E-6,\n",
    "    6.88975834691682398426E-5,\n",
    "    3.36911647825569408990E-3,\n",
    "    8.04490411014108831608E-1\n",
    "    ]\n",
    "\n",
    "def mixture_von_mises(params):\n",
    "\n",
    "    k1, mu1, k2, mu2, weight, weight2 = params\n",
    "    x = tf.reshape(tf.cast(tf.constant((np.arange(-36,36) / 72.0) * 2.0 * np.pi), tf.float64), (-1,1))\n",
    "    \n",
    "    first_term = weight * (tf.exp(k1 * tf.cos(x - mu1)) / (2.0 * np.pi * i0(k1)))  \n",
    "    second_term = weight2 * (tf.exp(k2 * tf.cos(x - mu2)) / (2.0 * np.pi * i0(k2)))\n",
    "    return first_term + second_term"
   ]
  },
  {
   "cell_type": "code",
   "execution_count": 229,
   "metadata": {
    "collapsed": false
   },
   "outputs": [
    {
     "name": "stdout",
     "output_type": "stream",
     "text": [
      "{'loss': 892243.43336264556, 't': 1}\n",
      "{'loss': 400672.66994257004, 't': 101}\n",
      "{'loss': 226410.48326482024, 't': 201}\n",
      "{'loss': 101655.29954870275, 't': 301}\n",
      "{'loss': 58775.00684040643, 't': 401}\n",
      "{'loss': 42216.867487343799, 't': 501}\n",
      "{'loss': 31044.678517218985, 't': 601}\n",
      "{'loss': 26582.296632402678, 't': 701}\n",
      "{'loss': 26272.548619583125, 't': 801}\n",
      "{'loss': 26208.538178863993, 't': 901}\n",
      "{'loss': 26170.231595197758, 't': 1001}\n",
      "{'loss': 26141.192243206948, 't': 1101}\n",
      "{'loss': 26117.707394819037, 't': 1201}\n",
      "{'loss': 26098.247279469328, 't': 1301}\n",
      "{'loss': 26082.0870943667, 't': 1401}\n",
      "{'loss': 26068.866842045747, 't': 1501}\n",
      "{'loss': 26058.312396890724, 't': 1601}\n",
      "{'loss': 26050.092754406651, 't': 1701}\n",
      "{'loss': 26043.801140092619, 't': 1801}\n",
      "{'loss': 26039.005948741731, 't': 1901}\n",
      "{'loss': 26035.314824690871, 't': 2001}\n",
      "{'loss': 26032.414481939544, 't': 2101}\n",
      "{'loss': 26030.077507484668, 't': 2201}\n",
      "{'loss': 26028.148135346164, 't': 2301}\n",
      "{'loss': 26026.522130791447, 't': 2401}\n",
      "{'loss': 26025.12939302923, 't': 2501}\n",
      "{'loss': 26023.921608753582, 't': 2601}\n",
      "{'loss': 26022.864307112832, 't': 2701}\n",
      "{'loss': 26021.931969127589, 't': 2801}\n",
      "{'loss': 26021.105050230912, 't': 2901}\n",
      "0\n",
      "{'loss': 892094.82828805177, 't': 1}\n",
      "{'loss': 400671.10050616169, 't': 101}\n",
      "{'loss': 226409.63707310718, 't': 201}\n",
      "{'loss': 101655.33147726305, 't': 301}\n",
      "{'loss': 58771.034193440908, 't': 401}\n",
      "{'loss': 42216.372145700865, 't': 501}\n",
      "{'loss': 31044.467586029357, 't': 601}\n",
      "{'loss': 26582.269619799499, 't': 701}\n",
      "{'loss': 26272.531694617071, 't': 801}\n",
      "{'loss': 26208.517230310605, 't': 901}\n",
      "{'loss': 26170.215708102751, 't': 1001}\n",
      "{'loss': 26141.186595520794, 't': 1101}\n",
      "{'loss': 26117.711241105259, 't': 1201}\n",
      "{'loss': 26098.254535461525, 't': 1301}\n",
      "{'loss': 26082.088168752507, 't': 1401}\n",
      "{'loss': 26068.851301225273, 't': 1501}\n",
      "{'loss': 26058.272491166928, 't': 1601}\n",
      "{'loss': 26050.025762622463, 't': 1701}\n",
      "{'loss': 26043.709384835474, 't': 1801}\n",
      "{'loss': 26038.895003482357, 't': 1901}\n",
      "{'loss': 26035.1911802834, 't': 2001}\n",
      "{'loss': 26032.283839993492, 't': 2101}\n",
      "{'loss': 26029.944087393611, 't': 2201}\n",
      "{'loss': 26028.01471018554, 't': 2301}\n",
      "{'loss': 26026.390362167651, 't': 2401}\n",
      "{'loss': 26025.000190669554, 't': 2501}\n",
      "{'loss': 26023.795411151761, 't': 2601}\n",
      "{'loss': 26022.741271826759, 't': 2701}\n",
      "{'loss': 26021.812092600154, 't': 2801}\n",
      "{'loss': 26020.988240183386, 't': 2901}\n",
      "1\n",
      "{'loss': 892035.10131270019, 't': 1}\n",
      "{'loss': 400665.82005455677, 't': 101}\n",
      "{'loss': 226400.1449390807, 't': 201}\n",
      "{'loss': 101645.89619328498, 't': 301}\n",
      "{'loss': 58772.007688599624, 't': 401}\n",
      "{'loss': 42216.979936853269, 't': 501}\n",
      "{'loss': 31044.439319224854, 't': 601}\n",
      "{'loss': 26582.064897559627, 't': 701}\n",
      "{'loss': 26272.241803557587, 't': 801}\n",
      "{'loss': 26208.154418518363, 't': 901}\n",
      "{'loss': 26169.779759011584, 't': 1001}\n",
      "{'loss': 26140.682459381569, 't': 1101}\n",
      "{'loss': 26117.157874496981, 't': 1201}\n",
      "{'loss': 26097.687509431475, 't': 1301}\n",
      "{'loss': 26081.554364063497, 't': 1401}\n",
      "{'loss': 26068.397216954923, 't': 1501}\n",
      "{'loss': 26057.930787678328, 't': 1601}\n",
      "{'loss': 26049.807475990281, 't': 1701}\n",
      "{'loss': 26043.604937482683, 't': 1801}\n",
      "{'loss': 26038.881863801158, 't': 1901}\n",
      "{'loss': 26035.24326708831, 't': 2001}\n",
      "{'loss': 26032.378215537981, 't': 2101}\n",
      "{'loss': 26030.063599376739, 't': 2201}\n",
      "{'loss': 26028.147808564445, 't': 2301}\n",
      "{'loss': 26026.52979120316, 't': 2401}\n",
      "{'loss': 26025.141607288679, 't': 2501}\n",
      "{'loss': 26023.936314935061, 't': 2601}\n",
      "{'loss': 26022.880282098311, 't': 2701}\n",
      "{'loss': 26021.948493353477, 't': 2801}\n",
      "{'loss': 26021.121704146462, 't': 2901}\n",
      "2\n",
      "{'loss': 892250.58886663872, 't': 1}\n",
      "{'loss': 400673.70237891935, 't': 101}\n",
      "{'loss': 226413.38690020086, 't': 201}\n",
      "{'loss': 101657.90511793105, 't': 301}\n",
      "{'loss': 58777.089329787181, 't': 401}\n",
      "{'loss': 42217.081033406648, 't': 501}\n",
      "{'loss': 31044.465349801532, 't': 601}\n",
      "{'loss': 26582.30734648605, 't': 701}\n",
      "{'loss': 26272.565499448996, 't': 801}\n",
      "{'loss': 26208.540624202134, 't': 901}\n",
      "{'loss': 26170.226230077587, 't': 1001}\n",
      "{'loss': 26141.183995029296, 't': 1101}\n",
      "{'loss': 26117.69853065248, 't': 1201}\n",
      "{'loss': 26098.238293858318, 't': 1301}\n",
      "{'loss': 26082.077707633482, 't': 1401}\n",
      "{'loss': 26068.856426780385, 't': 1501}\n",
      "{'loss': 26058.300363489572, 't': 1601}\n",
      "{'loss': 26050.078838508911, 't': 1701}\n",
      "{'loss': 26043.785466136938, 't': 1801}\n",
      "{'loss': 26038.988916245289, 't': 1901}\n",
      "{'loss': 26035.296928269083, 't': 2001}\n",
      "{'loss': 26032.396169289139, 't': 2101}\n",
      "{'loss': 26030.059115715485, 't': 2201}\n",
      "{'loss': 26028.129887751129, 't': 2301}\n",
      "{'loss': 26026.504160510864, 't': 2401}\n",
      "{'loss': 26025.111770801916, 't': 2501}\n",
      "{'loss': 26023.904365439957, 't': 2601}\n",
      "{'loss': 26022.847449403998, 't': 2701}\n",
      "{'loss': 26021.915489691695, 't': 2801}\n",
      "{'loss': 26021.088933999097, 't': 2901}\n",
      "3\n",
      "{'loss': 892185.50522282545, 't': 1}\n",
      "{'loss': 400669.36030437076, 't': 101}\n",
      "{'loss': 226406.68129928102, 't': 201}\n",
      "{'loss': 101653.45990465987, 't': 301}\n",
      "{'loss': 58771.237482032171, 't': 401}\n",
      "{'loss': 42216.58746078713, 't': 501}\n",
      "{'loss': 31044.676475115943, 't': 601}\n",
      "{'loss': 26582.271693072529, 't': 701}\n",
      "{'loss': 26272.523599665648, 't': 801}\n",
      "{'loss': 26208.534711216056, 't': 901}\n",
      "{'loss': 26170.26018883476, 't': 1001}\n",
      "{'loss': 26141.251909052356, 't': 1101}\n",
      "{'loss': 26117.790008459873, 't': 1201}\n",
      "{'loss': 26098.339208732439, 't': 1301}\n",
      "{'loss': 26082.17065732272, 't': 1401}\n",
      "{'loss': 26068.92428593849, 't': 1501}\n",
      "{'loss': 26058.331013387127, 't': 1601}\n",
      "{'loss': 26050.067993799745, 't': 1701}\n",
      "{'loss': 26043.7363592533, 't': 1801}\n",
      "{'loss': 26038.909566635492, 't': 1901}\n",
      "{'loss': 26035.196729817853, 't': 2001}\n",
      "{'loss': 26032.283414788079, 't': 2101}\n",
      "{'loss': 26029.93998815056, 't': 2201}\n",
      "{'loss': 26028.008502350935, 't': 2301}\n",
      "{'loss': 26026.383038935521, 't': 2401}\n",
      "{'loss': 26024.992353168745, 't': 2501}\n",
      "{'loss': 26023.78741068266, 't': 2601}\n",
      "{'loss': 26022.733307048275, 't': 2701}\n",
      "{'loss': 26021.804271173321, 't': 2801}\n",
      "{'loss': 26020.980616351328, 't': 2901}\n",
      "4\n",
      "{'loss': 892298.83563126647, 't': 1}\n",
      "{'loss': 400675.1158387888, 't': 101}\n",
      "{'loss': 226414.24259839591, 't': 201}\n",
      "{'loss': 101657.6157244955, 't': 301}\n",
      "{'loss': 58776.459705345093, 't': 401}\n",
      "{'loss': 42217.694415551858, 't': 501}\n",
      "{'loss': 31044.907168425922, 't': 601}\n",
      "{'loss': 26582.437632554575, 't': 701}\n",
      "{'loss': 26272.602475708874, 't': 801}\n",
      "{'loss': 26208.533435549787, 't': 901}\n",
      "{'loss': 26170.19099922575, 't': 1001}\n",
      "{'loss': 26141.128212215837, 't': 1101}\n",
      "{'loss': 26117.62794862004, 't': 1201}\n",
      "{'loss': 26098.160229032615, 't': 1301}\n",
      "{'loss': 26082.000868147174, 't': 1401}\n",
      "{'loss': 26068.788937926569, 't': 1501}\n",
      "{'loss': 26058.247828598465, 't': 1601}\n",
      "{'loss': 26050.043417509682, 't': 1701}\n",
      "{'loss': 26043.766155616595, 't': 1801}\n",
      "{'loss': 26038.982715150421, 't': 1901}\n",
      "{'loss': 26035.300225600236, 't': 2001}\n",
      "{'loss': 26032.405736463574, 't': 2101}\n",
      "{'loss': 26030.072513063951, 't': 2201}\n",
      "{'loss': 26028.145457661434, 't': 2301}\n",
      "{'loss': 26026.520851204863, 't': 2401}\n",
      "{'loss': 26025.128944016466, 't': 2501}\n",
      "{'loss': 26023.921645757902, 't': 2601}\n",
      "{'loss': 26022.864621897541, 't': 2701}\n",
      "{'loss': 26021.932435309303, 't': 2801}\n",
      "{'loss': 26021.105590338597, 't': 2901}\n",
      "5\n",
      "{'loss': 892163.22245335695, 't': 1}\n",
      "{'loss': 400671.01209037856, 't': 101}\n",
      "{'loss': 226408.55583006825, 't': 201}\n",
      "{'loss': 101653.44867590966, 't': 301}\n",
      "{'loss': 58775.204065743601, 't': 401}\n",
      "{'loss': 42216.844713678249, 't': 501}\n",
      "{'loss': 31044.444224784227, 't': 601}\n",
      "{'loss': 26582.225179614874, 't': 701}\n",
      "{'loss': 26272.486324011526, 't': 801}\n",
      "{'loss': 26208.451005641124, 't': 901}\n",
      "{'loss': 26170.115992571817, 't': 1001}\n",
      "{'loss': 26141.052311166808, 't': 1101}\n",
      "{'loss': 26117.550139574992, 't': 1201}\n",
      "{'loss': 26098.082876357577, 't': 1301}\n",
      "{'loss': 26081.928629333161, 't': 1401}\n",
      "{'loss': 26068.726914527309, 't': 1501}\n",
      "{'loss': 26058.199677382239, 't': 1601}\n",
      "{'loss': 26050.010338555672, 't': 1701}\n",
      "{'loss': 26043.746953512622, 't': 1801}\n",
      "{'loss': 26038.974665195499, 't': 1901}\n",
      "{'loss': 26035.300173613785, 't': 2001}\n",
      "{'loss': 26032.410896626323, 't': 2101}\n",
      "{'loss': 26030.080790739128, 't': 2201}\n",
      "{'loss': 26028.155433966924, 't': 2301}\n",
      "{'loss': 26026.53162958318, 't': 2401}\n",
      "{'loss': 26025.139985151025, 't': 2501}\n",
      "{'loss': 26023.932638315469, 't': 2601}\n",
      "{'loss': 26022.875394341791, 't': 2701}\n",
      "{'loss': 26021.942899813857, 't': 2801}\n",
      "{'loss': 26021.115708387049, 't': 2901}\n",
      "6\n",
      "{'loss': 892145.34338685346, 't': 1}\n",
      "{'loss': 400670.87485758855, 't': 101}\n",
      "{'loss': 226409.18702116609, 't': 201}\n",
      "{'loss': 101655.60978021871, 't': 301}\n",
      "{'loss': 58774.815363601381, 't': 401}\n",
      "{'loss': 42216.528387358543, 't': 501}\n",
      "{'loss': 31044.589022255877, 't': 601}\n",
      "{'loss': 26582.316812500438, 't': 701}\n",
      "{'loss': 26272.649690183225, 't': 801}\n",
      "{'loss': 26208.706572988667, 't': 901}\n",
      "{'loss': 26170.458572207412, 't': 1001}\n",
      "{'loss': 26141.467538294397, 't': 1101}\n",
      "{'loss': 26118.015886395326, 't': 1201}\n",
      "{'loss': 26098.567379954697, 't': 1301}\n",
      "{'loss': 26082.392285840186, 't': 1401}\n",
      "{'loss': 26069.131400180471, 't': 1501}\n",
      "{'loss': 26058.51817068526, 't': 1601}\n",
      "{'loss': 26050.233093045568, 't': 1701}\n",
      "{'loss': 26043.880404308729, 't': 1801}\n",
      "{'loss': 26039.03559540708, 't': 1901}\n",
      "{'loss': 26035.308487657017, 't': 2001}\n",
      "{'loss': 26032.384360811324, 't': 2101}\n",
      "{'loss': 26030.032851188578, 't': 2201}\n",
      "{'loss': 26028.095248516427, 't': 2301}\n",
      "{'loss': 26026.465022020493, 't': 2401}\n",
      "{'loss': 26025.070494379081, 't': 2501}\n",
      "{'loss': 26023.862345068035, 't': 2601}\n",
      "{'loss': 26022.805485802506, 't': 2701}\n",
      "{'loss': 26021.874027922593, 't': 2801}\n",
      "{'loss': 26021.048208582113, 't': 2901}\n",
      "7\n",
      "{'loss': 892115.31792900548, 't': 1}\n",
      "{'loss': 400670.59798740316, 't': 101}\n",
      "{'loss': 226408.72333842464, 't': 201}\n",
      "{'loss': 101654.27556064312, 't': 301}\n",
      "{'loss': 58776.259754162689, 't': 401}\n",
      "{'loss': 42217.173703283079, 't': 501}\n",
      "{'loss': 31044.553131953689, 't': 601}\n",
      "{'loss': 26582.318520874811, 't': 701}\n",
      "{'loss': 26272.618013630687, 't': 801}\n",
      "{'loss': 26208.630891372544, 't': 901}\n",
      "{'loss': 26170.339787887966, 't': 1001}\n",
      "{'loss': 26141.309804467048, 't': 1101}\n",
      "{'loss': 26117.828634303143, 't': 1201}\n",
      "{'loss': 26098.366940829299, 't': 1301}\n",
      "{'loss': 26082.200253434072, 't': 1401}\n",
      "{'loss': 26068.969071587027, 't': 1501}\n",
      "{'loss': 26058.400679995604, 't': 1601}\n",
      "{'loss': 26050.166199752966, 't': 1701}\n",
      "{'loss': 26043.860883056026, 't': 1801}\n",
      "{'loss': 26039.054400341527, 't': 1901}\n",
      "{'loss': 26035.354744316002, 't': 2001}\n",
      "{'loss': 26032.448311541899, 't': 2101}\n",
      "{'loss': 26030.107104484279, 't': 2201}\n",
      "{'loss': 26028.174787532134, 't': 2301}\n",
      "{'loss': 26026.546685568246, 't': 2401}\n",
      "{'loss': 26025.152395639561, 't': 2501}\n",
      "{'loss': 26023.943410115622, 't': 2601}\n",
      "{'loss': 26022.885137161204, 't': 2701}\n",
      "{'loss': 26021.951983338906, 't': 2801}\n",
      "{'loss': 26021.124358123096, 't': 2901}\n",
      "8\n",
      "{'loss': 892189.68728888803, 't': 1}\n",
      "{'loss': 400673.940639243, 't': 101}\n",
      "{'loss': 226414.12995451892, 't': 201}\n",
      "{'loss': 101658.96156080213, 't': 301}\n",
      "{'loss': 58776.284568108968, 't': 401}\n",
      "{'loss': 42217.329836426099, 't': 501}\n",
      "{'loss': 31044.834387346418, 't': 601}\n",
      "{'loss': 26582.446168038048, 't': 701}\n",
      "{'loss': 26272.733670895868, 't': 801}\n",
      "{'loss': 26208.759048395343, 't': 901}\n",
      "{'loss': 26170.491881743568, 't': 1001}\n",
      "{'loss': 26141.486706892749, 't': 1101}\n",
      "{'loss': 26118.023748410651, 't': 1201}\n",
      "{'loss': 26098.567620298498, 't': 1301}\n",
      "{'loss': 26082.3894366155, 't': 1401}\n",
      "{'loss': 26069.129694216339, 't': 1501}\n",
      "{'loss': 26058.520639360726, 't': 1601}\n",
      "{'loss': 26050.241173191553, 't': 1701}\n",
      "{'loss': 26043.89403529941, 't': 1801}\n",
      "{'loss': 26039.053712810924, 't': 1901}\n",
      "{'loss': 26035.329649789062, 't': 2001}\n",
      "{'loss': 26032.407226238844, 't': 2101}\n",
      "{'loss': 26030.056397363049, 't': 2201}\n",
      "{'loss': 26028.118792913152, 't': 2301}\n",
      "{'loss': 26026.488153888262, 't': 2401}\n",
      "{'loss': 26025.09299095576, 't': 2501}\n",
      "{'loss': 26023.884102952179, 't': 2601}\n",
      "{'loss': 26022.826473142115, 't': 2701}\n",
      "{'loss': 26021.894253760009, 't': 2801}\n",
      "{'loss': 26021.067704088691, 't': 2901}\n",
      "9\n"
     ]
    }
   ],
   "source": [
    "num_restarts = 1\n",
    "N = mean_tc.shape[1]\n",
    "scores = np.zeros((num_restarts, N))\n",
    "for i in range(num_restarts):\n",
    "    C = 72 # num orientations\n",
    "    N = mean_tc.shape[1] # num neurons\n",
    "    #N = 5\n",
    "\n",
    "    # mixture of von mises params\n",
    "    k1 = tf.nn.softplus(tf.Variable(tf.random_normal([N], mean=30, stddev=0.0001, dtype=tf.float64)))\n",
    "    k2 = tf.nn.softplus(tf.Variable(tf.random_normal([N], mean=30, stddev=0.0001, dtype=tf.float64)))\n",
    "    mu1 = tf.Variable(tf.random_normal([N], mean = -1.5, stddev=0.001, dtype=tf.float64))\n",
    "    mu2 = tf.Variable(tf.random_normal([N], mean=1.5, stddev=0.001, dtype=tf.float64))\n",
    "    weight = tf.nn.softplus(tf.Variable(tf.random_normal([N], mean = 50 , stddev=0.001, dtype=tf.float64)))\n",
    "    weight2 = tf.nn.softplus(tf.Variable(tf.random_normal([N], mean = 50, stddev=0.001, dtype=tf.float64)))\n",
    "\n",
    "    params = [k1, mu1, k2, mu2, weight, weight2]\n",
    "    rate = mixture_von_mises(params)\n",
    "\n",
    "    # MODEL\n",
    "    y = Poisson(rate = rate)\n",
    "\n",
    "    # INFERENCE\n",
    "    qy = PointMass(params = tf.Variable(tf.zeros([C, N], dtype=tf.float64)))\n",
    "    inference = ed.MAP({y: qy}, data={y: mean_tc})\n",
    "    #inference.run()\n",
    "    \n",
    "    \n",
    "    inference.initialize(n_iter = 3000)\n",
    "    init = tf.global_variables_initializer()\n",
    "    init.run()\n",
    "    learning_curve = []\n",
    "    for _ in range(inference.n_iter):\n",
    "        info_dict = inference.update()\n",
    "        if _%100 == 0:\n",
    "            print(info_dict)\n",
    "        learning_curve.append(info_dict['loss'])\n",
    "    inference.finalize()\n",
    "    \n",
    "    preds = y.mean().eval()\n",
    "    for j in range(N):\n",
    "        scores[i,j] = metrics.r2_score(mean_tc[:,j], preds[:,j])\n",
    "    print(i)"
   ]
  },
  {
   "cell_type": "code",
   "execution_count": 231,
   "metadata": {
    "collapsed": false
   },
   "outputs": [
    {
     "data": {
      "text/plain": [
       "(64,)"
      ]
     },
     "execution_count": 231,
     "metadata": {},
     "output_type": "execute_result"
    }
   ],
   "source": [
    "sx = np.max(scores, axis=0)\n",
    "sx[sx >= 0.75].shape"
   ]
  },
  {
   "cell_type": "code",
   "execution_count": 115,
   "metadata": {
    "collapsed": false
   },
   "outputs": [
    {
     "data": {
      "text/plain": [
       "(array([ 2.99537792,  5.82487231,  2.37073526,  1.25848723,  4.79234144,\n",
       "         4.51709357,  5.42228818,  9.35232037,  0.90853313,  2.84569704,\n",
       "         1.49971401,  0.1366706 ,  1.15415726,  1.5028014 ,  0.34372028,\n",
       "         1.4160034 ,  0.07978827,  2.5504831 ,  0.05979729,  0.19050249,\n",
       "         1.42452961,  1.0099749 ,  1.31076271,  0.12091853,  5.51739458,\n",
       "         3.48186978,  0.05801754,  0.1604128 ,  2.04003879,  2.26199587,\n",
       "         4.48468727,  3.278355  ,  0.07056577,  0.06874439,  1.52106622,\n",
       "         0.63917302,  0.06015696,  1.63153528,  0.06377907,  0.06266673,\n",
       "         0.06211284,  1.69318168,  1.53845205,  0.82943977,  1.31629831,\n",
       "         1.36173039,  3.61388778,  1.34472737,  1.42293959,  1.07281122,\n",
       "         1.16156331,  1.51321907,  1.69141076,  0.27507352,  0.0840891 ,\n",
       "         0.09795532,  1.24827085,  2.60753809,  0.25811062,  1.575665  ,\n",
       "         0.06580752,  0.17344889,  1.68676539,  2.13819611,  3.12887582,\n",
       "         2.57938938,  1.10432158,  0.08251284,  1.94512802,  4.97273164,\n",
       "         2.59416091,  8.02018389,  7.27621399,  0.11292977,  1.99892726,\n",
       "         1.42701236,  0.09185293,  0.10506119,  0.10613693,  0.05948473,\n",
       "         0.06249182,  0.05893359,  0.05961748,  3.06894763,  1.45575756,\n",
       "         2.80162616,  1.74100054,  2.8408299 ,  2.0682789 ,  3.10083669,\n",
       "         2.16229897,  1.86001607,  5.74347516,  1.61365138,  3.28456626,\n",
       "         3.19374449,  3.49172044,  2.0244384 ,  5.78735099,  1.49601895,\n",
       "         2.42191847,  2.50105374,  1.67247853,  3.35814368,  0.23705897,\n",
       "         1.4688897 ,  2.00311077,  0.07885585,  1.54117878,  1.38059069,\n",
       "         0.21360452,  3.23079898,  0.0704535 ]),\n",
       " array([  4.14106615,   6.83355803,   2.17531239,   1.30677572,\n",
       "          1.49807693,   3.62027049,   6.72533915,  10.74849695,\n",
       "          0.66736429,   2.81243383,   1.64916263,   0.12937236,\n",
       "          1.39214477,   1.59996367,   0.2818131 ,   1.55894266,\n",
       "          0.18751397,   1.63861613,   0.05867703,   0.19638077,\n",
       "          2.94434147,   0.56104055,   1.33023765,   0.11746075,\n",
       "          5.87560814,   3.47777999,   0.06122916,   0.07678925,\n",
       "          1.63948294,   1.88901194,   4.56978343,   4.03952733,\n",
       "          0.07192862,   0.06870382,   2.79254232,   1.86809724,\n",
       "          0.06037185,   1.55872201,   0.06379558,   0.0625854 ,\n",
       "          0.06177835,   3.54000257,   1.49710758,   0.9887903 ,\n",
       "          1.31755224,   1.04095687,   3.58721773,   1.34685833,\n",
       "          1.37441598,   1.21945125,   1.42497159,   1.61173315,\n",
       "          2.18281388,   0.51356422,   0.0895564 ,   0.1555153 ,\n",
       "          0.89349264,   2.73793057,   0.1955835 ,   4.61904989,\n",
       "          0.06577213,   0.18120113,   1.45128941,   1.78897276,\n",
       "          3.44381323,   2.79755226,   0.79810596,   0.08465232,\n",
       "          2.06059779,   3.29191119,   2.68962206,   5.54537207,\n",
       "          5.71524518,   0.12531953,   1.93563777,   1.35899733,\n",
       "          0.09344822,   0.11551115,   0.09453431,   0.06021624,\n",
       "          0.11979093,   0.0604288 ,   0.05951509,   3.1244524 ,\n",
       "          1.49464205,   2.55611898,   1.82886564,   2.13333875,\n",
       "          1.9617449 ,   2.63874041,   2.36338496,   1.72012543,\n",
       "          4.76400795,   1.41969048,   3.85914823,   3.64406498,\n",
       "          3.70970141,   1.81654902,   3.3991456 ,   1.55671958,\n",
       "          2.24327702,   2.01834788,   1.82594246,   3.00524091,\n",
       "          0.17770718,   3.40503542,   2.02283114,   0.0783336 ,\n",
       "          1.59435401,   1.51771866,   0.55109653,   3.43711843,   0.07038417]),\n",
       " array([-2.77891678, -2.81105213, -1.80204837, -1.14542132, -1.20467414,\n",
       "        -1.2427604 , -0.09963889, -0.1191646 , -0.59969397, -1.14027112,\n",
       "        -1.81333698,  0.01702938, -2.51165594, -2.28733832, -2.50808028,\n",
       "        -1.61022357,  0.80550649, -1.45935908, -2.85079188, -4.65386529,\n",
       "        -1.86100713, -0.35658872, -2.23443704, -1.60983082, -1.96924861,\n",
       "        -0.94580051, -4.02347362, -2.3804812 , -1.61319801, -1.59950573,\n",
       "        -2.02761065, -1.57177433,  0.67568312, -4.37057499, -1.2776851 ,\n",
       "        -1.23877597,  1.38666968, -1.90961265, -4.87566536,  1.22449916,\n",
       "        -1.48974237, -1.76540392, -2.5830028 , -1.10471408, -1.50094948,\n",
       "        -0.67564518, -0.06882433, -3.01684906, -2.65416081, -2.38459405,\n",
       "        -2.99621281, -2.7834276 , -2.8398827 , -1.43918499,  1.30344189,\n",
       "        -1.28336602, -1.61355159, -1.63688431, -3.07962113, -1.91740672,\n",
       "         1.20051491,  1.36702504, -0.67061319, -0.65795072, -2.83903481,\n",
       "        -2.31585376, -2.06183531, -5.52265682, -2.70583807, -3.0854835 ,\n",
       "        -3.03710487, -1.9090885 , -1.9478262 , -3.25093043, -1.79727219,\n",
       "        -1.13522547, -4.8646926 ,  0.17733499, -0.34838529,  2.1601785 ,\n",
       "         0.07019095, -3.36827585, -1.19719428, -2.28799384, -1.24172074,\n",
       "        -0.91533347, -0.15822088, -0.81464558, -1.87938264, -1.82294696,\n",
       "        -0.56839766, -1.33688926, -2.8158712 , -2.06034619, -2.77912381,\n",
       "        -0.49070149, -1.65449046, -2.7974844 , -0.46376459, -0.61271973,\n",
       "        -0.78658592, -2.71283217, -2.8639095 , -2.09982776, -2.54656074,\n",
       "        -0.14177198, -2.30113056,  0.46212843, -1.94317768, -1.99886332,\n",
       "        -2.3750694 , -0.56735726,  0.36293566]),\n",
       " array([  3.67964179e-01,   3.24841215e-01,   1.35739785e+00,\n",
       "          2.04591381e+00,   2.09868948e+00,   1.92748790e+00,\n",
       "          2.99188584e+00,   2.97913305e+00,   2.68278154e+00,\n",
       "          2.03679455e+00,   1.27700935e+00,   4.76764560e-02,\n",
       "          6.55217347e-01,   9.22453641e-01,   1.05751219e+00,\n",
       "          1.44481217e+00,   1.34877529e+00,   1.63761192e+00,\n",
       "         -2.07209200e+00,   1.54232247e+00,   1.11609280e+00,\n",
       "          2.46949966e+00,   9.36390265e-01,  -1.60033136e+00,\n",
       "          1.18214551e+00,   2.21421619e+00,   6.33575948e-01,\n",
       "          1.08518496e+00,   1.45377711e+00,   1.48807420e+00,\n",
       "          1.15602687e+00,   1.55044357e+00,   6.81846516e-01,\n",
       "          1.91268602e+00,   1.85516884e+00,   1.82741094e+00,\n",
       "          1.38759749e+00,   1.21513724e+00,   1.40748800e+00,\n",
       "          1.22441606e+00,  -1.48743527e+00,   1.40501162e+00,\n",
       "          6.38623690e-01,   2.00652113e+00,   1.65109704e+00,\n",
       "          2.47200928e+00,   3.10370080e+00,  -2.73359122e-03,\n",
       "          4.69542250e-01,   7.25678173e-01,  -2.14628930e-02,\n",
       "          5.68750441e-01,   5.74180199e-01,   1.42147677e+00,\n",
       "          1.35166953e+00,   1.74431777e+00,   1.37634284e+00,\n",
       "          1.41766768e+00,   3.13123815e+00,   1.08750832e+00,\n",
       "          1.20045342e+00,   1.38365840e+00,   2.37175843e+00,\n",
       "          2.32983143e+00,   3.94772848e-01,   8.26781487e-01,\n",
       "          9.61837641e-01,   7.48306145e-01,   4.52064510e-01,\n",
       "          1.37242526e-01,   1.71183315e-01,   1.26340963e+00,\n",
       "          1.20801971e+00,   2.90614091e+00,   1.33880623e+00,\n",
       "          1.83728426e+00,   1.41400046e+00,   2.60872574e+00,\n",
       "          5.92680475e+00,   2.16093035e+00,   3.06045906e+00,\n",
       "          4.52320786e-01,   6.61810772e-01,   8.37911996e-01,\n",
       "          1.76133118e+00,   2.19212604e+00,   3.00822937e+00,\n",
       "          2.34999463e+00,   1.27535857e+00,   1.25578689e+00,\n",
       "          2.62313761e+00,   1.90409018e+00,   6.59571335e+00,\n",
       "          1.29641414e+00,   3.67170108e-01,   2.61654745e+00,\n",
       "          1.45679912e+00,   3.73734815e-01,  -3.39104193e+00,\n",
       "          2.47371477e+00,   2.27347936e+00,   5.94312859e-01,\n",
       "          3.40030265e-01,   1.08012851e+00,   2.20755883e+00,\n",
       "          2.83098037e+00,   8.37776886e-01,   4.63288201e-01,\n",
       "          1.18018387e+00,   1.07877297e+00,   1.50174815e+00,\n",
       "          2.47507029e+00,   3.62936486e-01]),\n",
       " array([  1.19886078e-01,   4.98010230e-04,   6.88737143e+00,\n",
       "          2.55174923e+01,   1.39981172e+01,   7.40594586e-02,\n",
       "          2.14827681e-03,   4.07944682e-07,   3.92834239e+01,\n",
       "          1.68732949e+01,   2.34879437e+01,   2.61060414e+00,\n",
       "          3.02265735e+01,   1.43581943e+01,   6.55334341e+00,\n",
       "          1.89268307e+01,   6.18541274e+00,   8.19825857e+00,\n",
       "          6.19284266e-01,   2.83824404e+00,   2.45387996e-01,\n",
       "          4.62577216e+00,   3.02647016e+01,   2.73929819e+00,\n",
       "          3.53896019e-03,   1.30938711e-01,   7.27810294e-01,\n",
       "          3.29526183e+00,   5.68456782e+00,   7.07348340e+00,\n",
       "          1.05635634e-01,   1.61882968e-01,   8.63279213e-01,\n",
       "          3.37520417e-01,   1.12202526e+00,   4.23364472e-01,\n",
       "          5.33063954e-01,   1.69985497e+01,   3.31596225e-01,\n",
       "          4.33661198e-01,   7.61778691e-01,   3.32339194e-01,\n",
       "          6.27287308e+00,   2.82546526e+01,   4.21286589e+01,\n",
       "          3.28930302e+01,   1.86596469e-01,   3.43563466e+00,\n",
       "          4.24155810e+01,   4.06096876e+01,   1.00807437e+01,\n",
       "          2.42732539e+01,   1.18355822e+00,   3.40365333e+01,\n",
       "          2.81857898e+00,   3.62312472e+00,   1.97754333e+01,\n",
       "          4.49209660e+00,   5.83295997e+00,   2.57372711e-02,\n",
       "          5.21914708e-01,   1.66249472e+00,   1.44024237e+01,\n",
       "          7.16922789e+00,   2.36014762e-01,   2.82061820e+00,\n",
       "          1.11400751e+01,   2.28886760e+00,   3.69444218e+01,\n",
       "          1.58734933e+00,   3.08344106e+00,   8.67695926e-03,\n",
       "          5.74977462e-03,   6.31718246e+00,   3.85570211e+01,\n",
       "          2.16683578e+01,   2.05108971e+00,   1.05483253e+01,\n",
       "          4.18139106e+00,   7.12019472e-01,   5.00980136e+00,\n",
       "          6.66112452e-01,   4.45882647e-01,   3.01403829e+00,\n",
       "          3.05573162e+01,   1.54152908e+00,   1.45837344e+01,\n",
       "          2.49346251e+00,   1.22549652e+01,   3.51617086e+00,\n",
       "          6.40890344e+00,   3.38930746e+01,   1.59888485e-02,\n",
       "          1.29016761e+01,   4.90274070e-01,   5.30713971e-01,\n",
       "          2.27229931e-01,   1.68543525e+01,   2.25212951e-01,\n",
       "          2.79967668e+01,   1.24435388e+01,   8.05468313e-01,\n",
       "          2.99711606e+01,   6.16527620e+00,   5.93094777e+00,\n",
       "          1.57440799e-01,   2.19730269e+01,   8.94664149e-01,\n",
       "          3.86756099e+01,   2.90223736e+00,   2.37595437e+00,\n",
       "          4.21950453e-01,   7.07557444e-01]),\n",
       " array([  7.56773372e-01,   2.57183734e-03,   4.18920779e+00,\n",
       "          2.11889424e+01,   2.71477616e-02,   7.15408787e-03,\n",
       "          2.17052324e-02,   5.43257815e-06,   3.69956949e+01,\n",
       "          1.10295281e+01,   2.44777871e+01,   2.60470068e+00,\n",
       "          3.17472600e+01,   1.87328751e+01,   6.52088629e+00,\n",
       "          1.91669296e+01,   6.24346906e+00,   1.65980137e+00,\n",
       "          6.19469106e-01,   2.87699285e+00,   1.69445629e+00,\n",
       "          4.17719618e+00,   3.08520962e+01,   2.71530049e+00,\n",
       "          6.16128387e-03,   1.02547723e-01,   7.16496033e-01,\n",
       "          3.45149686e+00,   3.48950239e+00,   4.62531671e+00,\n",
       "          7.91986900e-02,   5.02606625e-01,   8.65480726e-01,\n",
       "          3.38092656e-01,   5.06822290e+00,   8.68527103e-01,\n",
       "          5.33142337e-01,   1.73310778e+01,   3.32032710e-01,\n",
       "          4.33817661e-01,   7.60722033e-01,   3.94356882e+00,\n",
       "          5.90191300e+00,   2.56955316e+01,   4.18288606e+01,\n",
       "          3.06074207e+01,   1.81090664e-01,   3.38749496e+00,\n",
       "          4.16246110e+01,   4.21209202e+01,   1.36055638e+01,\n",
       "          2.57394684e+01,   2.28351725e+00,   3.75096171e+01,\n",
       "          2.83788387e+00,   3.54200713e+00,   1.07903880e+01,\n",
       "          4.01750729e+00,   5.83274342e+00,   4.75187649e+00,\n",
       "          5.23035405e-01,   1.67641425e+00,   1.07697676e+01,\n",
       "          4.84088859e+00,   3.80886151e-01,   4.25949186e+00,\n",
       "          1.13692977e+01,   2.30293142e+00,   3.80329657e+01,\n",
       "          8.50579050e-02,   3.28087527e+00,   8.39418744e-05,\n",
       "          3.20275125e-04,   6.33386252e+00,   3.84359775e+01,\n",
       "          2.15692847e+01,   2.06793301e+00,   1.05934779e+01,\n",
       "          4.15977912e+00,   7.13106355e-01,   4.84871896e+00,\n",
       "          6.57978645e-01,   4.46143305e-01,   3.33420522e+00,\n",
       "          2.85317630e+01,   1.11594233e+00,   1.80663530e+01,\n",
       "          8.48883319e-01,   9.93733509e+00,   1.52091925e+00,\n",
       "          9.40312770e+00,   3.28241245e+01,   3.79621606e-03,\n",
       "          8.97452159e+00,   1.49667593e+00,   1.17553649e+00,\n",
       "          3.31166532e-01,   1.41066996e+01,   1.00568915e-02,\n",
       "          2.81871756e+01,   1.00979139e+01,   4.81572339e-01,\n",
       "          2.99416197e+01,   1.76620748e+00,   5.95861733e+00,\n",
       "          1.18303061e+01,   2.24272623e+01,   8.95820898e-01,\n",
       "          3.90798160e+01,   3.33323694e+00,   2.31646668e+00,\n",
       "          7.22137593e-01,   7.07915725e-01]))"
      ]
     },
     "execution_count": 115,
     "metadata": {},
     "output_type": "execute_result"
    }
   ],
   "source": [
    "k1.eval(), k2.eval(), mu1.eval(), mu2.eval(), weight2.eval(), weight.eval()"
   ]
  },
  {
   "cell_type": "code",
   "execution_count": 209,
   "metadata": {
    "collapsed": false
   },
   "outputs": [
    {
     "data": {
      "text/plain": [
       "0.66585355466903917"
      ]
     },
     "execution_count": 209,
     "metadata": {},
     "output_type": "execute_result"
    },
    {
     "data": {
      "image/png": "[encoded data removed]",
      "text/plain": [
       "<matplotlib.figure.Figure at 0x229fcf4a8>"
      ]
     },
     "metadata": {},
     "output_type": "display_data"
    }
   ],
   "source": [
    "i = 1\n",
    "yx = rate[:,i].eval()\n",
    "plt.plot(mean_tc[:,i])\n",
    "plt.plot(yx)\n",
    "metrics.r2_score(mean_tc[:,i], yx)"
   ]
  },
  {
   "cell_type": "code",
   "execution_count": 210,
   "metadata": {
    "collapsed": false
   },
   "outputs": [],
   "source": [
    "# path to mat file from Graf 2011\n",
    "file_path = '../../data/graf_V1data/array_4.mat'\n",
    "\n",
    "# read and process data\n",
    "spike_times, orientation_per_trial, num_neurons, orientations, trial_length,\\\n",
    "    num_repeats, num_trials, num_orientations = read_data(file_path)\n",
    "\n",
    "# compute spike counts\n",
    "spike_counts = compute_spike_counts(spike_times, num_neurons, num_trials)\n",
    "\n",
    "# compute tuning curves\n",
    "mean_tc = compute_mean_tc(spike_counts)\n",
    "var_tc = compute_var_tc(spike_counts)\n",
    "cov_tc = compute_cov_tc(spike_counts)\n",
    "\n",
    "# identify indices for well-tuned neurons\n",
    "ind_well_tuned = filter_to_well_tuned_neurons(mean_tc, 10)\n",
    "\n",
    "# normalize spike counts\n",
    "spike_counts_norm = normalize_spike_counts(spike_counts, num_orientations, num_neurons, num_repeats)\n",
    "\n",
    "# compute normalized tuning curves\n",
    "mean_tc_norm = compute_mean_tc(spike_counts_norm)\n",
    "var_tc_norm = compute_var_tc(spike_counts_norm)\n",
    "cov_tc_norm = compute_cov_tc(spike_counts_norm)"
   ]
  },
  {
   "cell_type": "code",
   "execution_count": 15,
   "metadata": {
    "collapsed": false
   },
   "outputs": [
    {
     "data": {
      "image/png": "[encoded data removed]",
      "text/plain": [
       "<matplotlib.figure.Figure at 0x126c5dbe0>"
      ]
     },
     "metadata": {},
     "output_type": "display_data"
    }
   ],
   "source": [
    "# plot mean tuning curve for 10 well tuned neurons\n",
    "%matplotlib inline\n",
    "sns.set_style(\"darkgrid\")\n",
    "plt.plot(orientations, mean_tc[:, ind_well_tuned[0:10]]);"
   ]
  },
  {
   "cell_type": "code",
   "execution_count": 16,
   "metadata": {
    "collapsed": false
   },
   "outputs": [
    {
     "data": {
      "image/png": "[encoded data removed]",
      "text/plain": [
       "<matplotlib.figure.Figure at 0x126c5d668>"
      ]
     },
     "metadata": {},
     "output_type": "display_data"
    }
   ],
   "source": [
    "# plot variance tuning curve for 10 well tuned neurons\n",
    "plt.plot(orientations, var_tc[:, ind_well_tuned[0:10]]);"
   ]
  },
  {
   "cell_type": "markdown",
   "metadata": {},
   "source": [
    "## EVALUATION METRICS\n",
    "1) Figure 4 from Graf '11 measuring orientation discrimination accuracy.\n",
    "Compute likelihood ratio tests between $\\theta$ and $\\theta + \\delta \\theta$ where $\\delta = \\in \\{5, 10, 15, 20, 25, 30\\}$ across all 72 values of $\\theta$. So train each model on 35 samples and test on 15 for each class."
   ]
  },
  {
   "cell_type": "code",
   "execution_count": 17,
   "metadata": {
    "collapsed": false
   },
   "outputs": [],
   "source": [
    "def likelihood_ratio_test(likelihood_one, likelihood_two):\n",
    "    diff = likelihood_one - likelihood_two\n",
    "    diff[diff > 0] = 1\n",
    "    diff[diff < 0] = 2\n",
    "    return diff\n",
    "\n",
    "def likelihood(w_i, r_i, b_i):\n",
    "    '''Compute data likelihood given w, r, b for stimulus i'''\n",
    "    #return np.log(np.sum(np.dot(w_i, r_i.T)) + b_i)\n",
    "    return np.log(np.dot(w_i, r_i.T) + b_i)\n",
    "    \n",
    "\n",
    "def evaluate_model(x_test, w, b):    \n",
    "    probabilities = np.zeros((72, 6)) # orientations x deltas\n",
    "    deltas = [1, 2, 3, 4, 5, 6]\n",
    "    # for each ori\n",
    "    for i in range(72):\n",
    "        # for each delta\n",
    "        for delta in deltas:\n",
    "            test_data = (np.concatenate((x_test[i], x_test[(i+delta) % 72])))\n",
    "            test_labels = np.repeat(np.arange(1,3), 15)\n",
    "            likelihoods_one = likelihood(w[i], test_data, b[i])\n",
    "            likelihoods_two = likelihood(w[(i+delta) % 72], test_data, b[(i+delta) % 72])\n",
    "            pred_labels = likelihood_ratio_test(likelihoods_one, likelihoods_two)\n",
    "            probabilities[i][delta-1] = sklearn.metrics.accuracy_score(pred_labels, test_labels)\n",
    "    return np.mean(probabilities, axis=0)"
   ]
  },
  {
   "cell_type": "code",
   "execution_count": null,
   "metadata": {
    "collapsed": true
   },
   "outputs": [],
   "source": []
  },
  {
   "cell_type": "code",
   "execution_count": null,
   "metadata": {
    "collapsed": true
   },
   "outputs": [],
   "source": []
  },
  {
   "cell_type": "code",
   "execution_count": 18,
   "metadata": {
    "collapsed": false
   },
   "outputs": [],
   "source": [
    "def multiclass_log_likelihood(c, w, x, b):\n",
    "    logit = np.dot(w[c], x.T) + b[c]\n",
    "    numerator = np.exp(logit)\n",
    "    denominator = 0\n",
    "    C = 36\n",
    "    for i in range(C):\n",
    "        denominator = denominator + np.exp(np.dot(w[i], x.T) + b[i])\n",
    "    return np.log(numerator / denominator)\n",
    "\n",
    "def evaluate_multiclass_model(x, w, b):    \n",
    "    deltas = [1, 2, 3, 4, 5, 6]\n",
    "    C = 36\n",
    "    probabilities = np.zeros((C, len(deltas))) # orientations x deltas\n",
    "\n",
    "    # for each ori\n",
    "    for i in range(C):\n",
    "        # for each delta\n",
    "        for delta in deltas:\n",
    "            test_data = (np.concatenate((x[i], x[(i+delta) % C])))\n",
    "            test_labels = np.repeat(np.arange(1,3), 15)\n",
    "            likelihoods_one = multiclass_log_likelihood(i, w, test_data, b)\n",
    "            likelihoods_two = multiclass_log_likelihood((i+delta)%C, w, test_data, b)\n",
    "            pred_labels = likelihood_ratio_test(likelihoods_one, likelihoods_two)\n",
    "            \n",
    "            probabilities[i][delta-1] = sklearn.metrics.accuracy_score(pred_labels.astype(int), test_labels)\n",
    "    return np.mean(probabilities, axis=0)"
   ]
  },
  {
   "cell_type": "code",
   "execution_count": 19,
   "metadata": {
    "collapsed": false
   },
   "outputs": [
    {
     "ename": "NameError",
     "evalue": "name 'x_test' is not defined",
     "output_type": "error",
     "traceback": [
      "\u001b[0;31m---------------------------------------------------------------------------\u001b[0m",
      "\u001b[0;31mNameError\u001b[0m                                 Traceback (most recent call last)",
      "\u001b[0;32m<ipython-input-19-87b1f9c8b0b5>\u001b[0m in \u001b[0;36m<module>\u001b[0;34m()\u001b[0m\n\u001b[0;32m----> 1\u001b[0;31m \u001b[0mevaluate_model\u001b[0m\u001b[0;34m(\u001b[0m\u001b[0mx_test\u001b[0m\u001b[0;34m,\u001b[0m \u001b[0mw\u001b[0m\u001b[0;34m,\u001b[0m \u001b[0mb\u001b[0m\u001b[0;34m)\u001b[0m\u001b[0;34m\u001b[0m\u001b[0m\n\u001b[0m",
      "\u001b[0;31mNameError\u001b[0m: name 'x_test' is not defined"
     ]
    }
   ],
   "source": [
    "evaluate_model(x_test, w, b)"
   ]
  },
  {
   "cell_type": "code",
   "execution_count": 20,
   "metadata": {
    "collapsed": false
   },
   "outputs": [
    {
     "ename": "NameError",
     "evalue": "name 'x_test_scaled' is not defined",
     "output_type": "error",
     "traceback": [
      "\u001b[0;31m---------------------------------------------------------------------------\u001b[0m",
      "\u001b[0;31mNameError\u001b[0m                                 Traceback (most recent call last)",
      "\u001b[0;32m<ipython-input-20-892425177698>\u001b[0m in \u001b[0;36m<module>\u001b[0;34m()\u001b[0m\n\u001b[1;32m     12\u001b[0m \u001b[0;31m#plt.plevaluate_multiclass_model(x_test_scaled, qw_mod.eval().T, qb_mod.eval())\u001b[0m\u001b[0;34m\u001b[0m\u001b[0;34m\u001b[0m\u001b[0m\n\u001b[1;32m     13\u001b[0m \u001b[0;34m\u001b[0m\u001b[0m\n\u001b[0;32m---> 14\u001b[0;31m \u001b[0mplt\u001b[0m\u001b[0;34m.\u001b[0m\u001b[0mplot\u001b[0m\u001b[0;34m(\u001b[0m\u001b[0mxticks\u001b[0m\u001b[0;34m,\u001b[0m \u001b[0mevaluate_model\u001b[0m\u001b[0;34m(\u001b[0m\u001b[0mx_test_scaled\u001b[0m\u001b[0;34m,\u001b[0m \u001b[0mw\u001b[0m\u001b[0;34m,\u001b[0m \u001b[0mb\u001b[0m\u001b[0;34m)\u001b[0m\u001b[0;34m)\u001b[0m\u001b[0;34m\u001b[0m\u001b[0m\n\u001b[0m\u001b[1;32m     15\u001b[0m \u001b[0;31m#plt.plot(xticks, evaluate_multiclass_model(x_test_scaled, w_vi.T, b_vi))\u001b[0m\u001b[0;34m\u001b[0m\u001b[0;34m\u001b[0m\u001b[0m\n\u001b[1;32m     16\u001b[0m \u001b[0;34m\u001b[0m\u001b[0m\n",
      "\u001b[0;31mNameError\u001b[0m: name 'x_test_scaled' is not defined"
     ]
    }
   ],
   "source": [
    "# green is sklearn l1\n",
    "# blue is with Stan normal(0,1) prior\n",
    "# yellow is VI with sample covariance prior\n",
    "# brown is edward normal(0, .1) prior\n",
    "# red is PID\n",
    "\n",
    "xticks = [5, 10, 15, 20, 25, 30]\n",
    "#plt.plot(xticks, evaluate_multiclass_model(x_test_scaled, w_model.T, b_model))\n",
    "#plt.plot(xticks, evaluate_multiclass_model(x_test_scaled, beta, intercept))\n",
    "#plt.plot(xticks,evaluate_multiclass_model(x_test_scaled, lr.coef_, lr.intercept_))\n",
    "#plt.plot(xticks, evaluate_multiclass_model(x_test_scaled, beta_ori, intercept_ori))\n",
    "#plt.plevaluate_multiclass_model(x_test_scaled, qw_mod.eval().T, qb_mod.eval())\n",
    "\n",
    "plt.plot(xticks, evaluate_model(x_test_scaled, w, b))\n",
    "#plt.plot(xticks, evaluate_multiclass_model(x_test_scaled, w_vi.T, b_vi))\n",
    "\n",
    "#plt.plot(xticks,evaluate_multiclass_model(x_test_scaled, qw_mod.eval().T, qb_mod.eval()))\n",
    "plt.plot(xticks,([ 0.91157407,  0.94722222,  0.97685185,  0.98842593,  0.99583333,\n",
    "        0.99768519]))\n",
    "plt.plot(xticks,([ 0.92037037,  0.96435185,  0.98148148,  0.9912037 ,  0.99768519,\n",
    "        0.99722222]))\n",
    "\n",
    "#plt.plot(xticks, evaluate_multiclass_model(x_test_scaled, qw_mod.eval().T, qb_mod.eval()))\n",
    "\n",
    "plt.ylabel(\"probability correct\")\n",
    "plt.xlabel(\"orientation difference (degrees)\")"
   ]
  },
  {
   "cell_type": "markdown",
   "metadata": {},
   "source": [
    "### Lets build a Poisson Independent Decoder (PID). We assume each neuron's stimulus-specific spike counts is Poisson distributed and statistically independent across neurons. The rate parameter $w_i(\\theta)$ is the logarithm of the mean neuronal tuning function for neuron i across trials for stimulus $\\theta$.\n",
    "\n",
    "### The likelihood function is $\\log L(\\theta) = \\sum_{i=1}^N w_i(\\theta)r_i + b(\\theta)$. The offset b incorporates overall bias in coverage of orientations and is the sum of the mean tuning curve across neurons for stimulus $\\theta$."
   ]
  },
  {
   "cell_type": "code",
   "execution_count": 21,
   "metadata": {
    "collapsed": false
   },
   "outputs": [],
   "source": [
    "def compute_mean_tc_training(x):\n",
    "    '''compute mean tuning curve (mean of samples for a given orientation,neuron) given training data (orientation,samples) x neurons'''\n",
    "    mean_tc = np.zeros((x.shape[0], x.shape[2]))\n",
    "    for i in range(72):\n",
    "        mean_tc[i] = np.mean(x[i], axis = 0)\n",
    "    return mean_tc"
   ]
  },
  {
   "cell_type": "code",
   "execution_count": 22,
   "metadata": {
    "collapsed": false
   },
   "outputs": [],
   "source": [
    "# filter to well-tuned neurons then rotate axes so we have ori x samples x neurons\n",
    "spike_counts_filt = np.rollaxis(np.rollaxis(spike_counts[:, ind_well_tuned, :], 2), 1)\n",
    "#spike_counts_filt = np.rollaxis(np.rollaxis(spike_counts, 2), 1)\n",
    "# train/test split\n",
    "inds = np.arange(50)\n",
    "train_ind = np.random.choice(inds, size = 35, replace = False)\n",
    "test_ind =  np.array([x for x in inds if x not in train_ind])\n",
    "x_train, x_test = spike_counts_filt[:, train_ind, :], spike_counts_filt[:, test_ind, :]\n",
    "# compute mean training curve on training data\n",
    "mean_tc_train = compute_mean_tc_training(x_train)\n",
    "# weights are log of mean tuning curve\n",
    "w = np.log(mean_tc_train)\n",
    "b = np.sum(w, axis=1)"
   ]
  },
  {
   "cell_type": "code",
   "execution_count": 23,
   "metadata": {
    "collapsed": false
   },
   "outputs": [
    {
     "data": {
      "text/plain": [
       "((72, 35, 65), (72, 15, 65))"
      ]
     },
     "execution_count": 23,
     "metadata": {},
     "output_type": "execute_result"
    }
   ],
   "source": [
    "x_train.shape, x_test.shape"
   ]
  },
  {
   "cell_type": "code",
   "execution_count": 24,
   "metadata": {
    "collapsed": true
   },
   "outputs": [],
   "source": [
    "##### 0-180 degrees only\n",
    "x_train_half = x_train[0:36]\n",
    "x_test_half = x_test[0:36]"
   ]
  },
  {
   "cell_type": "code",
   "execution_count": 25,
   "metadata": {
    "collapsed": false
   },
   "outputs": [
    {
     "data": {
      "text/plain": [
       "(36, 35, 65)"
      ]
     },
     "execution_count": 25,
     "metadata": {},
     "output_type": "execute_result"
    }
   ],
   "source": [
    "x_train_half.shape"
   ]
  },
  {
   "cell_type": "code",
   "execution_count": 23,
   "metadata": {
    "collapsed": false
   },
   "outputs": [],
   "source": [
    "def likelihood_(w_i, r_i, b_i):\n",
    "    '''Compute data likelihood given w, r, b for stimulus i'''\n",
    "    return np.log(np.sum(np.dot(w_i, r_i.T)) + b_i)"
   ]
  },
  {
   "cell_type": "code",
   "execution_count": 24,
   "metadata": {
    "collapsed": false
   },
   "outputs": [],
   "source": [
    "def plot_likelihood(w, x_train, b, stimulus_choice):\n",
    "    '''plot likelihood of stimulus-specific spike train as a function of model choice'''\n",
    "    sx = []\n",
    "    for i in range(72):\n",
    "        sx.append(likelihood(w[i], x_train[stimulus_choice], b[i]))\n",
    "    fig = plt.plot(sx)"
   ]
  },
  {
   "cell_type": "code",
   "execution_count": 25,
   "metadata": {
    "collapsed": true
   },
   "outputs": [],
   "source": [
    "def likelihood_ratio_test_(w, x_train, b, ori1, ori2):\n",
    "    '''given a population response, compute likelihood ratio test comparing two orientation models'''\n",
    "    val = likelihood(w[ori1], x_train, b[ori1]) - likelihood(w[ori2], x_train, b[ori2])\n",
    "    if val > 0:\n",
    "        return ori1\n",
    "    else:\n",
    "        return ori2"
   ]
  },
  {
   "cell_type": "code",
   "execution_count": 29,
   "metadata": {
    "collapsed": false
   },
   "outputs": [
    {
     "data": {
      "image/png": "[encoded data removed]",
      "text/plain": [
       "<matplotlib.figure.Figure at 0x1329c52b0>"
      ]
     },
     "metadata": {},
     "output_type": "display_data"
    }
   ],
   "source": [
    "# likelihood comparison -- which model provides best explanation of the data?,\n",
    "plot_likelihood(w, x_train, b, 1) # for example, we fit spike trains from ori 1 against all possible models\n",
    "plot_likelihood(w, x_test, b, 1)"
   ]
  },
  {
   "cell_type": "code",
   "execution_count": 30,
   "metadata": {
    "collapsed": false
   },
   "outputs": [
    {
     "ename": "NameError",
     "evalue": "name 'Xtrain' is not defined",
     "output_type": "error",
     "traceback": [
      "\u001b[0;31m---------------------------------------------------------------------------\u001b[0m",
      "\u001b[0;31mNameError\u001b[0m                                 Traceback (most recent call last)",
      "\u001b[0;32m<ipython-input-30-be8d3a615508>\u001b[0m in \u001b[0;36m<module>\u001b[0;34m()\u001b[0m\n\u001b[0;32m----> 1\u001b[0;31m \u001b[0mXtrain\u001b[0m\u001b[0;34m.\u001b[0m\u001b[0mshape\u001b[0m\u001b[0;34m\u001b[0m\u001b[0m\n\u001b[0m",
      "\u001b[0;31mNameError\u001b[0m: name 'Xtrain' is not defined"
     ]
    }
   ],
   "source": [
    "Xtrain.shape"
   ]
  },
  {
   "cell_type": "markdown",
   "metadata": {},
   "source": [
    "## DATA Processing "
   ]
  },
  {
   "cell_type": "code",
   "execution_count": 26,
   "metadata": {
    "collapsed": false
   },
   "outputs": [],
   "source": [
    "### DATA PROCESSING\n",
    "\n",
    "num_classes = 72\n",
    "C = 72\n",
    "\n",
    "\n",
    "Xtrain = x_train.reshape(x_train.shape[0] * x_train.shape[1], x_train.shape[2])\n",
    "Xtest = x_test.reshape(x_test.shape[0] * x_test.shape[1], x_test.shape[2])\n",
    "Ytrain = np.repeat(np.arange(C), x_train.shape[1])\n",
    "Ytest = np.repeat(np.arange(C), x_test.shape[1])\n",
    "\n",
    "\n",
    "#Xtrain = x_train.reshape(x_train.shape[0] * x_train.shape[1], x_train.shape[2])\n",
    "#Xtest = x_test.reshape(x_test.shape[0] * x_test.shape[1], x_test.shape[2])\n",
    "\n",
    "#Ytrain = np.repeat(np.arange(72), x_train.shape[1])\n",
    "#Ytest = np.repeat(np.arange(72), x_test.shape[1])\n",
    "\n",
    "N,D = Xtrain.shape[0], Xtrain.shape[1]\n",
    "\n",
    "Xtrain_scaled = sklearn.preprocessing.scale(Xtrain)\n",
    "Xtest_scaled = sklearn.preprocessing.scale(Xtest)\n",
    "Ytrain_hot = tf.one_hot(Ytrain, depth=C).eval()\n",
    "Ytest_hot = tf.one_hot(Ytest, depth=C).eval()\n",
    "\n",
    "x_train_scaled_3d = np.zeros((num_classes,35,D))\n",
    "x_test_scaled_3d = np.zeros((num_classes,15,D))\n",
    "for i in range(num_classes):\n",
    "    x_test_scaled_3d[i] = Xtest_scaled[i*15:i*15+15]\n",
    "    x_train_scaled_3d[i] = Xtrain_scaled[i*35:i*35+35]\n"
   ]
  },
  {
   "cell_type": "markdown",
   "metadata": {},
   "source": [
    "### Lets build a L1 regularized multinomial multi-class logistic regression model"
   ]
  },
  {
   "cell_type": "code",
   "execution_count": 27,
   "metadata": {
    "collapsed": false
   },
   "outputs": [
    {
     "data": {
      "text/plain": [
       "LogisticRegression(C=1.0, class_weight=None, dual=False, fit_intercept=True,\n",
       "          intercept_scaling=1, max_iter=100, multi_class='ovr', n_jobs=1,\n",
       "          penalty='l1', random_state=None, solver='liblinear', tol=0.0001,\n",
       "          verbose=0, warm_start=False)"
      ]
     },
     "execution_count": 27,
     "metadata": {},
     "output_type": "execute_result"
    }
   ],
   "source": [
    "# specify model\n",
    "lr = sklearn.linear_model.LogisticRegression(penalty='l1', fit_intercept=True)\n",
    "\n",
    "# fit the model\n",
    "lr.fit(Xtrain_scaled, np.repeat(np.arange(C),35))\n",
    "\n",
    "## predict labels and probability distributions on test data\n",
    "#labels_test = lr.predict(sklearn.preprocessing.scale(Xtest_scaled))\n",
    "#scores_test = lr.predict_proba(sklearn.preprocessing.scale(Xtest_scaled))"
   ]
  },
  {
   "cell_type": "code",
   "execution_count": 33,
   "metadata": {
    "collapsed": false
   },
   "outputs": [
    {
     "data": {
      "text/plain": [
       "(72, 15, 65)"
      ]
     },
     "execution_count": 33,
     "metadata": {},
     "output_type": "execute_result"
    }
   ],
   "source": [
    "x_test_scaled_3d.shape"
   ]
  },
  {
   "cell_type": "code",
   "execution_count": 28,
   "metadata": {
    "collapsed": false
   },
   "outputs": [
    {
     "data": {
      "text/plain": [
       "array([ 0.81944444,  0.94907407,  0.98796296,  0.99722222,  0.99814815,\n",
       "        0.99814815])"
      ]
     },
     "execution_count": 28,
     "metadata": {},
     "output_type": "execute_result"
    }
   ],
   "source": [
    "evaluate_multiclass_model(x_test_scaled_3d, lr.coef_, lr.intercept_)"
   ]
  },
  {
   "cell_type": "code",
   "execution_count": 29,
   "metadata": {
    "collapsed": false
   },
   "outputs": [],
   "source": [
    "def evaluate_one_versus_all(y_test, scores):\n",
    "    '''AUC scores for one versus all classification on test data across all classes'''\n",
    "    aucs = []\n",
    "    for j in range(72):\n",
    "        sx = []\n",
    "        for i in range(len(y_test)):\n",
    "            if y_test[i] == (j+1):\n",
    "                sx.append(int(1))\n",
    "            else:\n",
    "                sx.append(int(0))\n",
    "        aucs.append(sklearn.metrics.roc_auc_score(np.array(sx),scores[:,j]))\n",
    "    plt.figure(figsize=(10,5))\n",
    "    plt.scatter(np.arange(72),aucs)\n",
    "    plt.xlabel('class')\n",
    "    plt.ylabel('auc')"
   ]
  },
  {
   "cell_type": "code",
   "execution_count": 30,
   "metadata": {
    "collapsed": false
   },
   "outputs": [],
   "source": [
    "def evaluate_one_versus_one(y_test, scores, delta):\n",
    "    '''AUC scores for one class versus one class on test data across all classes\n",
    "        delta, int : discriminate between class and class + delta    \n",
    "    '''\n",
    "    aucs = []\n",
    "    for j in range(1,73):\n",
    "        inds = np.concatenate((np.where(y_test == (j))[0], np.where(y_test == (((j-1)+delta) % 72) + 1)[0]))\n",
    "        #print(y_test[inds])\n",
    "        #print(scores[inds,j-1])\n",
    "        y = (y_test[inds] == j).astype(int)\n",
    "        aucs.append((sklearn.metrics.roc_auc_score(y, scores[inds,j-1])))\n",
    "    plt.figure(figsize=(10,5))\n",
    "    plt.scatter(np.arange(72),aucs)\n",
    "    plt.xlabel('class')\n",
    "    plt.ylabel('auc')"
   ]
  },
  {
   "cell_type": "code",
   "execution_count": null,
   "metadata": {
    "collapsed": false
   },
   "outputs": [],
   "source": [
    "evaluate_one_versus_one(y_test, scores_test, 1)\n",
    "evaluate_one_versus_one(y_test, scores_test, 2)\n",
    "evaluate_one_versus_one(y_test, scores_test, 5)\n",
    "evaluate_one_versus_one(y_test, scores_test, 10)\n",
    "evaluate_one_versus_one(y_test, scores_test, 20)"
   ]
  },
  {
   "cell_type": "markdown",
   "metadata": {},
   "source": [
    "## SVM model from Graf 11"
   ]
  },
  {
   "cell_type": "code",
   "execution_count": null,
   "metadata": {
    "collapsed": true
   },
   "outputs": [],
   "source": [
    "from sklearn import svm"
   ]
  },
  {
   "cell_type": "code",
   "execution_count": null,
   "metadata": {
    "collapsed": true
   },
   "outputs": [],
   "source": []
  },
  {
   "cell_type": "code",
   "execution_count": 37,
   "metadata": {
    "collapsed": false
   },
   "outputs": [],
   "source": [
    "aucs_svm = []\n",
    "w_hat_svm = []\n",
    "b_hat_svm = []\n",
    "C = 72\n",
    "\n",
    "aucs_svm_local = []\n",
    "for i in range(0,C):\n",
    "    clf = svm.SVC(kernel='linear')\n",
    "    #train_data = np.concatenate([x_train[(i+d)%72], x_train[i]])\n",
    "    #test_data = np.concatenate([x_test[(i+d)%72], x_test[i]])\n",
    "\n",
    "    train_data = np.concatenate([x_train[(i+1)%C], x_train[i]])\n",
    "    test_data = np.concatenate([x_test[(i+1)%C], x_test[i]])\n",
    "    clf.fit(train_data, np.repeat(np.arange(-1,2, step=2), 35))\n",
    "    w_hat_svm.append(clf.coef_[0])\n",
    "    b_hat_svm.append(clf.intercept_[0])\n",
    "\n",
    "    aucs_svm_local.append(sklearn.metrics.accuracy_score(clf.predict(test_data), np.repeat([-1,1],15)))\n",
    "    aucs_svm.append(np.mean(aucs_svm_local))\n",
    "w_hat_svm = np.array(w_hat_svm)\n",
    "b_hat_svm = np.array(b_hat_svm)"
   ]
  },
  {
   "cell_type": "code",
   "execution_count": 39,
   "metadata": {
    "collapsed": false
   },
   "outputs": [
    {
     "data": {
      "text/plain": [
       "array([ -4.54070627e-02,  -3.67450436e-02,   5.17210597e-04,\n",
       "        -4.18988422e-03,  -3.45148887e-03,   2.59202813e-02,\n",
       "         1.34171782e-02,   5.70396355e-03,   6.47796956e-03,\n",
       "        -1.43503034e-02,  -9.05437376e-04,   1.64199305e-03,\n",
       "        -3.42075690e-03,  -2.33682784e-02,   1.58209354e-03,\n",
       "        -7.06689417e-03,   6.22615095e-04,   1.28804611e-03,\n",
       "        -1.31044602e-03,  -1.20068312e-02,  -9.76886967e-04,\n",
       "        -1.87964407e-03,  -2.50710846e-02,   2.29359775e-03,\n",
       "        -1.92365428e-03,  -1.43539409e-03,  -7.26989420e-03,\n",
       "        -3.87299870e-03,   2.52612266e-02,  -7.55373824e-05,\n",
       "        -2.03633004e-02,   1.83054757e-02,   1.25652555e-02,\n",
       "        -9.40259601e-03,  -1.65022624e-02,  -1.93358488e-02,\n",
       "        -1.54082248e-02,  -2.03360203e-04,   2.85210757e-03,\n",
       "        -9.99518697e-03,  -1.46280506e-03,  -2.19277549e-02,\n",
       "         1.12723326e-02,  -1.53898581e-02,  -9.31540526e-03,\n",
       "         1.38716477e-03,  -1.87749612e-02,  -9.44907759e-04,\n",
       "        -4.77689418e-03,  -9.19114074e-03,  -1.65503904e-02,\n",
       "        -9.23890629e-03,   1.85354857e-02,   2.41291983e-02,\n",
       "        -3.63065787e-03,   2.62210553e-03,   2.47145432e-02,\n",
       "         1.33418513e-02,   1.21854536e-02,   1.67459324e-03,\n",
       "         2.74765310e-02,  -4.36365499e-03,   8.77476936e-03,\n",
       "        -7.15804452e-03,   1.91072808e-02])"
      ]
     },
     "execution_count": 39,
     "metadata": {},
     "output_type": "execute_result"
    }
   ],
   "source": [
    "w_hat_svm[0]"
   ]
  },
  {
   "cell_type": "code",
   "execution_count": null,
   "metadata": {
    "collapsed": true
   },
   "outputs": [],
   "source": []
  },
  {
   "cell_type": "code",
   "execution_count": null,
   "metadata": {
    "collapsed": true
   },
   "outputs": [],
   "source": [
    "def compute_ll(stimulus, weights, intercepts, data):\n",
    "    '''\n",
    "    log L(\\theta_i) = \\sum_{k=2}^i log LR(\\theta_k, \\theta_{k-1})\n",
    "    \n",
    "    '''\n",
    "    log_likelihood = 0\n",
    "    for i in range(1, stimulus+1):\n",
    "        log_likelihood = log_likelihood + compute_log_lr(i, weights, intercepts, data)\n",
    "    return log_likelihood / np.sum(log_likelihood)\n",
    "def compute_log_lr(stimulus, weights, intercepts, data):\n",
    "    ll = np.sum(weights[stimulus-1]*data,axis=1) + intercepts[stimulus-1]\n",
    "    return ll"
   ]
  },
  {
   "cell_type": "code",
   "execution_count": null,
   "metadata": {
    "collapsed": true
   },
   "outputs": [],
   "source": []
  },
  {
   "cell_type": "code",
   "execution_count": null,
   "metadata": {
    "collapsed": true
   },
   "outputs": [],
   "source": []
  },
  {
   "cell_type": "code",
   "execution_count": null,
   "metadata": {
    "collapsed": false
   },
   "outputs": [],
   "source": [
    "data = np.concatenate([x_test[(1)%C], x_test[2]])\n",
    "x = compute_ll(2, w_svm, b_svm, data) - compute_ll(3, w_svm, b_svm, data)\n",
    "sklearn.metrics.accuracy_score(np.repeat(np.arange(0,2), 15), x > 0)"
   ]
  },
  {
   "cell_type": "code",
   "execution_count": null,
   "metadata": {
    "collapsed": false
   },
   "outputs": [],
   "source": [
    "w_hat_svm.shape"
   ]
  },
  {
   "cell_type": "code",
   "execution_count": null,
   "metadata": {
    "collapsed": false
   },
   "outputs": [],
   "source": [
    "b_hat_svm.shape"
   ]
  },
  {
   "cell_type": "code",
   "execution_count": null,
   "metadata": {
    "collapsed": false
   },
   "outputs": [],
   "source": [
    "C, N = w_hat_svm.shape[0], w_hat_svm.shape[1]\n",
    "w_svm = np.zeros((C,N))\n",
    "b_svm = np.zeros(C)\n",
    "\n",
    "for i in range(0,C):\n",
    "    if i == 0: \n",
    "        w_svm[i] = np.zeros(N)\n",
    "        b_svm[i] = 0\n",
    "        continue\n",
    "    w_svm[i] = w_svm[i-1] + w_hat_svm[i-1]\n",
    "    b_svm[i] = b_svm[i-1] + b_hat_svm[i-1]\n",
    "    \n",
    "\n",
    "# normalize\n",
    "w_svm = w_svm / np.reshape(np.sum(w_svm, axis=1), (-1,1))\n",
    "w_svm[0] = np.zeros(N)"
   ]
  },
  {
   "cell_type": "code",
   "execution_count": null,
   "metadata": {
    "collapsed": false
   },
   "outputs": [],
   "source": [
    "evaluate_multiclass_model(x_test_scaled_3d, w_svm, b_svm)"
   ]
  },
  {
   "cell_type": "code",
   "execution_count": null,
   "metadata": {
    "collapsed": false
   },
   "outputs": [],
   "source": [
    "acc = []\n",
    "for i in range(1, C):\n",
    "    data = np.concatenate([x_test[(i)%C], x_test[((i+10)%C)]])\n",
    "    log_likelihood_i = compute_ll(i, w_hat_svm, b_hat_svm, data)\n",
    "    log_likelihood_i_plus_1 = compute_ll((i+10)%C, w_hat_svm, b_hat_svm, data)\n",
    "    x = log_likelihood_i - log_likelihood_i_plus_1\n",
    "    acc.append(sklearn.metrics.accuracy_score(np.repeat(np.arange(0,2), 15), x < 0))"
   ]
  },
  {
   "cell_type": "code",
   "execution_count": null,
   "metadata": {
    "collapsed": false
   },
   "outputs": [],
   "source": [
    "np.mean(acc)"
   ]
  },
  {
   "cell_type": "code",
   "execution_count": null,
   "metadata": {
    "collapsed": false
   },
   "outputs": [],
   "source": [
    "compute_ll(C-1, w_hat_svm, b_hat_svm, data)"
   ]
  },
  {
   "cell_type": "code",
   "execution_count": null,
   "metadata": {
    "collapsed": false
   },
   "outputs": [],
   "source": [
    "data = np.concatenate([x_test[(C-2)%C], x_test[((C-1)%C)]])\n",
    "x = compute_ll(C-2, w_hat_svm, b_hat_svm, data) - compute_ll(C-1, w_hat_svm, b_hat_svm, data)\n",
    "sklearn.metrics.accuracy_score(np.repeat(np.arange(0,2), 15), x < 0)"
   ]
  },
  {
   "cell_type": "code",
   "execution_count": null,
   "metadata": {
    "collapsed": false
   },
   "outputs": [],
   "source": [
    "compute_ll(C-2, w_hat_svm, b_hat_svm, data)"
   ]
  },
  {
   "cell_type": "code",
   "execution_count": null,
   "metadata": {
    "collapsed": false
   },
   "outputs": [],
   "source": [
    "compute_ll(C-1, w_hat_svm, b_hat_svm, data)"
   ]
  },
  {
   "cell_type": "code",
   "execution_count": null,
   "metadata": {
    "collapsed": false
   },
   "outputs": [],
   "source": [
    "compute_ll(C-2, w_hat_svm, b_hat_svm, data) - compute_ll(C-1, w_hat_svm, b_hat_svm, data)"
   ]
  },
  {
   "cell_type": "code",
   "execution_count": null,
   "metadata": {
    "collapsed": true
   },
   "outputs": [],
   "source": []
  },
  {
   "cell_type": "code",
   "execution_count": null,
   "metadata": {
    "collapsed": true
   },
   "outputs": [],
   "source": [
    "# write a function that computes log L(data; stimulus) -> so we specify the data and what stimulus we want and then we get log likelihood values"
   ]
  },
  {
   "cell_type": "code",
   "execution_count": null,
   "metadata": {
    "collapsed": false
   },
   "outputs": [],
   "source": [
    "log_ll_svm = np.zeros((72,70))\n",
    "for i in range(C):\n",
    "    if i == 0:\n",
    "        log_ll_svm[i] = 0\n",
    "        continue\n",
    "    r = np.concatenate([x_train[(i-1)%C], x_train[i]])\n",
    "    llr = np.sum(w_svm[i]*r, axis=1) + b_svm[i]\n",
    "    llr = llr / np.sum(llr) # scale llrs\n",
    "    log_ll_svm[i] = log_ll_svm[i-1] + llr"
   ]
  },
  {
   "cell_type": "code",
   "execution_count": null,
   "metadata": {
    "collapsed": true
   },
   "outputs": [],
   "source": [
    "log_ll_svm = np.zeros((72,70))\n",
    "w_d = np.zeros((72,66))\n",
    "w_svm[0] = 0\n",
    "for i in range(C):\n",
    "    w_d[i] = w_svm[(i+1)%C] - w_svm[i]"
   ]
  },
  {
   "cell_type": "code",
   "execution_count": null,
   "metadata": {
    "collapsed": false
   },
   "outputs": [],
   "source": [
    "w_d"
   ]
  },
  {
   "cell_type": "code",
   "execution_count": null,
   "metadata": {
    "collapsed": false
   },
   "outputs": [],
   "source": [
    "np.sum(w_svm[0]*r, axis=1) + b_svm[0]"
   ]
  },
  {
   "cell_type": "code",
   "execution_count": null,
   "metadata": {
    "collapsed": false
   },
   "outputs": [],
   "source": [
    "log_ll_svm"
   ]
  },
  {
   "cell_type": "code",
   "execution_count": null,
   "metadata": {
    "collapsed": true
   },
   "outputs": [],
   "source": []
  },
  {
   "cell_type": "code",
   "execution_count": null,
   "metadata": {
    "collapsed": false
   },
   "outputs": [],
   "source": [
    "# subset of tuned neurons, with single tau\n",
    "plt.plot([1,2,3,4,5,6], aucs_svm)\n",
    "plt.plot([1,2,3,4,5,6], evaluate_multiclass_model(x_test_scaled_3d, qw_mod.eval().T, qb_mod.eval()))"
   ]
  },
  {
   "cell_type": "code",
   "execution_count": null,
   "metadata": {
    "collapsed": false
   },
   "outputs": [],
   "source": [
    "plt.plot([1,2,3,4,5,6], aucs_svm)\n",
    "plt.plot([1,2,3,4,5,6], evaluate_multiclass_model(x_test_scaled_3d, qw_mod.eval().T, qb_mod.eval()))"
   ]
  },
  {
   "cell_type": "code",
   "execution_count": null,
   "metadata": {
    "collapsed": false
   },
   "outputs": [],
   "source": [
    "# all neurons, sparsity param for each class \n",
    "\n",
    "plt.plot([1,2,3,4,5,6], aucs_svm)\n",
    "plt.plot([1,2,3,4,5,6], "
   ]
  },
  {
   "cell_type": "code",
   "execution_count": null,
   "metadata": {
    "collapsed": false
   },
   "outputs": [],
   "source": [
    "tau.eval()"
   ]
  },
  {
   "cell_type": "code",
   "execution_count": null,
   "metadata": {
    "collapsed": false
   },
   "outputs": [],
   "source": [
    "qw_mod = tf.concat([qw.mean(), np.zeros((D,1))], axis=1)\n",
    "qb_mod = tf.concat([qb.mean(), np.zeros((1))], axis=0)\n",
    "logits = tf.matmul(tf.cast(Xtest_scaled, tf.float32), qw_mod) + qb_mod\n",
    "print(compute_average_auc(tf.nn.softmax(logits).eval(), Ytest_hot))\n",
    "print(evaluate_multiclass_model(x_test_scaled_3d, qw_mod.eval().T, qb_mod.eval()))"
   ]
  },
  {
   "cell_type": "code",
   "execution_count": null,
   "metadata": {
    "collapsed": false
   },
   "outputs": [],
   "source": [
    "qw_mod = tf.concat([qw.mean(), np.zeros((D,1))], axis=1)\n",
    "qb_mod = tf.concat([qb.mean(), np.zeros((1))], axis=0)\n",
    "logits = tf.matmul(tf.cast(Xtest_scaled, tf.float32), qw_mod) + qb_mod\n",
    "print(compute_average_auc(tf.nn.softmax(logits).eval(), Ytest_hot))\n",
    "print(evaluate_multiclass_model(x_test_scaled_3d, qw_mod.eval().T, qb_mod.eval()))"
   ]
  },
  {
   "cell_type": "markdown",
   "metadata": {},
   "source": [
    "### Lets build a Bayesian multinomial multi-class logistic regression model\n",
    "$$p(\\theta^{(i)} = c | r^{(i)}, w^{(c)}) = \\frac{\\exp{(w^{(c)T}r^{(i)})}}{\\sum_{j=1}^C(w^{(j)T}r^{(i)})}$$\n",
    "$$p(w^{(c)}|\\Lambda^{(c)}) = \\mathcal{N}(0, \\Lambda^{(c)}), \\Lambda^{(c)} \\in \\mathcal{R^{\\text{NxN}}}$$"
   ]
  },
  {
   "cell_type": "code",
   "execution_count": 258,
   "metadata": {
    "collapsed": true
   },
   "outputs": [],
   "source": [
    "def compute_average_auc(predictions, labels):\n",
    "    classes = labels.shape[1]\n",
    "    aucs = np.zeros((classes))\n",
    "    for i in range(classes):\n",
    "        aucs[i] = sklearn.metrics.roc_auc_score(labels[:,i], predictions[:,i])\n",
    "    return np.mean(aucs)"
   ]
  },
  {
   "cell_type": "code",
   "execution_count": null,
   "metadata": {
    "collapsed": false
   },
   "outputs": [],
   "source": [
    "(tf.random_normal([D,D]) * np.identity(D)).eval()"
   ]
  },
  {
   "cell_type": "code",
   "execution_count": null,
   "metadata": {
    "collapsed": false
   },
   "outputs": [],
   "source": [
    "tf.cholesky((tf.random_normal([D,D]) * np.identity(D))).eval()"
   ]
  },
  {
   "cell_type": "code",
   "execution_count": null,
   "metadata": {
    "collapsed": true
   },
   "outputs": [],
   "source": []
  },
  {
   "cell_type": "markdown",
   "metadata": {},
   "source": [
    "## does modeling neuron x neuron cov help?"
   ]
  },
  {
   "cell_type": "code",
   "execution_count": null,
   "metadata": {
    "collapsed": false
   },
   "outputs": [],
   "source": [
    "# DATA\n",
    "sess = ed.get_session()\n",
    "# N is number of samples (ori x trials) and D is number of neurons\n",
    "N, D = Xtrain_scaled.shape[0], Xtrain_scaled.shape[1]\n",
    "\n",
    "########## DESIGN COVARIANCE MATRIX ##########\n",
    "\n",
    "cov = tf.nn.softplus(tf.Variable(tf.random_normal([D,D])))\n",
    "\n",
    "#cov = tf.nn.softplus(tf.Variable(tf.random_normal([D,D]))) + .1 * np.identity(D)\n",
    "\n",
    "\n",
    "########## MODEL ##########\n",
    "X = tf.placeholder(tf.float32, [N, D])\n",
    "\n",
    "w = MultivariateNormalFullCovariance(loc = tf.zeros([C-1,D]), covariance_matrix = tf.cholesky(cov))\n",
    "b = Normal(loc = tf.zeros(C-1), scale= tf.ones(C-1))\n",
    "logits = tf.matmul(X, tf.transpose(w)) + b\n",
    "logits = tf.concat([logits, np.zeros((N, 1))], axis = 1)\n",
    "y = Categorical(logits = logits)\n",
    "\n",
    "########## INFERENCE ##########\n",
    "qw_loc = tf.Variable(tf.random_normal([C-1, D]))\n",
    "qw_scale = tf.nn.softplus(tf.Variable(tf.random_normal([C-1, D])))\n",
    "\n",
    "qb_loc = tf.Variable(tf.random_normal([C-1]))\n",
    "qb_scale = tf.nn.softplus(tf.Variable(tf.random_normal([])))\n",
    "\n",
    "qw = Normal(loc = qw_loc, scale = qw_scale)\n",
    "qb = Normal(loc = qb_loc, scale = qb_scale)\n",
    "\n",
    "inference = ed.KLqp({w: qw, b: qb}, data={X: Xtrain_scaled, y: Ytrain})\n",
    "inference.initialize(n_iter = 3000)\n",
    "\n",
    "init = tf.global_variables_initializer()\n",
    "init.run()\n",
    "learning_curve = []\n",
    "for _ in range(inference.n_iter):\n",
    "    info_dict = inference.update()\n",
    "    if _%100 == 0:\n",
    "        print(info_dict)\n",
    "    learning_curve.append(info_dict['loss'])\n",
    "inference.finalize()"
   ]
  },
  {
   "cell_type": "code",
   "execution_count": null,
   "metadata": {
    "collapsed": true
   },
   "outputs": [],
   "source": []
  },
  {
   "cell_type": "markdown",
   "metadata": {},
   "source": [
    "# tridiagonal prior -> variational EM "
   ]
  },
  {
   "cell_type": "code",
   "execution_count": null,
   "metadata": {
    "collapsed": true
   },
   "outputs": [],
   "source": [
    "def design_precision_matrix():\n",
    "    w_covs = []\n",
    "    tau = tf.nn.softplus(tf.Variable(tf.random_normal([D])))\n",
    "    sparsity = tf.nn.softplus(tf.Variable(tf.random_normal([D])))\n",
    "    # for each neuron\n",
    "    for d in range(D):\n",
    "        # Design precision matrix\n",
    "        A = np.zeros((C-1,C))\n",
    "        for i in range(C-1):\n",
    "            A[i,i] = -1\n",
    "            A[i,i+1] = 1\n",
    "        precision = A.T.dot(A) #+ .1 * np.identity(C) # precision = A^T.dot(A)\n",
    "        precision = tau[d] * precision + sparsity[d] * np.identity(C)\n",
    "        precision = precision + .1 * np.identity(C) # guarantees full rank\n",
    "\n",
    "        cov = tf.matrix_inverse(precision)[:-1,:-1]\n",
    "        w_covs.append(cov)\n",
    "    \n",
    "    w_cov = tf.stack(w_covs)\n",
    "\n",
    "        #w_cov = tf.tile(tf.expand_dims(cov, 0), [D, 1, 1])\n",
    "    return w_cov\n",
    "    "
   ]
  },
  {
   "cell_type": "code",
   "execution_count": null,
   "metadata": {
    "collapsed": false
   },
   "outputs": [],
   "source": [
    "Xtrain_scaled.shape, Ytrain.shape"
   ]
  },
  {
   "cell_type": "code",
   "execution_count": null,
   "metadata": {
    "collapsed": false
   },
   "outputs": [],
   "source": [
    "# for each neuron\n",
    "for d in range(D):\n",
    "    # Design precision matrix\n",
    "    A = np.zeros((C-1,C))\n",
    "    # for each orientation\n",
    "    for i in range(C-1):\n",
    "        A[i,i] = -1\n",
    "        A[i,i+1] = 1\n",
    "    precision = A.T.dot(A) #+ .1 * np.identity(C) # precision = A^T.dot(A)\n",
    "    precision[0,0] = 2.0\n",
    "    precision[C-1, C-1] = 2.0\n",
    "    precision[0, C-1] = -1.0\n",
    "    precision[C-1, 0] = -1.0\n",
    "    \n",
    "    precision = precision + sparsity * np.identity(C)\n",
    "    precision = precision + .1 * np.identity(C) # guarantees full rank\n",
    "\n",
    "    cov = tf.matrix_inverse(precision)[:-1,:-1]\n",
    "    w_covs.append(tf.cast(cov, tf.float64))\n",
    "w_cov = tf.stack(w_covs)"
   ]
  },
  {
   "cell_type": "code",
   "execution_count": null,
   "metadata": {
    "collapsed": false
   },
   "outputs": [],
   "source": [
    "precision"
   ]
  },
  {
   "cell_type": "code",
   "execution_count": null,
   "metadata": {
    "collapsed": false
   },
   "outputs": [],
   "source": [
    "# Design precision matrix\n",
    "A = np.zeros((C-1,C))\n",
    "# for each orientation\n",
    "for i in range(C-1):\n",
    "    A[i,i] = -1\n",
    "    A[i,i+1] = 1\n",
    "precision = A.T.dot(A) #+ .1 * np.identity(C) # precision = A^T.dot(A)\n",
    "\n"
   ]
  },
  {
   "cell_type": "code",
   "execution_count": null,
   "metadata": {
    "collapsed": false
   },
   "outputs": [],
   "source": [
    "precision"
   ]
  },
  {
   "cell_type": "code",
   "execution_count": null,
   "metadata": {
    "collapsed": false
   },
   "outputs": [],
   "source": [
    "A"
   ]
  },
  {
   "cell_type": "code",
   "execution_count": null,
   "metadata": {
    "collapsed": true
   },
   "outputs": [],
   "source": []
  },
  {
   "cell_type": "code",
   "execution_count": null,
   "metadata": {
    "collapsed": true
   },
   "outputs": [],
   "source": [
    "precision[0,0] = 2\n",
    "precision[C-1, C-1] = 2\n",
    "precision[0, C-1] = -1\n",
    "precision[C-1, 0] = -1"
   ]
  },
  {
   "cell_type": "code",
   "execution_count": null,
   "metadata": {
    "collapsed": false
   },
   "outputs": [],
   "source": [
    "# DATA\n",
    "sess = ed.get_session()\n",
    "# N is number of samples (ori x trials) and D is number of neurons\n",
    "N, D = Xtrain_scaled.shape[0], Xtrain_scaled.shape[1]\n",
    "\n",
    "########## DESIGN COVARIANCE MATRIX ##########\n",
    "w_covs = []\n",
    "#tau = tf.nn.softplus(tf.Variable(tf.random_normal([D])))\n",
    "tau = tf.nn.softplus(tf.Variable(tf.random_normal([D])))\n",
    "\n",
    "#sparsity = tf.nn.softplus(tf.Variable(tf.random_normal([D])))\n",
    "sparsity = tf.nn.softplus(tf.Variable(tf.random_normal([])))\n",
    "\n",
    "\n",
    "# for each neuron\n",
    "for d in range(D):\n",
    "    # Design precision matrix\n",
    "    A = np.zeros((C-1,C))\n",
    "    # for each orientation\n",
    "    for i in range(C-1):\n",
    "        A[i,i] = -1\n",
    "        A[i,i+1] = 1\n",
    "    precision = A.T.dot(A) #+ .1 * np.identity(C) # precision = A^T.dot(A)\n",
    "    precision = tau[d] * precision + sparsity * np.identity(C)\n",
    "    precision = precision + .1 * np.identity(C) # guarantees full rank\n",
    "\n",
    "    cov = tf.matrix_inverse(precision)[:-1,:-1]\n",
    "    w_covs.append(cov)\n",
    "w_cov = tf.stack(w_covs)\n",
    "\n",
    "########## MODEL ##########\n",
    "X = tf.placeholder(tf.float32, [N, D])\n",
    "w = MultivariateNormalFullCovariance(loc = tf.zeros([D,C-1]), covariance_matrix = tf.cast(w_cov, tf.float32))\n",
    "b = Normal(loc = tf.zeros(C-1), scale= tf.ones(C-1))\n",
    "logits = tf.matmul(X, w) + b\n",
    "logits = tf.concat([logits, np.zeros((N, 1))], axis = 1)\n",
    "y = Categorical(logits = logits)\n",
    "\n",
    "########## INFERENCE ##########\n",
    "qw_loc = tf.Variable(tf.random_normal([D, C-1]))\n",
    "qw_scale = tf.nn.softplus(tf.Variable(tf.random_normal([D,C-1])))\n",
    "\n",
    "qb_loc = tf.Variable(tf.random_normal([C-1]))\n",
    "qb_scale = tf.nn.softplus(tf.Variable(tf.random_normal([])))\n",
    "\n",
    "qw = Normal(loc = qw_loc, scale = qw_scale)\n",
    "qb = Normal(loc = qb_loc, scale = qb_scale)\n",
    "\n",
    "inference = ed.KLqp({w: qw, b: qb}, data={X: Xtrain_scaled, y: Ytrain})\n",
    "inference.initialize(n_iter = 3000)\n",
    "\n",
    "init = tf.global_variables_initializer()\n",
    "init.run()\n",
    "learning_curve = []\n",
    "for _ in range(inference.n_iter):\n",
    "    info_dict = inference.update()\n",
    "    if _%100 == 0:\n",
    "        print(info_dict)\n",
    "    learning_curve.append(info_dict['loss'])\n",
    "inference.finalize()"
   ]
  },
  {
   "cell_type": "code",
   "execution_count": null,
   "metadata": {
    "collapsed": false,
    "scrolled": true
   },
   "outputs": [],
   "source": [
    "########## EVAL ##########\n",
    "qw_mod = tf.concat([qw.mean(), np.zeros((qw.shape[0],1))], axis=1)\n",
    "qb_mod = tf.concat([qb.mean(), np.zeros((1))], axis=0)\n",
    "logits = tf.matmul(tf.cast(Xtest_scaled, tf.float32), qw_mod) + qb_mod\n",
    "print(compute_average_auc(tf.nn.softmax(logits).eval(), Ytest_hot))\n",
    "print(evaluate_multiclass_model(x_test_scaled_3d, qw_mod.eval().T, qb_mod.eval()))"
   ]
  },
  {
   "cell_type": "code",
   "execution_count": null,
   "metadata": {
    "collapsed": false
   },
   "outputs": [],
   "source": [
    "plt.plot(qw_mod.eval()[0])"
   ]
  },
  {
   "cell_type": "code",
   "execution_count": null,
   "metadata": {
    "collapsed": false
   },
   "outputs": [],
   "source": [
    "tridiag_tau_each_neuron = [0.89212963, 0.98472222, 0.99953704, 0.99953704, 0.99953704, 1.]\n",
    "tridiag_single_tau = [ 0.88935185  0.99027778  0.99861111  0.99953704  0.99953704  1.        ]\n",
    "tridiag_single_tau_single_spar = [ 0.90185185  0.98981481  1.          0.99953704  0.99953704  1.        ]\n",
    "\n",
    "gp = [ 0.90138889  0.99027778  1.          0.99953704  0.99953704  1.        ]"
   ]
  },
  {
   "cell_type": "code",
   "execution_count": null,
   "metadata": {
    "collapsed": false
   },
   "outputs": [],
   "source": [
    "plt.plot(qw_mod.eval()[3])"
   ]
  },
  {
   "cell_type": "code",
   "execution_count": null,
   "metadata": {
    "collapsed": false
   },
   "outputs": [],
   "source": [
    "tau.eval()[3]"
   ]
  },
  {
   "cell_type": "code",
   "execution_count": null,
   "metadata": {
    "collapsed": true
   },
   "outputs": [],
   "source": []
  },
  {
   "cell_type": "code",
   "execution_count": null,
   "metadata": {
    "collapsed": false
   },
   "outputs": [],
   "source": [
    "########## EVAL ##########\n",
    "qw_mod = tf.concat([qw.mean(), np.zeros((qw.shape[0],1))], axis=1)\n",
    "qb_mod = tf.concat([qb.mean(), np.zeros((1))], axis=0)\n",
    "logits = tf.matmul(tf.cast(Xtest_scaled, tf.float32), qw_mod) + qb_mod\n",
    "print(compute_average_auc(tf.nn.softmax(logits).eval(), Ytest_hot))\n",
    "print(evaluate_multiclass_model(x_test_scaled_3d, qw_mod.eval().T, qb_mod.eval()))"
   ]
  },
  {
   "cell_type": "code",
   "execution_count": null,
   "metadata": {
    "collapsed": false
   },
   "outputs": [],
   "source": [
    "plt.figure(figsize=(10,8))\n",
    "plt.scatter(np.arange(len(tau.eval())),tau.eval())\n",
    "plt.ylabel(\"tau\")\n",
    "plt.xlabel(\"neuron\")"
   ]
  },
  {
   "cell_type": "code",
   "execution_count": null,
   "metadata": {
    "collapsed": false
   },
   "outputs": [],
   "source": [
    "plt.scatter(np.arange(113),sparsity.eval())"
   ]
  },
  {
   "cell_type": "code",
   "execution_count": null,
   "metadata": {
    "collapsed": true
   },
   "outputs": [],
   "source": [
    "plt.figure(figsize=(10,8))\n",
    "tau_per_neuron_vi = [0.81481481, 0.90185185, 0.96666667, 0.98564815, 0.99444444, 0.99722222]\n",
    "l2_prior = [0.74027778, 0.81759259, 0.92407407, 0.96342593, 0.98888889, 0.99305556]\n",
    "\n",
    "xticks = [5, 10, 15, 20, 25, 30]\n",
    "plt.plot(xticks, l2_prior, label=\"l2 prior\")\n",
    "plt.plot(xticks, tau_per_neuron_vi, label=\"new model\")\n",
    "plt.ylabel(\"probability correct\")\n",
    "plt.xlabel(\"orientation difference (degrees)\")\n",
    "plt.legend(loc = 'lower right')"
   ]
  },
  {
   "cell_type": "code",
   "execution_count": null,
   "metadata": {
    "collapsed": false
   },
   "outputs": [],
   "source": [
    "rbf(tf.cast(np.reshape(np.arange((3)), (-1,1)), tf.float32)).eval()"
   ]
  },
  {
   "cell_type": "code",
   "execution_count": null,
   "metadata": {
    "collapsed": false
   },
   "outputs": [],
   "source": [
    "rbf(tf.cast(np.reshape(np.arange((5)), (-1,1)), tf.float32)).eval()"
   ]
  },
  {
   "cell_type": "code",
   "execution_count": null,
   "metadata": {
    "collapsed": false
   },
   "outputs": [],
   "source": [
    "x = np.reshape(np.concatenate((np.arange(1,38), np.arange(start=36, stop=1, step=-1))), (-1,1))\n",
    "rbf(tf.cast(x, dtype=tf.float32))"
   ]
  },
  {
   "cell_type": "code",
   "execution_count": null,
   "metadata": {
    "collapsed": false
   },
   "outputs": [],
   "source": [
    "np.arange(start=36, stop=1, step=-1)"
   ]
  },
  {
   "cell_type": "code",
   "execution_count": null,
   "metadata": {
    "collapsed": false
   },
   "outputs": [],
   "source": [
    "len(np.reshape(np.concatenate((np.arange(1,38), np.arange(start=36, stop=2, step=-1))), (-1,1)))"
   ]
  },
  {
   "cell_type": "code",
   "execution_count": null,
   "metadata": {
    "collapsed": false
   },
   "outputs": [],
   "source": [
    "tf.cholesky(rbf_kernel).eval()"
   ]
  },
  {
   "cell_type": "code",
   "execution_count": null,
   "metadata": {
    "collapsed": false
   },
   "outputs": [],
   "source": [
    "kern = np.reshape(np.arange(0,36), (-1,1))\n",
    "\n",
    "rbf_kernel = rbf(X = tf.cast(kern, tf.float32))\n",
    "rbf_kernel = tf.nn.softplus(rbf_kernel + .1 * tf.identity(rbf_kernel))"
   ]
  },
  {
   "cell_type": "code",
   "execution_count": null,
   "metadata": {
    "collapsed": true
   },
   "outputs": [],
   "source": [
    "from edward.util import rbf"
   ]
  },
  {
   "cell_type": "code",
   "execution_count": null,
   "metadata": {
    "collapsed": false
   },
   "outputs": [],
   "source": [
    "rbf_kernel"
   ]
  },
  {
   "cell_type": "code",
   "execution_count": null,
   "metadata": {
    "collapsed": false
   },
   "outputs": [],
   "source": [
    "def rbf_cos_kernel(theta):\n",
    "    '''\n",
    "        RBF kernel applied to distances on a circle using radians\n",
    "    '''\n",
    "    variance = 1.0\n",
    "    lengthscale = 1.0\n",
    "    kernel = np.zeros((len(theta), len(theta)))\n",
    "    for i in range(len(theta)):\n",
    "        for j in range(len(theta)):\n",
    "            radians = ((theta[j] - theta[i]) / len(theta)) * 2 * np.pi\n",
    "            kernel[i,j] = variance * (np.cos(radians) / lengthscale) ** 2\n",
    "    return kernel"
   ]
  },
  {
   "cell_type": "code",
   "execution_count": null,
   "metadata": {
    "collapsed": false
   },
   "outputs": [],
   "source": [
    "theta = np.reshape(np.arange(0,5), (-1,1))\n",
    "\n",
    "rbf_cos_kernel(theta)"
   ]
  },
  {
   "cell_type": "code",
   "execution_count": null,
   "metadata": {
    "collapsed": true
   },
   "outputs": [],
   "source": []
  },
  {
   "cell_type": "code",
   "execution_count": null,
   "metadata": {
    "collapsed": false
   },
   "outputs": [],
   "source": [
    "((theta[2] - theta[1]) / 72) * 2 * np.pi"
   ]
  },
  {
   "cell_type": "code",
   "execution_count": null,
   "metadata": {
    "collapsed": true
   },
   "outputs": [],
   "source": []
  },
  {
   "cell_type": "code",
   "execution_count": null,
   "metadata": {
    "collapsed": true
   },
   "outputs": [],
   "source": [
    "vec_w = MultivariateNormalFullCovariance(loc = tf.zeros([D,C-1]), covariance_matrix = "
   ]
  },
  {
   "cell_type": "code",
   "execution_count": null,
   "metadata": {
    "collapsed": false
   },
   "outputs": [],
   "source": [
    "import tensorflow as tf\n",
    "\n",
    "def kronecker(a, b):\n",
    "    # cite : https://stackoverflow.com/questions/44309333/what-is-the-most-efficient-way-to-compute-a-kronecker-product-in-tensorflow\n",
    "    \n",
    "    i, k, s = len(a), len(b), len(b)\n",
    "    o = s * (i - 1) + k\n",
    "\n",
    "    a_tf  = tf.reshape(tf.constant(a, dtype=tf.float32), [1, i, i, 1])\n",
    "    b_tf = tf.reshape(tf.constant(b, dtype=tf.float32), [k, k, 1, 1])\n",
    "\n",
    "    res = tf.squeeze(tf.nn.conv2d_transpose(a_tf, b_tf, (1, o, o, 1), [1, s, s, 1], \"VALID\"))\n",
    "    return res"
   ]
  },
  {
   "cell_type": "code",
   "execution_count": null,
   "metadata": {
    "collapsed": false
   },
   "outputs": [],
   "source": [
    "a = [[1, 2, 3], [3, 4, 7], [8, 9, 4]]\n",
    "b = [[0, 5], [6, 7]]\n",
    "kronecker(a,b).eval()\n"
   ]
  },
  {
   "cell_type": "markdown",
   "metadata": {},
   "source": [
    "## Matrix normal prior, specifying cov matrix for neuron x neurion and ori x ori"
   ]
  },
  {
   "cell_type": "code",
   "execution_count": null,
   "metadata": {
    "collapsed": true
   },
   "outputs": [],
   "source": [
    "def kronecker(a, b):\n",
    "    # cite : https://stackoverflow.com/questions/44309333/what-is-the-most-efficient-way-to-compute-a-kronecker-product-in-tensorflow\n",
    "    \n",
    "    i, k, s = int(a.shape[0]), int(b.shape[0]), int(b.shape[0])\n",
    "    \n",
    "    o = s * (i - 1) + k\n",
    "\n",
    "    a_tf  = tf.reshape(a, [1, i, i, 1])\n",
    "    b_tf = tf.reshape(b, [k, k, 1, 1])\n",
    "\n",
    "    res = tf.squeeze(tf.nn.conv2d_transpose(a_tf, b_tf, (1, o, o, 1), [1, s, s, 1], \"VALID\"))\n",
    "    return res"
   ]
  },
  {
   "cell_type": "code",
   "execution_count": null,
   "metadata": {
    "collapsed": false
   },
   "outputs": [],
   "source": []
  },
  {
   "cell_type": "code",
   "execution_count": null,
   "metadata": {
    "collapsed": false
   },
   "outputs": [],
   "source": [
    "# design stimulus x stimulus matrix\n",
    "w_covs = []\n",
    "tau = tf.nn.softplus(tf.Variable(tf.random_normal([])))\n",
    "sparsity = tf.nn.softplus(tf.Variable(tf.random_normal([])))\n",
    "# for each neuron\n",
    "# Design precision matrix\n",
    "A = np.zeros((C-1,C))\n",
    "# for each orientation\n",
    "for i in range(C-1):\n",
    "    A[i,i] = -1\n",
    "    A[i,i+1] = 1\n",
    "precision = A.T.dot(A) #+ .1 * np.identity(C) # precision = A^T.dot(A)\n",
    "precision = tau * precision + sparsity * np.identity(C)\n",
    "precision = precision + .1 * np.identity(C) # guarantees full rank\n",
    "\n",
    "cov = tf.cast(tf.matrix_inverse(precision)[:-1,:-1], tf.float32)\n",
    "\n",
    "neuron_cov = tf.nn.softplus(tf.Variable(tf.random_normal([D,D])))\n",
    "\n",
    "kron_prod = kronecker(cov, neuron_cov) + .1 * np.identity(kron_prod.shape[0])\n",
    "\n",
    "########## MODEL ##########\n",
    "X = tf.placeholder(tf.float32, [N, D])\n",
    "\n",
    "vec_w = MultivariateNormalFullCovariance(loc = tf.zeros([D*(C-1)]), covariance_matrix = kron_prod)"
   ]
  },
  {
   "cell_type": "code",
   "execution_count": null,
   "metadata": {
    "collapsed": true
   },
   "outputs": [],
   "source": [
    "tf.cholesky(kron_prod).eval()"
   ]
  },
  {
   "cell_type": "code",
   "execution_count": null,
   "metadata": {
    "collapsed": false
   },
   "outputs": [],
   "source": [
    "D, C-1, D*(C-1)"
   ]
  },
  {
   "cell_type": "code",
   "execution_count": null,
   "metadata": {
    "collapsed": false
   },
   "outputs": [],
   "source": [
    ".1 * np.identity(D*(C-1))"
   ]
  },
  {
   "cell_type": "code",
   "execution_count": null,
   "metadata": {
    "collapsed": false
   },
   "outputs": [],
   "source": [
    "# DATA\n",
    "sess = ed.get_session()\n",
    "# N is number of samples (ori x trials) and D is number of neurons\n",
    "N, D = Xtrain_scaled.shape[0], Xtrain_scaled.shape[1]\n",
    "\n",
    "########## DESIGN COVARIANCE MATRICES ##########\n",
    "\n",
    "# design stimulus x stimulus matrix\n",
    "w_covs = []\n",
    "tau = tf.nn.softplus(tf.Variable(tf.random_normal([])))\n",
    "sparsity = tf.nn.softplus(tf.Variable(tf.random_normal([])))\n",
    "# for each neuron\n",
    "# Design precision matrix\n",
    "A = np.zeros((C-1,C))\n",
    "# for each orientation\n",
    "for i in range(C-1):\n",
    "    A[i,i] = -1\n",
    "    A[i,i+1] = 1\n",
    "precision = A.T.dot(A) #+ .1 * np.identity(C) # precision = A^T.dot(A)\n",
    "precision = tau * precision + sparsity * np.identity(C)\n",
    "precision = precision + .1 * np.identity(C) # guarantees full rank\n",
    "\n",
    "cov = tf.cast(tf.matrix_inverse(precision)[:-1,:-1], tf.float32)\n",
    "\n",
    "neuron_cov = tf.nn.softplus(tf.Variable(tf.random_normal([D,D])))\n",
    "\n",
    "kron_prod = kronecker(cov, neuron_cov) + .1 * np.identity(D*(C-1))\n",
    "\n",
    "########## MODEL ##########\n",
    "X = tf.placeholder(tf.float32, [N, D])\n",
    "\n",
    "vec_w = MultivariateNormalFullCovariance(loc = tf.zeros([D*(C-1)]), covariance_matrix = kron_prod)\n",
    "\n",
    "b = Normal(loc = tf.zeros(C-1), scale= tf.ones(C-1))\n",
    "logits = tf.matmul(X, tf.reshape(vec_w, (D, C-1))) + b\n",
    "\n",
    "logits = tf.concat([logits, np.zeros((N, 1))], axis = 1)\n",
    "y = Categorical(logits = logits)\n",
    "\n",
    "########## INFERENCE ##########\n",
    "qw_loc = tf.Variable(tf.random_normal([D * (C-1)]))\n",
    "qw_scale = tf.nn.softplus(tf.Variable(tf.random_normal([D * (C-1)])))\n",
    "\n",
    "qb_loc = tf.Variable(tf.random_normal([C-1]))\n",
    "qb_scale = tf.nn.softplus(tf.Variable(tf.random_normal([])))\n",
    "\n",
    "qw = Normal(loc = qw_loc, scale = qw_scale)\n",
    "qb = Normal(loc = qb_loc, scale = qb_scale)\n",
    "\n",
    "inference = ed.KLqp({vec_w: qw, b: qb}, data={X: Xtrain_scaled, y: Ytrain})\n",
    "inference.initialize(n_iter = 3000)\n",
    "\n",
    "init = tf.global_variables_initializer()\n",
    "init.run()\n",
    "learning_curve = []\n",
    "for _ in range(inference.n_iter):\n",
    "    info_dict = inference.update()\n",
    "    if _%100 == 0:\n",
    "        print(info_dict)\n",
    "    learning_curve.append(info_dict['loss'])\n",
    "inference.finalize()"
   ]
  },
  {
   "cell_type": "code",
   "execution_count": null,
   "metadata": {
    "collapsed": false
   },
   "outputs": [],
   "source": [
    "########## EVAL ##########\n",
    "qw_mod = tf.concat([qw.mean(), np.zeros((qw.shape[0],1))], axis=1)\n",
    "qb_mod = tf.concat([qb.mean(), np.zeros((1))], axis=0)\n",
    "logits = tf.matmul(tf.cast(Xtest_scaled, tf.float32), qw_mod) + qb_mod\n",
    "print(compute_average_auc(tf.nn.softmax(logits).eval(), Ytest_hot))\n",
    "print(evaluate_multiclass_model(x_test_scaled_3d, qw_mod.eval().T, qb_mod.eval()))"
   ]
  },
  {
   "cell_type": "code",
   "execution_count": null,
   "metadata": {
    "collapsed": true
   },
   "outputs": [],
   "source": [
    "X = np.array([1, 2, 3, 4, 5, 6])"
   ]
  },
  {
   "cell_type": "code",
   "execution_count": null,
   "metadata": {
    "collapsed": false
   },
   "outputs": [],
   "source": [
    "K(X)"
   ]
  },
  {
   "cell_type": "code",
   "execution_count": null,
   "metadata": {
    "collapsed": true
   },
   "outputs": [],
   "source": [
    "def periodic_kern(x, p, lengthscale, variance):\n",
    "    k = np.zeros((x.shape[0], x.shape[0]))\n",
    "    for i in range(x.shape[0]):\n",
    "        for j in range(x.shape[0]):\n",
    "            k[i,j] = variance * tf.exp(-(2 * np.sin(np.pi * np.abs(x[i] - x[j])/p)**2) / lengthscale**2)\n",
    "    return k"
   ]
  },
  {
   "cell_type": "code",
   "execution_count": null,
   "metadata": {
    "collapsed": false
   },
   "outputs": [],
   "source": [
    "p = X.shape[0]# C-1 # period\n",
    "lengthscale = tf.nn.softplus(tf.Variable(tf.random_normal([])))\n",
    "variance = tf.nn.softplus(tf.Variable(tf.random_normal([])))\n",
    "periodic_kern(X, p, lengthscale, variance)"
   ]
  },
  {
   "cell_type": "markdown",
   "metadata": {},
   "source": [
    "## GP prior with periodic kernel"
   ]
  },
  {
   "cell_type": "code",
   "execution_count": 255,
   "metadata": {
    "collapsed": true
   },
   "outputs": [],
   "source": [
    "def periodic_kern(x, p, lengthscale, variance):\n",
    "    k = np.zeros((x.shape[0], x.shape[0]))\n",
    "    for i in range(x.shape[0]):\n",
    "        for j in range(x.shape[0]):\n",
    "            k[i,j] = variance * np.exp(-(2 * np.sin(np.pi * np.abs(x[i] - x[j])/p)**2) / lengthscale)\n",
    "    return k"
   ]
  },
  {
   "cell_type": "code",
   "execution_count": 256,
   "metadata": {
    "collapsed": false
   },
   "outputs": [],
   "source": [
    "def periodic_kernmat(x, p, lengthscale, variance):\n",
    "    lengthscale = tf.convert_to_tensor(lengthscale)\n",
    "    variance = tf.convert_to_tensor(variance)\n",
    "    p = tf.convert_to_tensor(p)\n",
    "    x = tf.cast(tf.convert_to_tensor(x), tf.float32)\n",
    "    pi = tf.convert_to_tensor(np.pi)\n",
    "    k = variance * tf.exp(-(2 * tf.sin(pi * tf.abs(tf.reshape(x, [-1,1]) - \n",
    "                                                      tf.reshape(x, [1,-1])) / p)**2) / lengthscale**2)\n",
    "    return k"
   ]
  },
  {
   "cell_type": "code",
   "execution_count": 259,
   "metadata": {
    "collapsed": false
   },
   "outputs": [
    {
     "name": "stdout",
     "output_type": "stream",
     "text": [
      "{'t': 1, 'loss': 64522.141}\n",
      "{'t': 101, 'loss': 9069.9443}\n",
      "{'t': 201, 'loss': 7395.5703}\n",
      "{'t': 301, 'loss': 6984.3721}\n",
      "{'t': 401, 'loss': 6781.2705}\n",
      "{'t': 501, 'loss': 6245.7041}\n",
      "{'t': 601, 'loss': 5990.6387}\n",
      "{'t': 701, 'loss': 5911.2012}\n",
      "{'t': 801, 'loss': 5950.5122}\n",
      "{'t': 901, 'loss': 5625.8833}\n",
      "{'t': 1001, 'loss': 5853.749}\n",
      "{'t': 1101, 'loss': 5746.7246}\n",
      "{'t': 1201, 'loss': 5444.0889}\n",
      "{'t': 1301, 'loss': 5565.501}\n",
      "{'t': 1401, 'loss': 5544.999}\n",
      "{'t': 1501, 'loss': 5471.207}\n",
      "{'t': 1601, 'loss': 5547.7725}\n",
      "{'t': 1701, 'loss': 5498.4902}\n",
      "{'t': 1801, 'loss': 5559.498}\n",
      "{'t': 1901, 'loss': 5395.8579}\n",
      "{'t': 2001, 'loss': 5403.104}\n",
      "{'t': 2101, 'loss': 5260.6816}\n",
      "{'t': 2201, 'loss': 5320.7612}\n",
      "{'t': 2301, 'loss': 5315.873}\n",
      "{'t': 2401, 'loss': 5484.9922}\n",
      "{'t': 2501, 'loss': 5476.0864}\n",
      "{'t': 2601, 'loss': 5300.6318}\n",
      "{'t': 2701, 'loss': 5222.7983}\n",
      "{'t': 2801, 'loss': 5452.3145}\n",
      "{'t': 2901, 'loss': 5330.6919}\n",
      "0.992762128326\n",
      "[ 0.84166667  0.94537037  0.98703704  0.9962963   0.99907407  0.99907407]\n"
     ]
    }
   ],
   "source": [
    "from edward.util import rbf\n",
    "\n",
    "\n",
    "# DATA\n",
    "sess = ed.get_session()\n",
    "# N is number of samples (ori x trials) and D is number of neurons\n",
    "N, D = Xtrain_scaled.shape[0], Xtrain_scaled.shape[1]\n",
    "\n",
    "########## MODEL ##########\n",
    "X = tf.placeholder(tf.float32, [N, D])\n",
    "cov = tf.nn.softplus(tf.random_normal([C-1,C-1]))\n",
    "\n",
    "####### the X matrix should NOT be cov, but rather 1....72\n",
    "\n",
    "length = tf.nn.softplus(tf.Variable(tf.random_normal([])))\n",
    "var = tf.nn.softplus(tf.Variable(tf.random_normal([])))\n",
    "\n",
    "k = periodic_kernmat(np.arange(0,72), 36.0, length, var)[:-1,:-1]\n",
    "\n",
    "w = MultivariateNormalTriL(loc = tf.zeros([D,C-1]), \n",
    "                           scale_tril = tf.cast(k, tf.float32))\n",
    "\n",
    "b = Normal(loc = tf.zeros(C-1), scale= tf.ones(C-1))\n",
    "logits = tf.matmul(X, w) + b\n",
    "logits = tf.concat([logits, np.zeros((N, 1))], axis = 1)\n",
    "y = Categorical(logits = logits)\n",
    "\n",
    "########## INFERENCE ##########\n",
    "qw_loc = tf.Variable(tf.random_normal([D, C-1]))\n",
    "qw_scale = tf.nn.softplus(tf.Variable(tf.random_normal([D,C-1])))\n",
    "\n",
    "qb_loc = tf.Variable(tf.random_normal([C-1]))\n",
    "qb_scale = tf.nn.softplus(tf.Variable(tf.random_normal([])))\n",
    "\n",
    "qw = Normal(loc = qw_loc, scale = qw_scale)\n",
    "qb = Normal(loc = qb_loc, scale = qb_scale)\n",
    "\n",
    "inference = ed.KLqp({w: qw, b: qb}, \n",
    "                    data={X: Xtrain_scaled, y: Ytrain})\n",
    "inference.initialize(n_iter = 3000)\n",
    "\n",
    "init = tf.global_variables_initializer()\n",
    "init.run()\n",
    "learning_curve = []\n",
    "for _ in range(inference.n_iter):\n",
    "    info_dict = inference.update()\n",
    "    if _%100 == 0:\n",
    "        print(info_dict)\n",
    "    learning_curve.append(info_dict['loss'])\n",
    "inference.finalize()\n",
    "\n",
    "\n",
    "########## EVAL ##########\n",
    "qw_mod = tf.concat([qw.mean(), np.zeros((qw.shape[0],1))], axis=1)\n",
    "qb_mod = tf.concat([qb.mean(), np.zeros((1))], axis=0)\n",
    "logits = tf.matmul(tf.cast(Xtest_scaled, tf.float32), qw_mod) + qb_mod\n",
    "print(compute_average_auc(tf.nn.softmax(logits).eval(), Ytest_hot))\n",
    "print(evaluate_multiclass_model(x_test_scaled_3d, qw_mod.eval().T, qb_mod.eval()))"
   ]
  },
  {
   "cell_type": "code",
   "execution_count": null,
   "metadata": {
    "collapsed": true
   },
   "outputs": [],
   "source": [
    "########## EVAL ##########\n",
    "qw_mod = tf.concat([qw.mean(), np.zeros((qw.shape[0],1))], axis=1)\n",
    "qb_mod = tf.concat([qb.mean(), np.zeros((1))], axis=0)\n",
    "logits = tf.matmul(tf.cast(Xtest_scaled, tf.float32), qw_mod) + qb_mod\n",
    "print(compute_average_auc(tf.nn.softmax(logits).eval(), Ytest_hot))\n",
    "print(evaluate_multiclass_model(x_test_scaled_3d, qw_mod.eval().T, qb_mod.eval()))"
   ]
  },
  {
   "cell_type": "code",
   "execution_count": null,
   "metadata": {
    "collapsed": false
   },
   "outputs": [],
   "source": [
    "length.eval(), var.eval()"
   ]
  },
  {
   "cell_type": "code",
   "execution_count": null,
   "metadata": {
    "collapsed": false
   },
   "outputs": [],
   "source": [
    "plt.plot(k[10].eval())"
   ]
  },
  {
   "cell_type": "code",
   "execution_count": null,
   "metadata": {
    "collapsed": true
   },
   "outputs": [],
   "source": []
  },
  {
   "cell_type": "markdown",
   "metadata": {
    "collapsed": true
   },
   "source": [
    "## A gaussian process prior on the weights with rbf kernel on theta = {1,...,38,...,2}..."
   ]
  },
  {
   "cell_type": "code",
   "execution_count": null,
   "metadata": {
    "collapsed": false
   },
   "outputs": [],
   "source": [
    "from edward.util import rbf\n",
    "\n",
    "\n",
    "# DATA\n",
    "sess = ed.get_session()\n",
    "# N is number of samples (ori x trials) and D is number of neurons\n",
    "N, D = Xtrain_scaled.shape[0], Xtrain_scaled.shape[1]\n",
    "\n",
    "########## MODEL ##########\n",
    "X = tf.placeholder(tf.float32, [N, D])\n",
    "cov = tf.nn.softplus(tf.random_normal([C-1,C-1]))\n",
    "\n",
    "####### the X matrix should NOT be cov, but rather 1....72\n",
    "length = tf.nn.softplus(tf.Variable(tf.random_normal([])))\n",
    "var = tf.nn.softplus(tf.Variable(tf.random_normal([])))\n",
    "\n",
    "kern = tf.cast(np.reshape(np.concatenate((np.arange(1,38), np.arange(start=36, stop=1, step=-1))), (-1,1)), tf.float32)\n",
    "\n",
    "rbf_kernel = rbf(X = kern, lengthscale = length, variance = var)[:-1,:-1]\n",
    "\n",
    "w = MultivariateNormalTriL(loc = tf.zeros([D,C-1]), \n",
    "                           scale_tril = rbf_kernel)\n",
    "\n",
    "b = Normal(loc = tf.zeros(C-1), scale= tf.ones(C-1))\n",
    "logits = tf.matmul(X, w) + b\n",
    "logits = tf.concat([logits, np.zeros((N, 1))], axis = 1)\n",
    "y = Categorical(logits = logits)\n",
    "\n",
    "########## INFERENCE ##########\n",
    "qw_loc = tf.Variable(tf.random_normal([D, C-1]))\n",
    "qw_scale = tf.nn.softplus(tf.Variable(tf.random_normal([D,C-1])))\n",
    "\n",
    "qb_loc = tf.Variable(tf.random_normal([C-1]))\n",
    "qb_scale = tf.nn.softplus(tf.Variable(tf.random_normal([])))\n",
    "\n",
    "qw = Normal(loc = qw_loc, scale = qw_scale)\n",
    "qb = Normal(loc = qb_loc, scale = qb_scale)\n",
    "\n",
    "inference = ed.KLqp({w: qw, b: qb}, \n",
    "                    data={X: Xtrain_scaled, y: Ytrain})\n",
    "inference.initialize(n_iter = 3000)\n",
    "\n",
    "init = tf.global_variables_initializer()\n",
    "init.run()\n",
    "learning_curve = []\n",
    "for _ in range(inference.n_iter):\n",
    "    info_dict = inference.update()\n",
    "    if _%100 == 0:\n",
    "        print(info_dict)\n",
    "    learning_curve.append(info_dict['loss'])\n",
    "inference.finalize()\n",
    "\n",
    "\n",
    "########## EVAL ##########\n",
    "qw_mod = tf.concat([qw.mean(), np.zeros((qw.shape[0],1))], axis=1)\n",
    "qb_mod = tf.concat([qb.mean(), np.zeros((1))], axis=0)\n",
    "logits = tf.matmul(tf.cast(Xtest_scaled, tf.float32), qw_mod) + qb_mod\n",
    "print(compute_average_auc(tf.nn.softmax(logits).eval(), Ytest_hot))\n",
    "print(evaluate_multiclass_model(x_test_scaled_3d, qw_mod.eval().T, qb_mod.eval()))"
   ]
  },
  {
   "cell_type": "code",
   "execution_count": null,
   "metadata": {
    "collapsed": false
   },
   "outputs": [],
   "source": [
    "########## EVAL ##########\n",
    "qw_mod = tf.concat([qw.mean(), np.zeros((qw.shape[0],1))], axis=1)\n",
    "qb_mod = tf.concat([qb.mean(), np.zeros((1))], axis=0)\n",
    "logits = tf.matmul(tf.cast(Xtest_scaled, tf.float32), qw_mod) + qb_mod\n",
    "print(compute_average_auc(tf.nn.softmax(logits).eval(), Ytest_hot))\n",
    "print(evaluate_multiclass_model(x_test_scaled_3d, qw_mod.eval().T, qb_mod.eval()))"
   ]
  },
  {
   "cell_type": "code",
   "execution_count": null,
   "metadata": {
    "collapsed": false
   },
   "outputs": [],
   "source": [
    "plt.plot(w.eval()[0])"
   ]
  },
  {
   "cell_type": "code",
   "execution_count": null,
   "metadata": {
    "collapsed": false
   },
   "outputs": [],
   "source": [
    "rbf_kernel.eval()"
   ]
  },
  {
   "cell_type": "code",
   "execution_count": null,
   "metadata": {
    "collapsed": false
   },
   "outputs": [],
   "source": [
    "plt.plot(rbf_kernel.eval()[20])"
   ]
  },
  {
   "cell_type": "code",
   "execution_count": null,
   "metadata": {
    "collapsed": true
   },
   "outputs": [],
   "source": []
  },
  {
   "cell_type": "code",
   "execution_count": null,
   "metadata": {
    "collapsed": false
   },
   "outputs": [],
   "source": [
    "length.eval(), var.eval()"
   ]
  },
  {
   "cell_type": "code",
   "execution_count": null,
   "metadata": {
    "collapsed": false
   },
   "outputs": [],
   "source": [
    "plt.plot(w.eval()[10])"
   ]
  },
  {
   "cell_type": "code",
   "execution_count": null,
   "metadata": {
    "collapsed": false
   },
   "outputs": [],
   "source": [
    "length.eval(), var.eval()"
   ]
  },
  {
   "cell_type": "code",
   "execution_count": null,
   "metadata": {
    "collapsed": false
   },
   "outputs": [],
   "source": [
    "%matplotlib inline\n",
    "plt.plot(qw_mod[0].eval())"
   ]
  },
  {
   "cell_type": "code",
   "execution_count": null,
   "metadata": {
    "collapsed": false
   },
   "outputs": [],
   "source": [
    "%matplotlib inline\n",
    "plt.plot(qw_mod[0].eval())"
   ]
  },
  {
   "cell_type": "markdown",
   "metadata": {},
   "source": [
    "## Experimental"
   ]
  },
  {
   "cell_type": "code",
   "execution_count": null,
   "metadata": {
    "collapsed": false
   },
   "outputs": [],
   "source": [
    "#### MODEL working VI for multi-class setting and converges quickly\n",
    "C = 72\n",
    "N = Xtrain_scaled.shape[0]\n",
    "X = tf.placeholder(tf.float32, [N, D])\n",
    "#w = MultivariateNormalTriL(loc = tf.zeros((D,C-1)), scale_tril = tf.cast(sample_cov[:-1,:-1], tf.float32))\n",
    "w = MultivariateNormalTriL(loc = tf.zeros((D,C-1)), \n",
    "                           scale_tril = rbf(tf.cast(np.mean(x_train_scaled, axis=1), tf.float32))[:-1,:-1])\n",
    "\n",
    "b = Normal(loc = tf.zeros(C-1), scale = 1 * tf.ones([]))\n",
    "\n",
    "logits = tf.matmul(X, w) + b\n",
    "logits = tf.concat([logits, np.zeros((N, 1))], axis = 1)\n",
    "\n",
    "y = Multinomial(logits = tf.nn.softmax(logits), total_count=1.0)\n",
    "\n",
    "# INFERENCE\n",
    "qw_loc = tf.Variable(tf.random_normal([D,C-1]))\n",
    "qw_scale = tf.nn.softplus(tf.Variable(tf.random_normal([C-1])))\n",
    "\n",
    "qb_loc = tf.Variable(tf.random_normal([C-1]))\n",
    "qb_scale = tf.nn.softplus(tf.Variable(tf.random_normal([])))\n",
    "\n",
    "qw = Normal(loc = qw_loc, scale = qw_scale)\n",
    "qb = Normal(loc = qb_loc, scale = qb_scale)\n",
    "\n",
    "inference = ed.KLqp({w: qw, b: qb}, data={X: Xtrain_scaled, y: Ytrain_hot})\n",
    "inference.initialize(n_iter = 10000)"
   ]
  },
  {
   "cell_type": "code",
   "execution_count": null,
   "metadata": {
    "collapsed": true
   },
   "outputs": [],
   "source": [
    "sess = ed.get_session()\n",
    "init = tf.global_variables_initializer()\n",
    "init.run()\n",
    "learning_curve = []\n",
    "for _ in range(inference.n_iter):\n",
    "    info_dict = inference.update()\n",
    "    if _%1000 == 0:\n",
    "        print(info_dict)\n",
    "    learning_curve.append(info_dict['loss'])\n",
    "inference.finalize()"
   ]
  },
  {
   "cell_type": "code",
   "execution_count": null,
   "metadata": {
    "collapsed": false
   },
   "outputs": [],
   "source": [
    "A = np.zeros((C-1,C))\n",
    "for i in range(C-1):\n",
    "    A[i,i] = -1\n",
    "    A[i,i+1] = 1\n",
    "precision = A.T.dot(A) + .01 * np.identity(C) # A^T.dot(A) + .1 * I for invertability\n",
    "lambda_1 = 1\n",
    "precision = lambda_1 * precision\n",
    "#precision = precision + 1 * np.identity(C) # add sparsity prior \n",
    "cov_matrix = tf.matrix_inverse(precision)\n",
    "cov_matrix_chol = tf.cholesky(cov_matrix)"
   ]
  },
  {
   "cell_type": "code",
   "execution_count": null,
   "metadata": {
    "collapsed": true
   },
   "outputs": [],
   "source": [
    "A = np.zeros((D-1,D))\n",
    "for i in range(D-1):\n",
    "    A[i,i] = -1\n",
    "    A[i,i+1] = 1\n",
    "precision = A.T.dot(A) + .01 * np.identity(D) # A^T.dot(A) + .1 * I for invertability\n",
    "lambda_1 = 1\n",
    "precision = lambda_1 * precision\n",
    "precision = precision + 1 * np.identity(D) # add sparsity prior \n",
    "cov_matrix = tf.matrix_inverse(precision)\n",
    "cov_matrix_chol = tf.cholesky(cov_matrix)"
   ]
  },
  {
   "cell_type": "code",
   "execution_count": null,
   "metadata": {
    "collapsed": false
   },
   "outputs": [],
   "source": [
    "lambdas = [1e-6, 1e-5, 1e-4, 1e-3, 1e-2, 1e-1, 1, 1e1, 1e2, 1e3, 1e4, 1e5, 1e6]    \n",
    "\n",
    "C = 72\n",
    "N = Xtrain_scaled.shape[0]\n",
    "X = tf.placeholder(tf.float32, [N, D])\n",
    "#w = Normal(loc = tf.zeros((D,C-1)), scale = 1 * tf.ones((D,C-1)))\n",
    "w = MultivariateNormalTriL(loc = tf.zeros((D,C-1)), \n",
    "                           scale_tril = tf.cast(tf.cholesky(cov_matrix[:-1,:-1]), tf.float32))\n",
    "\n",
    "# define a (batch of D) C-1 multivariate normals\n",
    "#w = MultivariateNormalFullCovariance(loc = tf.zeros((D,C-1)),\n",
    "#                                     covariance_matrix = tf.cast(cov_matrix[:-1,:-1], tf.float32))\n",
    "\n",
    "#w = MultivariateNormalTriL(loc = tf.zeros((D,C-1)),\n",
    "#                                     scale_tril = tf.cast(cov_matrix_chol[:-1,:-1], tf.float32))\n",
    "\n",
    "#w = MultivariateNormalTriL(loc = tf.zeros((D,C-1)), scale_tril = rbf_kernel)\n",
    "#w = Normal(loc = tf.zeros((D,C-1)), scale = 1* tf.ones(C-1))\n",
    "#b = Normal(loc = tf.zeros(C-1, 1), scale = 1 * tf.ones([]))\n",
    "\n",
    "logits = tf.matmul(X, (w)) #+ b\n",
    "logits = tf.concat([logits, np.zeros((N, 1))], axis = 1)\n",
    "\n",
    "y = Categorical(probs = tf.nn.softmax(logits))\n",
    "\n",
    "\n",
    "# INFERENCE\n",
    "qw_loc = tf.Variable(tf.random_normal([D,C-1]))\n",
    "#qb_loc = tf.Variable(tf.zeros([C-1]))\n",
    "\n",
    "qw = PointMass(params = qw_loc)\n",
    "#qb = PointMass(params = qb_loc)\n",
    "\n",
    "inference = ed.MAP({w: qw}, data={X: Xtrain_scaled, y: Ytrain})\n",
    "inference.initialize(n_iter = 5000)\n",
    "\n",
    "sess = ed.get_session()\n",
    "init = tf.global_variables_initializer()\n",
    "init.run()\n",
    "learning_curve = []\n",
    "for _ in range(inference.n_iter):\n",
    "    info_dict = inference.update()\n",
    "    if _%1000 == 0:\n",
    "        print(info_dict)\n",
    "    learning_curve.append(info_dict['loss'])\n",
    "inference.finalize()"
   ]
  },
  {
   "cell_type": "code",
   "execution_count": null,
   "metadata": {
    "collapsed": true
   },
   "outputs": [],
   "source": [
    "\n",
    "'''\n",
    "qw_loc = tf.Variable(tf.random_normal([D,C-1]))\n",
    "qw_scale = tf.nn.softplus(tf.Variable(tf.random_normal([D,C-1])))\n",
    "\n",
    "qb_loc = tf.Variable(tf.random_normal([C-1]))\n",
    "qb_scale = tf.nn.softplus(tf.Variable(tf.random_normal([])))\n",
    "\n",
    "qw = Normal(loc = qw_loc, scale = qw_scale)\n",
    "qb = Normal(loc = qb_loc, scale = qb_scale)\n",
    "\n",
    "inference = ed.KLqp({w: qw, b: qb}, data={X: Xtrain_scaled, y: Ytrain})\n",
    "inference.initialize(n_iter = 10000)\n",
    "'''\n",
    "'''\n",
    "# EVALUATION ON TEST DATA\n",
    "qw_mod = tf.concat([tf.transpose(qw.mean()), np.zeros((58,1))], axis=1)\n",
    "qb_mod = tf.concat([qb.mean(), np.zeros((1))], axis=0)\n",
    "logits = tf.matmul(tf.cast(sklearn.preprocessing.scale(Xtest), tf.float32), qw_mod) + qb_mod\n",
    "print(compute_average_auc(tf.nn.softmax(logits).eval(), Ytest_hot))\n",
    "\n",
    "print(evaluate_multiclass_model(x_test_scaled, qw_mod.eval(), qb_mod.eval()))\n",
    "'''"
   ]
  },
  {
   "cell_type": "code",
   "execution_count": null,
   "metadata": {
    "collapsed": true
   },
   "outputs": [],
   "source": []
  },
  {
   "cell_type": "code",
   "execution_count": null,
   "metadata": {
    "collapsed": true
   },
   "outputs": [],
   "source": []
  },
  {
   "cell_type": "markdown",
   "metadata": {},
   "source": [
    "# STAN"
   ]
  },
  {
   "cell_type": "code",
   "execution_count": null,
   "metadata": {
    "collapsed": true
   },
   "outputs": [],
   "source": [
    "import pystan"
   ]
  },
  {
   "cell_type": "code",
   "execution_count": null,
   "metadata": {
    "collapsed": false
   },
   "outputs": [],
   "source": [
    "Ytrain=Ytrain+1"
   ]
  },
  {
   "cell_type": "code",
   "execution_count": null,
   "metadata": {
    "collapsed": false
   },
   "outputs": [],
   "source": [
    "### MAP estimation with beta ~ normal(0,1)\n",
    "\n",
    "# K outcomes\n",
    "multi_logit_code = \"\"\"\n",
    "data {\n",
    "    int<lower=2> K; // num orientations\n",
    "    int<lower=0> N; // num samples\n",
    "    int<lower=1> D; // num features\n",
    "    int y[N];\n",
    "    vector[D] x[N];\n",
    "}\n",
    "parameters {\n",
    "    matrix[K,D] beta;\n",
    "    vector[K] intercept;\n",
    "}\n",
    "model {\n",
    "    for (k in 1:K) {\n",
    "        beta[k] ~ normal(0,1);\n",
    "    }\n",
    "    //for (d in 1:D) {\n",
    "    //    beta[:,d] ~ normal(0,1);\n",
    "    //}\n",
    "    intercept ~ normal(0,1);\n",
    "    for (n in 1:N) {\n",
    "       y[n] ~ categorical_logit(beta * x[n] + intercept);\n",
    "    }\n",
    "}\n",
    "\"\"\"\n",
    "dat = {'K': 72, 'N': 2520, 'D': 58, 'x': Xtrain_scaled, 'y': Ytrain}\n",
    "\n",
    "sm = pystan.StanModel(model_code = multi_logit_code)\n",
    "fit = sm.optimizing(data= dat);"
   ]
  },
  {
   "cell_type": "code",
   "execution_count": null,
   "metadata": {
    "collapsed": false
   },
   "outputs": [],
   "source": [
    "beta_ori = fit['beta']\n",
    "intercept_ori = fit['intercept']"
   ]
  },
  {
   "cell_type": "code",
   "execution_count": null,
   "metadata": {
    "collapsed": false
   },
   "outputs": [],
   "source": [
    "evaluate_multiclass_model(x_test_scaled_3d, beta_ori, intercept_ori)"
   ]
  },
  {
   "cell_type": "code",
   "execution_count": null,
   "metadata": {
    "collapsed": true
   },
   "outputs": [],
   "source": [
    "### MAP estimation with beta ~ normal(0,1)\n",
    "\n",
    "# K outcomes\n",
    "multi_logit_code = \"\"\"\n",
    "data {\n",
    "    int<lower=2> K; // num orientations\n",
    "    int<lower=0> N; // num samples\n",
    "    int<lower=1> D; // num neurons\n",
    "    int y[N];\n",
    "    vector[D] x[N];\n",
    "}\n",
    "transformed data {\n",
    "    row_vector[D] zeros;\n",
    "    zeros = rep_row_vector(0, D);\n",
    "}\n",
    "parameters {\n",
    "    matrix[K-1, D] beta_raw;\n",
    "    vector[K] intercept;\n",
    "    real<lower=0> sigma[K];\n",
    "    real<lower=0> sigma_intercept;\n",
    "}\n",
    "transformed parameters {\n",
    "    matrix[K, D] beta;\n",
    "    beta = append_row(beta_raw, zeros);\n",
    "}\n",
    "model {\n",
    "    for (k in 1:K) {\n",
    "        beta[k] ~ normal(0,sigma[k]);\n",
    "    }\n",
    "    //for (d in 1:D) {\n",
    "    //    beta[:,d] ~ normal(0,1);\n",
    "    //}\n",
    "    intercept ~ normal(0,sigma_intercept);\n",
    "    for (n in 1:N) {\n",
    "       y[n] ~ categorical_logit(beta * x[n] + intercept);\n",
    "    }\n",
    "}\n",
    "\"\"\"\n",
    "dat = {'K': 72, 'N': 2520, 'D': 58, 'x': Xtrain, 'y': Ytrain}\n",
    "\n",
    "sm = pystan.StanModel(model_code = multi_logit_code)\n",
    "fit = sm.vb(data= dat)"
   ]
  },
  {
   "cell_type": "code",
   "execution_count": null,
   "metadata": {
    "collapsed": true
   },
   "outputs": [],
   "source": []
  },
  {
   "cell_type": "code",
   "execution_count": null,
   "metadata": {
    "collapsed": true
   },
   "outputs": [],
   "source": [
    "# gaussian process prior\n",
    "multi_logit_code = \"\"\"\n",
    "data {\n",
    "    int<lower=2> K;\n",
    "    int<lower=0> N;\n",
    "    int<lower=1> D;\n",
    "    int y[N];\n",
    "    vector[D] x[N];\n",
    "}\n",
    "transformed data {\n",
    "    //cov_matrix[K] Kern;\n",
    "    //K = cov_exp_quad()\n",
    "    \n",
    "}\n",
    "parameters {\n",
    "    matrix[K,D] beta;\n",
    "    vector[K] intercept;\n",
    "    //cov_matrix[K] Kern;\n",
    "    //K = cov_exp_quad(beta, 1 1);\n",
    "}\n",
    "model {\n",
    "    for (d in 1:D) {\n",
    "        beta[:,d] ~ multi_normal(0, Kern);\n",
    "    }\n",
    "    // beta[:,d] ~ GP[0, squared rbf kernel] model each column as a gp \n",
    "    intercept ~ normal(0,1);\n",
    "    for (n in 1:N) {\n",
    "       y[n] ~ categorical_logit(beta * x[n] + intercept);\n",
    "    }\n",
    "}\n",
    "\"\"\"\n",
    "dat = {'K': 4, 'N': 140, 'D': 58, 'x': Xtrain_n, 'y': yt}\n",
    "\n",
    "sm = pystan.StanModel(model_code = multi_logit_code)\n",
    "fit = sm.vb(data= dat);"
   ]
  },
  {
   "cell_type": "code",
   "execution_count": null,
   "metadata": {
    "collapsed": true
   },
   "outputs": [],
   "source": []
  }
 ],
 "metadata": {
  "anaconda-cloud": {},
  "kernelspec": {
   "display_name": "Python [Root]",
   "language": "python",
   "name": "Python [Root]"
  },
  "language_info": {
   "codemirror_mode": {
    "name": "ipython",
    "version": 3
   },
   "file_extension": ".py",
   "mimetype": "text/x-python",
   "name": "python",
   "nbconvert_exporter": "python",
   "pygments_lexer": "ipython3",
   "version": "3.5.2"
  }
 },
 "nbformat": 4,
 "nbformat_minor": 0
}
