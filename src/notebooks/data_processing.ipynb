{
 "cells": [
  {
   "cell_type": "code",
   "execution_count": 20,
   "metadata": {
    "collapsed": true
   },
   "outputs": [],
   "source": [
    "import scipy.io\n",
    "import numpy as np\n",
    "import pandas as pd"
   ]
  },
  {
   "cell_type": "code",
   "execution_count": 125,
   "metadata": {
    "collapsed": true
   },
   "outputs": [],
   "source": [
    "def read_data(file_path):\n",
    "    '''Read and process mat file from Graf2011\n",
    "    \n",
    "    param array_number: {1, 2, 3, 4, 5}\n",
    "\n",
    "    return:\n",
    "        spike_times: {Nx3600} N simultaneously recorded spike trains for 3600 trials\n",
    "            (50 repeated trials of 72 direction in random order)\n",
    "        orientation_per_trial: orientation for each trial (of length 3600)\n",
    "        num_neurons: number of neurons\n",
    "        orientations: sorted set of orientations\n",
    "        num_repeats: number of repeats for each (orientation,neuron) (=50)\n",
    "        num_trials: 50 repeated trials x 72 directions\n",
    "        trial_length: length of trial (in seconds)\n",
    "    '''\n",
    "    dataStruct = scipy.io.loadmat(file_path)\n",
    "    spike_times = pd.DataFrame.from_dict(mat['spk_times'])\n",
    "    orientation_per_trial = mat['ori'][0]\n",
    "    num_neurons = np.shape(mat['neur_param'])[0]\n",
    "    orientations = np.sort(np.unique(mat['ori']))\n",
    "    trial_length = 2560e-3\n",
    "    num_repeats = 50\n",
    "    num_trials = 3600 # 50 repeated trials x 72 directions\n",
    "    num_orientations = len(orientations)\n",
    "    return spike_times, orientation_per_trial, num_neurons, orientations, trial_length, num_repeats, num_trials, num_orientations"
   ]
  },
  {
   "cell_type": "code",
   "execution_count": 218,
   "metadata": {
    "collapsed": true
   },
   "outputs": [],
   "source": [
    "def compute_spike_counts(spike_times, num_neurons, num_trials):\n",
    "    '''\n",
    "        Compute spike counts for each (orientation, neuron, trial)\n",
    "        return 3D numpy array: orientation x neuron x trial\n",
    "        \n",
    "        TODO: add option to average [0 180] with responses from [180 360]\n",
    "    '''\n",
    "    spike_times_mat = spike_times.as_matrix()\n",
    "    spike_counts = np.zeros((num_orientations, num_neurons, num_repeats))\n",
    "    # for each orientation\n",
    "    for i in range(num_orientations):\n",
    "        # access indices in spike times that corresponds to ori\n",
    "        idx = np.where(orientation_per_trial == orientations[i])[0]\n",
    "        spike_times_ori = np.take(spike_times_mat, idx, axis = 1)\n",
    "        for j in range(num_neurons):\n",
    "            for k in range(num_repeats):\n",
    "                spike_counts[i, j, k] = np.count_nonzero(spike_times_ori[j][k])\n",
    "    return spike_counts"
   ]
  },
  {
   "cell_type": "code",
   "execution_count": 255,
   "metadata": {
    "collapsed": true
   },
   "outputs": [],
   "source": [
    "def normalize_spike_counts(spike_counts, num_orientations, num_neurons, num_repeats):\n",
    "    '''\n",
    "        Normalize by variance of spike counts\n",
    "    '''\n",
    "    spike_counts_norm = np.zeros((num_orientations, num_neurons, num_repeats))\n",
    "    for i in range(num_repeats):\n",
    "        variance_sum = np.sum(spike_counts[:, :, i]**2, axis = 1)\n",
    "        spike_counts_norm[:, :, i] = (spike_counts[:, :, i]**2) / variance_sum.reshape(-1,1)\n",
    "    return spike_counts_norm"
   ]
  },
  {
   "cell_type": "code",
   "execution_count": 219,
   "metadata": {
    "collapsed": false
   },
   "outputs": [],
   "source": [
    "file_path = '../../data/graf_V1data/array_1.mat'\n",
    "spike_times, orientation_per_trial, num_neurons, orientations, trial_length,\\\n",
    "    num_repeats, num_trials, num_orientations = read_data(file_path)\n",
    "    \n",
    "spike_counts = compute_spike_counts(spike_times, num_neurons, num_trials)\n",
    "\n",
    "spike_counts_norm = normalize_spike_counts(spike_counts, num_orientations, num_neurons, num_repeats)"
   ]
  },
  {
   "cell_type": "code",
   "execution_count": null,
   "metadata": {
    "collapsed": true
   },
   "outputs": [],
   "source": []
  },
  {
   "cell_type": "code",
   "execution_count": null,
   "metadata": {
    "collapsed": true
   },
   "outputs": [],
   "source": []
  },
  {
   "cell_type": "code",
   "execution_count": null,
   "metadata": {
    "collapsed": true
   },
   "outputs": [],
   "source": []
  }
 ],
 "metadata": {
  "kernelspec": {
   "display_name": "Python [Root]",
   "language": "python",
   "name": "Python [Root]"
  },
  "language_info": {
   "codemirror_mode": {
    "name": "ipython",
    "version": 3
   },
   "file_extension": ".py",
   "mimetype": "text/x-python",
   "name": "python",
   "nbconvert_exporter": "python",
   "pygments_lexer": "ipython3",
   "version": "3.5.2"
  }
 },
 "nbformat": 4,
 "nbformat_minor": 0
}
